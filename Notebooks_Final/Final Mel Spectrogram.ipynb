{
  "cells": [
    {
      "cell_type": "markdown",
      "metadata": {},
      "source": [
        "# Imports and Setup\n",
        "The `librosa` library is used to load the raw audio and convert it to a Log Mel Spectrogram, while `pandas` and `numpy` help manage metadata and numerical operations. `matplotlib` and `seaborn` are used for data visualization, and `sklearn` provides machine learning utilities. `google.colab` provides access to the dataset on Google Drive to save feature extraction time."
      ]
    },
    {
      "cell_type": "code",
      "execution_count": 1,
      "metadata": {
        "id": "WrI_NsKJRjxp"
      },
      "outputs": [],
      "source": [
        "import os\n",
        "import warnings\n",
        "import numpy as np\n",
        "import pandas as pd\n",
        "import matplotlib.pyplot as plt\n",
        "import seaborn as sns\n",
        "from tqdm import tqdm\n",
        "import librosa\n",
        "import librosa.display\n",
        "import tensorflow as tf\n",
        "from sklearn.model_selection import train_test_split\n",
        "from sklearn.preprocessing import LabelEncoder\n",
        "from sklearn.metrics import confusion_matrix, classification_report\n",
        "\n",
        "# Ignore warnings\n",
        "warnings.simplefilter(\"ignore\")"
      ]
    },
    {
      "cell_type": "code",
      "execution_count": 2,
      "metadata": {
        "colab": {
          "base_uri": "https://localhost:8080/"
        },
        "id": "c3iOuLkORoZr",
        "outputId": "31107151-3fba-4c4b-efd9-4e5c93aae009"
      },
      "outputs": [
        {
          "name": "stdout",
          "output_type": "stream",
          "text": [
            "Mounted at /content/drive\n"
          ]
        }
      ],
      "source": [
        "# Mount Google Drive\n",
        "from google.colab import drive\n",
        "drive.mount('/content/drive')"
      ]
    },
    {
      "cell_type": "code",
      "execution_count": 3,
      "metadata": {
        "id": "8FfthJcORobr"
      },
      "outputs": [],
      "source": [
        "# Define paths\n",
        "PROJECT_ROOT = \"/content/drive/MyDrive/emotion_recognition_project\"\n",
        "SPEC_DIR = os.path.join(PROJECT_ROOT, \"mel_spectrograms\")\n",
        "os.makedirs(SPEC_DIR, exist_ok=True)"
      ]
    },
    {
      "cell_type": "code",
      "execution_count": 4,
      "metadata": {
        "colab": {
          "base_uri": "https://localhost:8080/"
        },
        "id": "5fA6ZmknRsAz",
        "outputId": "21ab2b9a-64f5-4d43-872f-d2efe7e2d602"
      },
      "outputs": [
        {
          "name": "stdout",
          "output_type": "stream",
          "text": [
            "Loading metadata from: /content/drive/MyDrive/emotion_recognition_project/processed_metadata.csv\n"
          ]
        }
      ],
      "source": [
        "# Using my personal paths to make the code work\n",
        "METADATA_PATH = os.path.join(PROJECT_ROOT, \"processed_metadata.csv\")\n",
        "TRAIN_NPZ_PATH = os.path.join(SPEC_DIR, \"mel_train.npz\")\n",
        "VAL_NPZ_PATH = os.path.join(SPEC_DIR, \"mel_val.npz\")\n",
        "\n",
        "print(f\"Loading metadata from: {METADATA_PATH}\")"
      ]
    },
    {
      "cell_type": "markdown",
      "metadata": {},
      "source": [
        "# Data Loading and Pre-processing\n",
        "`metadata` is a dataframe containing the audio file paths, labels, and quality assurance flags (e.g. `processed_success`). Only samples that are successfully processed are kept (all files were successfully processed). We also map categorical emotion labels into integers for classification [from emotion label strings ('happy', 'sad'...) to integers (0, 1, ...)]."
      ]
    },
    {
      "cell_type": "code",
      "execution_count": 5,
      "metadata": {
        "colab": {
          "base_uri": "https://localhost:8080/"
        },
        "id": "NUmWd13sRsDD",
        "outputId": "25557a74-3aa3-43ee-e0b0-a52b04f84b1b"
      },
      "outputs": [
        {
          "name": "stdout",
          "output_type": "stream",
          "text": [
            "Loaded 12162 audio files metadata\n"
          ]
        }
      ],
      "source": [
        "# Load metadata\n",
        "metadata = pd.read_csv(METADATA_PATH)\n",
        "print(f\"Loaded {len(metadata)} audio files metadata\")"
      ]
    },
    {
      "cell_type": "code",
      "execution_count": 6,
      "metadata": {
        "colab": {
          "base_uri": "https://localhost:8080/"
        },
        "id": "osGnBLZnRsE0",
        "outputId": "990a1577-299f-47bf-b8ac-be866df91cdc"
      },
      "outputs": [
        {
          "name": "stdout",
          "output_type": "stream",
          "text": [
            "Found 12162 valid processed audio files\n"
          ]
        }
      ],
      "source": [
        "# Check if we have the processed_path column\n",
        "if 'processed_path' not in metadata.columns:\n",
        "    print(\"Error: 'processed_path' column not found in metadata. Make sure you've run the preprocessing step.\")\n",
        "else:\n",
        "    print(f\"Found {metadata['processed_path'].notna().sum()} valid processed audio files\")\n"
      ]
    },
    {
      "cell_type": "code",
      "execution_count": 7,
      "metadata": {
        "colab": {
          "base_uri": "https://localhost:8080/"
        },
        "id": "JOM70e4ORodk",
        "outputId": "ac166dd4-7cd9-45dc-bae1-22ce5a9a32ef"
      },
      "outputs": [
        {
          "name": "stdout",
          "output_type": "stream",
          "text": [
            "Emotion labels encoded: {'angry': 0, 'disgust': 1, 'fear': 2, 'happy': 3, 'neutral': 4, 'sad': 5, 'surprise': 6}\n"
          ]
        }
      ],
      "source": [
        "# Encode labels\n",
        "le = LabelEncoder()\n",
        "metadata[\"label_enc\"] = le.fit_transform(metadata[\"label\"])\n",
        "print(f\"Emotion labels encoded: {dict(zip(le.classes_, range(len(le.classes_))))}\")"
      ]
    },
    {
      "cell_type": "markdown",
      "metadata": {},
      "source": [
        "To evaluate the model performance, we split the dataset into training and testing. We stratified the splitting process by labels to ensure that the output datasets have the same label distribution as the original dataset. We also fixed the random seed for reproducibility and fair comparison between models by each team member. These subsets are loaded and converted to Log Mel Spectrogram using the `librosa` library. We used a sample rate of 16,000 Hz, and any audio files longer than 4 seconds are truncated. For the ones shorter than 4 seconds, we padded them with zeros to generate samples with consistent length. The extracted features are then saved as .npy files for future access."
      ]
    },
    {
      "cell_type": "code",
      "execution_count": 8,
      "metadata": {
        "colab": {
          "base_uri": "https://localhost:8080/"
        },
        "id": "IEH4FO8BRofj",
        "outputId": "e38fd75d-e872-43ec-8920-6feee858a9ed"
      },
      "outputs": [
        {
          "name": "stdout",
          "output_type": "stream",
          "text": [
            "Training set: 9729 samples\n",
            "Validation set: 2433 samples\n"
          ]
        }
      ],
      "source": [
        "# Split data into train and validation sets\n",
        "meta_train, meta_val = train_test_split(\n",
        "    metadata,\n",
        "    test_size=0.2,\n",
        "    stratify=metadata[\"label\"],\n",
        "    random_state=42\n",
        ")\n",
        "\n",
        "print(f\"Training set: {len(meta_train)} samples\")\n",
        "print(f\"Validation set: {len(meta_val)} samples\")"
      ]
    },
    {
      "cell_type": "code",
      "execution_count": 9,
      "metadata": {
        "id": "qoZb0hjtRoht"
      },
      "outputs": [],
      "source": [
        "# feature extraciton functions\n",
        "def load_audio_segment(path, sr=16000, duration=4.0):\n",
        "    \"\"\"Load audio file with fixed duration.\"\"\"\n",
        "    max_len = int(sr * duration)\n",
        "    y, _ = librosa.load(path, sr=sr, duration=duration)\n",
        "    if len(y) < max_len:\n",
        "        y = np.pad(y, (0, max_len - len(y)))\n",
        "    return y[:max_len]\n",
        "\n",
        "def extract_mel(y, sr=16000, max_len=126):\n",
        "    \"\"\"Extract log mel spectrogram with fixed time dimension.\"\"\"\n",
        "    S = librosa.feature.melspectrogram(y=y, sr=sr)\n",
        "    spec = librosa.power_to_db(S, ref=np.max)\n",
        "    if spec.shape[1] < max_len:\n",
        "        pad_width = max_len - spec.shape[1]\n",
        "        spec = np.pad(spec, ((0, 0), (0, pad_width)), mode=\"constant\")\n",
        "    else:\n",
        "        spec = spec[:, :max_len]\n",
        "    return spec"
      ]
    },
    {
      "cell_type": "code",
      "execution_count": 10,
      "metadata": {
        "colab": {
          "base_uri": "https://localhost:8080/"
        },
        "id": "jcySC6czR4Cp",
        "outputId": "83f397e2-640b-4b6c-d830-6b727d371088"
      },
      "outputs": [
        {
          "name": "stdout",
          "output_type": "stream",
          "text": [
            "\n",
            "Using cached mel spectrograms.\n"
          ]
        }
      ],
      "source": [
        "# Mel Spectogram extraction\n",
        "if not (os.path.exists(TRAIN_NPZ_PATH) and os.path.exists(VAL_NPZ_PATH)):\n",
        "    print(\"\\nProcessing audio files and generating mel spectrograms...\")\n",
        "\n",
        "    batch_size = 500\n",
        "    mel_batches_train = []\n",
        "    temp_batch_train = []\n",
        "    failed_files_train = 0\n",
        "\n",
        "    # Process training data\n",
        "    for i, row in tqdm(meta_train.iterrows(), total=len(meta_train), desc=\"Train Data\"):\n",
        "        try:\n",
        "            # Use the processed_path column which contains the path to processed audio files\n",
        "            path = row[\"processed_path\"]\n",
        "            y = load_audio_segment(path)\n",
        "            mel = extract_mel(y)\n",
        "            temp_batch_train.append(mel)\n",
        "\n",
        "            if len(temp_batch_train) == batch_size or i == meta_train.index[-1]:\n",
        "                if temp_batch_train:  # Check if the batch is not empty\n",
        "                    mel_batches_train.append(np.expand_dims(np.array(temp_batch_train), axis=-1))\n",
        "                    temp_batch_train = []\n",
        "        except Exception as e:\n",
        "            failed_files_train += 1\n",
        "            if failed_files_train <= 5:  # Only print the first few errors to avoid cluttering the output\n",
        "                print(f\"Error processing {path}: {e}\")\n",
        "            elif failed_files_train == 6:\n",
        "                print(\"Suppressing further error messages...\")\n",
        "\n",
        "    # Process validation data\n",
        "    mel_batches_val = []\n",
        "    temp_batch_val = []\n",
        "    failed_files_val = 0\n",
        "\n",
        "    for i, row in tqdm(meta_val.iterrows(), total=len(meta_val), desc=\"Val Data\"):\n",
        "        try:\n",
        "            # Use the processed_path column which contains the path to processed audio files\n",
        "            path = row[\"processed_path\"]\n",
        "            y = load_audio_segment(path)\n",
        "            mel = extract_mel(y)\n",
        "            temp_batch_val.append(mel)\n",
        "\n",
        "            if len(temp_batch_val) == batch_size or i == meta_val.index[-1]:\n",
        "                if temp_batch_val:  # Check if the batch is not empty\n",
        "                    mel_batches_val.append(np.expand_dims(np.array(temp_batch_val), axis=-1))\n",
        "                    temp_batch_val = []\n",
        "        except Exception as e:\n",
        "            failed_files_val += 1\n",
        "            if failed_files_val <= 5:  # Only print the first few errors to avoid cluttering the output => Mak\n",
        "                print(f\"Error processing {path}: {e}\")\n",
        "            elif failed_files_val == 6:\n",
        "                print(\"Suppressing further error messages...\")\n",
        "\n",
        "    # Concatenate batches\n",
        "    if mel_batches_train:\n",
        "        X_train = np.concatenate(mel_batches_train, axis=0)\n",
        "        y_train = meta_train[\"label_enc\"].values[:len(X_train)]  # Ensure label count matches spectrogram count\n",
        "\n",
        "        print(f\"Training spectrograms: {X_train.shape}\")\n",
        "        print(f\"Training labels: {y_train.shape}\")\n",
        "\n",
        "        # Save training data\n",
        "        np.savez_compressed(TRAIN_NPZ_PATH, X=X_train, y=y_train)\n",
        "        print(f\"Saved training spectrograms to {TRAIN_NPZ_PATH}\")\n",
        "    else:\n",
        "        print(\"Error: No training spectrograms were generated!\")\n",
        "\n",
        "    if mel_batches_val:\n",
        "        X_val = np.concatenate(mel_batches_val, axis=0)\n",
        "        y_val = meta_val[\"label_enc\"].values[:len(X_val)]  # Ensure label count matches spectrogram count\n",
        "\n",
        "        print(f\"Validation spectrograms: {X_val.shape}\")\n",
        "        print(f\"Validation labels: {y_val.shape}\")\n",
        "\n",
        "        # Save validation data\n",
        "        np.savez_compressed(VAL_NPZ_PATH, X=X_val, y=y_val)\n",
        "        print(f\"Saved validation spectrograms to {VAL_NPZ_PATH}\")\n",
        "    else:\n",
        "        print(\"Error: No validation spectrograms were generated!\")\n",
        "\n",
        "    print(f\"\\nProcessing summary:\")\n",
        "    print(f\"- Failed training files: {failed_files_train}/{len(meta_train)}\")\n",
        "    print(f\"- Failed validation files: {failed_files_val}/{len(meta_val)}\")\n",
        "    print(\"\\nMel spectrograms extraction completed.\")\n",
        "else:\n",
        "    print(\"\\nUsing cached mel spectrograms.\")"
      ]
    },
    {
      "cell_type": "code",
      "execution_count": 11,
      "metadata": {
        "colab": {
          "base_uri": "https://localhost:8080/"
        },
        "id": "DN6XoVuER4E3",
        "outputId": "4507e9c8-09db-4b8f-8f47-ba35f1e18b12"
      },
      "outputs": [
        {
          "name": "stdout",
          "output_type": "stream",
          "text": [
            "\n",
            "Loading mel spectrograms for training...\n"
          ]
        }
      ],
      "source": [
        "# --- LOAD DATA ---\n",
        "print(\"\\nLoading mel spectrograms for training...\")\n",
        "\n",
        "train = np.load(TRAIN_NPZ_PATH)\n",
        "val = np.load(VAL_NPZ_PATH)\n",
        "\n",
        "X_train = train[\"X\"]\n",
        "y_train = train[\"y\"]\n",
        "X_val = val[\"X\"]\n",
        "y_val = val[\"y\"]"
      ]
    },
    {
      "cell_type": "code",
      "execution_count": 12,
      "metadata": {
        "colab": {
          "base_uri": "https://localhost:8080/"
        },
        "id": "u4_gMCnhR9et",
        "outputId": "c86dcb42-6526-4217-a62e-c8b002c7cbf1"
      },
      "outputs": [
        {
          "name": "stdout",
          "output_type": "stream",
          "text": [
            "Training data: (9729, 128, 126, 1), (9729, 7)\n",
            "Validation data: (2433, 128, 126, 1), (2433, 7)\n"
          ]
        }
      ],
      "source": [
        "# Convert to categorical (one-hot encoding)\n",
        "num_classes = len(le.classes_)\n",
        "y_train_cat = tf.keras.utils.to_categorical(y_train, num_classes)\n",
        "y_val_cat = tf.keras.utils.to_categorical(y_val, num_classes)\n",
        "\n",
        "print(f\"Training data: {X_train.shape}, {y_train_cat.shape}\")\n",
        "print(f\"Validation data: {X_val.shape}, {y_val_cat.shape}\")"
      ]
    },
    {
      "cell_type": "code",
      "execution_count": 13,
      "metadata": {
        "id": "s0Er2ybYR9gt"
      },
      "outputs": [],
      "source": [
        "# Create TensorFlow datasets\n",
        "df_train = tf.data.Dataset.from_tensor_slices((X_train, y_train_cat)).shuffle(1000).batch(128).prefetch(tf.data.AUTOTUNE)\n",
        "df_val = tf.data.Dataset.from_tensor_slices((X_val, y_val_cat)).shuffle(1000).batch(128).prefetch(tf.data.AUTOTUNE)"
      ]
    },
    {
      "cell_type": "markdown",
      "metadata": {},
      "source": [
        "# Utility Functions\n",
        "This section provides helper functions to plot the training/validation loss and accuracy. Evaluation metrics and confusion matrices are also defined here, enabling standardized performance reporting across all models."
      ]
    },
    {
      "cell_type": "code",
      "execution_count": 14,
      "metadata": {
        "id": "5Ysnl61hR9ir"
      },
      "outputs": [],
      "source": [
        "# Helper functions for analysis\n",
        "def plot_results(hist):\n",
        "    \"\"\"Plot training and validation accuracy and loss.\"\"\"\n",
        "    fig, ax = plt.subplots(1, 2, figsize=(15, 5))\n",
        "    ax[0].plot(hist.history[\"accuracy\"], label=\"Training\")\n",
        "    ax[0].plot(hist.history[\"val_accuracy\"], label=\"Validation\")\n",
        "    ax[0].set_title(\"Accuracy\")\n",
        "    ax[0].legend()\n",
        "    ax[1].plot(hist.history[\"loss\"], label=\"Training\")\n",
        "    ax[1].plot(hist.history[\"val_loss\"], label=\"Validation\")\n",
        "    ax[1].set_title(\"Loss\")\n",
        "    ax[1].legend()\n",
        "    plt.show()\n",
        "\n",
        "def get_confusion_matrix(dataset, model, title=\"Confusion Matrix\"):\n",
        "    \"\"\"Generate and display confusion matrix.\"\"\"\n",
        "    # Generate predictions and collect true labels\n",
        "    y_true_all = []\n",
        "    y_pred_all = []\n",
        "\n",
        "    # Get predictions and true labels in matching order from each batch\n",
        "    for x_batch, y_batch in dataset:\n",
        "        # Get predictions\n",
        "        batch_pred = model.predict(x_batch, verbose=0)\n",
        "        y_pred = np.argmax(batch_pred, axis=1)\n",
        "\n",
        "        # Get true labels from this same batch\n",
        "        y_true = np.argmax(y_batch.numpy(), axis=1)\n",
        "\n",
        "        # Extend our collection\n",
        "        y_true_all.extend(y_true)\n",
        "        y_pred_all.extend(y_pred)\n",
        "\n",
        "    # Generate confusion matrix\n",
        "    matrix = confusion_matrix(y_true_all, y_pred_all)\n",
        "\n",
        "    # Plot confusion matrix\n",
        "    plt.figure(figsize=(10, 8))\n",
        "    sns.heatmap(matrix, annot=True, fmt=\"d\", cmap=\"Blues\",\n",
        "                xticklabels=le.classes_, yticklabels=le.classes_)\n",
        "    plt.title(title)\n",
        "    plt.ylabel(\"True Label\")\n",
        "    plt.xlabel(\"Predicted Label\")\n",
        "    plt.tight_layout()\n",
        "    plt.show()\n",
        "\n",
        "    # Print classification report\n",
        "    print(\"\\nClassification Report:\")\n",
        "    print(classification_report(y_true_all, y_pred_all, target_names=le.classes_))\n",
        "\n",
        "    return y_true_all, y_pred_all, matrix"
      ]
    },
    {
      "cell_type": "markdown",
      "metadata": {},
      "source": [
        "# Model Training\n",
        "## Best Model\n",
        "Although various models are attempted, we only keep the best performing model as a final results. The best model has the following components.\n",
        "1. 4 Sequential Blocks, where each has the following layers.\n",
        "    - 3*3 Convolutional layer with increasing number of filters: 32, 64, 128, 256\n",
        "    - Batch Normalization Layer\n",
        "    - ReLU activation\n",
        "    - Dropout layer with increasing dropout probabily: 0%, 0%, 10%, 20%\n",
        "2. Fully Connected classifier\n",
        "    - Dense layer with 256 units\n",
        "    - Dropout layer with a rate of 30%\n",
        "    - A softmax output layer for final classification\n",
        "\n",
        "Note that this model is also the best performing model for the MFCC feature extraction, allowing us to fairly compare the two feature extraction methods."
      ]
    },
    {
      "cell_type": "code",
      "execution_count": 22,
      "metadata": {
        "id": "pdU6oveISmzb"
      },
      "outputs": [],
      "source": [
        "# CNN Model used in the mfcc for comparaison\n",
        "def build_zoe_cnn(input_shape=(128, 126, 1), num_classes=num_classes):\n",
        "    model = tf.keras.models.Sequential()\n",
        "    model.add(tf.keras.Input(shape=input_shape))\n",
        "\n",
        "    for filters, dropout in zip([32, 64, 128, 256], [0, 0, 0.1, 0.2]):\n",
        "        model.add(tf.keras.layers.Conv2D(filters, (3, 3), padding='same'))\n",
        "        model.add(tf.keras.layers.BatchNormalization())\n",
        "        model.add(tf.keras.layers.Activation('relu'))\n",
        "        model.add(tf.keras.layers.MaxPooling2D((2, 2)))\n",
        "        model.add(tf.keras.layers.Dropout(dropout))\n",
        "\n",
        "    model.add(tf.keras.layers.Flatten())\n",
        "    model.add(tf.keras.layers.Dense(256, activation='relu',\n",
        "                           kernel_regularizer=tf.keras.regularizers.l2(0.001)))\n",
        "    model.add(tf.keras.layers.Dropout(0.3))\n",
        "    model.add(tf.keras.layers.Dense(num_classes, activation='softmax'))\n",
        "\n",
        "    return model"
      ]
    },
    {
      "cell_type": "code",
      "execution_count": 23,
      "metadata": {
        "colab": {
          "base_uri": "https://localhost:8080/",
          "height": 968
        },
        "id": "9OrGp4EaSm1O",
        "outputId": "fe6ae69d-a1c4-480e-8d53-86eeb6a2733d"
      },
      "outputs": [
        {
          "data": {
            "text/html": [
              "<pre style=\"white-space:pre;overflow-x:auto;line-height:normal;font-family:Menlo,'DejaVu Sans Mono',consolas,'Courier New',monospace\"><span style=\"font-weight: bold\">Model: \"sequential_1\"</span>\n",
              "</pre>\n"
            ],
            "text/plain": [
              "\u001b[1mModel: \"sequential_1\"\u001b[0m\n"
            ]
          },
          "metadata": {},
          "output_type": "display_data"
        },
        {
          "data": {
            "text/html": [
              "<pre style=\"white-space:pre;overflow-x:auto;line-height:normal;font-family:Menlo,'DejaVu Sans Mono',consolas,'Courier New',monospace\">┏━━━━━━━━━━━━━━━━━━━━━━━━━━━━━━━━━┳━━━━━━━━━━━━━━━━━━━━━━━━┳━━━━━━━━━━━━━━━┓\n",
              "┃<span style=\"font-weight: bold\"> Layer (type)                    </span>┃<span style=\"font-weight: bold\"> Output Shape           </span>┃<span style=\"font-weight: bold\">       Param # </span>┃\n",
              "┡━━━━━━━━━━━━━━━━━━━━━━━━━━━━━━━━━╇━━━━━━━━━━━━━━━━━━━━━━━━╇━━━━━━━━━━━━━━━┩\n",
              "│ conv2d_4 (<span style=\"color: #0087ff; text-decoration-color: #0087ff\">Conv2D</span>)               │ (<span style=\"color: #00d7ff; text-decoration-color: #00d7ff\">None</span>, <span style=\"color: #00af00; text-decoration-color: #00af00\">128</span>, <span style=\"color: #00af00; text-decoration-color: #00af00\">126</span>, <span style=\"color: #00af00; text-decoration-color: #00af00\">32</span>)   │           <span style=\"color: #00af00; text-decoration-color: #00af00\">320</span> │\n",
              "├─────────────────────────────────┼────────────────────────┼───────────────┤\n",
              "│ batch_normalization_4           │ (<span style=\"color: #00d7ff; text-decoration-color: #00d7ff\">None</span>, <span style=\"color: #00af00; text-decoration-color: #00af00\">128</span>, <span style=\"color: #00af00; text-decoration-color: #00af00\">126</span>, <span style=\"color: #00af00; text-decoration-color: #00af00\">32</span>)   │           <span style=\"color: #00af00; text-decoration-color: #00af00\">128</span> │\n",
              "│ (<span style=\"color: #0087ff; text-decoration-color: #0087ff\">BatchNormalization</span>)            │                        │               │\n",
              "├─────────────────────────────────┼────────────────────────┼───────────────┤\n",
              "│ activation_4 (<span style=\"color: #0087ff; text-decoration-color: #0087ff\">Activation</span>)       │ (<span style=\"color: #00d7ff; text-decoration-color: #00d7ff\">None</span>, <span style=\"color: #00af00; text-decoration-color: #00af00\">128</span>, <span style=\"color: #00af00; text-decoration-color: #00af00\">126</span>, <span style=\"color: #00af00; text-decoration-color: #00af00\">32</span>)   │             <span style=\"color: #00af00; text-decoration-color: #00af00\">0</span> │\n",
              "├─────────────────────────────────┼────────────────────────┼───────────────┤\n",
              "│ max_pooling2d_4 (<span style=\"color: #0087ff; text-decoration-color: #0087ff\">MaxPooling2D</span>)  │ (<span style=\"color: #00d7ff; text-decoration-color: #00d7ff\">None</span>, <span style=\"color: #00af00; text-decoration-color: #00af00\">64</span>, <span style=\"color: #00af00; text-decoration-color: #00af00\">63</span>, <span style=\"color: #00af00; text-decoration-color: #00af00\">32</span>)     │             <span style=\"color: #00af00; text-decoration-color: #00af00\">0</span> │\n",
              "├─────────────────────────────────┼────────────────────────┼───────────────┤\n",
              "│ dropout_5 (<span style=\"color: #0087ff; text-decoration-color: #0087ff\">Dropout</span>)             │ (<span style=\"color: #00d7ff; text-decoration-color: #00d7ff\">None</span>, <span style=\"color: #00af00; text-decoration-color: #00af00\">64</span>, <span style=\"color: #00af00; text-decoration-color: #00af00\">63</span>, <span style=\"color: #00af00; text-decoration-color: #00af00\">32</span>)     │             <span style=\"color: #00af00; text-decoration-color: #00af00\">0</span> │\n",
              "├─────────────────────────────────┼────────────────────────┼───────────────┤\n",
              "│ conv2d_5 (<span style=\"color: #0087ff; text-decoration-color: #0087ff\">Conv2D</span>)               │ (<span style=\"color: #00d7ff; text-decoration-color: #00d7ff\">None</span>, <span style=\"color: #00af00; text-decoration-color: #00af00\">64</span>, <span style=\"color: #00af00; text-decoration-color: #00af00\">63</span>, <span style=\"color: #00af00; text-decoration-color: #00af00\">64</span>)     │        <span style=\"color: #00af00; text-decoration-color: #00af00\">18,496</span> │\n",
              "├─────────────────────────────────┼────────────────────────┼───────────────┤\n",
              "│ batch_normalization_5           │ (<span style=\"color: #00d7ff; text-decoration-color: #00d7ff\">None</span>, <span style=\"color: #00af00; text-decoration-color: #00af00\">64</span>, <span style=\"color: #00af00; text-decoration-color: #00af00\">63</span>, <span style=\"color: #00af00; text-decoration-color: #00af00\">64</span>)     │           <span style=\"color: #00af00; text-decoration-color: #00af00\">256</span> │\n",
              "│ (<span style=\"color: #0087ff; text-decoration-color: #0087ff\">BatchNormalization</span>)            │                        │               │\n",
              "├─────────────────────────────────┼────────────────────────┼───────────────┤\n",
              "│ activation_5 (<span style=\"color: #0087ff; text-decoration-color: #0087ff\">Activation</span>)       │ (<span style=\"color: #00d7ff; text-decoration-color: #00d7ff\">None</span>, <span style=\"color: #00af00; text-decoration-color: #00af00\">64</span>, <span style=\"color: #00af00; text-decoration-color: #00af00\">63</span>, <span style=\"color: #00af00; text-decoration-color: #00af00\">64</span>)     │             <span style=\"color: #00af00; text-decoration-color: #00af00\">0</span> │\n",
              "├─────────────────────────────────┼────────────────────────┼───────────────┤\n",
              "│ max_pooling2d_5 (<span style=\"color: #0087ff; text-decoration-color: #0087ff\">MaxPooling2D</span>)  │ (<span style=\"color: #00d7ff; text-decoration-color: #00d7ff\">None</span>, <span style=\"color: #00af00; text-decoration-color: #00af00\">32</span>, <span style=\"color: #00af00; text-decoration-color: #00af00\">31</span>, <span style=\"color: #00af00; text-decoration-color: #00af00\">64</span>)     │             <span style=\"color: #00af00; text-decoration-color: #00af00\">0</span> │\n",
              "├─────────────────────────────────┼────────────────────────┼───────────────┤\n",
              "│ dropout_6 (<span style=\"color: #0087ff; text-decoration-color: #0087ff\">Dropout</span>)             │ (<span style=\"color: #00d7ff; text-decoration-color: #00d7ff\">None</span>, <span style=\"color: #00af00; text-decoration-color: #00af00\">32</span>, <span style=\"color: #00af00; text-decoration-color: #00af00\">31</span>, <span style=\"color: #00af00; text-decoration-color: #00af00\">64</span>)     │             <span style=\"color: #00af00; text-decoration-color: #00af00\">0</span> │\n",
              "├─────────────────────────────────┼────────────────────────┼───────────────┤\n",
              "│ conv2d_6 (<span style=\"color: #0087ff; text-decoration-color: #0087ff\">Conv2D</span>)               │ (<span style=\"color: #00d7ff; text-decoration-color: #00d7ff\">None</span>, <span style=\"color: #00af00; text-decoration-color: #00af00\">32</span>, <span style=\"color: #00af00; text-decoration-color: #00af00\">31</span>, <span style=\"color: #00af00; text-decoration-color: #00af00\">128</span>)    │        <span style=\"color: #00af00; text-decoration-color: #00af00\">73,856</span> │\n",
              "├─────────────────────────────────┼────────────────────────┼───────────────┤\n",
              "│ batch_normalization_6           │ (<span style=\"color: #00d7ff; text-decoration-color: #00d7ff\">None</span>, <span style=\"color: #00af00; text-decoration-color: #00af00\">32</span>, <span style=\"color: #00af00; text-decoration-color: #00af00\">31</span>, <span style=\"color: #00af00; text-decoration-color: #00af00\">128</span>)    │           <span style=\"color: #00af00; text-decoration-color: #00af00\">512</span> │\n",
              "│ (<span style=\"color: #0087ff; text-decoration-color: #0087ff\">BatchNormalization</span>)            │                        │               │\n",
              "├─────────────────────────────────┼────────────────────────┼───────────────┤\n",
              "│ activation_6 (<span style=\"color: #0087ff; text-decoration-color: #0087ff\">Activation</span>)       │ (<span style=\"color: #00d7ff; text-decoration-color: #00d7ff\">None</span>, <span style=\"color: #00af00; text-decoration-color: #00af00\">32</span>, <span style=\"color: #00af00; text-decoration-color: #00af00\">31</span>, <span style=\"color: #00af00; text-decoration-color: #00af00\">128</span>)    │             <span style=\"color: #00af00; text-decoration-color: #00af00\">0</span> │\n",
              "├─────────────────────────────────┼────────────────────────┼───────────────┤\n",
              "│ max_pooling2d_6 (<span style=\"color: #0087ff; text-decoration-color: #0087ff\">MaxPooling2D</span>)  │ (<span style=\"color: #00d7ff; text-decoration-color: #00d7ff\">None</span>, <span style=\"color: #00af00; text-decoration-color: #00af00\">16</span>, <span style=\"color: #00af00; text-decoration-color: #00af00\">15</span>, <span style=\"color: #00af00; text-decoration-color: #00af00\">128</span>)    │             <span style=\"color: #00af00; text-decoration-color: #00af00\">0</span> │\n",
              "├─────────────────────────────────┼────────────────────────┼───────────────┤\n",
              "│ dropout_7 (<span style=\"color: #0087ff; text-decoration-color: #0087ff\">Dropout</span>)             │ (<span style=\"color: #00d7ff; text-decoration-color: #00d7ff\">None</span>, <span style=\"color: #00af00; text-decoration-color: #00af00\">16</span>, <span style=\"color: #00af00; text-decoration-color: #00af00\">15</span>, <span style=\"color: #00af00; text-decoration-color: #00af00\">128</span>)    │             <span style=\"color: #00af00; text-decoration-color: #00af00\">0</span> │\n",
              "├─────────────────────────────────┼────────────────────────┼───────────────┤\n",
              "│ conv2d_7 (<span style=\"color: #0087ff; text-decoration-color: #0087ff\">Conv2D</span>)               │ (<span style=\"color: #00d7ff; text-decoration-color: #00d7ff\">None</span>, <span style=\"color: #00af00; text-decoration-color: #00af00\">16</span>, <span style=\"color: #00af00; text-decoration-color: #00af00\">15</span>, <span style=\"color: #00af00; text-decoration-color: #00af00\">256</span>)    │       <span style=\"color: #00af00; text-decoration-color: #00af00\">295,168</span> │\n",
              "├─────────────────────────────────┼────────────────────────┼───────────────┤\n",
              "│ batch_normalization_7           │ (<span style=\"color: #00d7ff; text-decoration-color: #00d7ff\">None</span>, <span style=\"color: #00af00; text-decoration-color: #00af00\">16</span>, <span style=\"color: #00af00; text-decoration-color: #00af00\">15</span>, <span style=\"color: #00af00; text-decoration-color: #00af00\">256</span>)    │         <span style=\"color: #00af00; text-decoration-color: #00af00\">1,024</span> │\n",
              "│ (<span style=\"color: #0087ff; text-decoration-color: #0087ff\">BatchNormalization</span>)            │                        │               │\n",
              "├─────────────────────────────────┼────────────────────────┼───────────────┤\n",
              "│ activation_7 (<span style=\"color: #0087ff; text-decoration-color: #0087ff\">Activation</span>)       │ (<span style=\"color: #00d7ff; text-decoration-color: #00d7ff\">None</span>, <span style=\"color: #00af00; text-decoration-color: #00af00\">16</span>, <span style=\"color: #00af00; text-decoration-color: #00af00\">15</span>, <span style=\"color: #00af00; text-decoration-color: #00af00\">256</span>)    │             <span style=\"color: #00af00; text-decoration-color: #00af00\">0</span> │\n",
              "├─────────────────────────────────┼────────────────────────┼───────────────┤\n",
              "│ max_pooling2d_7 (<span style=\"color: #0087ff; text-decoration-color: #0087ff\">MaxPooling2D</span>)  │ (<span style=\"color: #00d7ff; text-decoration-color: #00d7ff\">None</span>, <span style=\"color: #00af00; text-decoration-color: #00af00\">8</span>, <span style=\"color: #00af00; text-decoration-color: #00af00\">7</span>, <span style=\"color: #00af00; text-decoration-color: #00af00\">256</span>)      │             <span style=\"color: #00af00; text-decoration-color: #00af00\">0</span> │\n",
              "├─────────────────────────────────┼────────────────────────┼───────────────┤\n",
              "│ dropout_8 (<span style=\"color: #0087ff; text-decoration-color: #0087ff\">Dropout</span>)             │ (<span style=\"color: #00d7ff; text-decoration-color: #00d7ff\">None</span>, <span style=\"color: #00af00; text-decoration-color: #00af00\">8</span>, <span style=\"color: #00af00; text-decoration-color: #00af00\">7</span>, <span style=\"color: #00af00; text-decoration-color: #00af00\">256</span>)      │             <span style=\"color: #00af00; text-decoration-color: #00af00\">0</span> │\n",
              "├─────────────────────────────────┼────────────────────────┼───────────────┤\n",
              "│ flatten_1 (<span style=\"color: #0087ff; text-decoration-color: #0087ff\">Flatten</span>)             │ (<span style=\"color: #00d7ff; text-decoration-color: #00d7ff\">None</span>, <span style=\"color: #00af00; text-decoration-color: #00af00\">14336</span>)          │             <span style=\"color: #00af00; text-decoration-color: #00af00\">0</span> │\n",
              "├─────────────────────────────────┼────────────────────────┼───────────────┤\n",
              "│ dense_2 (<span style=\"color: #0087ff; text-decoration-color: #0087ff\">Dense</span>)                 │ (<span style=\"color: #00d7ff; text-decoration-color: #00d7ff\">None</span>, <span style=\"color: #00af00; text-decoration-color: #00af00\">256</span>)            │     <span style=\"color: #00af00; text-decoration-color: #00af00\">3,670,272</span> │\n",
              "├─────────────────────────────────┼────────────────────────┼───────────────┤\n",
              "│ dropout_9 (<span style=\"color: #0087ff; text-decoration-color: #0087ff\">Dropout</span>)             │ (<span style=\"color: #00d7ff; text-decoration-color: #00d7ff\">None</span>, <span style=\"color: #00af00; text-decoration-color: #00af00\">256</span>)            │             <span style=\"color: #00af00; text-decoration-color: #00af00\">0</span> │\n",
              "├─────────────────────────────────┼────────────────────────┼───────────────┤\n",
              "│ dense_3 (<span style=\"color: #0087ff; text-decoration-color: #0087ff\">Dense</span>)                 │ (<span style=\"color: #00d7ff; text-decoration-color: #00d7ff\">None</span>, <span style=\"color: #00af00; text-decoration-color: #00af00\">7</span>)              │         <span style=\"color: #00af00; text-decoration-color: #00af00\">1,799</span> │\n",
              "└─────────────────────────────────┴────────────────────────┴───────────────┘\n",
              "</pre>\n"
            ],
            "text/plain": [
              "┏━━━━━━━━━━━━━━━━━━━━━━━━━━━━━━━━━┳━━━━━━━━━━━━━━━━━━━━━━━━┳━━━━━━━━━━━━━━━┓\n",
              "┃\u001b[1m \u001b[0m\u001b[1mLayer (type)                   \u001b[0m\u001b[1m \u001b[0m┃\u001b[1m \u001b[0m\u001b[1mOutput Shape          \u001b[0m\u001b[1m \u001b[0m┃\u001b[1m \u001b[0m\u001b[1m      Param #\u001b[0m\u001b[1m \u001b[0m┃\n",
              "┡━━━━━━━━━━━━━━━━━━━━━━━━━━━━━━━━━╇━━━━━━━━━━━━━━━━━━━━━━━━╇━━━━━━━━━━━━━━━┩\n",
              "│ conv2d_4 (\u001b[38;5;33mConv2D\u001b[0m)               │ (\u001b[38;5;45mNone\u001b[0m, \u001b[38;5;34m128\u001b[0m, \u001b[38;5;34m126\u001b[0m, \u001b[38;5;34m32\u001b[0m)   │           \u001b[38;5;34m320\u001b[0m │\n",
              "├─────────────────────────────────┼────────────────────────┼───────────────┤\n",
              "│ batch_normalization_4           │ (\u001b[38;5;45mNone\u001b[0m, \u001b[38;5;34m128\u001b[0m, \u001b[38;5;34m126\u001b[0m, \u001b[38;5;34m32\u001b[0m)   │           \u001b[38;5;34m128\u001b[0m │\n",
              "│ (\u001b[38;5;33mBatchNormalization\u001b[0m)            │                        │               │\n",
              "├─────────────────────────────────┼────────────────────────┼───────────────┤\n",
              "│ activation_4 (\u001b[38;5;33mActivation\u001b[0m)       │ (\u001b[38;5;45mNone\u001b[0m, \u001b[38;5;34m128\u001b[0m, \u001b[38;5;34m126\u001b[0m, \u001b[38;5;34m32\u001b[0m)   │             \u001b[38;5;34m0\u001b[0m │\n",
              "├─────────────────────────────────┼────────────────────────┼───────────────┤\n",
              "│ max_pooling2d_4 (\u001b[38;5;33mMaxPooling2D\u001b[0m)  │ (\u001b[38;5;45mNone\u001b[0m, \u001b[38;5;34m64\u001b[0m, \u001b[38;5;34m63\u001b[0m, \u001b[38;5;34m32\u001b[0m)     │             \u001b[38;5;34m0\u001b[0m │\n",
              "├─────────────────────────────────┼────────────────────────┼───────────────┤\n",
              "│ dropout_5 (\u001b[38;5;33mDropout\u001b[0m)             │ (\u001b[38;5;45mNone\u001b[0m, \u001b[38;5;34m64\u001b[0m, \u001b[38;5;34m63\u001b[0m, \u001b[38;5;34m32\u001b[0m)     │             \u001b[38;5;34m0\u001b[0m │\n",
              "├─────────────────────────────────┼────────────────────────┼───────────────┤\n",
              "│ conv2d_5 (\u001b[38;5;33mConv2D\u001b[0m)               │ (\u001b[38;5;45mNone\u001b[0m, \u001b[38;5;34m64\u001b[0m, \u001b[38;5;34m63\u001b[0m, \u001b[38;5;34m64\u001b[0m)     │        \u001b[38;5;34m18,496\u001b[0m │\n",
              "├─────────────────────────────────┼────────────────────────┼───────────────┤\n",
              "│ batch_normalization_5           │ (\u001b[38;5;45mNone\u001b[0m, \u001b[38;5;34m64\u001b[0m, \u001b[38;5;34m63\u001b[0m, \u001b[38;5;34m64\u001b[0m)     │           \u001b[38;5;34m256\u001b[0m │\n",
              "│ (\u001b[38;5;33mBatchNormalization\u001b[0m)            │                        │               │\n",
              "├─────────────────────────────────┼────────────────────────┼───────────────┤\n",
              "│ activation_5 (\u001b[38;5;33mActivation\u001b[0m)       │ (\u001b[38;5;45mNone\u001b[0m, \u001b[38;5;34m64\u001b[0m, \u001b[38;5;34m63\u001b[0m, \u001b[38;5;34m64\u001b[0m)     │             \u001b[38;5;34m0\u001b[0m │\n",
              "├─────────────────────────────────┼────────────────────────┼───────────────┤\n",
              "│ max_pooling2d_5 (\u001b[38;5;33mMaxPooling2D\u001b[0m)  │ (\u001b[38;5;45mNone\u001b[0m, \u001b[38;5;34m32\u001b[0m, \u001b[38;5;34m31\u001b[0m, \u001b[38;5;34m64\u001b[0m)     │             \u001b[38;5;34m0\u001b[0m │\n",
              "├─────────────────────────────────┼────────────────────────┼───────────────┤\n",
              "│ dropout_6 (\u001b[38;5;33mDropout\u001b[0m)             │ (\u001b[38;5;45mNone\u001b[0m, \u001b[38;5;34m32\u001b[0m, \u001b[38;5;34m31\u001b[0m, \u001b[38;5;34m64\u001b[0m)     │             \u001b[38;5;34m0\u001b[0m │\n",
              "├─────────────────────────────────┼────────────────────────┼───────────────┤\n",
              "│ conv2d_6 (\u001b[38;5;33mConv2D\u001b[0m)               │ (\u001b[38;5;45mNone\u001b[0m, \u001b[38;5;34m32\u001b[0m, \u001b[38;5;34m31\u001b[0m, \u001b[38;5;34m128\u001b[0m)    │        \u001b[38;5;34m73,856\u001b[0m │\n",
              "├─────────────────────────────────┼────────────────────────┼───────────────┤\n",
              "│ batch_normalization_6           │ (\u001b[38;5;45mNone\u001b[0m, \u001b[38;5;34m32\u001b[0m, \u001b[38;5;34m31\u001b[0m, \u001b[38;5;34m128\u001b[0m)    │           \u001b[38;5;34m512\u001b[0m │\n",
              "│ (\u001b[38;5;33mBatchNormalization\u001b[0m)            │                        │               │\n",
              "├─────────────────────────────────┼────────────────────────┼───────────────┤\n",
              "│ activation_6 (\u001b[38;5;33mActivation\u001b[0m)       │ (\u001b[38;5;45mNone\u001b[0m, \u001b[38;5;34m32\u001b[0m, \u001b[38;5;34m31\u001b[0m, \u001b[38;5;34m128\u001b[0m)    │             \u001b[38;5;34m0\u001b[0m │\n",
              "├─────────────────────────────────┼────────────────────────┼───────────────┤\n",
              "│ max_pooling2d_6 (\u001b[38;5;33mMaxPooling2D\u001b[0m)  │ (\u001b[38;5;45mNone\u001b[0m, \u001b[38;5;34m16\u001b[0m, \u001b[38;5;34m15\u001b[0m, \u001b[38;5;34m128\u001b[0m)    │             \u001b[38;5;34m0\u001b[0m │\n",
              "├─────────────────────────────────┼────────────────────────┼───────────────┤\n",
              "│ dropout_7 (\u001b[38;5;33mDropout\u001b[0m)             │ (\u001b[38;5;45mNone\u001b[0m, \u001b[38;5;34m16\u001b[0m, \u001b[38;5;34m15\u001b[0m, \u001b[38;5;34m128\u001b[0m)    │             \u001b[38;5;34m0\u001b[0m │\n",
              "├─────────────────────────────────┼────────────────────────┼───────────────┤\n",
              "│ conv2d_7 (\u001b[38;5;33mConv2D\u001b[0m)               │ (\u001b[38;5;45mNone\u001b[0m, \u001b[38;5;34m16\u001b[0m, \u001b[38;5;34m15\u001b[0m, \u001b[38;5;34m256\u001b[0m)    │       \u001b[38;5;34m295,168\u001b[0m │\n",
              "├─────────────────────────────────┼────────────────────────┼───────────────┤\n",
              "│ batch_normalization_7           │ (\u001b[38;5;45mNone\u001b[0m, \u001b[38;5;34m16\u001b[0m, \u001b[38;5;34m15\u001b[0m, \u001b[38;5;34m256\u001b[0m)    │         \u001b[38;5;34m1,024\u001b[0m │\n",
              "│ (\u001b[38;5;33mBatchNormalization\u001b[0m)            │                        │               │\n",
              "├─────────────────────────────────┼────────────────────────┼───────────────┤\n",
              "│ activation_7 (\u001b[38;5;33mActivation\u001b[0m)       │ (\u001b[38;5;45mNone\u001b[0m, \u001b[38;5;34m16\u001b[0m, \u001b[38;5;34m15\u001b[0m, \u001b[38;5;34m256\u001b[0m)    │             \u001b[38;5;34m0\u001b[0m │\n",
              "├─────────────────────────────────┼────────────────────────┼───────────────┤\n",
              "│ max_pooling2d_7 (\u001b[38;5;33mMaxPooling2D\u001b[0m)  │ (\u001b[38;5;45mNone\u001b[0m, \u001b[38;5;34m8\u001b[0m, \u001b[38;5;34m7\u001b[0m, \u001b[38;5;34m256\u001b[0m)      │             \u001b[38;5;34m0\u001b[0m │\n",
              "├─────────────────────────────────┼────────────────────────┼───────────────┤\n",
              "│ dropout_8 (\u001b[38;5;33mDropout\u001b[0m)             │ (\u001b[38;5;45mNone\u001b[0m, \u001b[38;5;34m8\u001b[0m, \u001b[38;5;34m7\u001b[0m, \u001b[38;5;34m256\u001b[0m)      │             \u001b[38;5;34m0\u001b[0m │\n",
              "├─────────────────────────────────┼────────────────────────┼───────────────┤\n",
              "│ flatten_1 (\u001b[38;5;33mFlatten\u001b[0m)             │ (\u001b[38;5;45mNone\u001b[0m, \u001b[38;5;34m14336\u001b[0m)          │             \u001b[38;5;34m0\u001b[0m │\n",
              "├─────────────────────────────────┼────────────────────────┼───────────────┤\n",
              "│ dense_2 (\u001b[38;5;33mDense\u001b[0m)                 │ (\u001b[38;5;45mNone\u001b[0m, \u001b[38;5;34m256\u001b[0m)            │     \u001b[38;5;34m3,670,272\u001b[0m │\n",
              "├─────────────────────────────────┼────────────────────────┼───────────────┤\n",
              "│ dropout_9 (\u001b[38;5;33mDropout\u001b[0m)             │ (\u001b[38;5;45mNone\u001b[0m, \u001b[38;5;34m256\u001b[0m)            │             \u001b[38;5;34m0\u001b[0m │\n",
              "├─────────────────────────────────┼────────────────────────┼───────────────┤\n",
              "│ dense_3 (\u001b[38;5;33mDense\u001b[0m)                 │ (\u001b[38;5;45mNone\u001b[0m, \u001b[38;5;34m7\u001b[0m)              │         \u001b[38;5;34m1,799\u001b[0m │\n",
              "└─────────────────────────────────┴────────────────────────┴───────────────┘\n"
            ]
          },
          "metadata": {},
          "output_type": "display_data"
        },
        {
          "data": {
            "text/html": [
              "<pre style=\"white-space:pre;overflow-x:auto;line-height:normal;font-family:Menlo,'DejaVu Sans Mono',consolas,'Courier New',monospace\"><span style=\"font-weight: bold\"> Total params: </span><span style=\"color: #00af00; text-decoration-color: #00af00\">4,061,831</span> (15.49 MB)\n",
              "</pre>\n"
            ],
            "text/plain": [
              "\u001b[1m Total params: \u001b[0m\u001b[38;5;34m4,061,831\u001b[0m (15.49 MB)\n"
            ]
          },
          "metadata": {},
          "output_type": "display_data"
        },
        {
          "data": {
            "text/html": [
              "<pre style=\"white-space:pre;overflow-x:auto;line-height:normal;font-family:Menlo,'DejaVu Sans Mono',consolas,'Courier New',monospace\"><span style=\"font-weight: bold\"> Trainable params: </span><span style=\"color: #00af00; text-decoration-color: #00af00\">4,060,871</span> (15.49 MB)\n",
              "</pre>\n"
            ],
            "text/plain": [
              "\u001b[1m Trainable params: \u001b[0m\u001b[38;5;34m4,060,871\u001b[0m (15.49 MB)\n"
            ]
          },
          "metadata": {},
          "output_type": "display_data"
        },
        {
          "data": {
            "text/html": [
              "<pre style=\"white-space:pre;overflow-x:auto;line-height:normal;font-family:Menlo,'DejaVu Sans Mono',consolas,'Courier New',monospace\"><span style=\"font-weight: bold\"> Non-trainable params: </span><span style=\"color: #00af00; text-decoration-color: #00af00\">960</span> (3.75 KB)\n",
              "</pre>\n"
            ],
            "text/plain": [
              "\u001b[1m Non-trainable params: \u001b[0m\u001b[38;5;34m960\u001b[0m (3.75 KB)\n"
            ]
          },
          "metadata": {},
          "output_type": "display_data"
        }
      ],
      "source": [
        "# Build Zoe's model\n",
        "model2 = build_zoe_cnn(input_shape=X_train.shape[1:], num_classes=num_classes)\n",
        "model2.summary()"
      ]
    },
    {
      "cell_type": "code",
      "execution_count": 24,
      "metadata": {
        "id": "K8hey645Sm31"
      },
      "outputs": [],
      "source": [
        "# Compile model\n",
        "model2.compile(\n",
        "    optimizer=tf.keras.optimizers.Adam(0.0001),\n",
        "    loss='categorical_crossentropy',\n",
        "    metrics=['accuracy', tf.keras.metrics.TopKCategoricalAccuracy(k=3, name='top_3_acc')]\n",
        ")\n",
        "\n",
        "# Define callbacks for model\n",
        "callbacks2 = [\n",
        "    tf.keras.callbacks.ReduceLROnPlateau(monitor='val_loss', factor=0.5, patience=3, verbose=1),\n",
        "    tf.keras.callbacks.EarlyStopping(monitor='val_loss', patience=5, restore_best_weights=True, verbose=1),\n",
        "    tf.keras.callbacks.ModelCheckpoint(os.path.join(SPEC_DIR, \"best_model2.keras\"),\n",
        "                                      save_best_only=True, monitor=\"val_accuracy\", mode=\"max\", verbose=1)\n",
        "]"
      ]
    },
    {
      "cell_type": "code",
      "execution_count": 25,
      "metadata": {
        "colab": {
          "base_uri": "https://localhost:8080/"
        },
        "id": "mv-3sKouSm6D",
        "outputId": "35dbcb5d-5b7b-400c-f2e9-e0a2190a4c34"
      },
      "outputs": [
        {
          "name": "stdout",
          "output_type": "stream",
          "text": [
            "\n",
            "Training CNN in mfcc model...\n",
            "Epoch 1/70\n",
            "\u001b[1m77/77\u001b[0m \u001b[32m━━━━━━━━━━━━━━━━━━━━\u001b[0m\u001b[37m\u001b[0m \u001b[1m0s\u001b[0m 115ms/step - accuracy: 0.2379 - loss: 2.8783 - top_3_acc: 0.5906\n",
            "Epoch 1: val_accuracy improved from -inf to 0.23551, saving model to /content/drive/MyDrive/emotion_recognition_project/mel_spectrograms/best_model2.keras\n",
            "\u001b[1m77/77\u001b[0m \u001b[32m━━━━━━━━━━━━━━━━━━━━\u001b[0m\u001b[37m\u001b[0m \u001b[1m22s\u001b[0m 187ms/step - accuracy: 0.2385 - loss: 2.8722 - top_3_acc: 0.5914 - val_accuracy: 0.2355 - val_loss: 2.3945 - val_top_3_acc: 0.5586 - learning_rate: 1.0000e-04\n",
            "Epoch 2/70\n",
            "\u001b[1m76/77\u001b[0m \u001b[32m━━━━━━━━━━━━━━━━━━━\u001b[0m\u001b[37m━\u001b[0m \u001b[1m0s\u001b[0m 71ms/step - accuracy: 0.3806 - loss: 2.0377 - top_3_acc: 0.7592\n",
            "Epoch 2: val_accuracy improved from 0.23551 to 0.42540, saving model to /content/drive/MyDrive/emotion_recognition_project/mel_spectrograms/best_model2.keras\n",
            "\u001b[1m77/77\u001b[0m \u001b[32m━━━━━━━━━━━━━━━━━━━━\u001b[0m\u001b[37m\u001b[0m \u001b[1m6s\u001b[0m 78ms/step - accuracy: 0.3811 - loss: 2.0365 - top_3_acc: 0.7594 - val_accuracy: 0.4254 - val_loss: 2.0982 - val_top_3_acc: 0.7928 - learning_rate: 1.0000e-04\n",
            "Epoch 3/70\n",
            "\u001b[1m76/77\u001b[0m \u001b[32m━━━━━━━━━━━━━━━━━━━\u001b[0m\u001b[37m━\u001b[0m \u001b[1m0s\u001b[0m 70ms/step - accuracy: 0.4573 - loss: 1.8548 - top_3_acc: 0.8084\n",
            "Epoch 3: val_accuracy improved from 0.42540 to 0.51952, saving model to /content/drive/MyDrive/emotion_recognition_project/mel_spectrograms/best_model2.keras\n",
            "\u001b[1m77/77\u001b[0m \u001b[32m━━━━━━━━━━━━━━━━━━━━\u001b[0m\u001b[37m\u001b[0m \u001b[1m6s\u001b[0m 78ms/step - accuracy: 0.4576 - loss: 1.8541 - top_3_acc: 0.8085 - val_accuracy: 0.5195 - val_loss: 1.7887 - val_top_3_acc: 0.8409 - learning_rate: 1.0000e-04\n",
            "Epoch 4/70\n",
            "\u001b[1m76/77\u001b[0m \u001b[32m━━━━━━━━━━━━━━━━━━━\u001b[0m\u001b[37m━\u001b[0m \u001b[1m0s\u001b[0m 71ms/step - accuracy: 0.4988 - loss: 1.7379 - top_3_acc: 0.8252\n",
            "Epoch 4: val_accuracy improved from 0.51952 to 0.52281, saving model to /content/drive/MyDrive/emotion_recognition_project/mel_spectrograms/best_model2.keras\n",
            "\u001b[1m77/77\u001b[0m \u001b[32m━━━━━━━━━━━━━━━━━━━━\u001b[0m\u001b[37m\u001b[0m \u001b[1m6s\u001b[0m 80ms/step - accuracy: 0.4993 - loss: 1.7368 - top_3_acc: 0.8255 - val_accuracy: 0.5228 - val_loss: 1.6687 - val_top_3_acc: 0.8438 - learning_rate: 1.0000e-04\n",
            "Epoch 5/70\n",
            "\u001b[1m76/77\u001b[0m \u001b[32m━━━━━━━━━━━━━━━━━━━\u001b[0m\u001b[37m━\u001b[0m \u001b[1m0s\u001b[0m 71ms/step - accuracy: 0.5049 - loss: 1.7156 - top_3_acc: 0.8323\n",
            "Epoch 5: val_accuracy improved from 0.52281 to 0.56720, saving model to /content/drive/MyDrive/emotion_recognition_project/mel_spectrograms/best_model2.keras\n",
            "\u001b[1m77/77\u001b[0m \u001b[32m━━━━━━━━━━━━━━━━━━━━\u001b[0m\u001b[37m\u001b[0m \u001b[1m6s\u001b[0m 78ms/step - accuracy: 0.5054 - loss: 1.7140 - top_3_acc: 0.8327 - val_accuracy: 0.5672 - val_loss: 1.5282 - val_top_3_acc: 0.8627 - learning_rate: 1.0000e-04\n",
            "Epoch 6/70\n",
            "\u001b[1m76/77\u001b[0m \u001b[32m━━━━━━━━━━━━━━━━━━━\u001b[0m\u001b[37m━\u001b[0m \u001b[1m0s\u001b[0m 71ms/step - accuracy: 0.5414 - loss: 1.6027 - top_3_acc: 0.8555\n",
            "Epoch 6: val_accuracy did not improve from 0.56720\n",
            "\u001b[1m77/77\u001b[0m \u001b[32m━━━━━━━━━━━━━━━━━━━━\u001b[0m\u001b[37m\u001b[0m \u001b[1m6s\u001b[0m 75ms/step - accuracy: 0.5417 - loss: 1.6017 - top_3_acc: 0.8556 - val_accuracy: 0.5651 - val_loss: 1.5121 - val_top_3_acc: 0.8557 - learning_rate: 1.0000e-04\n",
            "Epoch 7/70\n",
            "\u001b[1m76/77\u001b[0m \u001b[32m━━━━━━━━━━━━━━━━━━━\u001b[0m\u001b[37m━\u001b[0m \u001b[1m0s\u001b[0m 71ms/step - accuracy: 0.5055 - loss: 1.6512 - top_3_acc: 0.8339\n",
            "Epoch 7: val_accuracy improved from 0.56720 to 0.58693, saving model to /content/drive/MyDrive/emotion_recognition_project/mel_spectrograms/best_model2.keras\n",
            "\u001b[1m77/77\u001b[0m \u001b[32m━━━━━━━━━━━━━━━━━━━━\u001b[0m\u001b[37m\u001b[0m \u001b[1m6s\u001b[0m 81ms/step - accuracy: 0.5063 - loss: 1.6494 - top_3_acc: 0.8343 - val_accuracy: 0.5869 - val_loss: 1.4557 - val_top_3_acc: 0.8746 - learning_rate: 1.0000e-04\n",
            "Epoch 8/70\n",
            "\u001b[1m76/77\u001b[0m \u001b[32m━━━━━━━━━━━━━━━━━━━\u001b[0m\u001b[37m━\u001b[0m \u001b[1m0s\u001b[0m 71ms/step - accuracy: 0.5541 - loss: 1.5328 - top_3_acc: 0.8622\n",
            "Epoch 8: val_accuracy did not improve from 0.58693\n",
            "\u001b[1m77/77\u001b[0m \u001b[32m━━━━━━━━━━━━━━━━━━━━\u001b[0m\u001b[37m\u001b[0m \u001b[1m6s\u001b[0m 75ms/step - accuracy: 0.5546 - loss: 1.5318 - top_3_acc: 0.8623 - val_accuracy: 0.5282 - val_loss: 1.5638 - val_top_3_acc: 0.8430 - learning_rate: 1.0000e-04\n",
            "Epoch 9/70\n",
            "\u001b[1m76/77\u001b[0m \u001b[32m━━━━━━━━━━━━━━━━━━━\u001b[0m\u001b[37m━\u001b[0m \u001b[1m0s\u001b[0m 71ms/step - accuracy: 0.5184 - loss: 1.6296 - top_3_acc: 0.8333\n",
            "Epoch 9: val_accuracy did not improve from 0.58693\n",
            "\u001b[1m77/77\u001b[0m \u001b[32m━━━━━━━━━━━━━━━━━━━━\u001b[0m\u001b[37m\u001b[0m \u001b[1m6s\u001b[0m 75ms/step - accuracy: 0.5190 - loss: 1.6276 - top_3_acc: 0.8337 - val_accuracy: 0.5791 - val_loss: 1.4608 - val_top_3_acc: 0.8475 - learning_rate: 1.0000e-04\n",
            "Epoch 10/70\n",
            "\u001b[1m76/77\u001b[0m \u001b[32m━━━━━━━━━━━━━━━━━━━\u001b[0m\u001b[37m━\u001b[0m \u001b[1m0s\u001b[0m 71ms/step - accuracy: 0.5234 - loss: 1.5876 - top_3_acc: 0.8353\n",
            "Epoch 10: val_accuracy improved from 0.58693 to 0.60707, saving model to /content/drive/MyDrive/emotion_recognition_project/mel_spectrograms/best_model2.keras\n",
            "\u001b[1m77/77\u001b[0m \u001b[32m━━━━━━━━━━━━━━━━━━━━\u001b[0m\u001b[37m\u001b[0m \u001b[1m6s\u001b[0m 78ms/step - accuracy: 0.5241 - loss: 1.5858 - top_3_acc: 0.8358 - val_accuracy: 0.6071 - val_loss: 1.3741 - val_top_3_acc: 0.8738 - learning_rate: 1.0000e-04\n",
            "Epoch 11/70\n",
            "\u001b[1m76/77\u001b[0m \u001b[32m━━━━━━━━━━━━━━━━━━━\u001b[0m\u001b[37m━\u001b[0m \u001b[1m0s\u001b[0m 71ms/step - accuracy: 0.5806 - loss: 1.4341 - top_3_acc: 0.8760\n",
            "Epoch 11: val_accuracy did not improve from 0.60707\n",
            "\u001b[1m77/77\u001b[0m \u001b[32m━━━━━━━━━━━━━━━━━━━━\u001b[0m\u001b[37m\u001b[0m \u001b[1m6s\u001b[0m 74ms/step - accuracy: 0.5809 - loss: 1.4334 - top_3_acc: 0.8762 - val_accuracy: 0.5594 - val_loss: 1.4702 - val_top_3_acc: 0.8561 - learning_rate: 1.0000e-04\n",
            "Epoch 12/70\n",
            "\u001b[1m76/77\u001b[0m \u001b[32m━━━━━━━━━━━━━━━━━━━\u001b[0m\u001b[37m━\u001b[0m \u001b[1m0s\u001b[0m 70ms/step - accuracy: 0.5538 - loss: 1.5334 - top_3_acc: 0.8547\n",
            "Epoch 12: val_accuracy did not improve from 0.60707\n",
            "\u001b[1m77/77\u001b[0m \u001b[32m━━━━━━━━━━━━━━━━━━━━\u001b[0m\u001b[37m\u001b[0m \u001b[1m6s\u001b[0m 74ms/step - accuracy: 0.5545 - loss: 1.5311 - top_3_acc: 0.8550 - val_accuracy: 0.6050 - val_loss: 1.3368 - val_top_3_acc: 0.8833 - learning_rate: 1.0000e-04\n",
            "Epoch 13/70\n",
            "\u001b[1m76/77\u001b[0m \u001b[32m━━━━━━━━━━━━━━━━━━━\u001b[0m\u001b[37m━\u001b[0m \u001b[1m0s\u001b[0m 70ms/step - accuracy: 0.5939 - loss: 1.3780 - top_3_acc: 0.8809\n",
            "Epoch 13: val_accuracy improved from 0.60707 to 0.61200, saving model to /content/drive/MyDrive/emotion_recognition_project/mel_spectrograms/best_model2.keras\n",
            "\u001b[1m77/77\u001b[0m \u001b[32m━━━━━━━━━━━━━━━━━━━━\u001b[0m\u001b[37m\u001b[0m \u001b[1m6s\u001b[0m 77ms/step - accuracy: 0.5943 - loss: 1.3772 - top_3_acc: 0.8810 - val_accuracy: 0.6120 - val_loss: 1.3133 - val_top_3_acc: 0.8804 - learning_rate: 1.0000e-04\n",
            "Epoch 14/70\n",
            "\u001b[1m76/77\u001b[0m \u001b[32m━━━━━━━━━━━━━━━━━━━\u001b[0m\u001b[37m━\u001b[0m \u001b[1m0s\u001b[0m 70ms/step - accuracy: 0.5998 - loss: 1.3582 - top_3_acc: 0.8865\n",
            "Epoch 14: val_accuracy did not improve from 0.61200\n",
            "\u001b[1m77/77\u001b[0m \u001b[32m━━━━━━━━━━━━━━━━━━━━\u001b[0m\u001b[37m\u001b[0m \u001b[1m6s\u001b[0m 74ms/step - accuracy: 0.6004 - loss: 1.3569 - top_3_acc: 0.8866 - val_accuracy: 0.5923 - val_loss: 1.3367 - val_top_3_acc: 0.8857 - learning_rate: 1.0000e-04\n",
            "Epoch 15/70\n",
            "\u001b[1m76/77\u001b[0m \u001b[32m━━━━━━━━━━━━━━━━━━━\u001b[0m\u001b[37m━\u001b[0m \u001b[1m0s\u001b[0m 70ms/step - accuracy: 0.5886 - loss: 1.3472 - top_3_acc: 0.8846\n",
            "Epoch 15: val_accuracy improved from 0.61200 to 0.62310, saving model to /content/drive/MyDrive/emotion_recognition_project/mel_spectrograms/best_model2.keras\n",
            "\u001b[1m77/77\u001b[0m \u001b[32m━━━━━━━━━━━━━━━━━━━━\u001b[0m\u001b[37m\u001b[0m \u001b[1m7s\u001b[0m 86ms/step - accuracy: 0.5891 - loss: 1.3461 - top_3_acc: 0.8848 - val_accuracy: 0.6231 - val_loss: 1.2599 - val_top_3_acc: 0.8940 - learning_rate: 1.0000e-04\n",
            "Epoch 16/70\n",
            "\u001b[1m76/77\u001b[0m \u001b[32m━━━━━━━━━━━━━━━━━━━\u001b[0m\u001b[37m━\u001b[0m \u001b[1m0s\u001b[0m 70ms/step - accuracy: 0.6095 - loss: 1.3027 - top_3_acc: 0.8956\n",
            "Epoch 16: val_accuracy improved from 0.62310 to 0.62598, saving model to /content/drive/MyDrive/emotion_recognition_project/mel_spectrograms/best_model2.keras\n",
            "\u001b[1m77/77\u001b[0m \u001b[32m━━━━━━━━━━━━━━━━━━━━\u001b[0m\u001b[37m\u001b[0m \u001b[1m6s\u001b[0m 78ms/step - accuracy: 0.6100 - loss: 1.3017 - top_3_acc: 0.8958 - val_accuracy: 0.6260 - val_loss: 1.2427 - val_top_3_acc: 0.8898 - learning_rate: 1.0000e-04\n",
            "Epoch 17/70\n",
            "\u001b[1m76/77\u001b[0m \u001b[32m━━━━━━━━━━━━━━━━━━━\u001b[0m\u001b[37m━\u001b[0m \u001b[1m0s\u001b[0m 70ms/step - accuracy: 0.5683 - loss: 1.4024 - top_3_acc: 0.8694\n",
            "Epoch 17: val_accuracy did not improve from 0.62598\n",
            "\u001b[1m77/77\u001b[0m \u001b[32m━━━━━━━━━━━━━━━━━━━━\u001b[0m\u001b[37m\u001b[0m \u001b[1m6s\u001b[0m 74ms/step - accuracy: 0.5691 - loss: 1.4002 - top_3_acc: 0.8698 - val_accuracy: 0.5915 - val_loss: 1.3331 - val_top_3_acc: 0.8677 - learning_rate: 1.0000e-04\n",
            "Epoch 18/70\n",
            "\u001b[1m76/77\u001b[0m \u001b[32m━━━━━━━━━━━━━━━━━━━\u001b[0m\u001b[37m━\u001b[0m \u001b[1m0s\u001b[0m 71ms/step - accuracy: 0.5951 - loss: 1.3360 - top_3_acc: 0.8825\n",
            "Epoch 18: val_accuracy did not improve from 0.62598\n",
            "\u001b[1m77/77\u001b[0m \u001b[32m━━━━━━━━━━━━━━━━━━━━\u001b[0m\u001b[37m\u001b[0m \u001b[1m6s\u001b[0m 74ms/step - accuracy: 0.5956 - loss: 1.3343 - top_3_acc: 0.8828 - val_accuracy: 0.5717 - val_loss: 1.3793 - val_top_3_acc: 0.8619 - learning_rate: 1.0000e-04\n",
            "Epoch 19/70\n",
            "\u001b[1m76/77\u001b[0m \u001b[32m━━━━━━━━━━━━━━━━━━━\u001b[0m\u001b[37m━\u001b[0m \u001b[1m0s\u001b[0m 71ms/step - accuracy: 0.5768 - loss: 1.3782 - top_3_acc: 0.8771\n",
            "Epoch 19: ReduceLROnPlateau reducing learning rate to 4.999999873689376e-05.\n",
            "\n",
            "Epoch 19: val_accuracy did not improve from 0.62598\n",
            "\u001b[1m77/77\u001b[0m \u001b[32m━━━━━━━━━━━━━━━━━━━━\u001b[0m\u001b[37m\u001b[0m \u001b[1m6s\u001b[0m 75ms/step - accuracy: 0.5775 - loss: 1.3761 - top_3_acc: 0.8775 - val_accuracy: 0.5894 - val_loss: 1.3582 - val_top_3_acc: 0.8520 - learning_rate: 1.0000e-04\n",
            "Epoch 20/70\n",
            "\u001b[1m76/77\u001b[0m \u001b[32m━━━━━━━━━━━━━━━━━━━\u001b[0m\u001b[37m━\u001b[0m \u001b[1m0s\u001b[0m 71ms/step - accuracy: 0.6063 - loss: 1.2934 - top_3_acc: 0.8863\n",
            "Epoch 20: val_accuracy improved from 0.62598 to 0.65228, saving model to /content/drive/MyDrive/emotion_recognition_project/mel_spectrograms/best_model2.keras\n",
            "\u001b[1m77/77\u001b[0m \u001b[32m━━━━━━━━━━━━━━━━━━━━\u001b[0m\u001b[37m\u001b[0m \u001b[1m6s\u001b[0m 79ms/step - accuracy: 0.6069 - loss: 1.2917 - top_3_acc: 0.8866 - val_accuracy: 0.6523 - val_loss: 1.1829 - val_top_3_acc: 0.9038 - learning_rate: 5.0000e-05\n",
            "Epoch 21/70\n",
            "\u001b[1m76/77\u001b[0m \u001b[32m━━━━━━━━━━━━━━━━━━━\u001b[0m\u001b[37m━\u001b[0m \u001b[1m0s\u001b[0m 71ms/step - accuracy: 0.6029 - loss: 1.2736 - top_3_acc: 0.8878\n",
            "Epoch 21: val_accuracy did not improve from 0.65228\n",
            "\u001b[1m77/77\u001b[0m \u001b[32m━━━━━━━━━━━━━━━━━━━━\u001b[0m\u001b[37m\u001b[0m \u001b[1m6s\u001b[0m 74ms/step - accuracy: 0.6033 - loss: 1.2726 - top_3_acc: 0.8881 - val_accuracy: 0.6367 - val_loss: 1.1932 - val_top_3_acc: 0.9051 - learning_rate: 5.0000e-05\n",
            "Epoch 22/70\n",
            "\u001b[1m76/77\u001b[0m \u001b[32m━━━━━━━━━━━━━━━━━━━\u001b[0m\u001b[37m━\u001b[0m \u001b[1m0s\u001b[0m 71ms/step - accuracy: 0.6382 - loss: 1.1910 - top_3_acc: 0.9090\n",
            "Epoch 22: val_accuracy did not improve from 0.65228\n",
            "\u001b[1m77/77\u001b[0m \u001b[32m━━━━━━━━━━━━━━━━━━━━\u001b[0m\u001b[37m\u001b[0m \u001b[1m6s\u001b[0m 75ms/step - accuracy: 0.6383 - loss: 1.1905 - top_3_acc: 0.9090 - val_accuracy: 0.6506 - val_loss: 1.1578 - val_top_3_acc: 0.9108 - learning_rate: 5.0000e-05\n",
            "Epoch 23/70\n",
            "\u001b[1m76/77\u001b[0m \u001b[32m━━━━━━━━━━━━━━━━━━━\u001b[0m\u001b[37m━\u001b[0m \u001b[1m0s\u001b[0m 70ms/step - accuracy: 0.6336 - loss: 1.1802 - top_3_acc: 0.9062\n",
            "Epoch 23: val_accuracy did not improve from 0.65228\n",
            "\u001b[1m77/77\u001b[0m \u001b[32m━━━━━━━━━━━━━━━━━━━━\u001b[0m\u001b[37m\u001b[0m \u001b[1m6s\u001b[0m 74ms/step - accuracy: 0.6340 - loss: 1.1795 - top_3_acc: 0.9063 - val_accuracy: 0.6317 - val_loss: 1.1899 - val_top_3_acc: 0.8981 - learning_rate: 5.0000e-05\n",
            "Epoch 24/70\n",
            "\u001b[1m76/77\u001b[0m \u001b[32m━━━━━━━━━━━━━━━━━━━\u001b[0m\u001b[37m━\u001b[0m \u001b[1m0s\u001b[0m 70ms/step - accuracy: 0.6269 - loss: 1.1953 - top_3_acc: 0.9027\n",
            "Epoch 24: val_accuracy did not improve from 0.65228\n",
            "\u001b[1m77/77\u001b[0m \u001b[32m━━━━━━━━━━━━━━━━━━━━\u001b[0m\u001b[37m\u001b[0m \u001b[1m6s\u001b[0m 74ms/step - accuracy: 0.6274 - loss: 1.1943 - top_3_acc: 0.9029 - val_accuracy: 0.6210 - val_loss: 1.2169 - val_top_3_acc: 0.8874 - learning_rate: 5.0000e-05\n",
            "Epoch 25/70\n",
            "\u001b[1m76/77\u001b[0m \u001b[32m━━━━━━━━━━━━━━━━━━━\u001b[0m\u001b[37m━\u001b[0m \u001b[1m0s\u001b[0m 70ms/step - accuracy: 0.6312 - loss: 1.2009 - top_3_acc: 0.9026\n",
            "Epoch 25: val_accuracy did not improve from 0.65228\n",
            "\u001b[1m77/77\u001b[0m \u001b[32m━━━━━━━━━━━━━━━━━━━━\u001b[0m\u001b[37m\u001b[0m \u001b[1m6s\u001b[0m 74ms/step - accuracy: 0.6317 - loss: 1.1994 - top_3_acc: 0.9029 - val_accuracy: 0.6445 - val_loss: 1.1463 - val_top_3_acc: 0.9051 - learning_rate: 5.0000e-05\n",
            "Epoch 26/70\n",
            "\u001b[1m76/77\u001b[0m \u001b[32m━━━━━━━━━━━━━━━━━━━\u001b[0m\u001b[37m━\u001b[0m \u001b[1m0s\u001b[0m 70ms/step - accuracy: 0.6414 - loss: 1.1663 - top_3_acc: 0.9045\n",
            "Epoch 26: val_accuracy did not improve from 0.65228\n",
            "\u001b[1m77/77\u001b[0m \u001b[32m━━━━━━━━━━━━━━━━━━━━\u001b[0m\u001b[37m\u001b[0m \u001b[1m6s\u001b[0m 74ms/step - accuracy: 0.6418 - loss: 1.1654 - top_3_acc: 0.9047 - val_accuracy: 0.6482 - val_loss: 1.1377 - val_top_3_acc: 0.9116 - learning_rate: 5.0000e-05\n",
            "Epoch 27/70\n",
            "\u001b[1m76/77\u001b[0m \u001b[32m━━━━━━━━━━━━━━━━━━━\u001b[0m\u001b[37m━\u001b[0m \u001b[1m0s\u001b[0m 70ms/step - accuracy: 0.6380 - loss: 1.1712 - top_3_acc: 0.9007\n",
            "Epoch 27: val_accuracy did not improve from 0.65228\n",
            "\u001b[1m77/77\u001b[0m \u001b[32m━━━━━━━━━━━━━━━━━━━━\u001b[0m\u001b[37m\u001b[0m \u001b[1m6s\u001b[0m 74ms/step - accuracy: 0.6384 - loss: 1.1700 - top_3_acc: 0.9010 - val_accuracy: 0.6404 - val_loss: 1.1526 - val_top_3_acc: 0.9059 - learning_rate: 5.0000e-05\n",
            "Epoch 28/70\n",
            "\u001b[1m76/77\u001b[0m \u001b[32m━━━━━━━━━━━━━━━━━━━\u001b[0m\u001b[37m━\u001b[0m \u001b[1m0s\u001b[0m 70ms/step - accuracy: 0.6749 - loss: 1.0944 - top_3_acc: 0.9223\n",
            "Epoch 28: val_accuracy did not improve from 0.65228\n",
            "\u001b[1m77/77\u001b[0m \u001b[32m━━━━━━━━━━━━━━━━━━━━\u001b[0m\u001b[37m\u001b[0m \u001b[1m6s\u001b[0m 74ms/step - accuracy: 0.6750 - loss: 1.0937 - top_3_acc: 0.9224 - val_accuracy: 0.6408 - val_loss: 1.1591 - val_top_3_acc: 0.9071 - learning_rate: 5.0000e-05\n",
            "Epoch 29/70\n",
            "\u001b[1m76/77\u001b[0m \u001b[32m━━━━━━━━━━━━━━━━━━━\u001b[0m\u001b[37m━\u001b[0m \u001b[1m0s\u001b[0m 70ms/step - accuracy: 0.6316 - loss: 1.1777 - top_3_acc: 0.9020\n",
            "Epoch 29: val_accuracy did not improve from 0.65228\n",
            "\u001b[1m77/77\u001b[0m \u001b[32m━━━━━━━━━━━━━━━━━━━━\u001b[0m\u001b[37m\u001b[0m \u001b[1m6s\u001b[0m 74ms/step - accuracy: 0.6322 - loss: 1.1762 - top_3_acc: 0.9024 - val_accuracy: 0.6494 - val_loss: 1.1188 - val_top_3_acc: 0.9153 - learning_rate: 5.0000e-05\n",
            "Epoch 30/70\n",
            "\u001b[1m76/77\u001b[0m \u001b[32m━━━━━━━━━━━━━━━━━━━\u001b[0m\u001b[37m━\u001b[0m \u001b[1m0s\u001b[0m 70ms/step - accuracy: 0.6553 - loss: 1.0911 - top_3_acc: 0.9227\n",
            "Epoch 30: val_accuracy did not improve from 0.65228\n",
            "\u001b[1m77/77\u001b[0m \u001b[32m━━━━━━━━━━━━━━━━━━━━\u001b[0m\u001b[37m\u001b[0m \u001b[1m6s\u001b[0m 74ms/step - accuracy: 0.6557 - loss: 1.0903 - top_3_acc: 0.9228 - val_accuracy: 0.6247 - val_loss: 1.1871 - val_top_3_acc: 0.8890 - learning_rate: 5.0000e-05\n",
            "Epoch 31/70\n",
            "\u001b[1m76/77\u001b[0m \u001b[32m━━━━━━━━━━━━━━━━━━━\u001b[0m\u001b[37m━\u001b[0m \u001b[1m0s\u001b[0m 71ms/step - accuracy: 0.6355 - loss: 1.1432 - top_3_acc: 0.9061\n",
            "Epoch 31: val_accuracy did not improve from 0.65228\n",
            "\u001b[1m77/77\u001b[0m \u001b[32m━━━━━━━━━━━━━━━━━━━━\u001b[0m\u001b[37m\u001b[0m \u001b[1m6s\u001b[0m 74ms/step - accuracy: 0.6359 - loss: 1.1422 - top_3_acc: 0.9063 - val_accuracy: 0.6436 - val_loss: 1.1229 - val_top_3_acc: 0.9104 - learning_rate: 5.0000e-05\n",
            "Epoch 32/70\n",
            "\u001b[1m76/77\u001b[0m \u001b[32m━━━━━━━━━━━━━━━━━━━\u001b[0m\u001b[37m━\u001b[0m \u001b[1m0s\u001b[0m 70ms/step - accuracy: 0.6566 - loss: 1.1056 - top_3_acc: 0.9204\n",
            "Epoch 32: val_accuracy improved from 0.65228 to 0.66708, saving model to /content/drive/MyDrive/emotion_recognition_project/mel_spectrograms/best_model2.keras\n",
            "\u001b[1m77/77\u001b[0m \u001b[32m━━━━━━━━━━━━━━━━━━━━\u001b[0m\u001b[37m\u001b[0m \u001b[1m6s\u001b[0m 78ms/step - accuracy: 0.6570 - loss: 1.1047 - top_3_acc: 0.9205 - val_accuracy: 0.6671 - val_loss: 1.0895 - val_top_3_acc: 0.9207 - learning_rate: 5.0000e-05\n",
            "Epoch 33/70\n",
            "\u001b[1m76/77\u001b[0m \u001b[32m━━━━━━━━━━━━━━━━━━━\u001b[0m\u001b[37m━\u001b[0m \u001b[1m0s\u001b[0m 71ms/step - accuracy: 0.6573 - loss: 1.0837 - top_3_acc: 0.9201\n",
            "Epoch 33: val_accuracy did not improve from 0.66708\n",
            "\u001b[1m77/77\u001b[0m \u001b[32m━━━━━━━━━━━━━━━━━━━━\u001b[0m\u001b[37m\u001b[0m \u001b[1m6s\u001b[0m 74ms/step - accuracy: 0.6576 - loss: 1.0829 - top_3_acc: 0.9202 - val_accuracy: 0.6436 - val_loss: 1.1122 - val_top_3_acc: 0.9120 - learning_rate: 5.0000e-05\n",
            "Epoch 34/70\n",
            "\u001b[1m76/77\u001b[0m \u001b[32m━━━━━━━━━━━━━━━━━━━\u001b[0m\u001b[37m━\u001b[0m \u001b[1m0s\u001b[0m 71ms/step - accuracy: 0.6739 - loss: 1.0476 - top_3_acc: 0.9261\n",
            "Epoch 34: val_accuracy did not improve from 0.66708\n",
            "\u001b[1m77/77\u001b[0m \u001b[32m━━━━━━━━━━━━━━━━━━━━\u001b[0m\u001b[37m\u001b[0m \u001b[1m6s\u001b[0m 74ms/step - accuracy: 0.6742 - loss: 1.0467 - top_3_acc: 0.9263 - val_accuracy: 0.6367 - val_loss: 1.1159 - val_top_3_acc: 0.9075 - learning_rate: 5.0000e-05\n",
            "Epoch 35/70\n",
            "\u001b[1m76/77\u001b[0m \u001b[32m━━━━━━━━━━━━━━━━━━━\u001b[0m\u001b[37m━\u001b[0m \u001b[1m0s\u001b[0m 70ms/step - accuracy: 0.6618 - loss: 1.0763 - top_3_acc: 0.9210\n",
            "Epoch 35: val_accuracy did not improve from 0.66708\n",
            "\u001b[1m77/77\u001b[0m \u001b[32m━━━━━━━━━━━━━━━━━━━━\u001b[0m\u001b[37m\u001b[0m \u001b[1m6s\u001b[0m 74ms/step - accuracy: 0.6622 - loss: 1.0752 - top_3_acc: 0.9212 - val_accuracy: 0.6584 - val_loss: 1.0812 - val_top_3_acc: 0.9166 - learning_rate: 5.0000e-05\n",
            "Epoch 36/70\n",
            "\u001b[1m76/77\u001b[0m \u001b[32m━━━━━━━━━━━━━━━━━━━\u001b[0m\u001b[37m━\u001b[0m \u001b[1m0s\u001b[0m 70ms/step - accuracy: 0.6900 - loss: 1.0022 - top_3_acc: 0.9347\n",
            "Epoch 36: val_accuracy did not improve from 0.66708\n",
            "\u001b[1m77/77\u001b[0m \u001b[32m━━━━━━━━━━━━━━━━━━━━\u001b[0m\u001b[37m\u001b[0m \u001b[1m6s\u001b[0m 74ms/step - accuracy: 0.6903 - loss: 1.0016 - top_3_acc: 0.9348 - val_accuracy: 0.6568 - val_loss: 1.0608 - val_top_3_acc: 0.9236 - learning_rate: 5.0000e-05\n",
            "Epoch 37/70\n",
            "\u001b[1m76/77\u001b[0m \u001b[32m━━━━━━━━━━━━━━━━━━━\u001b[0m\u001b[37m━\u001b[0m \u001b[1m0s\u001b[0m 71ms/step - accuracy: 0.6857 - loss: 1.0161 - top_3_acc: 0.9331\n",
            "Epoch 37: val_accuracy did not improve from 0.66708\n",
            "\u001b[1m77/77\u001b[0m \u001b[32m━━━━━━━━━━━━━━━━━━━━\u001b[0m\u001b[37m\u001b[0m \u001b[1m6s\u001b[0m 74ms/step - accuracy: 0.6860 - loss: 1.0152 - top_3_acc: 0.9332 - val_accuracy: 0.6428 - val_loss: 1.1175 - val_top_3_acc: 0.9104 - learning_rate: 5.0000e-05\n",
            "Epoch 38/70\n",
            "\u001b[1m76/77\u001b[0m \u001b[32m━━━━━━━━━━━━━━━━━━━\u001b[0m\u001b[37m━\u001b[0m \u001b[1m0s\u001b[0m 71ms/step - accuracy: 0.6545 - loss: 1.0870 - top_3_acc: 0.9164\n",
            "Epoch 38: val_accuracy did not improve from 0.66708\n",
            "\u001b[1m77/77\u001b[0m \u001b[32m━━━━━━━━━━━━━━━━━━━━\u001b[0m\u001b[37m\u001b[0m \u001b[1m6s\u001b[0m 74ms/step - accuracy: 0.6550 - loss: 1.0856 - top_3_acc: 0.9166 - val_accuracy: 0.6432 - val_loss: 1.0930 - val_top_3_acc: 0.9038 - learning_rate: 5.0000e-05\n",
            "Epoch 39/70\n",
            "\u001b[1m76/77\u001b[0m \u001b[32m━━━━━━━━━━━━━━━━━━━\u001b[0m\u001b[37m━\u001b[0m \u001b[1m0s\u001b[0m 71ms/step - accuracy: 0.6849 - loss: 0.9849 - top_3_acc: 0.9317\n",
            "Epoch 39: val_accuracy improved from 0.66708 to 0.67119, saving model to /content/drive/MyDrive/emotion_recognition_project/mel_spectrograms/best_model2.keras\n",
            "\u001b[1m77/77\u001b[0m \u001b[32m━━━━━━━━━━━━━━━━━━━━\u001b[0m\u001b[37m\u001b[0m \u001b[1m6s\u001b[0m 78ms/step - accuracy: 0.6854 - loss: 0.9842 - top_3_acc: 0.9318 - val_accuracy: 0.6712 - val_loss: 1.0424 - val_top_3_acc: 0.9211 - learning_rate: 5.0000e-05\n",
            "Epoch 40/70\n",
            "\u001b[1m76/77\u001b[0m \u001b[32m━━━━━━━━━━━━━━━━━━━\u001b[0m\u001b[37m━\u001b[0m \u001b[1m0s\u001b[0m 71ms/step - accuracy: 0.6593 - loss: 1.0623 - top_3_acc: 0.9146\n",
            "Epoch 40: val_accuracy did not improve from 0.67119\n",
            "\u001b[1m77/77\u001b[0m \u001b[32m━━━━━━━━━━━━━━━━━━━━\u001b[0m\u001b[37m\u001b[0m \u001b[1m6s\u001b[0m 74ms/step - accuracy: 0.6599 - loss: 1.0609 - top_3_acc: 0.9149 - val_accuracy: 0.6634 - val_loss: 1.0598 - val_top_3_acc: 0.9170 - learning_rate: 5.0000e-05\n",
            "Epoch 41/70\n",
            "\u001b[1m76/77\u001b[0m \u001b[32m━━━━━━━━━━━━━━━━━━━\u001b[0m\u001b[37m━\u001b[0m \u001b[1m0s\u001b[0m 71ms/step - accuracy: 0.6826 - loss: 1.0012 - top_3_acc: 0.9281\n",
            "Epoch 41: val_accuracy did not improve from 0.67119\n",
            "\u001b[1m77/77\u001b[0m \u001b[32m━━━━━━━━━━━━━━━━━━━━\u001b[0m\u001b[37m\u001b[0m \u001b[1m6s\u001b[0m 75ms/step - accuracy: 0.6831 - loss: 1.0001 - top_3_acc: 0.9283 - val_accuracy: 0.6638 - val_loss: 1.0322 - val_top_3_acc: 0.9207 - learning_rate: 5.0000e-05\n",
            "Epoch 42/70\n",
            "\u001b[1m76/77\u001b[0m \u001b[32m━━━━━━━━━━━━━━━━━━━\u001b[0m\u001b[37m━\u001b[0m \u001b[1m0s\u001b[0m 71ms/step - accuracy: 0.7055 - loss: 0.9468 - top_3_acc: 0.9343\n",
            "Epoch 42: val_accuracy did not improve from 0.67119\n",
            "\u001b[1m77/77\u001b[0m \u001b[32m━━━━━━━━━━━━━━━━━━━━\u001b[0m\u001b[37m\u001b[0m \u001b[1m6s\u001b[0m 75ms/step - accuracy: 0.7058 - loss: 0.9462 - top_3_acc: 0.9344 - val_accuracy: 0.6630 - val_loss: 1.0293 - val_top_3_acc: 0.9219 - learning_rate: 5.0000e-05\n",
            "Epoch 43/70\n",
            "\u001b[1m76/77\u001b[0m \u001b[32m━━━━━━━━━━━━━━━━━━━\u001b[0m\u001b[37m━\u001b[0m \u001b[1m0s\u001b[0m 71ms/step - accuracy: 0.7046 - loss: 0.9367 - top_3_acc: 0.9364\n",
            "Epoch 43: val_accuracy did not improve from 0.67119\n",
            "\u001b[1m77/77\u001b[0m \u001b[32m━━━━━━━━━━━━━━━━━━━━\u001b[0m\u001b[37m\u001b[0m \u001b[1m6s\u001b[0m 75ms/step - accuracy: 0.7050 - loss: 0.9358 - top_3_acc: 0.9365 - val_accuracy: 0.6671 - val_loss: 1.0284 - val_top_3_acc: 0.9277 - learning_rate: 5.0000e-05\n",
            "Epoch 44/70\n",
            "\u001b[1m76/77\u001b[0m \u001b[32m━━━━━━━━━━━━━━━━━━━\u001b[0m\u001b[37m━\u001b[0m \u001b[1m0s\u001b[0m 70ms/step - accuracy: 0.7119 - loss: 0.9281 - top_3_acc: 0.9404\n",
            "Epoch 44: val_accuracy improved from 0.67119 to 0.67859, saving model to /content/drive/MyDrive/emotion_recognition_project/mel_spectrograms/best_model2.keras\n",
            "\u001b[1m77/77\u001b[0m \u001b[32m━━━━━━━━━━━━━━━━━━━━\u001b[0m\u001b[37m\u001b[0m \u001b[1m6s\u001b[0m 78ms/step - accuracy: 0.7123 - loss: 0.9270 - top_3_acc: 0.9406 - val_accuracy: 0.6786 - val_loss: 1.0279 - val_top_3_acc: 0.9219 - learning_rate: 5.0000e-05\n",
            "Epoch 45/70\n",
            "\u001b[1m76/77\u001b[0m \u001b[32m━━━━━━━━━━━━━━━━━━━\u001b[0m\u001b[37m━\u001b[0m \u001b[1m0s\u001b[0m 71ms/step - accuracy: 0.7062 - loss: 0.9305 - top_3_acc: 0.9395\n",
            "Epoch 45: val_accuracy did not improve from 0.67859\n",
            "\u001b[1m77/77\u001b[0m \u001b[32m━━━━━━━━━━━━━━━━━━━━\u001b[0m\u001b[37m\u001b[0m \u001b[1m6s\u001b[0m 74ms/step - accuracy: 0.7067 - loss: 0.9296 - top_3_acc: 0.9396 - val_accuracy: 0.6523 - val_loss: 1.0751 - val_top_3_acc: 0.9112 - learning_rate: 5.0000e-05\n",
            "Epoch 46/70\n",
            "\u001b[1m76/77\u001b[0m \u001b[32m━━━━━━━━━━━━━━━━━━━\u001b[0m\u001b[37m━\u001b[0m \u001b[1m0s\u001b[0m 71ms/step - accuracy: 0.6916 - loss: 0.9851 - top_3_acc: 0.9266\n",
            "Epoch 46: val_accuracy did not improve from 0.67859\n",
            "\u001b[1m77/77\u001b[0m \u001b[32m━━━━━━━━━━━━━━━━━━━━\u001b[0m\u001b[37m\u001b[0m \u001b[1m6s\u001b[0m 74ms/step - accuracy: 0.6921 - loss: 0.9835 - top_3_acc: 0.9269 - val_accuracy: 0.6695 - val_loss: 1.0370 - val_top_3_acc: 0.9219 - learning_rate: 5.0000e-05\n",
            "Epoch 47/70\n",
            "\u001b[1m76/77\u001b[0m \u001b[32m━━━━━━━━━━━━━━━━━━━\u001b[0m\u001b[37m━\u001b[0m \u001b[1m0s\u001b[0m 71ms/step - accuracy: 0.6978 - loss: 0.9493 - top_3_acc: 0.9342\n",
            "Epoch 47: ReduceLROnPlateau reducing learning rate to 2.499999936844688e-05.\n",
            "\n",
            "Epoch 47: val_accuracy did not improve from 0.67859\n",
            "\u001b[1m77/77\u001b[0m \u001b[32m━━━━━━━━━━━━━━━━━━━━\u001b[0m\u001b[37m\u001b[0m \u001b[1m6s\u001b[0m 74ms/step - accuracy: 0.6983 - loss: 0.9480 - top_3_acc: 0.9345 - val_accuracy: 0.6424 - val_loss: 1.0921 - val_top_3_acc: 0.9100 - learning_rate: 5.0000e-05\n",
            "Epoch 48/70\n",
            "\u001b[1m76/77\u001b[0m \u001b[32m━━━━━━━━━━━━━━━━━━━\u001b[0m\u001b[37m━\u001b[0m \u001b[1m0s\u001b[0m 71ms/step - accuracy: 0.6967 - loss: 0.9269 - top_3_acc: 0.9376\n",
            "Epoch 48: val_accuracy did not improve from 0.67859\n",
            "\u001b[1m77/77\u001b[0m \u001b[32m━━━━━━━━━━━━━━━━━━━━\u001b[0m\u001b[37m\u001b[0m \u001b[1m6s\u001b[0m 74ms/step - accuracy: 0.6974 - loss: 0.9257 - top_3_acc: 0.9377 - val_accuracy: 0.6700 - val_loss: 0.9988 - val_top_3_acc: 0.9297 - learning_rate: 2.5000e-05\n",
            "Epoch 49/70\n",
            "\u001b[1m76/77\u001b[0m \u001b[32m━━━━━━━━━━━━━━━━━━━\u001b[0m\u001b[37m━\u001b[0m \u001b[1m0s\u001b[0m 71ms/step - accuracy: 0.7278 - loss: 0.8680 - top_3_acc: 0.9491\n",
            "Epoch 49: val_accuracy improved from 0.67859 to 0.68311, saving model to /content/drive/MyDrive/emotion_recognition_project/mel_spectrograms/best_model2.keras\n",
            "\u001b[1m77/77\u001b[0m \u001b[32m━━━━━━━━━━━━━━━━━━━━\u001b[0m\u001b[37m\u001b[0m \u001b[1m6s\u001b[0m 78ms/step - accuracy: 0.7282 - loss: 0.8673 - top_3_acc: 0.9492 - val_accuracy: 0.6831 - val_loss: 0.9987 - val_top_3_acc: 0.9219 - learning_rate: 2.5000e-05\n",
            "Epoch 50/70\n",
            "\u001b[1m76/77\u001b[0m \u001b[32m━━━━━━━━━━━━━━━━━━━\u001b[0m\u001b[37m━\u001b[0m \u001b[1m0s\u001b[0m 70ms/step - accuracy: 0.7222 - loss: 0.8775 - top_3_acc: 0.9466\n",
            "Epoch 50: val_accuracy did not improve from 0.68311\n",
            "\u001b[1m77/77\u001b[0m \u001b[32m━━━━━━━━━━━━━━━━━━━━\u001b[0m\u001b[37m\u001b[0m \u001b[1m6s\u001b[0m 75ms/step - accuracy: 0.7224 - loss: 0.8769 - top_3_acc: 0.9467 - val_accuracy: 0.6815 - val_loss: 0.9868 - val_top_3_acc: 0.9289 - learning_rate: 2.5000e-05\n",
            "Epoch 51/70\n",
            "\u001b[1m76/77\u001b[0m \u001b[32m━━━━━━━━━━━━━━━━━━━\u001b[0m\u001b[37m━\u001b[0m \u001b[1m0s\u001b[0m 71ms/step - accuracy: 0.7318 - loss: 0.8502 - top_3_acc: 0.9502\n",
            "Epoch 51: val_accuracy did not improve from 0.68311\n",
            "\u001b[1m77/77\u001b[0m \u001b[32m━━━━━━━━━━━━━━━━━━━━\u001b[0m\u001b[37m\u001b[0m \u001b[1m6s\u001b[0m 75ms/step - accuracy: 0.7320 - loss: 0.8497 - top_3_acc: 0.9503 - val_accuracy: 0.6745 - val_loss: 1.0029 - val_top_3_acc: 0.9215 - learning_rate: 2.5000e-05\n",
            "Epoch 52/70\n",
            "\u001b[1m76/77\u001b[0m \u001b[32m━━━━━━━━━━━━━━━━━━━\u001b[0m\u001b[37m━\u001b[0m \u001b[1m0s\u001b[0m 70ms/step - accuracy: 0.7314 - loss: 0.8536 - top_3_acc: 0.9515\n",
            "Epoch 52: val_accuracy did not improve from 0.68311\n",
            "\u001b[1m77/77\u001b[0m \u001b[32m━━━━━━━━━━━━━━━━━━━━\u001b[0m\u001b[37m\u001b[0m \u001b[1m6s\u001b[0m 74ms/step - accuracy: 0.7318 - loss: 0.8529 - top_3_acc: 0.9516 - val_accuracy: 0.6642 - val_loss: 1.0134 - val_top_3_acc: 0.9219 - learning_rate: 2.5000e-05\n",
            "Epoch 53/70\n",
            "\u001b[1m76/77\u001b[0m \u001b[32m━━━━━━━━━━━━━━━━━━━\u001b[0m\u001b[37m━\u001b[0m \u001b[1m0s\u001b[0m 71ms/step - accuracy: 0.7295 - loss: 0.8578 - top_3_acc: 0.9488\n",
            "Epoch 53: ReduceLROnPlateau reducing learning rate to 1.249999968422344e-05.\n",
            "\n",
            "Epoch 53: val_accuracy did not improve from 0.68311\n",
            "\u001b[1m77/77\u001b[0m \u001b[32m━━━━━━━━━━━━━━━━━━━━\u001b[0m\u001b[37m\u001b[0m \u001b[1m6s\u001b[0m 74ms/step - accuracy: 0.7299 - loss: 0.8571 - top_3_acc: 0.9489 - val_accuracy: 0.6687 - val_loss: 0.9908 - val_top_3_acc: 0.9289 - learning_rate: 2.5000e-05\n",
            "Epoch 54/70\n",
            "\u001b[1m76/77\u001b[0m \u001b[32m━━━━━━━━━━━━━━━━━━━\u001b[0m\u001b[37m━\u001b[0m \u001b[1m0s\u001b[0m 70ms/step - accuracy: 0.7376 - loss: 0.8229 - top_3_acc: 0.9532\n",
            "Epoch 54: val_accuracy did not improve from 0.68311\n",
            "\u001b[1m77/77\u001b[0m \u001b[32m━━━━━━━━━━━━━━━━━━━━\u001b[0m\u001b[37m\u001b[0m \u001b[1m6s\u001b[0m 74ms/step - accuracy: 0.7378 - loss: 0.8226 - top_3_acc: 0.9532 - val_accuracy: 0.6704 - val_loss: 0.9834 - val_top_3_acc: 0.9277 - learning_rate: 1.2500e-05\n",
            "Epoch 55/70\n",
            "\u001b[1m76/77\u001b[0m \u001b[32m━━━━━━━━━━━━━━━━━━━\u001b[0m\u001b[37m━\u001b[0m \u001b[1m0s\u001b[0m 71ms/step - accuracy: 0.7557 - loss: 0.8162 - top_3_acc: 0.9529\n",
            "Epoch 55: val_accuracy did not improve from 0.68311\n",
            "\u001b[1m77/77\u001b[0m \u001b[32m━━━━━━━━━━━━━━━━━━━━\u001b[0m\u001b[37m\u001b[0m \u001b[1m6s\u001b[0m 74ms/step - accuracy: 0.7558 - loss: 0.8157 - top_3_acc: 0.9529 - val_accuracy: 0.6741 - val_loss: 0.9783 - val_top_3_acc: 0.9273 - learning_rate: 1.2500e-05\n",
            "Epoch 56/70\n",
            "\u001b[1m76/77\u001b[0m \u001b[32m━━━━━━━━━━━━━━━━━━━\u001b[0m\u001b[37m━\u001b[0m \u001b[1m0s\u001b[0m 71ms/step - accuracy: 0.7429 - loss: 0.8278 - top_3_acc: 0.9540\n",
            "Epoch 56: val_accuracy did not improve from 0.68311\n",
            "\u001b[1m77/77\u001b[0m \u001b[32m━━━━━━━━━━━━━━━━━━━━\u001b[0m\u001b[37m\u001b[0m \u001b[1m6s\u001b[0m 75ms/step - accuracy: 0.7431 - loss: 0.8272 - top_3_acc: 0.9541 - val_accuracy: 0.6790 - val_loss: 0.9726 - val_top_3_acc: 0.9264 - learning_rate: 1.2500e-05\n",
            "Epoch 57/70\n",
            "\u001b[1m76/77\u001b[0m \u001b[32m━━━━━━━━━━━━━━━━━━━\u001b[0m\u001b[37m━\u001b[0m \u001b[1m0s\u001b[0m 71ms/step - accuracy: 0.7431 - loss: 0.8250 - top_3_acc: 0.9578\n",
            "Epoch 57: val_accuracy did not improve from 0.68311\n",
            "\u001b[1m77/77\u001b[0m \u001b[32m━━━━━━━━━━━━━━━━━━━━\u001b[0m\u001b[37m\u001b[0m \u001b[1m6s\u001b[0m 74ms/step - accuracy: 0.7434 - loss: 0.8243 - top_3_acc: 0.9579 - val_accuracy: 0.6831 - val_loss: 0.9690 - val_top_3_acc: 0.9318 - learning_rate: 1.2500e-05\n",
            "Epoch 58/70\n",
            "\u001b[1m76/77\u001b[0m \u001b[32m━━━━━━━━━━━━━━━━━━━\u001b[0m\u001b[37m━\u001b[0m \u001b[1m0s\u001b[0m 70ms/step - accuracy: 0.7373 - loss: 0.8248 - top_3_acc: 0.9540\n",
            "Epoch 58: val_accuracy improved from 0.68311 to 0.68352, saving model to /content/drive/MyDrive/emotion_recognition_project/mel_spectrograms/best_model2.keras\n",
            "\u001b[1m77/77\u001b[0m \u001b[32m━━━━━━━━━━━━━━━━━━━━\u001b[0m\u001b[37m\u001b[0m \u001b[1m6s\u001b[0m 77ms/step - accuracy: 0.7378 - loss: 0.8240 - top_3_acc: 0.9540 - val_accuracy: 0.6835 - val_loss: 0.9702 - val_top_3_acc: 0.9277 - learning_rate: 1.2500e-05\n",
            "Epoch 59/70\n",
            "\u001b[1m76/77\u001b[0m \u001b[32m━━━━━━━━━━━━━━━━━━━\u001b[0m\u001b[37m━\u001b[0m \u001b[1m0s\u001b[0m 70ms/step - accuracy: 0.7441 - loss: 0.8201 - top_3_acc: 0.9537\n",
            "Epoch 59: val_accuracy improved from 0.68352 to 0.68681, saving model to /content/drive/MyDrive/emotion_recognition_project/mel_spectrograms/best_model2.keras\n",
            "\u001b[1m77/77\u001b[0m \u001b[32m━━━━━━━━━━━━━━━━━━━━\u001b[0m\u001b[37m\u001b[0m \u001b[1m6s\u001b[0m 77ms/step - accuracy: 0.7443 - loss: 0.8195 - top_3_acc: 0.9538 - val_accuracy: 0.6868 - val_loss: 0.9707 - val_top_3_acc: 0.9277 - learning_rate: 1.2500e-05\n",
            "Epoch 60/70\n",
            "\u001b[1m76/77\u001b[0m \u001b[32m━━━━━━━━━━━━━━━━━━━\u001b[0m\u001b[37m━\u001b[0m \u001b[1m0s\u001b[0m 71ms/step - accuracy: 0.7531 - loss: 0.7944 - top_3_acc: 0.9562\n",
            "Epoch 60: ReduceLROnPlateau reducing learning rate to 6.24999984211172e-06.\n",
            "\n",
            "Epoch 60: val_accuracy did not improve from 0.68681\n",
            "\u001b[1m77/77\u001b[0m \u001b[32m━━━━━━━━━━━━━━━━━━━━\u001b[0m\u001b[37m\u001b[0m \u001b[1m6s\u001b[0m 74ms/step - accuracy: 0.7533 - loss: 0.7940 - top_3_acc: 0.9563 - val_accuracy: 0.6798 - val_loss: 0.9705 - val_top_3_acc: 0.9297 - learning_rate: 1.2500e-05\n",
            "Epoch 61/70\n",
            "\u001b[1m76/77\u001b[0m \u001b[32m━━━━━━━━━━━━━━━━━━━\u001b[0m\u001b[37m━\u001b[0m \u001b[1m0s\u001b[0m 71ms/step - accuracy: 0.7467 - loss: 0.8065 - top_3_acc: 0.9532\n",
            "Epoch 61: val_accuracy did not improve from 0.68681\n",
            "\u001b[1m77/77\u001b[0m \u001b[32m━━━━━━━━━━━━━━━━━━━━\u001b[0m\u001b[37m\u001b[0m \u001b[1m6s\u001b[0m 75ms/step - accuracy: 0.7470 - loss: 0.8058 - top_3_acc: 0.9533 - val_accuracy: 0.6827 - val_loss: 0.9660 - val_top_3_acc: 0.9281 - learning_rate: 6.2500e-06\n",
            "Epoch 62/70\n",
            "\u001b[1m76/77\u001b[0m \u001b[32m━━━━━━━━━━━━━━━━━━━\u001b[0m\u001b[37m━\u001b[0m \u001b[1m0s\u001b[0m 71ms/step - accuracy: 0.7610 - loss: 0.7952 - top_3_acc: 0.9571\n",
            "Epoch 62: val_accuracy did not improve from 0.68681\n",
            "\u001b[1m77/77\u001b[0m \u001b[32m━━━━━━━━━━━━━━━━━━━━\u001b[0m\u001b[37m\u001b[0m \u001b[1m6s\u001b[0m 74ms/step - accuracy: 0.7612 - loss: 0.7947 - top_3_acc: 0.9572 - val_accuracy: 0.6843 - val_loss: 0.9646 - val_top_3_acc: 0.9273 - learning_rate: 6.2500e-06\n",
            "Epoch 63/70\n",
            "\u001b[1m76/77\u001b[0m \u001b[32m━━━━━━━━━━━━━━━━━━━\u001b[0m\u001b[37m━\u001b[0m \u001b[1m0s\u001b[0m 70ms/step - accuracy: 0.7601 - loss: 0.7859 - top_3_acc: 0.9577\n",
            "Epoch 63: val_accuracy did not improve from 0.68681\n",
            "\u001b[1m77/77\u001b[0m \u001b[32m━━━━━━━━━━━━━━━━━━━━\u001b[0m\u001b[37m\u001b[0m \u001b[1m6s\u001b[0m 74ms/step - accuracy: 0.7603 - loss: 0.7855 - top_3_acc: 0.9578 - val_accuracy: 0.6839 - val_loss: 0.9661 - val_top_3_acc: 0.9281 - learning_rate: 6.2500e-06\n",
            "Epoch 64/70\n",
            "\u001b[1m76/77\u001b[0m \u001b[32m━━━━━━━━━━━━━━━━━━━\u001b[0m\u001b[37m━\u001b[0m \u001b[1m0s\u001b[0m 71ms/step - accuracy: 0.7556 - loss: 0.8010 - top_3_acc: 0.9622\n",
            "Epoch 64: val_accuracy did not improve from 0.68681\n",
            "\u001b[1m77/77\u001b[0m \u001b[32m━━━━━━━━━━━━━━━━━━━━\u001b[0m\u001b[37m\u001b[0m \u001b[1m6s\u001b[0m 74ms/step - accuracy: 0.7558 - loss: 0.8003 - top_3_acc: 0.9622 - val_accuracy: 0.6831 - val_loss: 0.9631 - val_top_3_acc: 0.9314 - learning_rate: 6.2500e-06\n",
            "Epoch 65/70\n",
            "\u001b[1m76/77\u001b[0m \u001b[32m━━━━━━━━━━━━━━━━━━━\u001b[0m\u001b[37m━\u001b[0m \u001b[1m0s\u001b[0m 70ms/step - accuracy: 0.7519 - loss: 0.7932 - top_3_acc: 0.9554\n",
            "Epoch 65: val_accuracy did not improve from 0.68681\n",
            "\u001b[1m77/77\u001b[0m \u001b[32m━━━━━━━━━━━━━━━━━━━━\u001b[0m\u001b[37m\u001b[0m \u001b[1m6s\u001b[0m 74ms/step - accuracy: 0.7521 - loss: 0.7928 - top_3_acc: 0.9555 - val_accuracy: 0.6827 - val_loss: 0.9628 - val_top_3_acc: 0.9305 - learning_rate: 6.2500e-06\n",
            "Epoch 66/70\n",
            "\u001b[1m76/77\u001b[0m \u001b[32m━━━━━━━━━━━━━━━━━━━\u001b[0m\u001b[37m━\u001b[0m \u001b[1m0s\u001b[0m 70ms/step - accuracy: 0.7672 - loss: 0.7755 - top_3_acc: 0.9611\n",
            "Epoch 66: val_accuracy did not improve from 0.68681\n",
            "\u001b[1m77/77\u001b[0m \u001b[32m━━━━━━━━━━━━━━━━━━━━\u001b[0m\u001b[37m\u001b[0m \u001b[1m6s\u001b[0m 74ms/step - accuracy: 0.7673 - loss: 0.7751 - top_3_acc: 0.9612 - val_accuracy: 0.6852 - val_loss: 0.9601 - val_top_3_acc: 0.9305 - learning_rate: 6.2500e-06\n",
            "Epoch 67/70\n",
            "\u001b[1m76/77\u001b[0m \u001b[32m━━━━━━━━━━━━━━━━━━━\u001b[0m\u001b[37m━\u001b[0m \u001b[1m0s\u001b[0m 71ms/step - accuracy: 0.7594 - loss: 0.7911 - top_3_acc: 0.9590\n",
            "Epoch 67: val_accuracy did not improve from 0.68681\n",
            "\u001b[1m77/77\u001b[0m \u001b[32m━━━━━━━━━━━━━━━━━━━━\u001b[0m\u001b[37m\u001b[0m \u001b[1m6s\u001b[0m 74ms/step - accuracy: 0.7596 - loss: 0.7905 - top_3_acc: 0.9591 - val_accuracy: 0.6815 - val_loss: 0.9608 - val_top_3_acc: 0.9309 - learning_rate: 6.2500e-06\n",
            "Epoch 68/70\n",
            "\u001b[1m76/77\u001b[0m \u001b[32m━━━━━━━━━━━━━━━━━━━\u001b[0m\u001b[37m━\u001b[0m \u001b[1m0s\u001b[0m 70ms/step - accuracy: 0.7595 - loss: 0.7818 - top_3_acc: 0.9527\n",
            "Epoch 68: val_accuracy did not improve from 0.68681\n",
            "\u001b[1m77/77\u001b[0m \u001b[32m━━━━━━━━━━━━━━━━━━━━\u001b[0m\u001b[37m\u001b[0m \u001b[1m6s\u001b[0m 74ms/step - accuracy: 0.7598 - loss: 0.7813 - top_3_acc: 0.9528 - val_accuracy: 0.6819 - val_loss: 0.9586 - val_top_3_acc: 0.9309 - learning_rate: 6.2500e-06\n",
            "Epoch 69/70\n",
            "\u001b[1m76/77\u001b[0m \u001b[32m━━━━━━━━━━━━━━━━━━━\u001b[0m\u001b[37m━\u001b[0m \u001b[1m0s\u001b[0m 70ms/step - accuracy: 0.7606 - loss: 0.7714 - top_3_acc: 0.9603\n",
            "Epoch 69: val_accuracy did not improve from 0.68681\n",
            "\u001b[1m77/77\u001b[0m \u001b[32m━━━━━━━━━━━━━━━━━━━━\u001b[0m\u001b[37m\u001b[0m \u001b[1m6s\u001b[0m 74ms/step - accuracy: 0.7608 - loss: 0.7710 - top_3_acc: 0.9603 - val_accuracy: 0.6835 - val_loss: 0.9578 - val_top_3_acc: 0.9297 - learning_rate: 6.2500e-06\n",
            "Epoch 70/70\n",
            "\u001b[1m76/77\u001b[0m \u001b[32m━━━━━━━━━━━━━━━━━━━\u001b[0m\u001b[37m━\u001b[0m \u001b[1m0s\u001b[0m 71ms/step - accuracy: 0.7555 - loss: 0.7775 - top_3_acc: 0.9582\n",
            "Epoch 70: val_accuracy did not improve from 0.68681\n",
            "\u001b[1m77/77\u001b[0m \u001b[32m━━━━━━━━━━━━━━━━━━━━\u001b[0m\u001b[37m\u001b[0m \u001b[1m6s\u001b[0m 75ms/step - accuracy: 0.7558 - loss: 0.7770 - top_3_acc: 0.9583 - val_accuracy: 0.6839 - val_loss: 0.9566 - val_top_3_acc: 0.9305 - learning_rate: 6.2500e-06\n",
            "Restoring model weights from the end of the best epoch: 70.\n"
          ]
        }
      ],
      "source": [
        "# Train Zoe's model\n",
        "print(\"\\nTraining CNN in mfcc model...\")\n",
        "hist2 = model2.fit(\n",
        "    df_train,\n",
        "    validation_data=df_val,\n",
        "    epochs=70,\n",
        "    callbacks=callbacks2\n",
        ")"
      ]
    },
    {
      "cell_type": "code",
      "execution_count": 26,
      "metadata": {
        "colab": {
          "base_uri": "https://localhost:8080/",
          "height": 468
        },
        "id": "xaFGY44MSm8B",
        "outputId": "efa8ae1e-edad-4b0e-8722-f65482a70466"
      },
      "outputs": [
        {
          "data": {
            "image/png": "[encoded data removed]",
            "text/plain": [
              "<Figure size 1500x500 with 2 Axes>"
            ]
          },
          "metadata": {},
          "output_type": "display_data"
        }
      ],
      "source": [
        "# Plot Zoe's model training history\n",
        "plot_results(hist2)"
      ]
    },
    {
      "cell_type": "code",
      "execution_count": 27,
      "metadata": {
        "colab": {
          "base_uri": "https://localhost:8080/",
          "height": 1000
        },
        "id": "NceAQcPGSm-e",
        "outputId": "e7964cb7-4df6-4fea-c93a-b74a7b2d37ab"
      },
      "outputs": [
        {
          "data": {
            "image/png": "[encoded data removed]",
            "text/plain": [
              "<Figure size 1000x800 with 2 Axes>"
            ]
          },
          "metadata": {},
          "output_type": "display_data"
        },
        {
          "name": "stdout",
          "output_type": "stream",
          "text": [
            "\n",
            "Classification Report:\n",
            "              precision    recall  f1-score   support\n",
            "\n",
            "       angry       0.77      0.74      0.75       385\n",
            "     disgust       0.67      0.61      0.64       384\n",
            "        fear       0.65      0.61      0.63       385\n",
            "       happy       0.65      0.68      0.67       385\n",
            "     neutral       0.66      0.78      0.71       379\n",
            "         sad       0.63      0.61      0.62       385\n",
            "    surprise       0.89      0.93      0.91       130\n",
            "\n",
            "    accuracy                           0.68      2433\n",
            "   macro avg       0.70      0.71      0.70      2433\n",
            "weighted avg       0.68      0.68      0.68      2433\n",
            "\n"
          ]
        }
      ],
      "source": [
        "# Generate confusion matrix for Zoe's model\n",
        "y_true2, y_pred2, matrix2 = get_confusion_matrix(df_val, model2, title=\"CNN in mfcc based Model - Confusion Matrix\")"
      ]
    },
    {
      "cell_type": "code",
      "execution_count": 28,
      "metadata": {
        "colab": {
          "base_uri": "https://localhost:8080/"
        },
        "id": "NN-o9C9nSnAt",
        "outputId": "6367b257-ff40-46a2-f329-b628924d10f8"
      },
      "outputs": [
        {
          "name": "stdout",
          "output_type": "stream",
          "text": [
            "\n",
            "CNN in mfcc based model saved to: /content/drive/MyDrive/emotion_recognition_project/emotion_recognition_model2.keras\n"
          ]
        }
      ],
      "source": [
        "# Save Zoe's best model run\n",
        "model2_save_path = os.path.join(PROJECT_ROOT, \"emotion_recognition_model2.keras\")\n",
        "model2.save(model2_save_path)\n",
        "print(f\"\\nCNN in mfcc based model saved to: {model2_save_path}\")"
      ]
    },
    {
      "cell_type": "markdown",
      "metadata": {},
      "source": [
        "### Discussion\n",
        "This section evaluates the performance of deep CNN pipeline using the Log Mel Spectrogram feature extraction. \n",
        "### Key Results:\n",
        "- **Accuracy**: 68.39%\n",
        "- **Top 3 Accuracy**: 93.05%\n",
        "- **Feature Dimensionality**: 128*126\n",
        "- **Classifier**: Logistic Regression\n",
        "\n",
        "### Observations\n",
        "- Excellent performance on **surprise**, as observed from high precision (89%), recall (93%), and F1-score (91%), presumably due to the strong emotional intensity.\n",
        "- An overall F1 score of 70% indicates a moderate fairly uniform performance across most classes, avoiding extreme imbalances\n",
        "- **Fear** and **disgust** have F1 scores of 63-64%, meaning the model is underperforming and have confused these emotions with others\n",
        "\n",
        "### Takeaways\n",
        "This Log Mel Spectrogram based CNN has a solid performance across most emotion categories. Log Mel Spectrograms provide a rich time-frequency representation, but are typically treated as static 2D images in CNNs, which limits there ability to capture temporal dependencies. While the same model reached a validation accuracy of 70% on MFCC data, the valiation accuracy remains at 68.39% on Log Mel Spectrogram. This could stems from the fact that each Log Mel Spectrogram value is correlated and contains irrelevant information, and therefore is more prone to overfitting.\n"
      ]
    },
    {
      "cell_type": "markdown",
      "metadata": {},
      "source": []
    }
  ],
  "metadata": {
    "accelerator": "GPU",
    "colab": {
      "gpuType": "T4",
      "machine_shape": "hm",
      "provenance": []
    },
    "kernelspec": {
      "display_name": "Python 3",
      "name": "python3"
    },
    "language_info": {
      "name": "python"
    }
  },
  "nbformat": 4,
  "nbformat_minor": 0
}
