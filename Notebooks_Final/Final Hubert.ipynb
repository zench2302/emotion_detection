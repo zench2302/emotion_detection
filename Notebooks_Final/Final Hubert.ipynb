{
  "nbformat": 4,
  "nbformat_minor": 0,
  "metadata": {
    "colab": {
      "provenance": [],
      "machine_shape": "hm"
    },
    "kernelspec": {
      "name": "python3",
      "display_name": "Python 3"
    },
    "language_info": {
      "name": "python"
    },
    "widgets": {
      "application/vnd.jupyter.widget-state+json": {
        "e83e223e8eea4d9aac73410ffa15ee05": {
          "model_module": "@jupyter-widgets/controls",
          "model_name": "HBoxModel",
          "model_module_version": "1.5.0",
          "state": {
            "_dom_classes": [],
            "_model_module": "@jupyter-widgets/controls",
            "_model_module_version": "1.5.0",
            "_model_name": "HBoxModel",
            "_view_count": null,
            "_view_module": "@jupyter-widgets/controls",
            "_view_module_version": "1.5.0",
            "_view_name": "HBoxView",
            "box_style": "",
            "children": [
              "IPY_MODEL_23f5f41373b04b8db6acb6c3f2fa5cb3",
              "IPY_MODEL_98ae71b29b8e49d99d03a03452d976b2",
              "IPY_MODEL_d085f6e81520425eac00110e26cacbfa"
            ],
            "layout": "IPY_MODEL_ca8e86ed88f447bd90ebaa759183ee0f"
          }
        },
        "23f5f41373b04b8db6acb6c3f2fa5cb3": {
          "model_module": "@jupyter-widgets/controls",
          "model_name": "HTMLModel",
          "model_module_version": "1.5.0",
          "state": {
            "_dom_classes": [],
            "_model_module": "@jupyter-widgets/controls",
            "_model_module_version": "1.5.0",
            "_model_name": "HTMLModel",
            "_view_count": null,
            "_view_module": "@jupyter-widgets/controls",
            "_view_module_version": "1.5.0",
            "_view_name": "HTMLView",
            "description": "",
            "description_tooltip": null,
            "layout": "IPY_MODEL_6c73ee00fcc2474ab73470a87c9ae760",
            "placeholder": "​",
            "style": "IPY_MODEL_fbf40edaa0de48cea9fa584231dcaec7",
            "value": "config.json: 100%"
          }
        },
        "98ae71b29b8e49d99d03a03452d976b2": {
          "model_module": "@jupyter-widgets/controls",
          "model_name": "FloatProgressModel",
          "model_module_version": "1.5.0",
          "state": {
            "_dom_classes": [],
            "_model_module": "@jupyter-widgets/controls",
            "_model_module_version": "1.5.0",
            "_model_name": "FloatProgressModel",
            "_view_count": null,
            "_view_module": "@jupyter-widgets/controls",
            "_view_module_version": "1.5.0",
            "_view_name": "ProgressView",
            "bar_style": "success",
            "description": "",
            "description_tooltip": null,
            "layout": "IPY_MODEL_e06f3fcb47c24879bef9bd57dec45b75",
            "max": 1385,
            "min": 0,
            "orientation": "horizontal",
            "style": "IPY_MODEL_ced73b268ef24abca7733b219ba99387",
            "value": 1385
          }
        },
        "d085f6e81520425eac00110e26cacbfa": {
          "model_module": "@jupyter-widgets/controls",
          "model_name": "HTMLModel",
          "model_module_version": "1.5.0",
          "state": {
            "_dom_classes": [],
            "_model_module": "@jupyter-widgets/controls",
            "_model_module_version": "1.5.0",
            "_model_name": "HTMLModel",
            "_view_count": null,
            "_view_module": "@jupyter-widgets/controls",
            "_view_module_version": "1.5.0",
            "_view_name": "HTMLView",
            "description": "",
            "description_tooltip": null,
            "layout": "IPY_MODEL_f37a2003c3324509bb73a4bc2a9ffc50",
            "placeholder": "​",
            "style": "IPY_MODEL_0a6a2c749c944713b6697bffe85ac019",
            "value": " 1.39k/1.39k [00:00&lt;00:00, 185kB/s]"
          }
        },
        "ca8e86ed88f447bd90ebaa759183ee0f": {
          "model_module": "@jupyter-widgets/base",
          "model_name": "LayoutModel",
          "model_module_version": "1.2.0",
          "state": {
            "_model_module": "@jupyter-widgets/base",
            "_model_module_version": "1.2.0",
            "_model_name": "LayoutModel",
            "_view_count": null,
            "_view_module": "@jupyter-widgets/base",
            "_view_module_version": "1.2.0",
            "_view_name": "LayoutView",
            "align_content": null,
            "align_items": null,
            "align_self": null,
            "border": null,
            "bottom": null,
            "display": null,
            "flex": null,
            "flex_flow": null,
            "grid_area": null,
            "grid_auto_columns": null,
            "grid_auto_flow": null,
            "grid_auto_rows": null,
            "grid_column": null,
            "grid_gap": null,
            "grid_row": null,
            "grid_template_areas": null,
            "grid_template_columns": null,
            "grid_template_rows": null,
            "height": null,
            "justify_content": null,
            "justify_items": null,
            "left": null,
            "margin": null,
            "max_height": null,
            "max_width": null,
            "min_height": null,
            "min_width": null,
            "object_fit": null,
            "object_position": null,
            "order": null,
            "overflow": null,
            "overflow_x": null,
            "overflow_y": null,
            "padding": null,
            "right": null,
            "top": null,
            "visibility": null,
            "width": null
          }
        },
        "6c73ee00fcc2474ab73470a87c9ae760": {
          "model_module": "@jupyter-widgets/base",
          "model_name": "LayoutModel",
          "model_module_version": "1.2.0",
          "state": {
            "_model_module": "@jupyter-widgets/base",
            "_model_module_version": "1.2.0",
            "_model_name": "LayoutModel",
            "_view_count": null,
            "_view_module": "@jupyter-widgets/base",
            "_view_module_version": "1.2.0",
            "_view_name": "LayoutView",
            "align_content": null,
            "align_items": null,
            "align_self": null,
            "border": null,
            "bottom": null,
            "display": null,
            "flex": null,
            "flex_flow": null,
            "grid_area": null,
            "grid_auto_columns": null,
            "grid_auto_flow": null,
            "grid_auto_rows": null,
            "grid_column": null,
            "grid_gap": null,
            "grid_row": null,
            "grid_template_areas": null,
            "grid_template_columns": null,
            "grid_template_rows": null,
            "height": null,
            "justify_content": null,
            "justify_items": null,
            "left": null,
            "margin": null,
            "max_height": null,
            "max_width": null,
            "min_height": null,
            "min_width": null,
            "object_fit": null,
            "object_position": null,
            "order": null,
            "overflow": null,
            "overflow_x": null,
            "overflow_y": null,
            "padding": null,
            "right": null,
            "top": null,
            "visibility": null,
            "width": null
          }
        },
        "fbf40edaa0de48cea9fa584231dcaec7": {
          "model_module": "@jupyter-widgets/controls",
          "model_name": "DescriptionStyleModel",
          "model_module_version": "1.5.0",
          "state": {
            "_model_module": "@jupyter-widgets/controls",
            "_model_module_version": "1.5.0",
            "_model_name": "DescriptionStyleModel",
            "_view_count": null,
            "_view_module": "@jupyter-widgets/base",
            "_view_module_version": "1.2.0",
            "_view_name": "StyleView",
            "description_width": ""
          }
        },
        "e06f3fcb47c24879bef9bd57dec45b75": {
          "model_module": "@jupyter-widgets/base",
          "model_name": "LayoutModel",
          "model_module_version": "1.2.0",
          "state": {
            "_model_module": "@jupyter-widgets/base",
            "_model_module_version": "1.2.0",
            "_model_name": "LayoutModel",
            "_view_count": null,
            "_view_module": "@jupyter-widgets/base",
            "_view_module_version": "1.2.0",
            "_view_name": "LayoutView",
            "align_content": null,
            "align_items": null,
            "align_self": null,
            "border": null,
            "bottom": null,
            "display": null,
            "flex": null,
            "flex_flow": null,
            "grid_area": null,
            "grid_auto_columns": null,
            "grid_auto_flow": null,
            "grid_auto_rows": null,
            "grid_column": null,
            "grid_gap": null,
            "grid_row": null,
            "grid_template_areas": null,
            "grid_template_columns": null,
            "grid_template_rows": null,
            "height": null,
            "justify_content": null,
            "justify_items": null,
            "left": null,
            "margin": null,
            "max_height": null,
            "max_width": null,
            "min_height": null,
            "min_width": null,
            "object_fit": null,
            "object_position": null,
            "order": null,
            "overflow": null,
            "overflow_x": null,
            "overflow_y": null,
            "padding": null,
            "right": null,
            "top": null,
            "visibility": null,
            "width": null
          }
        },
        "ced73b268ef24abca7733b219ba99387": {
          "model_module": "@jupyter-widgets/controls",
          "model_name": "ProgressStyleModel",
          "model_module_version": "1.5.0",
          "state": {
            "_model_module": "@jupyter-widgets/controls",
            "_model_module_version": "1.5.0",
            "_model_name": "ProgressStyleModel",
            "_view_count": null,
            "_view_module": "@jupyter-widgets/base",
            "_view_module_version": "1.2.0",
            "_view_name": "StyleView",
            "bar_color": null,
            "description_width": ""
          }
        },
        "f37a2003c3324509bb73a4bc2a9ffc50": {
          "model_module": "@jupyter-widgets/base",
          "model_name": "LayoutModel",
          "model_module_version": "1.2.0",
          "state": {
            "_model_module": "@jupyter-widgets/base",
            "_model_module_version": "1.2.0",
            "_model_name": "LayoutModel",
            "_view_count": null,
            "_view_module": "@jupyter-widgets/base",
            "_view_module_version": "1.2.0",
            "_view_name": "LayoutView",
            "align_content": null,
            "align_items": null,
            "align_self": null,
            "border": null,
            "bottom": null,
            "display": null,
            "flex": null,
            "flex_flow": null,
            "grid_area": null,
            "grid_auto_columns": null,
            "grid_auto_flow": null,
            "grid_auto_rows": null,
            "grid_column": null,
            "grid_gap": null,
            "grid_row": null,
            "grid_template_areas": null,
            "grid_template_columns": null,
            "grid_template_rows": null,
            "height": null,
            "justify_content": null,
            "justify_items": null,
            "left": null,
            "margin": null,
            "max_height": null,
            "max_width": null,
            "min_height": null,
            "min_width": null,
            "object_fit": null,
            "object_position": null,
            "order": null,
            "overflow": null,
            "overflow_x": null,
            "overflow_y": null,
            "padding": null,
            "right": null,
            "top": null,
            "visibility": null,
            "width": null
          }
        },
        "0a6a2c749c944713b6697bffe85ac019": {
          "model_module": "@jupyter-widgets/controls",
          "model_name": "DescriptionStyleModel",
          "model_module_version": "1.5.0",
          "state": {
            "_model_module": "@jupyter-widgets/controls",
            "_model_module_version": "1.5.0",
            "_model_name": "DescriptionStyleModel",
            "_view_count": null,
            "_view_module": "@jupyter-widgets/base",
            "_view_module_version": "1.2.0",
            "_view_name": "StyleView",
            "description_width": ""
          }
        },
        "f7a1df41cc3f4ee09c1fd3d0533cd364": {
          "model_module": "@jupyter-widgets/controls",
          "model_name": "HBoxModel",
          "model_module_version": "1.5.0",
          "state": {
            "_dom_classes": [],
            "_model_module": "@jupyter-widgets/controls",
            "_model_module_version": "1.5.0",
            "_model_name": "HBoxModel",
            "_view_count": null,
            "_view_module": "@jupyter-widgets/controls",
            "_view_module_version": "1.5.0",
            "_view_name": "HBoxView",
            "box_style": "",
            "children": [
              "IPY_MODEL_4c46374d47ff47fea00e0f0ebbaab49b",
              "IPY_MODEL_5855fdfb7ca7409483a4bf0d971c1e21",
              "IPY_MODEL_e068bf0c53434d35bac7b99474cc835f"
            ],
            "layout": "IPY_MODEL_758f4f1e10e74429bf40f63dccfc96df"
          }
        },
        "4c46374d47ff47fea00e0f0ebbaab49b": {
          "model_module": "@jupyter-widgets/controls",
          "model_name": "HTMLModel",
          "model_module_version": "1.5.0",
          "state": {
            "_dom_classes": [],
            "_model_module": "@jupyter-widgets/controls",
            "_model_module_version": "1.5.0",
            "_model_name": "HTMLModel",
            "_view_count": null,
            "_view_module": "@jupyter-widgets/controls",
            "_view_module_version": "1.5.0",
            "_view_name": "HTMLView",
            "description": "",
            "description_tooltip": null,
            "layout": "IPY_MODEL_1c2ab7a0be2b45e29a17318f3ae5f03e",
            "placeholder": "​",
            "style": "IPY_MODEL_9c0270d79d504d90b83b936e70e70c16",
            "value": "pytorch_model.bin: 100%"
          }
        },
        "5855fdfb7ca7409483a4bf0d971c1e21": {
          "model_module": "@jupyter-widgets/controls",
          "model_name": "FloatProgressModel",
          "model_module_version": "1.5.0",
          "state": {
            "_dom_classes": [],
            "_model_module": "@jupyter-widgets/controls",
            "_model_module_version": "1.5.0",
            "_model_name": "FloatProgressModel",
            "_view_count": null,
            "_view_module": "@jupyter-widgets/controls",
            "_view_module_version": "1.5.0",
            "_view_name": "ProgressView",
            "bar_style": "success",
            "description": "",
            "description_tooltip": null,
            "layout": "IPY_MODEL_2b1a2fd730c44c7dbe8c55cf96a6c0e9",
            "max": 377569754,
            "min": 0,
            "orientation": "horizontal",
            "style": "IPY_MODEL_8bd597bb7ca1497aa40839401cd68b83",
            "value": 377569754
          }
        },
        "e068bf0c53434d35bac7b99474cc835f": {
          "model_module": "@jupyter-widgets/controls",
          "model_name": "HTMLModel",
          "model_module_version": "1.5.0",
          "state": {
            "_dom_classes": [],
            "_model_module": "@jupyter-widgets/controls",
            "_model_module_version": "1.5.0",
            "_model_name": "HTMLModel",
            "_view_count": null,
            "_view_module": "@jupyter-widgets/controls",
            "_view_module_version": "1.5.0",
            "_view_name": "HTMLView",
            "description": "",
            "description_tooltip": null,
            "layout": "IPY_MODEL_b687b3d8e9f3438ebb49e2c9ff833335",
            "placeholder": "​",
            "style": "IPY_MODEL_c22ff60e29624ab5ae2ed9e64b1e27bc",
            "value": " 378M/378M [00:01&lt;00:00, 449MB/s]"
          }
        },
        "758f4f1e10e74429bf40f63dccfc96df": {
          "model_module": "@jupyter-widgets/base",
          "model_name": "LayoutModel",
          "model_module_version": "1.2.0",
          "state": {
            "_model_module": "@jupyter-widgets/base",
            "_model_module_version": "1.2.0",
            "_model_name": "LayoutModel",
            "_view_count": null,
            "_view_module": "@jupyter-widgets/base",
            "_view_module_version": "1.2.0",
            "_view_name": "LayoutView",
            "align_content": null,
            "align_items": null,
            "align_self": null,
            "border": null,
            "bottom": null,
            "display": null,
            "flex": null,
            "flex_flow": null,
            "grid_area": null,
            "grid_auto_columns": null,
            "grid_auto_flow": null,
            "grid_auto_rows": null,
            "grid_column": null,
            "grid_gap": null,
            "grid_row": null,
            "grid_template_areas": null,
            "grid_template_columns": null,
            "grid_template_rows": null,
            "height": null,
            "justify_content": null,
            "justify_items": null,
            "left": null,
            "margin": null,
            "max_height": null,
            "max_width": null,
            "min_height": null,
            "min_width": null,
            "object_fit": null,
            "object_position": null,
            "order": null,
            "overflow": null,
            "overflow_x": null,
            "overflow_y": null,
            "padding": null,
            "right": null,
            "top": null,
            "visibility": null,
            "width": null
          }
        },
        "1c2ab7a0be2b45e29a17318f3ae5f03e": {
          "model_module": "@jupyter-widgets/base",
          "model_name": "LayoutModel",
          "model_module_version": "1.2.0",
          "state": {
            "_model_module": "@jupyter-widgets/base",
            "_model_module_version": "1.2.0",
            "_model_name": "LayoutModel",
            "_view_count": null,
            "_view_module": "@jupyter-widgets/base",
            "_view_module_version": "1.2.0",
            "_view_name": "LayoutView",
            "align_content": null,
            "align_items": null,
            "align_self": null,
            "border": null,
            "bottom": null,
            "display": null,
            "flex": null,
            "flex_flow": null,
            "grid_area": null,
            "grid_auto_columns": null,
            "grid_auto_flow": null,
            "grid_auto_rows": null,
            "grid_column": null,
            "grid_gap": null,
            "grid_row": null,
            "grid_template_areas": null,
            "grid_template_columns": null,
            "grid_template_rows": null,
            "height": null,
            "justify_content": null,
            "justify_items": null,
            "left": null,
            "margin": null,
            "max_height": null,
            "max_width": null,
            "min_height": null,
            "min_width": null,
            "object_fit": null,
            "object_position": null,
            "order": null,
            "overflow": null,
            "overflow_x": null,
            "overflow_y": null,
            "padding": null,
            "right": null,
            "top": null,
            "visibility": null,
            "width": null
          }
        },
        "9c0270d79d504d90b83b936e70e70c16": {
          "model_module": "@jupyter-widgets/controls",
          "model_name": "DescriptionStyleModel",
          "model_module_version": "1.5.0",
          "state": {
            "_model_module": "@jupyter-widgets/controls",
            "_model_module_version": "1.5.0",
            "_model_name": "DescriptionStyleModel",
            "_view_count": null,
            "_view_module": "@jupyter-widgets/base",
            "_view_module_version": "1.2.0",
            "_view_name": "StyleView",
            "description_width": ""
          }
        },
        "2b1a2fd730c44c7dbe8c55cf96a6c0e9": {
          "model_module": "@jupyter-widgets/base",
          "model_name": "LayoutModel",
          "model_module_version": "1.2.0",
          "state": {
            "_model_module": "@jupyter-widgets/base",
            "_model_module_version": "1.2.0",
            "_model_name": "LayoutModel",
            "_view_count": null,
            "_view_module": "@jupyter-widgets/base",
            "_view_module_version": "1.2.0",
            "_view_name": "LayoutView",
            "align_content": null,
            "align_items": null,
            "align_self": null,
            "border": null,
            "bottom": null,
            "display": null,
            "flex": null,
            "flex_flow": null,
            "grid_area": null,
            "grid_auto_columns": null,
            "grid_auto_flow": null,
            "grid_auto_rows": null,
            "grid_column": null,
            "grid_gap": null,
            "grid_row": null,
            "grid_template_areas": null,
            "grid_template_columns": null,
            "grid_template_rows": null,
            "height": null,
            "justify_content": null,
            "justify_items": null,
            "left": null,
            "margin": null,
            "max_height": null,
            "max_width": null,
            "min_height": null,
            "min_width": null,
            "object_fit": null,
            "object_position": null,
            "order": null,
            "overflow": null,
            "overflow_x": null,
            "overflow_y": null,
            "padding": null,
            "right": null,
            "top": null,
            "visibility": null,
            "width": null
          }
        },
        "8bd597bb7ca1497aa40839401cd68b83": {
          "model_module": "@jupyter-widgets/controls",
          "model_name": "ProgressStyleModel",
          "model_module_version": "1.5.0",
          "state": {
            "_model_module": "@jupyter-widgets/controls",
            "_model_module_version": "1.5.0",
            "_model_name": "ProgressStyleModel",
            "_view_count": null,
            "_view_module": "@jupyter-widgets/base",
            "_view_module_version": "1.2.0",
            "_view_name": "StyleView",
            "bar_color": null,
            "description_width": ""
          }
        },
        "b687b3d8e9f3438ebb49e2c9ff833335": {
          "model_module": "@jupyter-widgets/base",
          "model_name": "LayoutModel",
          "model_module_version": "1.2.0",
          "state": {
            "_model_module": "@jupyter-widgets/base",
            "_model_module_version": "1.2.0",
            "_model_name": "LayoutModel",
            "_view_count": null,
            "_view_module": "@jupyter-widgets/base",
            "_view_module_version": "1.2.0",
            "_view_name": "LayoutView",
            "align_content": null,
            "align_items": null,
            "align_self": null,
            "border": null,
            "bottom": null,
            "display": null,
            "flex": null,
            "flex_flow": null,
            "grid_area": null,
            "grid_auto_columns": null,
            "grid_auto_flow": null,
            "grid_auto_rows": null,
            "grid_column": null,
            "grid_gap": null,
            "grid_row": null,
            "grid_template_areas": null,
            "grid_template_columns": null,
            "grid_template_rows": null,
            "height": null,
            "justify_content": null,
            "justify_items": null,
            "left": null,
            "margin": null,
            "max_height": null,
            "max_width": null,
            "min_height": null,
            "min_width": null,
            "object_fit": null,
            "object_position": null,
            "order": null,
            "overflow": null,
            "overflow_x": null,
            "overflow_y": null,
            "padding": null,
            "right": null,
            "top": null,
            "visibility": null,
            "width": null
          }
        },
        "c22ff60e29624ab5ae2ed9e64b1e27bc": {
          "model_module": "@jupyter-widgets/controls",
          "model_name": "DescriptionStyleModel",
          "model_module_version": "1.5.0",
          "state": {
            "_model_module": "@jupyter-widgets/controls",
            "_model_module_version": "1.5.0",
            "_model_name": "DescriptionStyleModel",
            "_view_count": null,
            "_view_module": "@jupyter-widgets/base",
            "_view_module_version": "1.2.0",
            "_view_name": "StyleView",
            "description_width": ""
          }
        },
        "d200decbca054d0db1567e0f02db5e5b": {
          "model_module": "@jupyter-widgets/controls",
          "model_name": "HBoxModel",
          "model_module_version": "1.5.0",
          "state": {
            "_dom_classes": [],
            "_model_module": "@jupyter-widgets/controls",
            "_model_module_version": "1.5.0",
            "_model_name": "HBoxModel",
            "_view_count": null,
            "_view_module": "@jupyter-widgets/controls",
            "_view_module_version": "1.5.0",
            "_view_name": "HBoxView",
            "box_style": "",
            "children": [
              "IPY_MODEL_d19d33e68ca346d28c0260fefbff029d",
              "IPY_MODEL_babfb95f9090498188dfa6d18da31e08",
              "IPY_MODEL_75a0c99052d445d991612889eb58256c"
            ],
            "layout": "IPY_MODEL_f0091492cf5e4338bcdda513bd18bf87"
          }
        },
        "d19d33e68ca346d28c0260fefbff029d": {
          "model_module": "@jupyter-widgets/controls",
          "model_name": "HTMLModel",
          "model_module_version": "1.5.0",
          "state": {
            "_dom_classes": [],
            "_model_module": "@jupyter-widgets/controls",
            "_model_module_version": "1.5.0",
            "_model_name": "HTMLModel",
            "_view_count": null,
            "_view_module": "@jupyter-widgets/controls",
            "_view_module_version": "1.5.0",
            "_view_name": "HTMLView",
            "description": "",
            "description_tooltip": null,
            "layout": "IPY_MODEL_6f17287c30ad4926b4a42909056f41c9",
            "placeholder": "​",
            "style": "IPY_MODEL_48be162710db471490fa494965b8b4d8",
            "value": "preprocessor_config.json: 100%"
          }
        },
        "babfb95f9090498188dfa6d18da31e08": {
          "model_module": "@jupyter-widgets/controls",
          "model_name": "FloatProgressModel",
          "model_module_version": "1.5.0",
          "state": {
            "_dom_classes": [],
            "_model_module": "@jupyter-widgets/controls",
            "_model_module_version": "1.5.0",
            "_model_name": "FloatProgressModel",
            "_view_count": null,
            "_view_module": "@jupyter-widgets/controls",
            "_view_module_version": "1.5.0",
            "_view_name": "ProgressView",
            "bar_style": "success",
            "description": "",
            "description_tooltip": null,
            "layout": "IPY_MODEL_8e48eb0993734b559e7d57378eb85243",
            "max": 213,
            "min": 0,
            "orientation": "horizontal",
            "style": "IPY_MODEL_5f710537757c4e76a0f9a63ccfbcd093",
            "value": 213
          }
        },
        "75a0c99052d445d991612889eb58256c": {
          "model_module": "@jupyter-widgets/controls",
          "model_name": "HTMLModel",
          "model_module_version": "1.5.0",
          "state": {
            "_dom_classes": [],
            "_model_module": "@jupyter-widgets/controls",
            "_model_module_version": "1.5.0",
            "_model_name": "HTMLModel",
            "_view_count": null,
            "_view_module": "@jupyter-widgets/controls",
            "_view_module_version": "1.5.0",
            "_view_name": "HTMLView",
            "description": "",
            "description_tooltip": null,
            "layout": "IPY_MODEL_92ff63d69854464880db6029fbf7ea80",
            "placeholder": "​",
            "style": "IPY_MODEL_b9521d147d604e6582f7f1195fb1a860",
            "value": " 213/213 [00:00&lt;00:00, 30.3kB/s]"
          }
        },
        "f0091492cf5e4338bcdda513bd18bf87": {
          "model_module": "@jupyter-widgets/base",
          "model_name": "LayoutModel",
          "model_module_version": "1.2.0",
          "state": {
            "_model_module": "@jupyter-widgets/base",
            "_model_module_version": "1.2.0",
            "_model_name": "LayoutModel",
            "_view_count": null,
            "_view_module": "@jupyter-widgets/base",
            "_view_module_version": "1.2.0",
            "_view_name": "LayoutView",
            "align_content": null,
            "align_items": null,
            "align_self": null,
            "border": null,
            "bottom": null,
            "display": null,
            "flex": null,
            "flex_flow": null,
            "grid_area": null,
            "grid_auto_columns": null,
            "grid_auto_flow": null,
            "grid_auto_rows": null,
            "grid_column": null,
            "grid_gap": null,
            "grid_row": null,
            "grid_template_areas": null,
            "grid_template_columns": null,
            "grid_template_rows": null,
            "height": null,
            "justify_content": null,
            "justify_items": null,
            "left": null,
            "margin": null,
            "max_height": null,
            "max_width": null,
            "min_height": null,
            "min_width": null,
            "object_fit": null,
            "object_position": null,
            "order": null,
            "overflow": null,
            "overflow_x": null,
            "overflow_y": null,
            "padding": null,
            "right": null,
            "top": null,
            "visibility": null,
            "width": null
          }
        },
        "6f17287c30ad4926b4a42909056f41c9": {
          "model_module": "@jupyter-widgets/base",
          "model_name": "LayoutModel",
          "model_module_version": "1.2.0",
          "state": {
            "_model_module": "@jupyter-widgets/base",
            "_model_module_version": "1.2.0",
            "_model_name": "LayoutModel",
            "_view_count": null,
            "_view_module": "@jupyter-widgets/base",
            "_view_module_version": "1.2.0",
            "_view_name": "LayoutView",
            "align_content": null,
            "align_items": null,
            "align_self": null,
            "border": null,
            "bottom": null,
            "display": null,
            "flex": null,
            "flex_flow": null,
            "grid_area": null,
            "grid_auto_columns": null,
            "grid_auto_flow": null,
            "grid_auto_rows": null,
            "grid_column": null,
            "grid_gap": null,
            "grid_row": null,
            "grid_template_areas": null,
            "grid_template_columns": null,
            "grid_template_rows": null,
            "height": null,
            "justify_content": null,
            "justify_items": null,
            "left": null,
            "margin": null,
            "max_height": null,
            "max_width": null,
            "min_height": null,
            "min_width": null,
            "object_fit": null,
            "object_position": null,
            "order": null,
            "overflow": null,
            "overflow_x": null,
            "overflow_y": null,
            "padding": null,
            "right": null,
            "top": null,
            "visibility": null,
            "width": null
          }
        },
        "48be162710db471490fa494965b8b4d8": {
          "model_module": "@jupyter-widgets/controls",
          "model_name": "DescriptionStyleModel",
          "model_module_version": "1.5.0",
          "state": {
            "_model_module": "@jupyter-widgets/controls",
            "_model_module_version": "1.5.0",
            "_model_name": "DescriptionStyleModel",
            "_view_count": null,
            "_view_module": "@jupyter-widgets/base",
            "_view_module_version": "1.2.0",
            "_view_name": "StyleView",
            "description_width": ""
          }
        },
        "8e48eb0993734b559e7d57378eb85243": {
          "model_module": "@jupyter-widgets/base",
          "model_name": "LayoutModel",
          "model_module_version": "1.2.0",
          "state": {
            "_model_module": "@jupyter-widgets/base",
            "_model_module_version": "1.2.0",
            "_model_name": "LayoutModel",
            "_view_count": null,
            "_view_module": "@jupyter-widgets/base",
            "_view_module_version": "1.2.0",
            "_view_name": "LayoutView",
            "align_content": null,
            "align_items": null,
            "align_self": null,
            "border": null,
            "bottom": null,
            "display": null,
            "flex": null,
            "flex_flow": null,
            "grid_area": null,
            "grid_auto_columns": null,
            "grid_auto_flow": null,
            "grid_auto_rows": null,
            "grid_column": null,
            "grid_gap": null,
            "grid_row": null,
            "grid_template_areas": null,
            "grid_template_columns": null,
            "grid_template_rows": null,
            "height": null,
            "justify_content": null,
            "justify_items": null,
            "left": null,
            "margin": null,
            "max_height": null,
            "max_width": null,
            "min_height": null,
            "min_width": null,
            "object_fit": null,
            "object_position": null,
            "order": null,
            "overflow": null,
            "overflow_x": null,
            "overflow_y": null,
            "padding": null,
            "right": null,
            "top": null,
            "visibility": null,
            "width": null
          }
        },
        "5f710537757c4e76a0f9a63ccfbcd093": {
          "model_module": "@jupyter-widgets/controls",
          "model_name": "ProgressStyleModel",
          "model_module_version": "1.5.0",
          "state": {
            "_model_module": "@jupyter-widgets/controls",
            "_model_module_version": "1.5.0",
            "_model_name": "ProgressStyleModel",
            "_view_count": null,
            "_view_module": "@jupyter-widgets/base",
            "_view_module_version": "1.2.0",
            "_view_name": "StyleView",
            "bar_color": null,
            "description_width": ""
          }
        },
        "92ff63d69854464880db6029fbf7ea80": {
          "model_module": "@jupyter-widgets/base",
          "model_name": "LayoutModel",
          "model_module_version": "1.2.0",
          "state": {
            "_model_module": "@jupyter-widgets/base",
            "_model_module_version": "1.2.0",
            "_model_name": "LayoutModel",
            "_view_count": null,
            "_view_module": "@jupyter-widgets/base",
            "_view_module_version": "1.2.0",
            "_view_name": "LayoutView",
            "align_content": null,
            "align_items": null,
            "align_self": null,
            "border": null,
            "bottom": null,
            "display": null,
            "flex": null,
            "flex_flow": null,
            "grid_area": null,
            "grid_auto_columns": null,
            "grid_auto_flow": null,
            "grid_auto_rows": null,
            "grid_column": null,
            "grid_gap": null,
            "grid_row": null,
            "grid_template_areas": null,
            "grid_template_columns": null,
            "grid_template_rows": null,
            "height": null,
            "justify_content": null,
            "justify_items": null,
            "left": null,
            "margin": null,
            "max_height": null,
            "max_width": null,
            "min_height": null,
            "min_width": null,
            "object_fit": null,
            "object_position": null,
            "order": null,
            "overflow": null,
            "overflow_x": null,
            "overflow_y": null,
            "padding": null,
            "right": null,
            "top": null,
            "visibility": null,
            "width": null
          }
        },
        "b9521d147d604e6582f7f1195fb1a860": {
          "model_module": "@jupyter-widgets/controls",
          "model_name": "DescriptionStyleModel",
          "model_module_version": "1.5.0",
          "state": {
            "_model_module": "@jupyter-widgets/controls",
            "_model_module_version": "1.5.0",
            "_model_name": "DescriptionStyleModel",
            "_view_count": null,
            "_view_module": "@jupyter-widgets/base",
            "_view_module_version": "1.2.0",
            "_view_name": "StyleView",
            "description_width": ""
          }
        },
        "8e9bb3a222be472397a1d4194373fe1f": {
          "model_module": "@jupyter-widgets/controls",
          "model_name": "HBoxModel",
          "model_module_version": "1.5.0",
          "state": {
            "_dom_classes": [],
            "_model_module": "@jupyter-widgets/controls",
            "_model_module_version": "1.5.0",
            "_model_name": "HBoxModel",
            "_view_count": null,
            "_view_module": "@jupyter-widgets/controls",
            "_view_module_version": "1.5.0",
            "_view_name": "HBoxView",
            "box_style": "",
            "children": [
              "IPY_MODEL_b2efba2b15ba43e39452f81ace7618e0",
              "IPY_MODEL_735600ada79341119d8157a0f561a67d",
              "IPY_MODEL_2ae138bf22504a9dba119d7c1317a185"
            ],
            "layout": "IPY_MODEL_82bcd33f62494a54bad89955462cc165"
          }
        },
        "b2efba2b15ba43e39452f81ace7618e0": {
          "model_module": "@jupyter-widgets/controls",
          "model_name": "HTMLModel",
          "model_module_version": "1.5.0",
          "state": {
            "_dom_classes": [],
            "_model_module": "@jupyter-widgets/controls",
            "_model_module_version": "1.5.0",
            "_model_name": "HTMLModel",
            "_view_count": null,
            "_view_module": "@jupyter-widgets/controls",
            "_view_module_version": "1.5.0",
            "_view_name": "HTMLView",
            "description": "",
            "description_tooltip": null,
            "layout": "IPY_MODEL_c2af834ab06b4dc4beaec92054785641",
            "placeholder": "​",
            "style": "IPY_MODEL_84e0397e40184303930078370f2f07c6",
            "value": "model.safetensors: 100%"
          }
        },
        "735600ada79341119d8157a0f561a67d": {
          "model_module": "@jupyter-widgets/controls",
          "model_name": "FloatProgressModel",
          "model_module_version": "1.5.0",
          "state": {
            "_dom_classes": [],
            "_model_module": "@jupyter-widgets/controls",
            "_model_module_version": "1.5.0",
            "_model_name": "FloatProgressModel",
            "_view_count": null,
            "_view_module": "@jupyter-widgets/controls",
            "_view_module_version": "1.5.0",
            "_view_name": "ProgressView",
            "bar_style": "success",
            "description": "",
            "description_tooltip": null,
            "layout": "IPY_MODEL_db3ce992597e4e3387fc826def725a87",
            "max": 377510580,
            "min": 0,
            "orientation": "horizontal",
            "style": "IPY_MODEL_2b5d53c9382d4d5384d37b4d1c575ec3",
            "value": 377510580
          }
        },
        "2ae138bf22504a9dba119d7c1317a185": {
          "model_module": "@jupyter-widgets/controls",
          "model_name": "HTMLModel",
          "model_module_version": "1.5.0",
          "state": {
            "_dom_classes": [],
            "_model_module": "@jupyter-widgets/controls",
            "_model_module_version": "1.5.0",
            "_model_name": "HTMLModel",
            "_view_count": null,
            "_view_module": "@jupyter-widgets/controls",
            "_view_module_version": "1.5.0",
            "_view_name": "HTMLView",
            "description": "",
            "description_tooltip": null,
            "layout": "IPY_MODEL_42c4e011348545b1833c194c1625218e",
            "placeholder": "​",
            "style": "IPY_MODEL_1cbd2f1aadfa483cbf784fa4adf8116b",
            "value": " 378M/378M [00:01&lt;00:00, 372MB/s]"
          }
        },
        "82bcd33f62494a54bad89955462cc165": {
          "model_module": "@jupyter-widgets/base",
          "model_name": "LayoutModel",
          "model_module_version": "1.2.0",
          "state": {
            "_model_module": "@jupyter-widgets/base",
            "_model_module_version": "1.2.0",
            "_model_name": "LayoutModel",
            "_view_count": null,
            "_view_module": "@jupyter-widgets/base",
            "_view_module_version": "1.2.0",
            "_view_name": "LayoutView",
            "align_content": null,
            "align_items": null,
            "align_self": null,
            "border": null,
            "bottom": null,
            "display": null,
            "flex": null,
            "flex_flow": null,
            "grid_area": null,
            "grid_auto_columns": null,
            "grid_auto_flow": null,
            "grid_auto_rows": null,
            "grid_column": null,
            "grid_gap": null,
            "grid_row": null,
            "grid_template_areas": null,
            "grid_template_columns": null,
            "grid_template_rows": null,
            "height": null,
            "justify_content": null,
            "justify_items": null,
            "left": null,
            "margin": null,
            "max_height": null,
            "max_width": null,
            "min_height": null,
            "min_width": null,
            "object_fit": null,
            "object_position": null,
            "order": null,
            "overflow": null,
            "overflow_x": null,
            "overflow_y": null,
            "padding": null,
            "right": null,
            "top": null,
            "visibility": null,
            "width": null
          }
        },
        "c2af834ab06b4dc4beaec92054785641": {
          "model_module": "@jupyter-widgets/base",
          "model_name": "LayoutModel",
          "model_module_version": "1.2.0",
          "state": {
            "_model_module": "@jupyter-widgets/base",
            "_model_module_version": "1.2.0",
            "_model_name": "LayoutModel",
            "_view_count": null,
            "_view_module": "@jupyter-widgets/base",
            "_view_module_version": "1.2.0",
            "_view_name": "LayoutView",
            "align_content": null,
            "align_items": null,
            "align_self": null,
            "border": null,
            "bottom": null,
            "display": null,
            "flex": null,
            "flex_flow": null,
            "grid_area": null,
            "grid_auto_columns": null,
            "grid_auto_flow": null,
            "grid_auto_rows": null,
            "grid_column": null,
            "grid_gap": null,
            "grid_row": null,
            "grid_template_areas": null,
            "grid_template_columns": null,
            "grid_template_rows": null,
            "height": null,
            "justify_content": null,
            "justify_items": null,
            "left": null,
            "margin": null,
            "max_height": null,
            "max_width": null,
            "min_height": null,
            "min_width": null,
            "object_fit": null,
            "object_position": null,
            "order": null,
            "overflow": null,
            "overflow_x": null,
            "overflow_y": null,
            "padding": null,
            "right": null,
            "top": null,
            "visibility": null,
            "width": null
          }
        },
        "84e0397e40184303930078370f2f07c6": {
          "model_module": "@jupyter-widgets/controls",
          "model_name": "DescriptionStyleModel",
          "model_module_version": "1.5.0",
          "state": {
            "_model_module": "@jupyter-widgets/controls",
            "_model_module_version": "1.5.0",
            "_model_name": "DescriptionStyleModel",
            "_view_count": null,
            "_view_module": "@jupyter-widgets/base",
            "_view_module_version": "1.2.0",
            "_view_name": "StyleView",
            "description_width": ""
          }
        },
        "db3ce992597e4e3387fc826def725a87": {
          "model_module": "@jupyter-widgets/base",
          "model_name": "LayoutModel",
          "model_module_version": "1.2.0",
          "state": {
            "_model_module": "@jupyter-widgets/base",
            "_model_module_version": "1.2.0",
            "_model_name": "LayoutModel",
            "_view_count": null,
            "_view_module": "@jupyter-widgets/base",
            "_view_module_version": "1.2.0",
            "_view_name": "LayoutView",
            "align_content": null,
            "align_items": null,
            "align_self": null,
            "border": null,
            "bottom": null,
            "display": null,
            "flex": null,
            "flex_flow": null,
            "grid_area": null,
            "grid_auto_columns": null,
            "grid_auto_flow": null,
            "grid_auto_rows": null,
            "grid_column": null,
            "grid_gap": null,
            "grid_row": null,
            "grid_template_areas": null,
            "grid_template_columns": null,
            "grid_template_rows": null,
            "height": null,
            "justify_content": null,
            "justify_items": null,
            "left": null,
            "margin": null,
            "max_height": null,
            "max_width": null,
            "min_height": null,
            "min_width": null,
            "object_fit": null,
            "object_position": null,
            "order": null,
            "overflow": null,
            "overflow_x": null,
            "overflow_y": null,
            "padding": null,
            "right": null,
            "top": null,
            "visibility": null,
            "width": null
          }
        },
        "2b5d53c9382d4d5384d37b4d1c575ec3": {
          "model_module": "@jupyter-widgets/controls",
          "model_name": "ProgressStyleModel",
          "model_module_version": "1.5.0",
          "state": {
            "_model_module": "@jupyter-widgets/controls",
            "_model_module_version": "1.5.0",
            "_model_name": "ProgressStyleModel",
            "_view_count": null,
            "_view_module": "@jupyter-widgets/base",
            "_view_module_version": "1.2.0",
            "_view_name": "StyleView",
            "bar_color": null,
            "description_width": ""
          }
        },
        "42c4e011348545b1833c194c1625218e": {
          "model_module": "@jupyter-widgets/base",
          "model_name": "LayoutModel",
          "model_module_version": "1.2.0",
          "state": {
            "_model_module": "@jupyter-widgets/base",
            "_model_module_version": "1.2.0",
            "_model_name": "LayoutModel",
            "_view_count": null,
            "_view_module": "@jupyter-widgets/base",
            "_view_module_version": "1.2.0",
            "_view_name": "LayoutView",
            "align_content": null,
            "align_items": null,
            "align_self": null,
            "border": null,
            "bottom": null,
            "display": null,
            "flex": null,
            "flex_flow": null,
            "grid_area": null,
            "grid_auto_columns": null,
            "grid_auto_flow": null,
            "grid_auto_rows": null,
            "grid_column": null,
            "grid_gap": null,
            "grid_row": null,
            "grid_template_areas": null,
            "grid_template_columns": null,
            "grid_template_rows": null,
            "height": null,
            "justify_content": null,
            "justify_items": null,
            "left": null,
            "margin": null,
            "max_height": null,
            "max_width": null,
            "min_height": null,
            "min_width": null,
            "object_fit": null,
            "object_position": null,
            "order": null,
            "overflow": null,
            "overflow_x": null,
            "overflow_y": null,
            "padding": null,
            "right": null,
            "top": null,
            "visibility": null,
            "width": null
          }
        },
        "1cbd2f1aadfa483cbf784fa4adf8116b": {
          "model_module": "@jupyter-widgets/controls",
          "model_name": "DescriptionStyleModel",
          "model_module_version": "1.5.0",
          "state": {
            "_model_module": "@jupyter-widgets/controls",
            "_model_module_version": "1.5.0",
            "_model_name": "DescriptionStyleModel",
            "_view_count": null,
            "_view_module": "@jupyter-widgets/base",
            "_view_module_version": "1.2.0",
            "_view_name": "StyleView",
            "description_width": ""
          }
        }
      }
    }
  },
  "cells": [
    {
      "cell_type": "markdown",
      "source": [
        "# Imports and Setup"
      ],
      "metadata": {
        "id": "gqCOjq_fppSC"
      }
    },
    {
      "cell_type": "markdown",
      "source": [
        "Drive already mounted at /content/drive; to attempt to forcibly remount, call drive.mount(\"/content/drive\", force_remount=True)."
      ],
      "metadata": {
        "id": "7FLUh0ihqGvM"
      }
    },
    {
      "cell_type": "code",
      "source": [
        "# Mount Google Drive\n",
        "from google.colab import drive\n",
        "drive.mount('/content/drive')"
      ],
      "metadata": {
        "colab": {
          "base_uri": "https://localhost:8080/"
        },
        "id": "ZSfsuW3C_R-Q",
        "outputId": "73d5e0e0-5c85-45c7-a9dd-687196c6c610"
      },
      "execution_count": null,
      "outputs": [
        {
          "output_type": "stream",
          "name": "stdout",
          "text": [
            "Mounted at /content/drive\n"
          ]
        }
      ]
    },
    {
      "cell_type": "markdown",
      "source": [
        "Import necessary packages for data processing, HuBERT feature extration, and modeling.\n",
        "\n",
        "Import `torch` as HuBERT model is only available in PyTorch, Hugging Face does not provide a native TensorFlow version with pre-trained weights.  `librosa` for loading and processing raw audio files."
      ],
      "metadata": {
        "id": "PSoaqdZFqP8k"
      }
    },
    {
      "cell_type": "code",
      "source": [
        "\n",
        "import os\n",
        "import sys\n",
        "import json\n",
        "import warnings\n",
        "from datetime import datetime\n",
        "import numpy as np\n",
        "import pandas as pd\n",
        "# from tqdm import tqdm\n",
        "from tqdm.notebook import tqdm\n",
        "\n",
        "import librosa\n",
        "import matplotlib.pyplot as plt\n",
        "import seaborn as sns\n",
        "from IPython.display import display\n",
        "from sklearn.model_selection import train_test_split\n",
        "from sklearn.preprocessing import OneHotEncoder\n",
        "from sklearn.metrics import classification_report, confusion_matrix\n",
        "import tensorflow as tf\n",
        "from tensorflow.keras.models import Model\n",
        "from tensorflow.keras.optimizers import AdamW\n",
        "from tensorflow.keras.callbacks import ReduceLROnPlateau, EarlyStopping\n",
        "from tensorflow.keras.layers import (\n",
        "    Input, Dense, Dropout, BatchNormalization, Add, LeakyReLU, Lambda, Attention,\n",
        "    Conv1D, MaxPooling1D, GlobalAveragePooling1D,\n",
        "    LSTM, Bidirectional\n",
        ")\n",
        "\n",
        "# Install HuggingFace Transformers and PyTorch\n",
        "!pip install -q transformers torch\n",
        "from transformers import HubertModel, Wav2Vec2FeatureExtractor\n",
        "import torch\n",
        "if not sys.warnoptions:\n",
        "    warnings.simplefilter(\"ignore\")\n",
        "warnings.filterwarnings(\"ignore\", category=DeprecationWarning)\n"
      ],
      "metadata": {
        "colab": {
          "base_uri": "https://localhost:8080/"
        },
        "id": "USR5Z_Ex9S0o",
        "outputId": "64a57d7b-4c3d-40fc-b861-216ad3f92560"
      },
      "execution_count": null,
      "outputs": [
        {
          "output_type": "stream",
          "name": "stdout",
          "text": [
            "\u001b[2K   \u001b[90m━━━━━━━━━━━━━━━━━━━━━━━━━━━━━━━━━━━━━━━━\u001b[0m \u001b[32m363.4/363.4 MB\u001b[0m \u001b[31m3.6 MB/s\u001b[0m eta \u001b[36m0:00:00\u001b[0m\n",
            "\u001b[2K   \u001b[90m━━━━━━━━━━━━━━━━━━━━━━━━━━━━━━━━━━━━━━━━\u001b[0m \u001b[32m13.8/13.8 MB\u001b[0m \u001b[31m119.2 MB/s\u001b[0m eta \u001b[36m0:00:00\u001b[0m\n",
            "\u001b[2K   \u001b[90m━━━━━━━━━━━━━━━━━━━━━━━━━━━━━━━━━━━━━━━━\u001b[0m \u001b[32m24.6/24.6 MB\u001b[0m \u001b[31m99.8 MB/s\u001b[0m eta \u001b[36m0:00:00\u001b[0m\n",
            "\u001b[2K   \u001b[90m━━━━━━━━━━━━━━━━━━━━━━━━━━━━━━━━━━━━━━━━\u001b[0m \u001b[32m883.7/883.7 kB\u001b[0m \u001b[31m47.9 MB/s\u001b[0m eta \u001b[36m0:00:00\u001b[0m\n",
            "\u001b[2K   \u001b[90m━━━━━━━━━━━━━━━━━━━━━━━━━━━━━━━━━━━━━━━━\u001b[0m \u001b[32m664.8/664.8 MB\u001b[0m \u001b[31m2.2 MB/s\u001b[0m eta \u001b[36m0:00:00\u001b[0m\n",
            "\u001b[2K   \u001b[90m━━━━━━━━━━━━━━━━━━━━━━━━━━━━━━━━━━━━━━━━\u001b[0m \u001b[32m211.5/211.5 MB\u001b[0m \u001b[31m5.0 MB/s\u001b[0m eta \u001b[36m0:00:00\u001b[0m\n",
            "\u001b[2K   \u001b[90m━━━━━━━━━━━━━━━━━━━━━━━━━━━━━━━━━━━━━━━━\u001b[0m \u001b[32m56.3/56.3 MB\u001b[0m \u001b[31m47.4 MB/s\u001b[0m eta \u001b[36m0:00:00\u001b[0m\n",
            "\u001b[2K   \u001b[90m━━━━━━━━━━━━━━━━━━━━━━━━━━━━━━━━━━━━━━━━\u001b[0m \u001b[32m127.9/127.9 MB\u001b[0m \u001b[31m21.3 MB/s\u001b[0m eta \u001b[36m0:00:00\u001b[0m\n",
            "\u001b[2K   \u001b[90m━━━━━━━━━━━━━━━━━━━━━━━━━━━━━━━━━━━━━━━━\u001b[0m \u001b[32m207.5/207.5 MB\u001b[0m \u001b[31m4.3 MB/s\u001b[0m eta \u001b[36m0:00:00\u001b[0m\n",
            "\u001b[2K   \u001b[90m━━━━━━━━━━━━━━━━━━━━━━━━━━━━━━━━━━━━━━━━\u001b[0m \u001b[32m21.1/21.1 MB\u001b[0m \u001b[31m108.2 MB/s\u001b[0m eta \u001b[36m0:00:00\u001b[0m\n",
            "\u001b[?25h"
          ]
        }
      ]
    },
    {
      "cell_type": "code",
      "source": [
        "# Check for GPU\n",
        "print(\"TensorFlow GPU Available:\", tf.config.list_physical_devices('GPU'))\n",
        "print(\"PyTorch Device:\", \"cuda\" if torch.cuda.is_available() else \"cpu\")"
      ],
      "metadata": {
        "colab": {
          "base_uri": "https://localhost:8080/"
        },
        "id": "ZA7jg_b-9S21",
        "outputId": "2b26db15-abf8-4ecd-9dd8-7c9d8c5bdc85"
      },
      "execution_count": null,
      "outputs": [
        {
          "output_type": "stream",
          "name": "stdout",
          "text": [
            "TensorFlow GPU Available: []\n",
            "PyTorch Device: cpu\n"
          ]
        }
      ]
    },
    {
      "cell_type": "code",
      "source": [
        "# Path setup - adapt to your Google Colab\n",
        "DRIVE_ROOT = '/content/drive/MyDrive/emotion_recognition_project'\n",
        "os.makedirs(DRIVE_ROOT, exist_ok=True)\n"
      ],
      "metadata": {
        "id": "1NNEToC_9S47"
      },
      "execution_count": null,
      "outputs": []
    },
    {
      "cell_type": "markdown",
      "source": [
        "# Data Loading and preprocessing"
      ],
      "metadata": {
        "id": "-CCEjNL_ptmR"
      }
    },
    {
      "cell_type": "markdown",
      "source": [
        "Load the file: processed_metadata.csv and keep the successfully processed."
      ],
      "metadata": {
        "id": "k3Bf5FHsqn8S"
      }
    },
    {
      "cell_type": "code",
      "source": [
        "# Load metadata - this has already been preprocessed with 16kHz, 4s segments\n",
        "metadata_path = os.path.join(DRIVE_ROOT, \"processed_metadata.csv\")\n",
        "all_df = pd.read_csv(metadata_path)\n"
      ],
      "metadata": {
        "id": "frhegD2Y9S7D"
      },
      "execution_count": null,
      "outputs": []
    },
    {
      "cell_type": "code",
      "source": [
        "# Keep only successfully processed files\n",
        "all_df = all_df[all_df['processed_success'] == True].reset_index(drop=True)\n",
        "print(f\"Working with {len(all_df)} processed audio files\")\n",
        "print(f\"Labels: {all_df['label'].unique()}\")\n"
      ],
      "metadata": {
        "colab": {
          "base_uri": "https://localhost:8080/"
        },
        "id": "OkDB4mkc9S9O",
        "outputId": "8a0a7516-4518-407a-b333-58d9b9685fed"
      },
      "execution_count": null,
      "outputs": [
        {
          "output_type": "stream",
          "name": "stdout",
          "text": [
            "Working with 12162 processed audio files\n",
            "Labels: ['happy' 'fear' 'disgust' 'angry' 'surprise' 'neutral' 'sad']\n"
          ]
        }
      ]
    },
    {
      "cell_type": "markdown",
      "source": [
        "# **Experiment 1** - mean+std pooling HuBERT feature extraction"
      ],
      "metadata": {
        "id": "_uyAT_E72uO5"
      }
    },
    {
      "cell_type": "markdown",
      "source": [
        "### Main steps:\n",
        "- **Model setup**  \n",
        "  Load HuBERT and select middle layer (`LAYER_SELECT = -4`) for better generalization.\n",
        "\n",
        "- **Audio preprocessing**  \n",
        "  Load audio files at 16 kHz.\n",
        "\n",
        "- **Feature extraction**  \n",
        "  - Get hidden states from HuBERT.  \n",
        "  - Select the specified layer as mentioned above.  \n",
        "  - Compute mean and std across time.  \n",
        "  → Final feature vector: **[1536]** (768 mean + 768 std).\n",
        "\n",
        "- **Dataset split**  \n",
        "  80% train, 20% validation.\n",
        "\n",
        "- **One-hot encoding**  \n",
        "  Encode emotion labels using `OneHotEncoder`.\n",
        "\n",
        "- **Caching**  \n",
        "  Save extracted features and labels as `.npy` files to avoid reprocessing.\n",
        "\n",
        "---\n",
        "\n",
        "### Output summary:\n",
        "- Train set → `X_train.npy`, `y_train.npy`  \n",
        "- Validation set → `X_val.npy`, `y_val.npy`\n"
      ],
      "metadata": {
        "id": "eHA8FSSbF204"
      }
    },
    {
      "cell_type": "code",
      "source": [
        "# Setups\n",
        "SR = 16000  # This matches your preprocessing\n",
        "DEVICE = torch.device(\"cuda\" if torch.cuda.is_available() else \"cpu\")\n",
        "LAYER_SELECT = -4    # Middle layer for better generalization\n",
        "\n",
        "save_dir = os.path.join(DRIVE_ROOT, \"hubert_meanstd_no_aug\")\n",
        "os.makedirs(save_dir, exist_ok=True)\n",
        "print(f\"Model 1 (Mean+Std) saving to: {save_dir}\")"
      ],
      "metadata": {
        "colab": {
          "base_uri": "https://localhost:8080/"
        },
        "id": "nqRLjpuD9TD3",
        "outputId": "2b1ce03b-7597-4ad8-be5c-b51dfecf2311"
      },
      "execution_count": null,
      "outputs": [
        {
          "output_type": "stream",
          "name": "stdout",
          "text": [
            "Model 1 (Mean+Std) saving to: /content/drive/MyDrive/emotion_recognition_project/hubert_meanstd_no_aug\n"
          ]
        }
      ]
    },
    {
      "cell_type": "code",
      "source": [
        "# Loading Hubert\n",
        "print(\"Loading HuBERT model...\")\n",
        "model = HubertModel.from_pretrained(\"facebook/hubert-base-ls960\").to(DEVICE)\n",
        "feature_extractor = Wav2Vec2FeatureExtractor.from_pretrained(\"facebook/hubert-base-ls960\")\n",
        "model.eval()"
      ],
      "metadata": {
        "colab": {
          "base_uri": "https://localhost:8080/",
          "height": 1000,
          "referenced_widgets": [
            "e83e223e8eea4d9aac73410ffa15ee05",
            "23f5f41373b04b8db6acb6c3f2fa5cb3",
            "98ae71b29b8e49d99d03a03452d976b2",
            "d085f6e81520425eac00110e26cacbfa",
            "ca8e86ed88f447bd90ebaa759183ee0f",
            "6c73ee00fcc2474ab73470a87c9ae760",
            "fbf40edaa0de48cea9fa584231dcaec7",
            "e06f3fcb47c24879bef9bd57dec45b75",
            "ced73b268ef24abca7733b219ba99387",
            "f37a2003c3324509bb73a4bc2a9ffc50",
            "0a6a2c749c944713b6697bffe85ac019",
            "f7a1df41cc3f4ee09c1fd3d0533cd364",
            "4c46374d47ff47fea00e0f0ebbaab49b",
            "5855fdfb7ca7409483a4bf0d971c1e21",
            "e068bf0c53434d35bac7b99474cc835f",
            "758f4f1e10e74429bf40f63dccfc96df",
            "1c2ab7a0be2b45e29a17318f3ae5f03e",
            "9c0270d79d504d90b83b936e70e70c16",
            "2b1a2fd730c44c7dbe8c55cf96a6c0e9",
            "8bd597bb7ca1497aa40839401cd68b83",
            "b687b3d8e9f3438ebb49e2c9ff833335",
            "c22ff60e29624ab5ae2ed9e64b1e27bc",
            "d200decbca054d0db1567e0f02db5e5b",
            "d19d33e68ca346d28c0260fefbff029d",
            "babfb95f9090498188dfa6d18da31e08",
            "75a0c99052d445d991612889eb58256c",
            "f0091492cf5e4338bcdda513bd18bf87",
            "6f17287c30ad4926b4a42909056f41c9",
            "48be162710db471490fa494965b8b4d8",
            "8e48eb0993734b559e7d57378eb85243",
            "5f710537757c4e76a0f9a63ccfbcd093",
            "92ff63d69854464880db6029fbf7ea80",
            "b9521d147d604e6582f7f1195fb1a860"
          ]
        },
        "id": "QK-b4_cR9TGK",
        "outputId": "ed545389-7298-42ef-8028-499713b42dc6"
      },
      "execution_count": null,
      "outputs": [
        {
          "output_type": "stream",
          "name": "stdout",
          "text": [
            "Loading HuBERT model...\n"
          ]
        },
        {
          "output_type": "stream",
          "name": "stderr",
          "text": [
            "/usr/local/lib/python3.11/dist-packages/huggingface_hub/utils/_auth.py:94: UserWarning: \n",
            "The secret `HF_TOKEN` does not exist in your Colab secrets.\n",
            "To authenticate with the Hugging Face Hub, create a token in your settings tab (https://huggingface.co/settings/tokens), set it as secret in your Google Colab and restart your session.\n",
            "You will be able to reuse this secret in all of your notebooks.\n",
            "Please note that authentication is recommended but still optional to access public models or datasets.\n",
            "  warnings.warn(\n"
          ]
        },
        {
          "output_type": "display_data",
          "data": {
            "text/plain": [
              "config.json:   0%|          | 0.00/1.39k [00:00<?, ?B/s]"
            ],
            "application/vnd.jupyter.widget-view+json": {
              "version_major": 2,
              "version_minor": 0,
              "model_id": "e83e223e8eea4d9aac73410ffa15ee05"
            }
          },
          "metadata": {}
        },
        {
          "output_type": "display_data",
          "data": {
            "text/plain": [
              "pytorch_model.bin:   0%|          | 0.00/378M [00:00<?, ?B/s]"
            ],
            "application/vnd.jupyter.widget-view+json": {
              "version_major": 2,
              "version_minor": 0,
              "model_id": "f7a1df41cc3f4ee09c1fd3d0533cd364"
            }
          },
          "metadata": {}
        },
        {
          "output_type": "display_data",
          "data": {
            "text/plain": [
              "preprocessor_config.json:   0%|          | 0.00/213 [00:00<?, ?B/s]"
            ],
            "application/vnd.jupyter.widget-view+json": {
              "version_major": 2,
              "version_minor": 0,
              "model_id": "d200decbca054d0db1567e0f02db5e5b"
            }
          },
          "metadata": {}
        },
        {
          "output_type": "execute_result",
          "data": {
            "text/plain": [
              "HubertModel(\n",
              "  (feature_extractor): HubertFeatureEncoder(\n",
              "    (conv_layers): ModuleList(\n",
              "      (0): HubertGroupNormConvLayer(\n",
              "        (conv): Conv1d(1, 512, kernel_size=(10,), stride=(5,), bias=False)\n",
              "        (activation): GELUActivation()\n",
              "        (layer_norm): GroupNorm(512, 512, eps=1e-05, affine=True)\n",
              "      )\n",
              "      (1-4): 4 x HubertNoLayerNormConvLayer(\n",
              "        (conv): Conv1d(512, 512, kernel_size=(3,), stride=(2,), bias=False)\n",
              "        (activation): GELUActivation()\n",
              "      )\n",
              "      (5-6): 2 x HubertNoLayerNormConvLayer(\n",
              "        (conv): Conv1d(512, 512, kernel_size=(2,), stride=(2,), bias=False)\n",
              "        (activation): GELUActivation()\n",
              "      )\n",
              "    )\n",
              "  )\n",
              "  (feature_projection): HubertFeatureProjection(\n",
              "    (layer_norm): LayerNorm((512,), eps=1e-05, elementwise_affine=True)\n",
              "    (projection): Linear(in_features=512, out_features=768, bias=True)\n",
              "    (dropout): Dropout(p=0.1, inplace=False)\n",
              "  )\n",
              "  (encoder): HubertEncoder(\n",
              "    (pos_conv_embed): HubertPositionalConvEmbedding(\n",
              "      (conv): ParametrizedConv1d(\n",
              "        768, 768, kernel_size=(128,), stride=(1,), padding=(64,), groups=16\n",
              "        (parametrizations): ModuleDict(\n",
              "          (weight): ParametrizationList(\n",
              "            (0): _WeightNorm()\n",
              "          )\n",
              "        )\n",
              "      )\n",
              "      (padding): HubertSamePadLayer()\n",
              "      (activation): GELUActivation()\n",
              "    )\n",
              "    (layer_norm): LayerNorm((768,), eps=1e-05, elementwise_affine=True)\n",
              "    (dropout): Dropout(p=0.1, inplace=False)\n",
              "    (layers): ModuleList(\n",
              "      (0-11): 12 x HubertEncoderLayer(\n",
              "        (attention): HubertSdpaAttention(\n",
              "          (k_proj): Linear(in_features=768, out_features=768, bias=True)\n",
              "          (v_proj): Linear(in_features=768, out_features=768, bias=True)\n",
              "          (q_proj): Linear(in_features=768, out_features=768, bias=True)\n",
              "          (out_proj): Linear(in_features=768, out_features=768, bias=True)\n",
              "        )\n",
              "        (dropout): Dropout(p=0.1, inplace=False)\n",
              "        (layer_norm): LayerNorm((768,), eps=1e-05, elementwise_affine=True)\n",
              "        (feed_forward): HubertFeedForward(\n",
              "          (intermediate_dropout): Dropout(p=0.1, inplace=False)\n",
              "          (intermediate_dense): Linear(in_features=768, out_features=3072, bias=True)\n",
              "          (intermediate_act_fn): GELUActivation()\n",
              "          (output_dense): Linear(in_features=3072, out_features=768, bias=True)\n",
              "          (output_dropout): Dropout(p=0.1, inplace=False)\n",
              "        )\n",
              "        (final_layer_norm): LayerNorm((768,), eps=1e-05, elementwise_affine=True)\n",
              "      )\n",
              "    )\n",
              "  )\n",
              ")"
            ]
          },
          "metadata": {},
          "execution_count": 9
        }
      ]
    },
    {
      "cell_type": "code",
      "source": [
        "# Functions\n",
        "def load_audio_file(path):\n",
        "    \"\"\"Simply load the preprocessed audio file\"\"\"\n",
        "    audio, _ = librosa.load(path, sr=SR)\n",
        "    return audio\n",
        "\n",
        "def extract_meanstd_feature(audio):\n",
        "    \"\"\"Extract mean and std features from HuBERT\"\"\"\n",
        "    inputs = feature_extractor(audio, sampling_rate=SR, return_tensors=\"pt\")\n",
        "    with torch.no_grad():\n",
        "        hidden_states = model(inputs.input_values.to(DEVICE), output_hidden_states=True).hidden_states\n",
        "        selected = hidden_states[LAYER_SELECT].squeeze(0).cpu().numpy()\n",
        "    mean_pool = np.mean(selected, axis=0)\n",
        "    std_pool = np.std(selected, axis=0)\n",
        "    return np.concatenate([mean_pool, std_pool])   # Shape: [1536]\n"
      ],
      "metadata": {
        "id": "qx8dJ9l89TIL"
      },
      "execution_count": null,
      "outputs": []
    },
    {
      "cell_type": "code",
      "source": [
        "# Split Train / Val\n",
        "train_df, val_df = train_test_split(all_df, test_size=0.2, random_state=42, stratify=all_df['label'])\n",
        "print(f\"Train: {len(train_df)}, Val: {len(val_df)}\")\n"
      ],
      "metadata": {
        "colab": {
          "base_uri": "https://localhost:8080/"
        },
        "id": "UTU7Y9BS9TNs",
        "outputId": "181ada1e-3ad0-4784-85e5-92b0a0958312"
      },
      "execution_count": null,
      "outputs": [
        {
          "output_type": "stream",
          "name": "stdout",
          "text": [
            "Train: 9729, Val: 2433\n"
          ]
        }
      ]
    },
    {
      "cell_type": "code",
      "source": [
        "# One hot encoding\n",
        "ohe = OneHotEncoder(sparse_output=False)\n",
        "ohe.fit(all_df[['label']])\n",
        "label_names = ohe.categories_[0].tolist()\n",
        "\n",
        "with open(os.path.join(save_dir, \"label_names.json\"), \"w\") as f:\n",
        "    json.dump(label_names, f)\n",
        "print(f\"Labels: {label_names}\")"
      ],
      "metadata": {
        "colab": {
          "base_uri": "https://localhost:8080/",
          "height": 66,
          "referenced_widgets": [
            "8e9bb3a222be472397a1d4194373fe1f",
            "b2efba2b15ba43e39452f81ace7618e0",
            "735600ada79341119d8157a0f561a67d",
            "2ae138bf22504a9dba119d7c1317a185",
            "82bcd33f62494a54bad89955462cc165",
            "c2af834ab06b4dc4beaec92054785641",
            "84e0397e40184303930078370f2f07c6",
            "db3ce992597e4e3387fc826def725a87",
            "2b5d53c9382d4d5384d37b4d1c575ec3",
            "42c4e011348545b1833c194c1625218e",
            "1cbd2f1aadfa483cbf784fa4adf8116b"
          ]
        },
        "id": "j7hQU_Uw9TPk",
        "outputId": "2234c97c-8c1d-4aaa-d58a-da783d23874c"
      },
      "execution_count": null,
      "outputs": [
        {
          "output_type": "display_data",
          "data": {
            "text/plain": [
              "model.safetensors:   0%|          | 0.00/378M [00:00<?, ?B/s]"
            ],
            "application/vnd.jupyter.widget-view+json": {
              "version_major": 2,
              "version_minor": 0,
              "model_id": "8e9bb3a222be472397a1d4194373fe1f"
            }
          },
          "metadata": {}
        },
        {
          "output_type": "stream",
          "name": "stdout",
          "text": [
            "Labels: ['angry', 'disgust', 'fear', 'happy', 'neutral', 'sad', 'surprise']\n"
          ]
        }
      ]
    },
    {
      "cell_type": "code",
      "source": [
        "\n",
        "# Process Train Set (with feature caching for saving)\n",
        "train_feature_path = os.path.join(save_dir, \"X_train.npy\")\n",
        "train_label_path = os.path.join(save_dir, \"y_train.npy\")\n",
        "\n",
        "if os.path.exists(train_feature_path) and os.path.exists(train_label_path):\n",
        "    print(\"Loading existing train features...\")\n",
        "    X_train = np.load(train_feature_path)\n",
        "    y_train = np.load(train_label_path)\n",
        "else:\n",
        "    print(\"Extracting train features...\")\n",
        "    train_features, train_labels = [], []\n",
        "    for _, row in tqdm(train_df.iterrows(), total=len(train_df), desc=\"Extracting Train Features\"):\n",
        "        try:\n",
        "            audio = load_audio_file(row['processed_path'])\n",
        "            train_features.append(extract_meanstd_feature(audio))\n",
        "            train_labels.append(row['label'])\n",
        "        except Exception as e:\n",
        "            print(f\"Error processing {row['processed_path']}: {e}\")\n",
        "            continue\n",
        "\n",
        "    X_train = np.stack(train_features)\n",
        "    y_train = ohe.transform(np.array(train_labels).reshape(-1,1))\n",
        "\n",
        "    # Save features\n",
        "    np.save(train_feature_path, X_train)\n",
        "    np.save(train_label_path, y_train)"
      ],
      "metadata": {
        "colab": {
          "base_uri": "https://localhost:8080/",
          "height": 34
        },
        "id": "Llci_MLg-AkW",
        "outputId": "09ae76db-2117-49c1-fbd2-7d003bcae0a1"
      },
      "execution_count": null,
      "outputs": [
        {
          "output_type": "stream",
          "name": "stdout",
          "text": [
            "Loading existing train features...\n"
          ]
        }
      ]
    },
    {
      "cell_type": "code",
      "source": [
        "# Process Val Set (with feature caching)\n",
        "val_feature_path = os.path.join(save_dir, \"X_val.npy\")\n",
        "val_label_path = os.path.join(save_dir, \"y_val.npy\")\n",
        "\n",
        "if os.path.exists(val_feature_path) and os.path.exists(val_label_path):\n",
        "    print(\"Loading existing validation features...\")\n",
        "    X_val = np.load(val_feature_path)\n",
        "    y_val = np.load(val_label_path)\n",
        "else:\n",
        "    print(\"Extracting validation features...\")\n",
        "    val_features, val_labels = [], []\n",
        "    for _, row in tqdm(val_df.iterrows(), total=len(val_df), desc=\"Extracting Val Features\"):\n",
        "        try:\n",
        "            audio = load_audio_file(row['processed_path'])\n",
        "            val_features.append(extract_meanstd_feature(audio))\n",
        "            val_labels.append(row['label'])\n",
        "        except Exception as e:\n",
        "            print(f\"Error processing {row['processed_path']}: {e}\")\n",
        "            continue\n",
        "\n",
        "    X_val = np.stack(val_features)\n",
        "    y_val = ohe.transform(np.array(val_labels).reshape(-1,1))\n",
        "\n",
        "    # Save features\n",
        "    np.save(val_feature_path, X_val)\n",
        "    np.save(val_label_path, y_val)\n",
        "\n",
        "print(f\"Features saved: Train {X_train.shape}, Val {X_val.shape}\")\n"
      ],
      "metadata": {
        "colab": {
          "base_uri": "https://localhost:8080/"
        },
        "id": "gPczfuf_-Amk",
        "outputId": "84c1a3cf-900b-4d69-dfdd-da28a6f132f9"
      },
      "execution_count": null,
      "outputs": [
        {
          "output_type": "stream",
          "name": "stdout",
          "text": [
            "Loading existing validation features...\n",
            "Features saved: Train (9729, 1536), Val (2433, 1536)\n"
          ]
        }
      ]
    },
    {
      "cell_type": "markdown",
      "source": [
        "In case the system ram crashed or too high already now, run the following code to for releasing it. Also at any stage in doing HuBERT features, this method can always be used repeatedly to garantee some more enough system ram."
      ],
      "metadata": {
        "id": "BYVP43nYs9Hs"
      }
    },
    {
      "cell_type": "code",
      "source": [
        "import gc\n",
        "tf.keras.backend.clear_session()\n",
        "gc.collect()"
      ],
      "metadata": {
        "id": "dKGHJotmtXNE"
      },
      "execution_count": null,
      "outputs": []
    },
    {
      "cell_type": "markdown",
      "source": [
        "### Model Architecture\n",
        "**Input Layer:**\n",
        "Accepts input of shape (input_dim,) from preprocessed features.\n",
        "\n",
        "**Dense Block:**\n",
        "\n",
        "- Dense(512) layer with L2 regularization (λ = 1e-4) to learn global feature patterns.\n",
        "\n",
        "- BatchNormalization to stabilize training.\n",
        "\n",
        "- LeakyReLU activation.\n",
        "\n",
        "- Dropout with rate 0.4 for regularization.\n",
        "\n",
        "**Residual Block:**\n",
        "\n",
        "- Main path: Dense(384) → LeakyReLU → Dense(512) → BatchNormalization.\n",
        "\n",
        "- Skip connection: Dense(512) added to the main path.\n",
        "\n",
        "- Add() merges both paths for residual learning.\n",
        "\n",
        "**Attention Mechanism:**\n",
        "\n",
        "- Input expanded to shape (batch, 1, 512) using Lambda.\n",
        "\n",
        "- Attention layer computes raw attention scores.\n",
        "\n",
        "- Output squeezed back to (batch, 512) using Lambda.\n",
        "\n",
        "**MLP Head:**\n",
        "\n",
        "- Dense(128, relu) → Dropout(0.4).\n",
        "\n",
        "- Dense(64, relu) → Dropout(0.3).\n",
        "\n",
        "**Output Layer:**\n",
        "\n",
        "Dense(num_classes, softmax) for multi-class prediction.\n",
        "\n",
        "\n",
        "### Model complilation\n",
        "- Optimizer: AdamW (lr = 1e-4)\n",
        "\n",
        "- Loss: CategoricalCrossentropy with label_smoothing = 0.08\n",
        "\n",
        "- Metrics: accuracy\n"
      ],
      "metadata": {
        "id": "ziT-FnROtrW7"
      }
    },
    {
      "cell_type": "code",
      "source": [
        "\n",
        "# Define the model\n",
        "num_classes = y_train.shape[1]  # Make sure this is correct\n",
        "input_shape = (X_train.shape[1],)\n",
        "\n",
        "from tensorflow.keras.layers import Input, Dense, BatchNormalization, LeakyReLU, Dropout, Add, Lambda, Attention\n",
        "from tensorflow.keras.models import Model\n",
        "\n",
        "inputs = Input(shape=input_shape)\n",
        "x = Dense(512, kernel_regularizer=tf.keras.regularizers.l2(1e-4))(inputs)\n",
        "x = BatchNormalization()(x)\n",
        "x = LeakyReLU()(x)\n",
        "x = Dropout(0.4)(x)\n",
        "\n",
        "residual = Dense(512)(x)\n",
        "x = Dense(384)(x)\n",
        "x = LeakyReLU()(x)\n",
        "x = Dense(512)(x)\n",
        "x = BatchNormalization()(x)\n",
        "x = Add()([x, residual])\n",
        "\n",
        "x_expanded = Lambda(lambda t: tf.expand_dims(t, axis=1))(x)  # shape: (batch, 1, 512)\n",
        "attn_out = Attention()([x_expanded, x_expanded])              # shape: (batch, 1, 512)\n",
        "x = Lambda(lambda t: tf.squeeze(t, axis=1))(attn_out)         # shape: (batch, 512)\n",
        "\n",
        "x = Dense(128, activation='relu')(x)\n",
        "x = Dropout(0.4)(x)\n",
        "x = Dense(64, activation='relu')(x)\n",
        "x = Dropout(0.3)(x)\n",
        "\n",
        "outputs = Dense(num_classes, activation='softmax')(x)\n",
        "\n",
        "model = Model(inputs, outputs)\n",
        "model.compile(\n",
        "    optimizer=tf.keras.optimizers.AdamW(1e-4),\n",
        "    loss=tf.keras.losses.CategoricalCrossentropy(label_smoothing=0.08),\n",
        "    metrics=['accuracy']\n",
        ")\n",
        "\n",
        "model.summary()"
      ],
      "metadata": {
        "colab": {
          "base_uri": "https://localhost:8080/",
          "height": 855
        },
        "id": "c4ggW6WB-Aoq",
        "outputId": "9aed4c0a-f8d1-4e2e-d187-da91beceef26"
      },
      "execution_count": null,
      "outputs": [
        {
          "output_type": "display_data",
          "data": {
            "text/plain": [
              "\u001b[1mModel: \"functional\"\u001b[0m\n"
            ],
            "text/html": [
              "<pre style=\"white-space:pre;overflow-x:auto;line-height:normal;font-family:Menlo,'DejaVu Sans Mono',consolas,'Courier New',monospace\"><span style=\"font-weight: bold\">Model: \"functional\"</span>\n",
              "</pre>\n"
            ]
          },
          "metadata": {}
        },
        {
          "output_type": "display_data",
          "data": {
            "text/plain": [
              "┏━━━━━━━━━━━━━━━━━━━━━┳━━━━━━━━━━━━━━━━━━━┳━━━━━━━━━━━━┳━━━━━━━━━━━━━━━━━━━┓\n",
              "┃\u001b[1m \u001b[0m\u001b[1mLayer (type)       \u001b[0m\u001b[1m \u001b[0m┃\u001b[1m \u001b[0m\u001b[1mOutput Shape     \u001b[0m\u001b[1m \u001b[0m┃\u001b[1m \u001b[0m\u001b[1m   Param #\u001b[0m\u001b[1m \u001b[0m┃\u001b[1m \u001b[0m\u001b[1mConnected to     \u001b[0m\u001b[1m \u001b[0m┃\n",
              "┡━━━━━━━━━━━━━━━━━━━━━╇━━━━━━━━━━━━━━━━━━━╇━━━━━━━━━━━━╇━━━━━━━━━━━━━━━━━━━┩\n",
              "│ input_layer         │ (\u001b[38;5;45mNone\u001b[0m, \u001b[38;5;34m1536\u001b[0m)      │          \u001b[38;5;34m0\u001b[0m │ -                 │\n",
              "│ (\u001b[38;5;33mInputLayer\u001b[0m)        │                   │            │                   │\n",
              "├─────────────────────┼───────────────────┼────────────┼───────────────────┤\n",
              "│ dense (\u001b[38;5;33mDense\u001b[0m)       │ (\u001b[38;5;45mNone\u001b[0m, \u001b[38;5;34m512\u001b[0m)       │    \u001b[38;5;34m786,944\u001b[0m │ input_layer[\u001b[38;5;34m0\u001b[0m][\u001b[38;5;34m0\u001b[0m] │\n",
              "├─────────────────────┼───────────────────┼────────────┼───────────────────┤\n",
              "│ batch_normalization │ (\u001b[38;5;45mNone\u001b[0m, \u001b[38;5;34m512\u001b[0m)       │      \u001b[38;5;34m2,048\u001b[0m │ dense[\u001b[38;5;34m0\u001b[0m][\u001b[38;5;34m0\u001b[0m]       │\n",
              "│ (\u001b[38;5;33mBatchNormalizatio…\u001b[0m │                   │            │                   │\n",
              "├─────────────────────┼───────────────────┼────────────┼───────────────────┤\n",
              "│ leaky_re_lu         │ (\u001b[38;5;45mNone\u001b[0m, \u001b[38;5;34m512\u001b[0m)       │          \u001b[38;5;34m0\u001b[0m │ batch_normalizat… │\n",
              "│ (\u001b[38;5;33mLeakyReLU\u001b[0m)         │                   │            │                   │\n",
              "├─────────────────────┼───────────────────┼────────────┼───────────────────┤\n",
              "│ dropout (\u001b[38;5;33mDropout\u001b[0m)   │ (\u001b[38;5;45mNone\u001b[0m, \u001b[38;5;34m512\u001b[0m)       │          \u001b[38;5;34m0\u001b[0m │ leaky_re_lu[\u001b[38;5;34m0\u001b[0m][\u001b[38;5;34m0\u001b[0m] │\n",
              "├─────────────────────┼───────────────────┼────────────┼───────────────────┤\n",
              "│ dense_2 (\u001b[38;5;33mDense\u001b[0m)     │ (\u001b[38;5;45mNone\u001b[0m, \u001b[38;5;34m384\u001b[0m)       │    \u001b[38;5;34m196,992\u001b[0m │ dropout[\u001b[38;5;34m0\u001b[0m][\u001b[38;5;34m0\u001b[0m]     │\n",
              "├─────────────────────┼───────────────────┼────────────┼───────────────────┤\n",
              "│ leaky_re_lu_1       │ (\u001b[38;5;45mNone\u001b[0m, \u001b[38;5;34m384\u001b[0m)       │          \u001b[38;5;34m0\u001b[0m │ dense_2[\u001b[38;5;34m0\u001b[0m][\u001b[38;5;34m0\u001b[0m]     │\n",
              "│ (\u001b[38;5;33mLeakyReLU\u001b[0m)         │                   │            │                   │\n",
              "├─────────────────────┼───────────────────┼────────────┼───────────────────┤\n",
              "│ dense_3 (\u001b[38;5;33mDense\u001b[0m)     │ (\u001b[38;5;45mNone\u001b[0m, \u001b[38;5;34m512\u001b[0m)       │    \u001b[38;5;34m197,120\u001b[0m │ leaky_re_lu_1[\u001b[38;5;34m0\u001b[0m]… │\n",
              "├─────────────────────┼───────────────────┼────────────┼───────────────────┤\n",
              "│ batch_normalizatio… │ (\u001b[38;5;45mNone\u001b[0m, \u001b[38;5;34m512\u001b[0m)       │      \u001b[38;5;34m2,048\u001b[0m │ dense_3[\u001b[38;5;34m0\u001b[0m][\u001b[38;5;34m0\u001b[0m]     │\n",
              "│ (\u001b[38;5;33mBatchNormalizatio…\u001b[0m │                   │            │                   │\n",
              "├─────────────────────┼───────────────────┼────────────┼───────────────────┤\n",
              "│ dense_1 (\u001b[38;5;33mDense\u001b[0m)     │ (\u001b[38;5;45mNone\u001b[0m, \u001b[38;5;34m512\u001b[0m)       │    \u001b[38;5;34m262,656\u001b[0m │ dropout[\u001b[38;5;34m0\u001b[0m][\u001b[38;5;34m0\u001b[0m]     │\n",
              "├─────────────────────┼───────────────────┼────────────┼───────────────────┤\n",
              "│ add (\u001b[38;5;33mAdd\u001b[0m)           │ (\u001b[38;5;45mNone\u001b[0m, \u001b[38;5;34m512\u001b[0m)       │          \u001b[38;5;34m0\u001b[0m │ batch_normalizat… │\n",
              "│                     │                   │            │ dense_1[\u001b[38;5;34m0\u001b[0m][\u001b[38;5;34m0\u001b[0m]     │\n",
              "├─────────────────────┼───────────────────┼────────────┼───────────────────┤\n",
              "│ lambda (\u001b[38;5;33mLambda\u001b[0m)     │ (\u001b[38;5;45mNone\u001b[0m, \u001b[38;5;34m1\u001b[0m, \u001b[38;5;34m512\u001b[0m)    │          \u001b[38;5;34m0\u001b[0m │ add[\u001b[38;5;34m0\u001b[0m][\u001b[38;5;34m0\u001b[0m]         │\n",
              "├─────────────────────┼───────────────────┼────────────┼───────────────────┤\n",
              "│ attention           │ (\u001b[38;5;45mNone\u001b[0m, \u001b[38;5;34m1\u001b[0m, \u001b[38;5;34m512\u001b[0m)    │          \u001b[38;5;34m0\u001b[0m │ lambda[\u001b[38;5;34m0\u001b[0m][\u001b[38;5;34m0\u001b[0m],     │\n",
              "│ (\u001b[38;5;33mAttention\u001b[0m)         │                   │            │ lambda[\u001b[38;5;34m0\u001b[0m][\u001b[38;5;34m0\u001b[0m]      │\n",
              "├─────────────────────┼───────────────────┼────────────┼───────────────────┤\n",
              "│ lambda_1 (\u001b[38;5;33mLambda\u001b[0m)   │ (\u001b[38;5;45mNone\u001b[0m, \u001b[38;5;34m512\u001b[0m)       │          \u001b[38;5;34m0\u001b[0m │ attention[\u001b[38;5;34m0\u001b[0m][\u001b[38;5;34m0\u001b[0m]   │\n",
              "├─────────────────────┼───────────────────┼────────────┼───────────────────┤\n",
              "│ dense_4 (\u001b[38;5;33mDense\u001b[0m)     │ (\u001b[38;5;45mNone\u001b[0m, \u001b[38;5;34m128\u001b[0m)       │     \u001b[38;5;34m65,664\u001b[0m │ lambda_1[\u001b[38;5;34m0\u001b[0m][\u001b[38;5;34m0\u001b[0m]    │\n",
              "├─────────────────────┼───────────────────┼────────────┼───────────────────┤\n",
              "│ dropout_1 (\u001b[38;5;33mDropout\u001b[0m) │ (\u001b[38;5;45mNone\u001b[0m, \u001b[38;5;34m128\u001b[0m)       │          \u001b[38;5;34m0\u001b[0m │ dense_4[\u001b[38;5;34m0\u001b[0m][\u001b[38;5;34m0\u001b[0m]     │\n",
              "├─────────────────────┼───────────────────┼────────────┼───────────────────┤\n",
              "│ dense_5 (\u001b[38;5;33mDense\u001b[0m)     │ (\u001b[38;5;45mNone\u001b[0m, \u001b[38;5;34m64\u001b[0m)        │      \u001b[38;5;34m8,256\u001b[0m │ dropout_1[\u001b[38;5;34m0\u001b[0m][\u001b[38;5;34m0\u001b[0m]   │\n",
              "├─────────────────────┼───────────────────┼────────────┼───────────────────┤\n",
              "│ dropout_2 (\u001b[38;5;33mDropout\u001b[0m) │ (\u001b[38;5;45mNone\u001b[0m, \u001b[38;5;34m64\u001b[0m)        │          \u001b[38;5;34m0\u001b[0m │ dense_5[\u001b[38;5;34m0\u001b[0m][\u001b[38;5;34m0\u001b[0m]     │\n",
              "├─────────────────────┼───────────────────┼────────────┼───────────────────┤\n",
              "│ dense_6 (\u001b[38;5;33mDense\u001b[0m)     │ (\u001b[38;5;45mNone\u001b[0m, \u001b[38;5;34m7\u001b[0m)         │        \u001b[38;5;34m455\u001b[0m │ dropout_2[\u001b[38;5;34m0\u001b[0m][\u001b[38;5;34m0\u001b[0m]   │\n",
              "└─────────────────────┴───────────────────┴────────────┴───────────────────┘\n"
            ],
            "text/html": [
              "<pre style=\"white-space:pre;overflow-x:auto;line-height:normal;font-family:Menlo,'DejaVu Sans Mono',consolas,'Courier New',monospace\">┏━━━━━━━━━━━━━━━━━━━━━┳━━━━━━━━━━━━━━━━━━━┳━━━━━━━━━━━━┳━━━━━━━━━━━━━━━━━━━┓\n",
              "┃<span style=\"font-weight: bold\"> Layer (type)        </span>┃<span style=\"font-weight: bold\"> Output Shape      </span>┃<span style=\"font-weight: bold\">    Param # </span>┃<span style=\"font-weight: bold\"> Connected to      </span>┃\n",
              "┡━━━━━━━━━━━━━━━━━━━━━╇━━━━━━━━━━━━━━━━━━━╇━━━━━━━━━━━━╇━━━━━━━━━━━━━━━━━━━┩\n",
              "│ input_layer         │ (<span style=\"color: #00d7ff; text-decoration-color: #00d7ff\">None</span>, <span style=\"color: #00af00; text-decoration-color: #00af00\">1536</span>)      │          <span style=\"color: #00af00; text-decoration-color: #00af00\">0</span> │ -                 │\n",
              "│ (<span style=\"color: #0087ff; text-decoration-color: #0087ff\">InputLayer</span>)        │                   │            │                   │\n",
              "├─────────────────────┼───────────────────┼────────────┼───────────────────┤\n",
              "│ dense (<span style=\"color: #0087ff; text-decoration-color: #0087ff\">Dense</span>)       │ (<span style=\"color: #00d7ff; text-decoration-color: #00d7ff\">None</span>, <span style=\"color: #00af00; text-decoration-color: #00af00\">512</span>)       │    <span style=\"color: #00af00; text-decoration-color: #00af00\">786,944</span> │ input_layer[<span style=\"color: #00af00; text-decoration-color: #00af00\">0</span>][<span style=\"color: #00af00; text-decoration-color: #00af00\">0</span>] │\n",
              "├─────────────────────┼───────────────────┼────────────┼───────────────────┤\n",
              "│ batch_normalization │ (<span style=\"color: #00d7ff; text-decoration-color: #00d7ff\">None</span>, <span style=\"color: #00af00; text-decoration-color: #00af00\">512</span>)       │      <span style=\"color: #00af00; text-decoration-color: #00af00\">2,048</span> │ dense[<span style=\"color: #00af00; text-decoration-color: #00af00\">0</span>][<span style=\"color: #00af00; text-decoration-color: #00af00\">0</span>]       │\n",
              "│ (<span style=\"color: #0087ff; text-decoration-color: #0087ff\">BatchNormalizatio…</span> │                   │            │                   │\n",
              "├─────────────────────┼───────────────────┼────────────┼───────────────────┤\n",
              "│ leaky_re_lu         │ (<span style=\"color: #00d7ff; text-decoration-color: #00d7ff\">None</span>, <span style=\"color: #00af00; text-decoration-color: #00af00\">512</span>)       │          <span style=\"color: #00af00; text-decoration-color: #00af00\">0</span> │ batch_normalizat… │\n",
              "│ (<span style=\"color: #0087ff; text-decoration-color: #0087ff\">LeakyReLU</span>)         │                   │            │                   │\n",
              "├─────────────────────┼───────────────────┼────────────┼───────────────────┤\n",
              "│ dropout (<span style=\"color: #0087ff; text-decoration-color: #0087ff\">Dropout</span>)   │ (<span style=\"color: #00d7ff; text-decoration-color: #00d7ff\">None</span>, <span style=\"color: #00af00; text-decoration-color: #00af00\">512</span>)       │          <span style=\"color: #00af00; text-decoration-color: #00af00\">0</span> │ leaky_re_lu[<span style=\"color: #00af00; text-decoration-color: #00af00\">0</span>][<span style=\"color: #00af00; text-decoration-color: #00af00\">0</span>] │\n",
              "├─────────────────────┼───────────────────┼────────────┼───────────────────┤\n",
              "│ dense_2 (<span style=\"color: #0087ff; text-decoration-color: #0087ff\">Dense</span>)     │ (<span style=\"color: #00d7ff; text-decoration-color: #00d7ff\">None</span>, <span style=\"color: #00af00; text-decoration-color: #00af00\">384</span>)       │    <span style=\"color: #00af00; text-decoration-color: #00af00\">196,992</span> │ dropout[<span style=\"color: #00af00; text-decoration-color: #00af00\">0</span>][<span style=\"color: #00af00; text-decoration-color: #00af00\">0</span>]     │\n",
              "├─────────────────────┼───────────────────┼────────────┼───────────────────┤\n",
              "│ leaky_re_lu_1       │ (<span style=\"color: #00d7ff; text-decoration-color: #00d7ff\">None</span>, <span style=\"color: #00af00; text-decoration-color: #00af00\">384</span>)       │          <span style=\"color: #00af00; text-decoration-color: #00af00\">0</span> │ dense_2[<span style=\"color: #00af00; text-decoration-color: #00af00\">0</span>][<span style=\"color: #00af00; text-decoration-color: #00af00\">0</span>]     │\n",
              "│ (<span style=\"color: #0087ff; text-decoration-color: #0087ff\">LeakyReLU</span>)         │                   │            │                   │\n",
              "├─────────────────────┼───────────────────┼────────────┼───────────────────┤\n",
              "│ dense_3 (<span style=\"color: #0087ff; text-decoration-color: #0087ff\">Dense</span>)     │ (<span style=\"color: #00d7ff; text-decoration-color: #00d7ff\">None</span>, <span style=\"color: #00af00; text-decoration-color: #00af00\">512</span>)       │    <span style=\"color: #00af00; text-decoration-color: #00af00\">197,120</span> │ leaky_re_lu_1[<span style=\"color: #00af00; text-decoration-color: #00af00\">0</span>]… │\n",
              "├─────────────────────┼───────────────────┼────────────┼───────────────────┤\n",
              "│ batch_normalizatio… │ (<span style=\"color: #00d7ff; text-decoration-color: #00d7ff\">None</span>, <span style=\"color: #00af00; text-decoration-color: #00af00\">512</span>)       │      <span style=\"color: #00af00; text-decoration-color: #00af00\">2,048</span> │ dense_3[<span style=\"color: #00af00; text-decoration-color: #00af00\">0</span>][<span style=\"color: #00af00; text-decoration-color: #00af00\">0</span>]     │\n",
              "│ (<span style=\"color: #0087ff; text-decoration-color: #0087ff\">BatchNormalizatio…</span> │                   │            │                   │\n",
              "├─────────────────────┼───────────────────┼────────────┼───────────────────┤\n",
              "│ dense_1 (<span style=\"color: #0087ff; text-decoration-color: #0087ff\">Dense</span>)     │ (<span style=\"color: #00d7ff; text-decoration-color: #00d7ff\">None</span>, <span style=\"color: #00af00; text-decoration-color: #00af00\">512</span>)       │    <span style=\"color: #00af00; text-decoration-color: #00af00\">262,656</span> │ dropout[<span style=\"color: #00af00; text-decoration-color: #00af00\">0</span>][<span style=\"color: #00af00; text-decoration-color: #00af00\">0</span>]     │\n",
              "├─────────────────────┼───────────────────┼────────────┼───────────────────┤\n",
              "│ add (<span style=\"color: #0087ff; text-decoration-color: #0087ff\">Add</span>)           │ (<span style=\"color: #00d7ff; text-decoration-color: #00d7ff\">None</span>, <span style=\"color: #00af00; text-decoration-color: #00af00\">512</span>)       │          <span style=\"color: #00af00; text-decoration-color: #00af00\">0</span> │ batch_normalizat… │\n",
              "│                     │                   │            │ dense_1[<span style=\"color: #00af00; text-decoration-color: #00af00\">0</span>][<span style=\"color: #00af00; text-decoration-color: #00af00\">0</span>]     │\n",
              "├─────────────────────┼───────────────────┼────────────┼───────────────────┤\n",
              "│ lambda (<span style=\"color: #0087ff; text-decoration-color: #0087ff\">Lambda</span>)     │ (<span style=\"color: #00d7ff; text-decoration-color: #00d7ff\">None</span>, <span style=\"color: #00af00; text-decoration-color: #00af00\">1</span>, <span style=\"color: #00af00; text-decoration-color: #00af00\">512</span>)    │          <span style=\"color: #00af00; text-decoration-color: #00af00\">0</span> │ add[<span style=\"color: #00af00; text-decoration-color: #00af00\">0</span>][<span style=\"color: #00af00; text-decoration-color: #00af00\">0</span>]         │\n",
              "├─────────────────────┼───────────────────┼────────────┼───────────────────┤\n",
              "│ attention           │ (<span style=\"color: #00d7ff; text-decoration-color: #00d7ff\">None</span>, <span style=\"color: #00af00; text-decoration-color: #00af00\">1</span>, <span style=\"color: #00af00; text-decoration-color: #00af00\">512</span>)    │          <span style=\"color: #00af00; text-decoration-color: #00af00\">0</span> │ lambda[<span style=\"color: #00af00; text-decoration-color: #00af00\">0</span>][<span style=\"color: #00af00; text-decoration-color: #00af00\">0</span>],     │\n",
              "│ (<span style=\"color: #0087ff; text-decoration-color: #0087ff\">Attention</span>)         │                   │            │ lambda[<span style=\"color: #00af00; text-decoration-color: #00af00\">0</span>][<span style=\"color: #00af00; text-decoration-color: #00af00\">0</span>]      │\n",
              "├─────────────────────┼───────────────────┼────────────┼───────────────────┤\n",
              "│ lambda_1 (<span style=\"color: #0087ff; text-decoration-color: #0087ff\">Lambda</span>)   │ (<span style=\"color: #00d7ff; text-decoration-color: #00d7ff\">None</span>, <span style=\"color: #00af00; text-decoration-color: #00af00\">512</span>)       │          <span style=\"color: #00af00; text-decoration-color: #00af00\">0</span> │ attention[<span style=\"color: #00af00; text-decoration-color: #00af00\">0</span>][<span style=\"color: #00af00; text-decoration-color: #00af00\">0</span>]   │\n",
              "├─────────────────────┼───────────────────┼────────────┼───────────────────┤\n",
              "│ dense_4 (<span style=\"color: #0087ff; text-decoration-color: #0087ff\">Dense</span>)     │ (<span style=\"color: #00d7ff; text-decoration-color: #00d7ff\">None</span>, <span style=\"color: #00af00; text-decoration-color: #00af00\">128</span>)       │     <span style=\"color: #00af00; text-decoration-color: #00af00\">65,664</span> │ lambda_1[<span style=\"color: #00af00; text-decoration-color: #00af00\">0</span>][<span style=\"color: #00af00; text-decoration-color: #00af00\">0</span>]    │\n",
              "├─────────────────────┼───────────────────┼────────────┼───────────────────┤\n",
              "│ dropout_1 (<span style=\"color: #0087ff; text-decoration-color: #0087ff\">Dropout</span>) │ (<span style=\"color: #00d7ff; text-decoration-color: #00d7ff\">None</span>, <span style=\"color: #00af00; text-decoration-color: #00af00\">128</span>)       │          <span style=\"color: #00af00; text-decoration-color: #00af00\">0</span> │ dense_4[<span style=\"color: #00af00; text-decoration-color: #00af00\">0</span>][<span style=\"color: #00af00; text-decoration-color: #00af00\">0</span>]     │\n",
              "├─────────────────────┼───────────────────┼────────────┼───────────────────┤\n",
              "│ dense_5 (<span style=\"color: #0087ff; text-decoration-color: #0087ff\">Dense</span>)     │ (<span style=\"color: #00d7ff; text-decoration-color: #00d7ff\">None</span>, <span style=\"color: #00af00; text-decoration-color: #00af00\">64</span>)        │      <span style=\"color: #00af00; text-decoration-color: #00af00\">8,256</span> │ dropout_1[<span style=\"color: #00af00; text-decoration-color: #00af00\">0</span>][<span style=\"color: #00af00; text-decoration-color: #00af00\">0</span>]   │\n",
              "├─────────────────────┼───────────────────┼────────────┼───────────────────┤\n",
              "│ dropout_2 (<span style=\"color: #0087ff; text-decoration-color: #0087ff\">Dropout</span>) │ (<span style=\"color: #00d7ff; text-decoration-color: #00d7ff\">None</span>, <span style=\"color: #00af00; text-decoration-color: #00af00\">64</span>)        │          <span style=\"color: #00af00; text-decoration-color: #00af00\">0</span> │ dense_5[<span style=\"color: #00af00; text-decoration-color: #00af00\">0</span>][<span style=\"color: #00af00; text-decoration-color: #00af00\">0</span>]     │\n",
              "├─────────────────────┼───────────────────┼────────────┼───────────────────┤\n",
              "│ dense_6 (<span style=\"color: #0087ff; text-decoration-color: #0087ff\">Dense</span>)     │ (<span style=\"color: #00d7ff; text-decoration-color: #00d7ff\">None</span>, <span style=\"color: #00af00; text-decoration-color: #00af00\">7</span>)         │        <span style=\"color: #00af00; text-decoration-color: #00af00\">455</span> │ dropout_2[<span style=\"color: #00af00; text-decoration-color: #00af00\">0</span>][<span style=\"color: #00af00; text-decoration-color: #00af00\">0</span>]   │\n",
              "└─────────────────────┴───────────────────┴────────────┴───────────────────┘\n",
              "</pre>\n"
            ]
          },
          "metadata": {}
        },
        {
          "output_type": "display_data",
          "data": {
            "text/plain": [
              "\u001b[1m Total params: \u001b[0m\u001b[38;5;34m1,522,183\u001b[0m (5.81 MB)\n"
            ],
            "text/html": [
              "<pre style=\"white-space:pre;overflow-x:auto;line-height:normal;font-family:Menlo,'DejaVu Sans Mono',consolas,'Courier New',monospace\"><span style=\"font-weight: bold\"> Total params: </span><span style=\"color: #00af00; text-decoration-color: #00af00\">1,522,183</span> (5.81 MB)\n",
              "</pre>\n"
            ]
          },
          "metadata": {}
        },
        {
          "output_type": "display_data",
          "data": {
            "text/plain": [
              "\u001b[1m Trainable params: \u001b[0m\u001b[38;5;34m1,520,135\u001b[0m (5.80 MB)\n"
            ],
            "text/html": [
              "<pre style=\"white-space:pre;overflow-x:auto;line-height:normal;font-family:Menlo,'DejaVu Sans Mono',consolas,'Courier New',monospace\"><span style=\"font-weight: bold\"> Trainable params: </span><span style=\"color: #00af00; text-decoration-color: #00af00\">1,520,135</span> (5.80 MB)\n",
              "</pre>\n"
            ]
          },
          "metadata": {}
        },
        {
          "output_type": "display_data",
          "data": {
            "text/plain": [
              "\u001b[1m Non-trainable params: \u001b[0m\u001b[38;5;34m2,048\u001b[0m (8.00 KB)\n"
            ],
            "text/html": [
              "<pre style=\"white-space:pre;overflow-x:auto;line-height:normal;font-family:Menlo,'DejaVu Sans Mono',consolas,'Courier New',monospace\"><span style=\"font-weight: bold\"> Non-trainable params: </span><span style=\"color: #00af00; text-decoration-color: #00af00\">2,048</span> (8.00 KB)\n",
              "</pre>\n"
            ]
          },
          "metadata": {}
        }
      ]
    },
    {
      "cell_type": "markdown",
      "source": [
        "### Model Training\n",
        "**Set Callbacks:**\n",
        "\n",
        "- `ReduceLROnPlateau`: Reduce learning rate when val_loss plateaus.\n",
        "\n",
        "- `EarlyStopping`: Stop early if val_loss stops improving, and restore the best weights.\n",
        "\n",
        "**Training settings**\n",
        "- Epochs: 80\n",
        "\n",
        "- Batch size: 128\n",
        "\n",
        "- Callbacks: as above\n",
        "\n",
        "**Save Model and History**\n",
        "- Save trained model to disk.\n",
        "\n",
        "- Save training history (loss, accuracy, etc.) as a JSON file."
      ],
      "metadata": {
        "id": "VhxdzHEawubF"
      }
    },
    {
      "cell_type": "code",
      "source": [
        "model_path = os.path.join(save_dir, \"final_model_meanstd.keras\")\n",
        "training_history_path = os.path.join(save_dir, \"training_history.json\")\n",
        "\n",
        "print(\"Training new model from scratch...\")\n",
        "\n",
        "callbacks = [\n",
        "    tf.keras.callbacks.ReduceLROnPlateau(monitor='val_loss', factor=0.5, patience=5, min_lr=1e-6, verbose=1),\n",
        "    tf.keras.callbacks.EarlyStopping(monitor='val_loss', patience=5, restore_best_weights=True, verbose=1)\n",
        "]\n",
        "\n",
        "history = model.fit(\n",
        "    X_train, y_train,\n",
        "    validation_data=(X_val, y_val),\n",
        "    epochs=80,\n",
        "    batch_size=128,\n",
        "    callbacks=callbacks,\n",
        "    verbose=1\n",
        ")\n",
        "\n",
        "# Save model and training history\n",
        "model.save(model_path)\n",
        "\n",
        "with open(training_history_path, 'w') as f:\n",
        "    json.dump(history.history, f)\n",
        "\n",
        "print(\"Training complete & model + history saved here!\")"
      ],
      "metadata": {
        "colab": {
          "base_uri": "https://localhost:8080/"
        },
        "id": "F4yLsuRL-IAY",
        "outputId": "2b3db37f-8adb-4929-dc36-4a29a819af32"
      },
      "execution_count": null,
      "outputs": [
        {
          "output_type": "stream",
          "name": "stdout",
          "text": [
            "Training new model from scratch...\n",
            "Epoch 1/80\n"
          ]
        },
        {
          "output_type": "stream",
          "name": "stderr",
          "text": [
            "/usr/local/lib/python3.11/dist-packages/keras/src/ops/nn.py:907: UserWarning: You are using a softmax over axis -1 of a tensor of shape (None, 1, 1). This axis has size 1. The softmax operation will always return the value 1, which is likely not what you intended. Did you mean to use a sigmoid instead?\n",
            "  warnings.warn(\n"
          ]
        },
        {
          "output_type": "stream",
          "name": "stdout",
          "text": [
            "\u001b[1m77/77\u001b[0m \u001b[32m━━━━━━━━━━━━━━━━━━━━\u001b[0m\u001b[37m\u001b[0m \u001b[1m4s\u001b[0m 22ms/step - accuracy: 0.1916 - loss: 2.7190 - val_accuracy: 0.3757 - val_loss: 1.9563 - learning_rate: 1.0000e-04\n",
            "Epoch 2/80\n",
            "\u001b[1m77/77\u001b[0m \u001b[32m━━━━━━━━━━━━━━━━━━━━\u001b[0m\u001b[37m\u001b[0m \u001b[1m1s\u001b[0m 18ms/step - accuracy: 0.3588 - loss: 1.8764 - val_accuracy: 0.4661 - val_loss: 1.8680 - learning_rate: 1.0000e-04\n",
            "Epoch 3/80\n",
            "\u001b[1m77/77\u001b[0m \u001b[32m━━━━━━━━━━━━━━━━━━━━\u001b[0m\u001b[37m\u001b[0m \u001b[1m1s\u001b[0m 18ms/step - accuracy: 0.4311 - loss: 1.6897 - val_accuracy: 0.5380 - val_loss: 1.7309 - learning_rate: 1.0000e-04\n",
            "Epoch 4/80\n",
            "\u001b[1m77/77\u001b[0m \u001b[32m━━━━━━━━━━━━━━━━━━━━\u001b[0m\u001b[37m\u001b[0m \u001b[1m1s\u001b[0m 18ms/step - accuracy: 0.4900 - loss: 1.5521 - val_accuracy: 0.5462 - val_loss: 1.6216 - learning_rate: 1.0000e-04\n",
            "Epoch 5/80\n",
            "\u001b[1m77/77\u001b[0m \u001b[32m━━━━━━━━━━━━━━━━━━━━\u001b[0m\u001b[37m\u001b[0m \u001b[1m1s\u001b[0m 18ms/step - accuracy: 0.5315 - loss: 1.4687 - val_accuracy: 0.6527 - val_loss: 1.4475 - learning_rate: 1.0000e-04\n",
            "Epoch 6/80\n",
            "\u001b[1m77/77\u001b[0m \u001b[32m━━━━━━━━━━━━━━━━━━━━\u001b[0m\u001b[37m\u001b[0m \u001b[1m1s\u001b[0m 18ms/step - accuracy: 0.5790 - loss: 1.3874 - val_accuracy: 0.6568 - val_loss: 1.3451 - learning_rate: 1.0000e-04\n",
            "Epoch 7/80\n",
            "\u001b[1m77/77\u001b[0m \u001b[32m━━━━━━━━━━━━━━━━━━━━\u001b[0m\u001b[37m\u001b[0m \u001b[1m1s\u001b[0m 18ms/step - accuracy: 0.5971 - loss: 1.3524 - val_accuracy: 0.6901 - val_loss: 1.2500 - learning_rate: 1.0000e-04\n",
            "Epoch 8/80\n",
            "\u001b[1m77/77\u001b[0m \u001b[32m━━━━━━━━━━━━━━━━━━━━\u001b[0m\u001b[37m\u001b[0m \u001b[1m1s\u001b[0m 18ms/step - accuracy: 0.6207 - loss: 1.3304 - val_accuracy: 0.6720 - val_loss: 1.1966 - learning_rate: 1.0000e-04\n",
            "Epoch 9/80\n",
            "\u001b[1m77/77\u001b[0m \u001b[32m━━━━━━━━━━━━━━━━━━━━\u001b[0m\u001b[37m\u001b[0m \u001b[1m1s\u001b[0m 19ms/step - accuracy: 0.6311 - loss: 1.2871 - val_accuracy: 0.7119 - val_loss: 1.1180 - learning_rate: 1.0000e-04\n",
            "Epoch 10/80\n",
            "\u001b[1m77/77\u001b[0m \u001b[32m━━━━━━━━━━━━━━━━━━━━\u001b[0m\u001b[37m\u001b[0m \u001b[1m1s\u001b[0m 18ms/step - accuracy: 0.6403 - loss: 1.2619 - val_accuracy: 0.7098 - val_loss: 1.1164 - learning_rate: 1.0000e-04\n",
            "Epoch 11/80\n",
            "\u001b[1m77/77\u001b[0m \u001b[32m━━━━━━━━━━━━━━━━━━━━\u001b[0m\u001b[37m\u001b[0m \u001b[1m1s\u001b[0m 18ms/step - accuracy: 0.6642 - loss: 1.2246 - val_accuracy: 0.7061 - val_loss: 1.1195 - learning_rate: 1.0000e-04\n",
            "Epoch 12/80\n",
            "\u001b[1m77/77\u001b[0m \u001b[32m━━━━━━━━━━━━━━━━━━━━\u001b[0m\u001b[37m\u001b[0m \u001b[1m1s\u001b[0m 18ms/step - accuracy: 0.6730 - loss: 1.2049 - val_accuracy: 0.7172 - val_loss: 1.1000 - learning_rate: 1.0000e-04\n",
            "Epoch 13/80\n",
            "\u001b[1m77/77\u001b[0m \u001b[32m━━━━━━━━━━━━━━━━━━━━\u001b[0m\u001b[37m\u001b[0m \u001b[1m1s\u001b[0m 18ms/step - accuracy: 0.6874 - loss: 1.1847 - val_accuracy: 0.7324 - val_loss: 1.0855 - learning_rate: 1.0000e-04\n",
            "Epoch 14/80\n",
            "\u001b[1m77/77\u001b[0m \u001b[32m━━━━━━━━━━━━━━━━━━━━\u001b[0m\u001b[37m\u001b[0m \u001b[1m1s\u001b[0m 18ms/step - accuracy: 0.6930 - loss: 1.1782 - val_accuracy: 0.7382 - val_loss: 1.0833 - learning_rate: 1.0000e-04\n",
            "Epoch 15/80\n",
            "\u001b[1m77/77\u001b[0m \u001b[32m━━━━━━━━━━━━━━━━━━━━\u001b[0m\u001b[37m\u001b[0m \u001b[1m1s\u001b[0m 19ms/step - accuracy: 0.7046 - loss: 1.1470 - val_accuracy: 0.7287 - val_loss: 1.0692 - learning_rate: 1.0000e-04\n",
            "Epoch 16/80\n",
            "\u001b[1m77/77\u001b[0m \u001b[32m━━━━━━━━━━━━━━━━━━━━\u001b[0m\u001b[37m\u001b[0m \u001b[1m1s\u001b[0m 18ms/step - accuracy: 0.7135 - loss: 1.1452 - val_accuracy: 0.7374 - val_loss: 1.0583 - learning_rate: 1.0000e-04\n",
            "Epoch 17/80\n",
            "\u001b[1m77/77\u001b[0m \u001b[32m━━━━━━━━━━━━━━━━━━━━\u001b[0m\u001b[37m\u001b[0m \u001b[1m1s\u001b[0m 18ms/step - accuracy: 0.7155 - loss: 1.1319 - val_accuracy: 0.7439 - val_loss: 1.0378 - learning_rate: 1.0000e-04\n",
            "Epoch 18/80\n",
            "\u001b[1m77/77\u001b[0m \u001b[32m━━━━━━━━━━━━━━━━━━━━\u001b[0m\u001b[37m\u001b[0m \u001b[1m2s\u001b[0m 20ms/step - accuracy: 0.7350 - loss: 1.0974 - val_accuracy: 0.7365 - val_loss: 1.0522 - learning_rate: 1.0000e-04\n",
            "Epoch 19/80\n",
            "\u001b[1m77/77\u001b[0m \u001b[32m━━━━━━━━━━━━━━━━━━━━\u001b[0m\u001b[37m\u001b[0m \u001b[1m1s\u001b[0m 19ms/step - accuracy: 0.7330 - loss: 1.0861 - val_accuracy: 0.7435 - val_loss: 1.0446 - learning_rate: 1.0000e-04\n",
            "Epoch 20/80\n",
            "\u001b[1m77/77\u001b[0m \u001b[32m━━━━━━━━━━━━━━━━━━━━\u001b[0m\u001b[37m\u001b[0m \u001b[1m1s\u001b[0m 18ms/step - accuracy: 0.7396 - loss: 1.0828 - val_accuracy: 0.7559 - val_loss: 1.0376 - learning_rate: 1.0000e-04\n",
            "Epoch 21/80\n",
            "\u001b[1m77/77\u001b[0m \u001b[32m━━━━━━━━━━━━━━━━━━━━\u001b[0m\u001b[37m\u001b[0m \u001b[1m1s\u001b[0m 17ms/step - accuracy: 0.7416 - loss: 1.0759 - val_accuracy: 0.7374 - val_loss: 1.0579 - learning_rate: 1.0000e-04\n",
            "Epoch 22/80\n",
            "\u001b[1m77/77\u001b[0m \u001b[32m━━━━━━━━━━━━━━━━━━━━\u001b[0m\u001b[37m\u001b[0m \u001b[1m1s\u001b[0m 18ms/step - accuracy: 0.7547 - loss: 1.0493 - val_accuracy: 0.7489 - val_loss: 1.0287 - learning_rate: 1.0000e-04\n",
            "Epoch 23/80\n",
            "\u001b[1m77/77\u001b[0m \u001b[32m━━━━━━━━━━━━━━━━━━━━\u001b[0m\u001b[37m\u001b[0m \u001b[1m1s\u001b[0m 18ms/step - accuracy: 0.7553 - loss: 1.0438 - val_accuracy: 0.7489 - val_loss: 1.0192 - learning_rate: 1.0000e-04\n",
            "Epoch 24/80\n",
            "\u001b[1m77/77\u001b[0m \u001b[32m━━━━━━━━━━━━━━━━━━━━\u001b[0m\u001b[37m\u001b[0m \u001b[1m1s\u001b[0m 18ms/step - accuracy: 0.7596 - loss: 1.0352 - val_accuracy: 0.7579 - val_loss: 1.0329 - learning_rate: 1.0000e-04\n",
            "Epoch 25/80\n",
            "\u001b[1m77/77\u001b[0m \u001b[32m━━━━━━━━━━━━━━━━━━━━\u001b[0m\u001b[37m\u001b[0m \u001b[1m1s\u001b[0m 18ms/step - accuracy: 0.7772 - loss: 1.0053 - val_accuracy: 0.7571 - val_loss: 1.0235 - learning_rate: 1.0000e-04\n",
            "Epoch 26/80\n",
            "\u001b[1m77/77\u001b[0m \u001b[32m━━━━━━━━━━━━━━━━━━━━\u001b[0m\u001b[37m\u001b[0m \u001b[1m1s\u001b[0m 18ms/step - accuracy: 0.7702 - loss: 1.0219 - val_accuracy: 0.7357 - val_loss: 1.0449 - learning_rate: 1.0000e-04\n",
            "Epoch 27/80\n",
            "\u001b[1m77/77\u001b[0m \u001b[32m━━━━━━━━━━━━━━━━━━━━\u001b[0m\u001b[37m\u001b[0m \u001b[1m1s\u001b[0m 17ms/step - accuracy: 0.7711 - loss: 1.0222 - val_accuracy: 0.7316 - val_loss: 1.0593 - learning_rate: 1.0000e-04\n",
            "Epoch 28/80\n",
            "\u001b[1m75/77\u001b[0m \u001b[32m━━━━━━━━━━━━━━━━━━━\u001b[0m\u001b[37m━\u001b[0m \u001b[1m0s\u001b[0m 16ms/step - accuracy: 0.7870 - loss: 0.9927\n",
            "Epoch 28: ReduceLROnPlateau reducing learning rate to 4.999999873689376e-05.\n",
            "\u001b[1m77/77\u001b[0m \u001b[32m━━━━━━━━━━━━━━━━━━━━\u001b[0m\u001b[37m\u001b[0m \u001b[1m1s\u001b[0m 18ms/step - accuracy: 0.7869 - loss: 0.9929 - val_accuracy: 0.7534 - val_loss: 1.0356 - learning_rate: 1.0000e-04\n",
            "Epoch 28: early stopping\n",
            "Restoring model weights from the end of the best epoch: 23.\n",
            "Training complete & model + history saved here!\n"
          ]
        }
      ]
    },
    {
      "cell_type": "code",
      "source": [
        "# Plot training history\n",
        "if history:\n",
        "    # Loss\n",
        "    plt.figure(figsize=(10, 4))\n",
        "    plt.plot(history.history['loss'], label='Train Loss')\n",
        "    plt.plot(history.history['val_loss'], label='Val Loss')\n",
        "    plt.title('Training & Validation Loss')\n",
        "    plt.xlabel('Epoch')\n",
        "    plt.ylabel('Loss')\n",
        "    plt.legend()\n",
        "    plt.ylim(0)\n",
        "    plt.grid(True)\n",
        "    plt.show()\n",
        "\n",
        "    # Accuracy\n",
        "    plt.figure(figsize=(10, 4))\n",
        "    plt.plot(history.history['accuracy'], label='Train Acc')\n",
        "    plt.plot(history.history['val_accuracy'], label='Val Acc')\n",
        "    plt.title('Training & Validation Accuracy')\n",
        "    plt.xlabel('Epoch')\n",
        "    plt.ylabel('Accuracy')\n",
        "    plt.legend()\n",
        "    plt.ylim(0, 1)\n",
        "    plt.grid(True)\n",
        "    plt.show()"
      ],
      "metadata": {
        "colab": {
          "base_uri": "https://localhost:8080/",
          "height": 803
        },
        "id": "DR7_swh--ICu",
        "outputId": "5ab44445-49b2-46b1-c272-725ae89c330e"
      },
      "execution_count": null,
      "outputs": [
        {
          "output_type": "display_data",
          "data": {
            "text/plain": [
              "<Figure size 1000x400 with 1 Axes>"
            ],
            "image/png": "[encoded data removed]"
          },
          "metadata": {}
        },
        {
          "output_type": "display_data",
          "data": {
            "text/plain": [
              "<Figure size 1000x400 with 1 Axes>"
            ],
            "image/png": "[encoded data removed]"
          },
          "metadata": {}
        }
      ]
    },
    {
      "cell_type": "code",
      "source": [
        "# Predict on validation set\n",
        "y_pred_probs = model.predict(X_val)\n",
        "y_pred = np.argmax(y_pred_probs, axis=1)\n",
        "y_true = np.argmax(y_val, axis=1)"
      ],
      "metadata": {
        "colab": {
          "base_uri": "https://localhost:8080/"
        },
        "id": "7xpqczu0-IFK",
        "outputId": "7ffdde8d-f3a3-4465-c33f-470e4a9a1a13"
      },
      "execution_count": null,
      "outputs": [
        {
          "output_type": "stream",
          "name": "stdout",
          "text": [
            "\u001b[1m46/77\u001b[0m \u001b[32m━━━━━━━━━━━\u001b[0m\u001b[37m━━━━━━━━━\u001b[0m \u001b[1m0s\u001b[0m 3ms/step"
          ]
        },
        {
          "output_type": "stream",
          "name": "stderr",
          "text": [
            "/usr/local/lib/python3.11/dist-packages/keras/src/ops/nn.py:907: UserWarning: You are using a softmax over axis -1 of a tensor of shape (32, 1, 1). This axis has size 1. The softmax operation will always return the value 1, which is likely not what you intended. Did you mean to use a sigmoid instead?\n",
            "  warnings.warn(\n"
          ]
        },
        {
          "output_type": "stream",
          "name": "stdout",
          "text": [
            "\u001b[1m77/77\u001b[0m \u001b[32m━━━━━━━━━━━━━━━━━━━━\u001b[0m\u001b[37m\u001b[0m \u001b[1m0s\u001b[0m 5ms/step\n"
          ]
        }
      ]
    },
    {
      "cell_type": "code",
      "source": [
        "# Classification report\n",
        "print(\"Classification Report:\")\n",
        "print(classification_report(y_true, y_pred, target_names=label_names))\n",
        "\n",
        "# confusion matrix\n",
        "cm = confusion_matrix(y_true, y_pred, normalize='true')  # Row-wise normalization\n",
        "\n",
        "plt.figure(figsize=(10, 8))\n",
        "sns.heatmap(cm, annot=True, fmt=\".2f\", cmap='Blues', xticklabels=label_names, yticklabels=label_names)\n",
        "plt.title(\"Normalized Confusion Matrix\")\n",
        "plt.xlabel(\"Predicted Label\")\n",
        "plt.ylabel(\"True Label\")\n",
        "plt.show()"
      ],
      "metadata": {
        "colab": {
          "base_uri": "https://localhost:8080/",
          "height": 978
        },
        "id": "XVRCMcwV-OHG",
        "outputId": "8f771c24-3f5c-45ec-9a55-6f3e6d865f19"
      },
      "execution_count": null,
      "outputs": [
        {
          "output_type": "stream",
          "name": "stdout",
          "text": [
            "Classification Report:\n",
            "              precision    recall  f1-score   support\n",
            "\n",
            "       angry       0.90      0.79      0.84       385\n",
            "     disgust       0.78      0.69      0.73       384\n",
            "        fear       0.79      0.60      0.68       385\n",
            "       happy       0.63      0.81      0.71       385\n",
            "     neutral       0.81      0.88      0.84       379\n",
            "         sad       0.62      0.72      0.67       385\n",
            "    surprise       0.93      0.80      0.86       130\n",
            "\n",
            "    accuracy                           0.75      2433\n",
            "   macro avg       0.78      0.75      0.76      2433\n",
            "weighted avg       0.76      0.75      0.75      2433\n",
            "\n"
          ]
        },
        {
          "output_type": "display_data",
          "data": {
            "text/plain": [
              "<Figure size 1000x800 with 2 Axes>"
            ],
            "image/png": "[encoded data removed]"
          },
          "metadata": {}
        }
      ]
    },
    {
      "cell_type": "markdown",
      "source": [
        "### Result Discussion\n",
        "\n",
        "**Key metrics:**\n",
        "\n",
        "- Val accuracy: 74.89%\n",
        "- Macro avg f1-score: 76%\n",
        "\n",
        "**Observations**\n",
        "\n",
        "Training & Validation curves\n",
        "- Both training and validation loss decreased steadily over 23 epochs.\n",
        "- Validation accuracy stabilized and slightly surpassed training accuracy, indicating good generalization.\n",
        "- No sign of overfitting up to the stopping point.\n",
        "\n",
        "Classification Report Highlights:\n",
        "\n",
        "- Best performance on: angry (F1: 0.84), neutral (F1: 0.84), and surprise (F1: 0.86)\n",
        "\n",
        "- Weaker performance on: fear (F1: 0.68) and sad (F1: 0.67), suggesting confusion in these emotional classes.\n",
        "\n",
        "- Macro average and weighted average F1 both around 0.75, showing fairly balanced performance across classes.\n",
        "\n",
        "Confusion Matrix Insights:\n",
        "\n",
        "- happy is often confused with neutral and angry.\n",
        "\n",
        "- fear and disgust show cross-confusion with multiple classes.\n",
        "\n",
        "- surprise and neutral have the clearest and most confident predictions.\n",
        "\n",
        "**Takeaways:**\n",
        "\n",
        "The model demonstrates strong overall emotion classification performance, especially on high-intensity emotions like surprise and angry.\n",
        "\n",
        "Moderate difficulty remains in distinguishing subtle negative emotions like fear and sad, suggesting these require richer features or additional data."
      ],
      "metadata": {
        "id": "3MRkXHStx0H1"
      }
    },
    {
      "cell_type": "markdown",
      "source": [
        "# **Experiment 2** - Full HuBERT feature extraction"
      ],
      "metadata": {
        "id": "PFfdsB0m2l6h"
      }
    },
    {
      "cell_type": "markdown",
      "source": [
        "### Main steps:\n",
        "- **Model setup**  \n",
        "  Load HuBERT (facebook/hubert-base-ls960) and freeze all layers by default. Optionally unfreeze the last N layers (LAYER_UNFREEZE = 4) for fine-tuning. Use GPU if available.\n",
        "\n",
        "- **Audio preprocessing**  \n",
        "  Load audio files at 16 kHz.\n",
        "\n",
        "- **Feature extraction**  \n",
        "  - Pass audio through the HuBERT model to get hidden states.\n",
        "  - Extract the full sequence of embeddings (up to MAX_FRAMES = 200), padding or truncating as needed.\n",
        "  - Final shape per sample: [200, 768] (time steps × features).\n",
        "\n",
        "- **Dataset split**  \n",
        "  80% train, 20% validation.\n",
        "\n",
        "- **One-hot encoding**  \n",
        "  Encode emotion labels using `OneHotEncoder`.\n",
        "\n",
        "- **Caching**  \n",
        "  Save extracted features and labels as `.npy` files to avoid reprocessing.\n",
        "---\n",
        "\n",
        "### Output summary:\n",
        "- Train set → `X_train.npy`, `y_train.npy`  \n",
        "- Validation set → `X_val.npy`, `y_val.npy`\n"
      ],
      "metadata": {
        "id": "PH_iASKZ6XhB"
      }
    },
    {
      "cell_type": "code",
      "source": [
        "# Clear memory to avoid any potential issues\n",
        "import gc\n",
        "gc.collect()\n",
        "tf.keras.backend.clear_session()"
      ],
      "metadata": {
        "id": "3w48lSv_-OLZ"
      },
      "execution_count": null,
      "outputs": []
    },
    {
      "cell_type": "code",
      "source": [
        "# Configuration\n",
        "LAYER_UNFREEZE = 4\n",
        "SR = 16000  # This matches your preprocessing\n",
        "MAX_FRAMES = 200\n",
        "SAVE_DIR = os.path.join(DRIVE_ROOT, \"hubert_full_no_aug\")\n",
        "os.makedirs(SAVE_DIR, exist_ok=True)\n",
        "print(f\"Model 2 (Full Sequence) saving to: {SAVE_DIR}\")\n",
        "\n",
        "DEVICE = torch.device(\"cuda\" if torch.cuda.is_available() else \"cpu\")\n"
      ],
      "metadata": {
        "colab": {
          "base_uri": "https://localhost:8080/"
        },
        "id": "noJc650y-ONZ",
        "outputId": "226a844f-3dbd-4810-97d8-3a6189cd8582"
      },
      "execution_count": null,
      "outputs": [
        {
          "output_type": "stream",
          "name": "stdout",
          "text": [
            "Model 2 (Full Sequence) saving to: /content/drive/MyDrive/emotion_recognition_project/hubert_full_no_aug\n"
          ]
        }
      ]
    },
    {
      "cell_type": "code",
      "source": [
        "# Load HuBERT model and feature extractor\n",
        "print(\"Loading HuBERT model...\")\n",
        "hubert_model = HubertModel.from_pretrained(\"facebook/hubert-base-ls960\").to(DEVICE)\n",
        "feature_extractor = Wav2Vec2FeatureExtractor.from_pretrained(\"facebook/hubert-base-ls960\")\n",
        "\n",
        "for param in hubert_model.parameters():\n",
        "    param.requires_grad = False\n",
        "if LAYER_UNFREEZE > 0:\n",
        "    for param in hubert_model.encoder.layers[-LAYER_UNFREEZE:].parameters():\n",
        "        param.requires_grad = True\n",
        "hubert_model.eval()"
      ],
      "metadata": {
        "colab": {
          "base_uri": "https://localhost:8080/"
        },
        "id": "wVl7GX5B-OkL",
        "outputId": "55fb72e3-d749-4a2b-e32f-8f1fee6be18a"
      },
      "execution_count": null,
      "outputs": [
        {
          "output_type": "stream",
          "name": "stdout",
          "text": [
            "Loading HuBERT model...\n"
          ]
        },
        {
          "output_type": "execute_result",
          "data": {
            "text/plain": [
              "HubertModel(\n",
              "  (feature_extractor): HubertFeatureEncoder(\n",
              "    (conv_layers): ModuleList(\n",
              "      (0): HubertGroupNormConvLayer(\n",
              "        (conv): Conv1d(1, 512, kernel_size=(10,), stride=(5,), bias=False)\n",
              "        (activation): GELUActivation()\n",
              "        (layer_norm): GroupNorm(512, 512, eps=1e-05, affine=True)\n",
              "      )\n",
              "      (1-4): 4 x HubertNoLayerNormConvLayer(\n",
              "        (conv): Conv1d(512, 512, kernel_size=(3,), stride=(2,), bias=False)\n",
              "        (activation): GELUActivation()\n",
              "      )\n",
              "      (5-6): 2 x HubertNoLayerNormConvLayer(\n",
              "        (conv): Conv1d(512, 512, kernel_size=(2,), stride=(2,), bias=False)\n",
              "        (activation): GELUActivation()\n",
              "      )\n",
              "    )\n",
              "  )\n",
              "  (feature_projection): HubertFeatureProjection(\n",
              "    (layer_norm): LayerNorm((512,), eps=1e-05, elementwise_affine=True)\n",
              "    (projection): Linear(in_features=512, out_features=768, bias=True)\n",
              "    (dropout): Dropout(p=0.1, inplace=False)\n",
              "  )\n",
              "  (encoder): HubertEncoder(\n",
              "    (pos_conv_embed): HubertPositionalConvEmbedding(\n",
              "      (conv): ParametrizedConv1d(\n",
              "        768, 768, kernel_size=(128,), stride=(1,), padding=(64,), groups=16\n",
              "        (parametrizations): ModuleDict(\n",
              "          (weight): ParametrizationList(\n",
              "            (0): _WeightNorm()\n",
              "          )\n",
              "        )\n",
              "      )\n",
              "      (padding): HubertSamePadLayer()\n",
              "      (activation): GELUActivation()\n",
              "    )\n",
              "    (layer_norm): LayerNorm((768,), eps=1e-05, elementwise_affine=True)\n",
              "    (dropout): Dropout(p=0.1, inplace=False)\n",
              "    (layers): ModuleList(\n",
              "      (0-11): 12 x HubertEncoderLayer(\n",
              "        (attention): HubertSdpaAttention(\n",
              "          (k_proj): Linear(in_features=768, out_features=768, bias=True)\n",
              "          (v_proj): Linear(in_features=768, out_features=768, bias=True)\n",
              "          (q_proj): Linear(in_features=768, out_features=768, bias=True)\n",
              "          (out_proj): Linear(in_features=768, out_features=768, bias=True)\n",
              "        )\n",
              "        (dropout): Dropout(p=0.1, inplace=False)\n",
              "        (layer_norm): LayerNorm((768,), eps=1e-05, elementwise_affine=True)\n",
              "        (feed_forward): HubertFeedForward(\n",
              "          (intermediate_dropout): Dropout(p=0.1, inplace=False)\n",
              "          (intermediate_dense): Linear(in_features=768, out_features=3072, bias=True)\n",
              "          (intermediate_act_fn): GELUActivation()\n",
              "          (output_dense): Linear(in_features=3072, out_features=768, bias=True)\n",
              "          (output_dropout): Dropout(p=0.1, inplace=False)\n",
              "        )\n",
              "        (final_layer_norm): LayerNorm((768,), eps=1e-05, elementwise_affine=True)\n",
              "      )\n",
              "    )\n",
              "  )\n",
              ")"
            ]
          },
          "metadata": {},
          "execution_count": 22
        }
      ]
    },
    {
      "cell_type": "code",
      "source": [
        "# HuBERT Feature Extraction for full sequence\n",
        "def extract_embedding(audio):\n",
        "    \"\"\"Extract full sequence features using HuBERT\"\"\"\n",
        "    inputs = feature_extractor(audio, sampling_rate=SR, return_tensors=\"pt\")\n",
        "    with torch.no_grad():\n",
        "        outputs = hubert_model(inputs.input_values.to(DEVICE)).last_hidden_state\n",
        "        sequence = outputs.squeeze(0).cpu().numpy()\n",
        "\n",
        "    # Ensure fixed length output (pad or truncate)\n",
        "    if sequence.shape[0] >= MAX_FRAMES:\n",
        "        return sequence[:MAX_FRAMES]\n",
        "    else:\n",
        "        return np.vstack((sequence, np.zeros((MAX_FRAMES - sequence.shape[0], sequence.shape[1]))))\n"
      ],
      "metadata": {
        "id": "wrxtWBVU-Oma"
      },
      "execution_count": null,
      "outputs": []
    },
    {
      "cell_type": "code",
      "source": [
        "# One-Hot Encoding\n",
        "# We'll use the same one-hot encoder as before for consistency accross experiments\n",
        "with open(os.path.join(SAVE_DIR, \"label_names.json\"), \"w\") as f:\n",
        "    json.dump(label_names, f)\n"
      ],
      "metadata": {
        "id": "PpEa7RTL-OoQ"
      },
      "execution_count": null,
      "outputs": []
    },
    {
      "cell_type": "code",
      "source": [
        "# Extract Train Features (with feature caching)\n",
        "train_feature_path = os.path.join(SAVE_DIR, \"X_train.npy\")\n",
        "train_label_path = os.path.join(SAVE_DIR, \"y_train.npy\")\n"
      ],
      "metadata": {
        "id": "WNs5hdON9TbF"
      },
      "execution_count": null,
      "outputs": []
    },
    {
      "cell_type": "code",
      "source": [
        "if os.path.exists(train_feature_path) and os.path.exists(train_label_path):\n",
        "    print(\"Loading existing train features...\")\n",
        "    X_train = np.load(train_feature_path)\n",
        "    y_train = np.load(train_label_path)\n",
        "else:\n",
        "    print(\"Extracting train features...\")\n",
        "    train_features, train_labels = [], []\n",
        "    for _, row in tqdm(train_df.iterrows(), total=len(train_df), desc=\"Extracting Train Features\"):\n",
        "        try:\n",
        "            audio = load_audio_file(row['processed_path'])\n",
        "            train_features.append(extract_embedding(audio))\n",
        "            train_labels.append(row['label'])\n",
        "        except Exception as e:\n",
        "            print(f\"Error processing {row['processed_path']}: {e}\")\n",
        "            continue\n",
        "\n",
        "    X_train = np.stack(train_features)\n",
        "    y_train = ohe.transform(np.array(train_labels).reshape(-1, 1))\n",
        "\n",
        "    # Save features\n",
        "    np.save(train_feature_path, X_train)\n",
        "    np.save(train_label_path, y_train)\n",
        "\n",
        "print(f\"Saved Train Features: {X_train.shape}\")"
      ],
      "metadata": {
        "colab": {
          "base_uri": "https://localhost:8080/"
        },
        "id": "KUE46mijCWqV",
        "outputId": "8a547ada-47e9-459d-a63d-ce0e456614dc"
      },
      "execution_count": null,
      "outputs": [
        {
          "output_type": "stream",
          "name": "stdout",
          "text": [
            "Loading existing train features...\n",
            "Saved Train Features: (9729, 200, 768)\n"
          ]
        }
      ]
    },
    {
      "cell_type": "code",
      "source": [
        "# Extract Validation Features (with feature caching)\n",
        "val_feature_path = os.path.join(SAVE_DIR, \"X_val.npy\")\n",
        "val_label_path = os.path.join(SAVE_DIR, \"y_val.npy\")\n",
        "\n",
        "if os.path.exists(val_feature_path) and os.path.exists(val_label_path):\n",
        "    print(\"Loading existing validation features...\")\n",
        "    X_val = np.load(val_feature_path)\n",
        "    y_val = np.load(val_label_path)\n",
        "else:\n",
        "    print(\"Extracting validation features...\")\n",
        "    val_features, val_labels = [], []\n",
        "    for _, row in tqdm(val_df.iterrows(), total=len(val_df), desc=\"Extracting Validation Features\"):\n",
        "        try:\n",
        "            audio = load_audio_file(row['processed_path'])\n",
        "            val_features.append(extract_embedding(audio))\n",
        "            val_labels.append(row['label'])\n",
        "        except Exception as e:\n",
        "            print(f\"Error processing {row['processed_path']}: {e}\")\n",
        "            continue\n",
        "\n",
        "    X_val = np.stack(val_features)\n",
        "    y_val = ohe.transform(np.array(val_labels).reshape(-1, 1))\n",
        "\n",
        "    # Save features\n",
        "    np.save(val_feature_path, X_val)\n",
        "    np.save(val_label_path, y_val)\n",
        "\n",
        "print(f\"Saved Validation Features: {X_val.shape}\")\n",
        "print(f\"\\nFeature extraction completed. All data saved to {SAVE_DIR}\")\n"
      ],
      "metadata": {
        "colab": {
          "base_uri": "https://localhost:8080/"
        },
        "id": "FEbD4ycLCWsa",
        "outputId": "3e1e0138-321f-4709-9893-9cc3888b8ee9"
      },
      "execution_count": null,
      "outputs": [
        {
          "output_type": "stream",
          "name": "stdout",
          "text": [
            "Loading existing validation features...\n",
            "Saved Validation Features: (2433, 200, 768)\n",
            "\n",
            "Feature extraction completed. All data saved to /content/drive/MyDrive/emotion_recognition_project/hubert_full_no_aug\n"
          ]
        }
      ]
    },
    {
      "cell_type": "markdown",
      "source": [
        "### Model Architecture\n",
        "**Input Layer:**\n",
        "Accepts input of shape (input_dim,) from preprocessed features.\n",
        "\n",
        "**CNN Block:**\n",
        "\n",
        "- Conv1D(64, kernel_size=3, padding='same', relu) with L2 regularization (λ = 1e-4) to extract local temporal patterns.\n",
        "\n",
        "- BatchNormalization.\n",
        "\n",
        "- MaxPooling1D(pool_size=2) for downsampling.\n",
        "\n",
        "- Dropout(0.5) for regularization.\n",
        "\n",
        "**BiLSTM Block:**\n",
        "\n",
        "- Bidirectional LSTM(128) with return_sequences=True to capture contextual dependencies in both time directions.\n",
        "\n",
        "- Includes dropout=0.5, recurrent_dropout=0.3, and L2 regularization (λ = 1e-4).\n",
        "\n",
        "- GlobalAveragePooling1D to reduce the time dimension and produce a fixed-length vector.\n",
        "\n",
        "**MLP Head:**\n",
        "\n",
        "- Dense(128, relu) with L2 regularization (λ = 1e-4).\n",
        "\n",
        "- Dropout(0.5) for further regularization.\n",
        "\n",
        "**Output Layer:**\n",
        "\n",
        "Dense(num_classes, softmax) for multi-class prediction.\n",
        "\n",
        "\n",
        "### Model complilation\n",
        "- Optimizer: AdamW (lr = 1e-4)\n",
        "\n",
        "- Loss: CategoricalCrossentropy with label_smoothing = 0.05\n",
        "\n",
        "- Metrics: accuracy\n"
      ],
      "metadata": {
        "id": "YN04dRLP7BVm"
      }
    },
    {
      "cell_type": "code",
      "source": [
        "# Build CNN+BiLSTM Model\n",
        "input_shape = X_train.shape[1:]\n",
        "num_classes = y_train.shape[1]\n",
        "\n",
        "inputs = Input(shape=input_shape)\n",
        "x = Conv1D(64, kernel_size=3, padding='same', activation='relu', kernel_regularizer=tf.keras.regularizers.l2(1e-4))(inputs)\n",
        "x = BatchNormalization()(x)\n",
        "x = MaxPooling1D(pool_size=2)(x)\n",
        "x = Dropout(0.5)(x)\n",
        "\n",
        "x = Bidirectional(LSTM(128, return_sequences=True, dropout=0.5, recurrent_dropout=0.3, kernel_regularizer=tf.keras.regularizers.l2(1e-4)))(x)\n",
        "x = GlobalAveragePooling1D()(x)\n",
        "\n",
        "x = Dense(128, activation='relu', kernel_regularizer=tf.keras.regularizers.l2(1e-4))(x)\n",
        "x = Dropout(0.5)(x)\n",
        "outputs = Dense(num_classes, activation='softmax')(x)\n",
        "\n",
        "model2 = Model(inputs, outputs)\n",
        "model2.compile(\n",
        "    optimizer=tf.keras.optimizers.AdamW(learning_rate=1e-4),\n",
        "    loss=tf.keras.losses.CategoricalCrossentropy(label_smoothing=0.05),\n",
        "    metrics=['accuracy', tf.keras.metrics.TopKCategoricalAccuracy(k=3)]\n",
        ")\n",
        "\n",
        "model2.summary()"
      ],
      "metadata": {
        "colab": {
          "base_uri": "https://localhost:8080/",
          "height": 484
        },
        "id": "oVBrSNWXCWuf",
        "outputId": "eb1c8538-2db7-4b0b-dd71-34573699a32c"
      },
      "execution_count": null,
      "outputs": [
        {
          "output_type": "display_data",
          "data": {
            "text/plain": [
              "\u001b[1mModel: \"functional\"\u001b[0m\n"
            ],
            "text/html": [
              "<pre style=\"white-space:pre;overflow-x:auto;line-height:normal;font-family:Menlo,'DejaVu Sans Mono',consolas,'Courier New',monospace\"><span style=\"font-weight: bold\">Model: \"functional\"</span>\n",
              "</pre>\n"
            ]
          },
          "metadata": {}
        },
        {
          "output_type": "display_data",
          "data": {
            "text/plain": [
              "┏━━━━━━━━━━━━━━━━━━━━━━━━━━━━━━━━━┳━━━━━━━━━━━━━━━━━━━━━━━━┳━━━━━━━━━━━━━━━┓\n",
              "┃\u001b[1m \u001b[0m\u001b[1mLayer (type)                   \u001b[0m\u001b[1m \u001b[0m┃\u001b[1m \u001b[0m\u001b[1mOutput Shape          \u001b[0m\u001b[1m \u001b[0m┃\u001b[1m \u001b[0m\u001b[1m      Param #\u001b[0m\u001b[1m \u001b[0m┃\n",
              "┡━━━━━━━━━━━━━━━━━━━━━━━━━━━━━━━━━╇━━━━━━━━━━━━━━━━━━━━━━━━╇━━━━━━━━━━━━━━━┩\n",
              "│ input_layer (\u001b[38;5;33mInputLayer\u001b[0m)        │ (\u001b[38;5;45mNone\u001b[0m, \u001b[38;5;34m200\u001b[0m, \u001b[38;5;34m768\u001b[0m)       │             \u001b[38;5;34m0\u001b[0m │\n",
              "├─────────────────────────────────┼────────────────────────┼───────────────┤\n",
              "│ conv1d (\u001b[38;5;33mConv1D\u001b[0m)                 │ (\u001b[38;5;45mNone\u001b[0m, \u001b[38;5;34m200\u001b[0m, \u001b[38;5;34m64\u001b[0m)        │       \u001b[38;5;34m147,520\u001b[0m │\n",
              "├─────────────────────────────────┼────────────────────────┼───────────────┤\n",
              "│ batch_normalization             │ (\u001b[38;5;45mNone\u001b[0m, \u001b[38;5;34m200\u001b[0m, \u001b[38;5;34m64\u001b[0m)        │           \u001b[38;5;34m256\u001b[0m │\n",
              "│ (\u001b[38;5;33mBatchNormalization\u001b[0m)            │                        │               │\n",
              "├─────────────────────────────────┼────────────────────────┼───────────────┤\n",
              "│ max_pooling1d (\u001b[38;5;33mMaxPooling1D\u001b[0m)    │ (\u001b[38;5;45mNone\u001b[0m, \u001b[38;5;34m100\u001b[0m, \u001b[38;5;34m64\u001b[0m)        │             \u001b[38;5;34m0\u001b[0m │\n",
              "├─────────────────────────────────┼────────────────────────┼───────────────┤\n",
              "│ dropout (\u001b[38;5;33mDropout\u001b[0m)               │ (\u001b[38;5;45mNone\u001b[0m, \u001b[38;5;34m100\u001b[0m, \u001b[38;5;34m64\u001b[0m)        │             \u001b[38;5;34m0\u001b[0m │\n",
              "├─────────────────────────────────┼────────────────────────┼───────────────┤\n",
              "│ bidirectional (\u001b[38;5;33mBidirectional\u001b[0m)   │ (\u001b[38;5;45mNone\u001b[0m, \u001b[38;5;34m100\u001b[0m, \u001b[38;5;34m256\u001b[0m)       │       \u001b[38;5;34m197,632\u001b[0m │\n",
              "├─────────────────────────────────┼────────────────────────┼───────────────┤\n",
              "│ global_average_pooling1d        │ (\u001b[38;5;45mNone\u001b[0m, \u001b[38;5;34m256\u001b[0m)            │             \u001b[38;5;34m0\u001b[0m │\n",
              "│ (\u001b[38;5;33mGlobalAveragePooling1D\u001b[0m)        │                        │               │\n",
              "├─────────────────────────────────┼────────────────────────┼───────────────┤\n",
              "│ dense (\u001b[38;5;33mDense\u001b[0m)                   │ (\u001b[38;5;45mNone\u001b[0m, \u001b[38;5;34m128\u001b[0m)            │        \u001b[38;5;34m32,896\u001b[0m │\n",
              "├─────────────────────────────────┼────────────────────────┼───────────────┤\n",
              "│ dropout_1 (\u001b[38;5;33mDropout\u001b[0m)             │ (\u001b[38;5;45mNone\u001b[0m, \u001b[38;5;34m128\u001b[0m)            │             \u001b[38;5;34m0\u001b[0m │\n",
              "├─────────────────────────────────┼────────────────────────┼───────────────┤\n",
              "│ dense_1 (\u001b[38;5;33mDense\u001b[0m)                 │ (\u001b[38;5;45mNone\u001b[0m, \u001b[38;5;34m7\u001b[0m)              │           \u001b[38;5;34m903\u001b[0m │\n",
              "└─────────────────────────────────┴────────────────────────┴───────────────┘\n"
            ],
            "text/html": [
              "<pre style=\"white-space:pre;overflow-x:auto;line-height:normal;font-family:Menlo,'DejaVu Sans Mono',consolas,'Courier New',monospace\">┏━━━━━━━━━━━━━━━━━━━━━━━━━━━━━━━━━┳━━━━━━━━━━━━━━━━━━━━━━━━┳━━━━━━━━━━━━━━━┓\n",
              "┃<span style=\"font-weight: bold\"> Layer (type)                    </span>┃<span style=\"font-weight: bold\"> Output Shape           </span>┃<span style=\"font-weight: bold\">       Param # </span>┃\n",
              "┡━━━━━━━━━━━━━━━━━━━━━━━━━━━━━━━━━╇━━━━━━━━━━━━━━━━━━━━━━━━╇━━━━━━━━━━━━━━━┩\n",
              "│ input_layer (<span style=\"color: #0087ff; text-decoration-color: #0087ff\">InputLayer</span>)        │ (<span style=\"color: #00d7ff; text-decoration-color: #00d7ff\">None</span>, <span style=\"color: #00af00; text-decoration-color: #00af00\">200</span>, <span style=\"color: #00af00; text-decoration-color: #00af00\">768</span>)       │             <span style=\"color: #00af00; text-decoration-color: #00af00\">0</span> │\n",
              "├─────────────────────────────────┼────────────────────────┼───────────────┤\n",
              "│ conv1d (<span style=\"color: #0087ff; text-decoration-color: #0087ff\">Conv1D</span>)                 │ (<span style=\"color: #00d7ff; text-decoration-color: #00d7ff\">None</span>, <span style=\"color: #00af00; text-decoration-color: #00af00\">200</span>, <span style=\"color: #00af00; text-decoration-color: #00af00\">64</span>)        │       <span style=\"color: #00af00; text-decoration-color: #00af00\">147,520</span> │\n",
              "├─────────────────────────────────┼────────────────────────┼───────────────┤\n",
              "│ batch_normalization             │ (<span style=\"color: #00d7ff; text-decoration-color: #00d7ff\">None</span>, <span style=\"color: #00af00; text-decoration-color: #00af00\">200</span>, <span style=\"color: #00af00; text-decoration-color: #00af00\">64</span>)        │           <span style=\"color: #00af00; text-decoration-color: #00af00\">256</span> │\n",
              "│ (<span style=\"color: #0087ff; text-decoration-color: #0087ff\">BatchNormalization</span>)            │                        │               │\n",
              "├─────────────────────────────────┼────────────────────────┼───────────────┤\n",
              "│ max_pooling1d (<span style=\"color: #0087ff; text-decoration-color: #0087ff\">MaxPooling1D</span>)    │ (<span style=\"color: #00d7ff; text-decoration-color: #00d7ff\">None</span>, <span style=\"color: #00af00; text-decoration-color: #00af00\">100</span>, <span style=\"color: #00af00; text-decoration-color: #00af00\">64</span>)        │             <span style=\"color: #00af00; text-decoration-color: #00af00\">0</span> │\n",
              "├─────────────────────────────────┼────────────────────────┼───────────────┤\n",
              "│ dropout (<span style=\"color: #0087ff; text-decoration-color: #0087ff\">Dropout</span>)               │ (<span style=\"color: #00d7ff; text-decoration-color: #00d7ff\">None</span>, <span style=\"color: #00af00; text-decoration-color: #00af00\">100</span>, <span style=\"color: #00af00; text-decoration-color: #00af00\">64</span>)        │             <span style=\"color: #00af00; text-decoration-color: #00af00\">0</span> │\n",
              "├─────────────────────────────────┼────────────────────────┼───────────────┤\n",
              "│ bidirectional (<span style=\"color: #0087ff; text-decoration-color: #0087ff\">Bidirectional</span>)   │ (<span style=\"color: #00d7ff; text-decoration-color: #00d7ff\">None</span>, <span style=\"color: #00af00; text-decoration-color: #00af00\">100</span>, <span style=\"color: #00af00; text-decoration-color: #00af00\">256</span>)       │       <span style=\"color: #00af00; text-decoration-color: #00af00\">197,632</span> │\n",
              "├─────────────────────────────────┼────────────────────────┼───────────────┤\n",
              "│ global_average_pooling1d        │ (<span style=\"color: #00d7ff; text-decoration-color: #00d7ff\">None</span>, <span style=\"color: #00af00; text-decoration-color: #00af00\">256</span>)            │             <span style=\"color: #00af00; text-decoration-color: #00af00\">0</span> │\n",
              "│ (<span style=\"color: #0087ff; text-decoration-color: #0087ff\">GlobalAveragePooling1D</span>)        │                        │               │\n",
              "├─────────────────────────────────┼────────────────────────┼───────────────┤\n",
              "│ dense (<span style=\"color: #0087ff; text-decoration-color: #0087ff\">Dense</span>)                   │ (<span style=\"color: #00d7ff; text-decoration-color: #00d7ff\">None</span>, <span style=\"color: #00af00; text-decoration-color: #00af00\">128</span>)            │        <span style=\"color: #00af00; text-decoration-color: #00af00\">32,896</span> │\n",
              "├─────────────────────────────────┼────────────────────────┼───────────────┤\n",
              "│ dropout_1 (<span style=\"color: #0087ff; text-decoration-color: #0087ff\">Dropout</span>)             │ (<span style=\"color: #00d7ff; text-decoration-color: #00d7ff\">None</span>, <span style=\"color: #00af00; text-decoration-color: #00af00\">128</span>)            │             <span style=\"color: #00af00; text-decoration-color: #00af00\">0</span> │\n",
              "├─────────────────────────────────┼────────────────────────┼───────────────┤\n",
              "│ dense_1 (<span style=\"color: #0087ff; text-decoration-color: #0087ff\">Dense</span>)                 │ (<span style=\"color: #00d7ff; text-decoration-color: #00d7ff\">None</span>, <span style=\"color: #00af00; text-decoration-color: #00af00\">7</span>)              │           <span style=\"color: #00af00; text-decoration-color: #00af00\">903</span> │\n",
              "└─────────────────────────────────┴────────────────────────┴───────────────┘\n",
              "</pre>\n"
            ]
          },
          "metadata": {}
        },
        {
          "output_type": "display_data",
          "data": {
            "text/plain": [
              "\u001b[1m Total params: \u001b[0m\u001b[38;5;34m379,207\u001b[0m (1.45 MB)\n"
            ],
            "text/html": [
              "<pre style=\"white-space:pre;overflow-x:auto;line-height:normal;font-family:Menlo,'DejaVu Sans Mono',consolas,'Courier New',monospace\"><span style=\"font-weight: bold\"> Total params: </span><span style=\"color: #00af00; text-decoration-color: #00af00\">379,207</span> (1.45 MB)\n",
              "</pre>\n"
            ]
          },
          "metadata": {}
        },
        {
          "output_type": "display_data",
          "data": {
            "text/plain": [
              "\u001b[1m Trainable params: \u001b[0m\u001b[38;5;34m379,079\u001b[0m (1.45 MB)\n"
            ],
            "text/html": [
              "<pre style=\"white-space:pre;overflow-x:auto;line-height:normal;font-family:Menlo,'DejaVu Sans Mono',consolas,'Courier New',monospace\"><span style=\"font-weight: bold\"> Trainable params: </span><span style=\"color: #00af00; text-decoration-color: #00af00\">379,079</span> (1.45 MB)\n",
              "</pre>\n"
            ]
          },
          "metadata": {}
        },
        {
          "output_type": "display_data",
          "data": {
            "text/plain": [
              "\u001b[1m Non-trainable params: \u001b[0m\u001b[38;5;34m128\u001b[0m (512.00 B)\n"
            ],
            "text/html": [
              "<pre style=\"white-space:pre;overflow-x:auto;line-height:normal;font-family:Menlo,'DejaVu Sans Mono',consolas,'Courier New',monospace\"><span style=\"font-weight: bold\"> Non-trainable params: </span><span style=\"color: #00af00; text-decoration-color: #00af00\">128</span> (512.00 B)\n",
              "</pre>\n"
            ]
          },
          "metadata": {}
        }
      ]
    },
    {
      "cell_type": "markdown",
      "source": [
        "### Model Training\n",
        "**Set Callbacks:**\n",
        "\n",
        "- `ReduceLROnPlateau`: Reduce learning rate when val_loss plateaus.\n",
        "\n",
        "- `EarlyStopping`: Stop early if val_loss stops improving, and restore the best weights.\n",
        "\n",
        "**Training settings**\n",
        "- Epochs: 60\n",
        "\n",
        "- Batch size: 128\n",
        "\n",
        "- Callbacks: as above\n",
        "\n",
        "**Save Model and History**\n",
        "- Save trained model to disk.\n",
        "\n",
        "- Save training history (loss, accuracy, etc.) as a JSON file."
      ],
      "metadata": {
        "id": "cFbYr2229f1y"
      }
    },
    {
      "cell_type": "code",
      "source": [
        "# Train Model (with model loading if exists)\n",
        "model2_path = os.path.join(SAVE_DIR, \"cnn_bilstm_model.keras\")\n",
        "if os.path.exists(model2_path):\n",
        "    print(f\"Loading existing model from {model2_path}\")\n",
        "    model2 = tf.keras.models.load_model(model2_path)\n",
        "    training_history_path = os.path.join(SAVE_DIR, \"training_history.json\")\n",
        "    if os.path.exists(training_history_path):\n",
        "        with open(training_history_path, 'r') as f:\n",
        "            history_dict = json.load(f)\n",
        "        history2 = type('obj', (object,), {'history': history_dict})\n",
        "    else:\n",
        "        # If we have a model but no history, we'll skip plotting\n",
        "        history2 = None\n",
        "else:\n",
        "    callbacks = [\n",
        "        ReduceLROnPlateau(monitor='val_loss', factor=0.5, patience=5, min_lr=1e-6, verbose=1),\n",
        "        EarlyStopping(monitor='val_loss', patience=5, restore_best_weights=True, verbose=1)\n",
        "    ]\n",
        "    history2 = model2.fit(\n",
        "        X_train, y_train,\n",
        "        validation_data=(X_val, y_val),\n",
        "        epochs=60,\n",
        "        batch_size=128,\n",
        "        callbacks=callbacks,\n",
        "        verbose=1\n",
        "    )\n",
        "\n",
        "    # Save model\n",
        "    model2.save(model2_path)\n",
        "\n",
        "    # Save training history for later loading\n",
        "    with open(os.path.join(SAVE_DIR, \"training_history.json\"), 'w') as f:\n",
        "        json.dump(history2.history, f)\n",
        "\n",
        "    print(\"Training complete. Model saved!\")"
      ],
      "metadata": {
        "colab": {
          "base_uri": "https://localhost:8080/"
        },
        "id": "x4VyYN-yCfJ8",
        "outputId": "c0860e88-91c7-4145-a0f4-c3c9540630c9"
      },
      "execution_count": null,
      "outputs": [
        {
          "output_type": "stream",
          "name": "stdout",
          "text": [
            "Epoch 1/60\n",
            "\u001b[1m77/77\u001b[0m \u001b[32m━━━━━━━━━━━━━━━━━━━━\u001b[0m\u001b[37m\u001b[0m \u001b[1m36s\u001b[0m 390ms/step - accuracy: 0.1856 - loss: 1.9714 - top_k_categorical_accuracy: 0.5148 - val_accuracy: 0.2577 - val_loss: 1.8765 - val_top_k_categorical_accuracy: 0.6835 - learning_rate: 1.0000e-04\n",
            "Epoch 2/60\n",
            "\u001b[1m77/77\u001b[0m \u001b[32m━━━━━━━━━━━━━━━━━━━━\u001b[0m\u001b[37m\u001b[0m \u001b[1m29s\u001b[0m 371ms/step - accuracy: 0.2914 - loss: 1.8539 - top_k_categorical_accuracy: 0.6634 - val_accuracy: 0.4135 - val_loss: 1.7129 - val_top_k_categorical_accuracy: 0.7744 - learning_rate: 1.0000e-04\n",
            "Epoch 3/60\n",
            "\u001b[1m77/77\u001b[0m \u001b[32m━━━━━━━━━━━━━━━━━━━━\u001b[0m\u001b[37m\u001b[0m \u001b[1m27s\u001b[0m 356ms/step - accuracy: 0.3847 - loss: 1.7045 - top_k_categorical_accuracy: 0.7680 - val_accuracy: 0.4455 - val_loss: 1.5518 - val_top_k_categorical_accuracy: 0.8381 - learning_rate: 1.0000e-04\n",
            "Epoch 4/60\n",
            "\u001b[1m77/77\u001b[0m \u001b[32m━━━━━━━━━━━━━━━━━━━━\u001b[0m\u001b[37m\u001b[0m \u001b[1m29s\u001b[0m 375ms/step - accuracy: 0.4462 - loss: 1.5729 - top_k_categorical_accuracy: 0.8166 - val_accuracy: 0.4842 - val_loss: 1.4477 - val_top_k_categorical_accuracy: 0.8471 - learning_rate: 1.0000e-04\n",
            "Epoch 5/60\n",
            "\u001b[1m77/77\u001b[0m \u001b[32m━━━━━━━━━━━━━━━━━━━━\u001b[0m\u001b[37m\u001b[0m \u001b[1m27s\u001b[0m 354ms/step - accuracy: 0.4933 - loss: 1.4866 - top_k_categorical_accuracy: 0.8416 - val_accuracy: 0.5865 - val_loss: 1.2967 - val_top_k_categorical_accuracy: 0.8853 - learning_rate: 1.0000e-04\n",
            "Epoch 6/60\n",
            "\u001b[1m77/77\u001b[0m \u001b[32m━━━━━━━━━━━━━━━━━━━━\u001b[0m\u001b[37m\u001b[0m \u001b[1m27s\u001b[0m 354ms/step - accuracy: 0.5247 - loss: 1.4120 - top_k_categorical_accuracy: 0.8686 - val_accuracy: 0.5980 - val_loss: 1.2331 - val_top_k_categorical_accuracy: 0.9030 - learning_rate: 1.0000e-04\n",
            "Epoch 7/60\n",
            "\u001b[1m77/77\u001b[0m \u001b[32m━━━━━━━━━━━━━━━━━━━━\u001b[0m\u001b[37m\u001b[0m \u001b[1m28s\u001b[0m 357ms/step - accuracy: 0.5654 - loss: 1.3372 - top_k_categorical_accuracy: 0.8831 - val_accuracy: 0.5964 - val_loss: 1.2374 - val_top_k_categorical_accuracy: 0.9042 - learning_rate: 1.0000e-04\n",
            "Epoch 8/60\n",
            "\u001b[1m77/77\u001b[0m \u001b[32m━━━━━━━━━━━━━━━━━━━━\u001b[0m\u001b[37m\u001b[0m \u001b[1m27s\u001b[0m 353ms/step - accuracy: 0.5716 - loss: 1.3105 - top_k_categorical_accuracy: 0.8899 - val_accuracy: 0.6321 - val_loss: 1.1686 - val_top_k_categorical_accuracy: 0.9133 - learning_rate: 1.0000e-04\n",
            "Epoch 9/60\n",
            "\u001b[1m77/77\u001b[0m \u001b[32m━━━━━━━━━━━━━━━━━━━━\u001b[0m\u001b[37m\u001b[0m \u001b[1m27s\u001b[0m 346ms/step - accuracy: 0.5991 - loss: 1.2632 - top_k_categorical_accuracy: 0.9003 - val_accuracy: 0.6141 - val_loss: 1.2463 - val_top_k_categorical_accuracy: 0.9030 - learning_rate: 1.0000e-04\n",
            "Epoch 10/60\n",
            "\u001b[1m77/77\u001b[0m \u001b[32m━━━━━━━━━━━━━━━━━━━━\u001b[0m\u001b[37m\u001b[0m \u001b[1m27s\u001b[0m 347ms/step - accuracy: 0.5924 - loss: 1.2474 - top_k_categorical_accuracy: 0.9040 - val_accuracy: 0.6465 - val_loss: 1.1659 - val_top_k_categorical_accuracy: 0.9157 - learning_rate: 1.0000e-04\n",
            "Epoch 11/60\n",
            "\u001b[1m77/77\u001b[0m \u001b[32m━━━━━━━━━━━━━━━━━━━━\u001b[0m\u001b[37m\u001b[0m \u001b[1m27s\u001b[0m 355ms/step - accuracy: 0.6269 - loss: 1.2083 - top_k_categorical_accuracy: 0.9103 - val_accuracy: 0.6576 - val_loss: 1.1587 - val_top_k_categorical_accuracy: 0.9203 - learning_rate: 1.0000e-04\n",
            "Epoch 12/60\n",
            "\u001b[1m77/77\u001b[0m \u001b[32m━━━━━━━━━━━━━━━━━━━━\u001b[0m\u001b[37m\u001b[0m \u001b[1m26s\u001b[0m 341ms/step - accuracy: 0.6241 - loss: 1.2057 - top_k_categorical_accuracy: 0.9066 - val_accuracy: 0.6552 - val_loss: 1.1532 - val_top_k_categorical_accuracy: 0.9199 - learning_rate: 1.0000e-04\n",
            "Epoch 13/60\n",
            "\u001b[1m77/77\u001b[0m \u001b[32m━━━━━━━━━━━━━━━━━━━━\u001b[0m\u001b[37m\u001b[0m \u001b[1m27s\u001b[0m 352ms/step - accuracy: 0.6236 - loss: 1.1919 - top_k_categorical_accuracy: 0.9135 - val_accuracy: 0.5956 - val_loss: 1.3072 - val_top_k_categorical_accuracy: 0.9018 - learning_rate: 1.0000e-04\n",
            "Epoch 14/60\n",
            "\u001b[1m77/77\u001b[0m \u001b[32m━━━━━━━━━━━━━━━━━━━━\u001b[0m\u001b[37m\u001b[0m \u001b[1m27s\u001b[0m 353ms/step - accuracy: 0.6218 - loss: 1.1880 - top_k_categorical_accuracy: 0.9123 - val_accuracy: 0.6790 - val_loss: 1.1040 - val_top_k_categorical_accuracy: 0.9330 - learning_rate: 1.0000e-04\n",
            "Epoch 15/60\n",
            "\u001b[1m77/77\u001b[0m \u001b[32m━━━━━━━━━━━━━━━━━━━━\u001b[0m\u001b[37m\u001b[0m \u001b[1m31s\u001b[0m 397ms/step - accuracy: 0.6311 - loss: 1.1702 - top_k_categorical_accuracy: 0.9171 - val_accuracy: 0.6679 - val_loss: 1.1619 - val_top_k_categorical_accuracy: 0.9236 - learning_rate: 1.0000e-04\n",
            "Epoch 16/60\n",
            "\u001b[1m77/77\u001b[0m \u001b[32m━━━━━━━━━━━━━━━━━━━━\u001b[0m\u001b[37m\u001b[0m \u001b[1m39s\u001b[0m 502ms/step - accuracy: 0.6514 - loss: 1.1456 - top_k_categorical_accuracy: 0.9162 - val_accuracy: 0.6621 - val_loss: 1.1877 - val_top_k_categorical_accuracy: 0.9264 - learning_rate: 1.0000e-04\n",
            "Epoch 17/60\n",
            "\u001b[1m77/77\u001b[0m \u001b[32m━━━━━━━━━━━━━━━━━━━━\u001b[0m\u001b[37m\u001b[0m \u001b[1m28s\u001b[0m 357ms/step - accuracy: 0.6377 - loss: 1.1428 - top_k_categorical_accuracy: 0.9234 - val_accuracy: 0.6938 - val_loss: 1.0891 - val_top_k_categorical_accuracy: 0.9379 - learning_rate: 1.0000e-04\n",
            "Epoch 18/60\n",
            "\u001b[1m77/77\u001b[0m \u001b[32m━━━━━━━━━━━━━━━━━━━━\u001b[0m\u001b[37m\u001b[0m \u001b[1m27s\u001b[0m 354ms/step - accuracy: 0.6662 - loss: 1.1038 - top_k_categorical_accuracy: 0.9226 - val_accuracy: 0.6938 - val_loss: 1.0760 - val_top_k_categorical_accuracy: 0.9338 - learning_rate: 1.0000e-04\n",
            "Epoch 19/60\n",
            "\u001b[1m77/77\u001b[0m \u001b[32m━━━━━━━━━━━━━━━━━━━━\u001b[0m\u001b[37m\u001b[0m \u001b[1m28s\u001b[0m 359ms/step - accuracy: 0.6664 - loss: 1.1107 - top_k_categorical_accuracy: 0.9215 - val_accuracy: 0.6839 - val_loss: 1.1142 - val_top_k_categorical_accuracy: 0.9326 - learning_rate: 1.0000e-04\n",
            "Epoch 20/60\n",
            "\u001b[1m77/77\u001b[0m \u001b[32m━━━━━━━━━━━━━━━━━━━━\u001b[0m\u001b[37m\u001b[0m \u001b[1m27s\u001b[0m 352ms/step - accuracy: 0.6919 - loss: 1.0598 - top_k_categorical_accuracy: 0.9288 - val_accuracy: 0.6930 - val_loss: 1.0792 - val_top_k_categorical_accuracy: 0.9346 - learning_rate: 1.0000e-04\n",
            "Epoch 21/60\n",
            "\u001b[1m77/77\u001b[0m \u001b[32m━━━━━━━━━━━━━━━━━━━━\u001b[0m\u001b[37m\u001b[0m \u001b[1m27s\u001b[0m 350ms/step - accuracy: 0.6808 - loss: 1.0655 - top_k_categorical_accuracy: 0.9287 - val_accuracy: 0.6950 - val_loss: 1.0702 - val_top_k_categorical_accuracy: 0.9367 - learning_rate: 1.0000e-04\n",
            "Epoch 22/60\n",
            "\u001b[1m77/77\u001b[0m \u001b[32m━━━━━━━━━━━━━━━━━━━━\u001b[0m\u001b[37m\u001b[0m \u001b[1m28s\u001b[0m 365ms/step - accuracy: 0.6881 - loss: 1.0546 - top_k_categorical_accuracy: 0.9326 - val_accuracy: 0.6991 - val_loss: 1.0773 - val_top_k_categorical_accuracy: 0.9396 - learning_rate: 1.0000e-04\n",
            "Epoch 23/60\n",
            "\u001b[1m77/77\u001b[0m \u001b[32m━━━━━━━━━━━━━━━━━━━━\u001b[0m\u001b[37m\u001b[0m \u001b[1m27s\u001b[0m 355ms/step - accuracy: 0.6925 - loss: 1.0481 - top_k_categorical_accuracy: 0.9289 - val_accuracy: 0.7074 - val_loss: 1.0632 - val_top_k_categorical_accuracy: 0.9396 - learning_rate: 1.0000e-04\n",
            "Epoch 24/60\n",
            "\u001b[1m77/77\u001b[0m \u001b[32m━━━━━━━━━━━━━━━━━━━━\u001b[0m\u001b[37m\u001b[0m \u001b[1m27s\u001b[0m 356ms/step - accuracy: 0.6828 - loss: 1.0829 - top_k_categorical_accuracy: 0.9325 - val_accuracy: 0.7106 - val_loss: 1.0355 - val_top_k_categorical_accuracy: 0.9453 - learning_rate: 1.0000e-04\n",
            "Epoch 25/60\n",
            "\u001b[1m77/77\u001b[0m \u001b[32m━━━━━━━━━━━━━━━━━━━━\u001b[0m\u001b[37m\u001b[0m \u001b[1m28s\u001b[0m 357ms/step - accuracy: 0.6918 - loss: 1.0542 - top_k_categorical_accuracy: 0.9362 - val_accuracy: 0.7242 - val_loss: 1.0315 - val_top_k_categorical_accuracy: 0.9482 - learning_rate: 1.0000e-04\n",
            "Epoch 26/60\n",
            "\u001b[1m77/77\u001b[0m \u001b[32m━━━━━━━━━━━━━━━━━━━━\u001b[0m\u001b[37m\u001b[0m \u001b[1m28s\u001b[0m 361ms/step - accuracy: 0.7021 - loss: 1.0294 - top_k_categorical_accuracy: 0.9367 - val_accuracy: 0.6946 - val_loss: 1.1277 - val_top_k_categorical_accuracy: 0.9367 - learning_rate: 1.0000e-04\n",
            "Epoch 27/60\n",
            "\u001b[1m77/77\u001b[0m \u001b[32m━━━━━━━━━━━━━━━━━━━━\u001b[0m\u001b[37m\u001b[0m \u001b[1m28s\u001b[0m 358ms/step - accuracy: 0.6692 - loss: 1.0901 - top_k_categorical_accuracy: 0.9314 - val_accuracy: 0.6921 - val_loss: 1.1133 - val_top_k_categorical_accuracy: 0.9318 - learning_rate: 1.0000e-04\n",
            "Epoch 28/60\n",
            "\u001b[1m77/77\u001b[0m \u001b[32m━━━━━━━━━━━━━━━━━━━━\u001b[0m\u001b[37m\u001b[0m \u001b[1m28s\u001b[0m 359ms/step - accuracy: 0.6917 - loss: 1.0507 - top_k_categorical_accuracy: 0.9331 - val_accuracy: 0.7115 - val_loss: 1.0484 - val_top_k_categorical_accuracy: 0.9429 - learning_rate: 1.0000e-04\n",
            "Epoch 29/60\n",
            "\u001b[1m77/77\u001b[0m \u001b[32m━━━━━━━━━━━━━━━━━━━━\u001b[0m\u001b[37m\u001b[0m \u001b[1m27s\u001b[0m 355ms/step - accuracy: 0.7094 - loss: 1.0109 - top_k_categorical_accuracy: 0.9421 - val_accuracy: 0.7238 - val_loss: 1.0063 - val_top_k_categorical_accuracy: 0.9519 - learning_rate: 1.0000e-04\n",
            "Epoch 30/60\n",
            "\u001b[1m77/77\u001b[0m \u001b[32m━━━━━━━━━━━━━━━━━━━━\u001b[0m\u001b[37m\u001b[0m \u001b[1m27s\u001b[0m 355ms/step - accuracy: 0.7115 - loss: 1.0020 - top_k_categorical_accuracy: 0.9446 - val_accuracy: 0.7254 - val_loss: 1.0450 - val_top_k_categorical_accuracy: 0.9490 - learning_rate: 1.0000e-04\n",
            "Epoch 31/60\n",
            "\u001b[1m77/77\u001b[0m \u001b[32m━━━━━━━━━━━━━━━━━━━━\u001b[0m\u001b[37m\u001b[0m \u001b[1m27s\u001b[0m 355ms/step - accuracy: 0.7087 - loss: 1.0080 - top_k_categorical_accuracy: 0.9410 - val_accuracy: 0.7353 - val_loss: 1.0101 - val_top_k_categorical_accuracy: 0.9519 - learning_rate: 1.0000e-04\n",
            "Epoch 32/60\n",
            "\u001b[1m77/77\u001b[0m \u001b[32m━━━━━━━━━━━━━━━━━━━━\u001b[0m\u001b[37m\u001b[0m \u001b[1m27s\u001b[0m 352ms/step - accuracy: 0.7113 - loss: 0.9997 - top_k_categorical_accuracy: 0.9413 - val_accuracy: 0.7341 - val_loss: 1.0194 - val_top_k_categorical_accuracy: 0.9527 - learning_rate: 1.0000e-04\n",
            "Epoch 33/60\n",
            "\u001b[1m77/77\u001b[0m \u001b[32m━━━━━━━━━━━━━━━━━━━━\u001b[0m\u001b[37m\u001b[0m \u001b[1m27s\u001b[0m 354ms/step - accuracy: 0.7101 - loss: 1.0032 - top_k_categorical_accuracy: 0.9437 - val_accuracy: 0.7320 - val_loss: 1.0248 - val_top_k_categorical_accuracy: 0.9523 - learning_rate: 1.0000e-04\n",
            "Epoch 34/60\n",
            "\u001b[1m77/77\u001b[0m \u001b[32m━━━━━━━━━━━━━━━━━━━━\u001b[0m\u001b[37m\u001b[0m \u001b[1m0s\u001b[0m 329ms/step - accuracy: 0.7169 - loss: 0.9994 - top_k_categorical_accuracy: 0.9385\n",
            "Epoch 34: ReduceLROnPlateau reducing learning rate to 4.999999873689376e-05.\n",
            "\u001b[1m77/77\u001b[0m \u001b[32m━━━━━━━━━━━━━━━━━━━━\u001b[0m\u001b[37m\u001b[0m \u001b[1m27s\u001b[0m 354ms/step - accuracy: 0.7169 - loss: 0.9993 - top_k_categorical_accuracy: 0.9385 - val_accuracy: 0.7259 - val_loss: 1.0472 - val_top_k_categorical_accuracy: 0.9499 - learning_rate: 1.0000e-04\n",
            "Epoch 34: early stopping\n",
            "Restoring model weights from the end of the best epoch: 29.\n",
            "Training complete. Model saved!\n"
          ]
        }
      ]
    },
    {
      "cell_type": "code",
      "source": [
        "# Plot Training History if we have it\n",
        "if history2:\n",
        "    # Loss\n",
        "    plt.figure(figsize=(10, 4))\n",
        "    plt.plot(history2.history['loss'], label='Train Loss')\n",
        "    plt.plot(history2.history['val_loss'], label='Val Loss')\n",
        "    plt.title('Training & Validation Loss')\n",
        "    plt.xlabel('Epoch')\n",
        "    plt.ylabel('Loss')\n",
        "    plt.legend()\n",
        "    plt.ylim(0)\n",
        "    plt.grid(True)\n",
        "    plt.show()\n",
        "\n",
        "    # Accuracy\n",
        "    plt.figure(figsize=(10, 4))\n",
        "    plt.plot(history2.history['accuracy'], label='Train Acc')\n",
        "    plt.plot(history2.history['val_accuracy'], label='Val Acc')\n",
        "    plt.title('Training & Validation Accuracy')\n",
        "    plt.xlabel('Epoch')\n",
        "    plt.ylabel('Accuracy')\n",
        "    plt.legend()\n",
        "    plt.ylim(0, 1)\n",
        "    plt.grid(True)\n",
        "    plt.show()"
      ],
      "metadata": {
        "colab": {
          "base_uri": "https://localhost:8080/",
          "height": 803
        },
        "id": "rS5pUs8MCfMD",
        "outputId": "7c8724ba-ba9c-4bf1-8cdb-12d01c4a5e90"
      },
      "execution_count": null,
      "outputs": [
        {
          "output_type": "display_data",
          "data": {
            "text/plain": [
              "<Figure size 1000x400 with 1 Axes>"
            ],
            "image/png": "[encoded data removed]"
          },
          "metadata": {}
        },
        {
          "output_type": "display_data",
          "data": {
            "text/plain": [
              "<Figure size 1000x400 with 1 Axes>"
            ],
            "image/png": "[encoded data removed]"
          },
          "metadata": {}
        }
      ]
    },
    {
      "cell_type": "code",
      "source": [
        "# Predict on validation set\n",
        "y_pred_probs2 = model2.predict(X_val)\n",
        "y_pred2 = np.argmax(y_pred_probs2, axis=1)\n",
        "y_true2 = np.argmax(y_val, axis=1)"
      ],
      "metadata": {
        "colab": {
          "base_uri": "https://localhost:8080/"
        },
        "id": "2wStDYpXCfN7",
        "outputId": "b1b4e94e-594b-4bad-fe00-b3cf82f675b0"
      },
      "execution_count": null,
      "outputs": [
        {
          "output_type": "stream",
          "name": "stdout",
          "text": [
            "\u001b[1m77/77\u001b[0m \u001b[32m━━━━━━━━━━━━━━━━━━━━\u001b[0m\u001b[37m\u001b[0m \u001b[1m4s\u001b[0m 44ms/step\n"
          ]
        }
      ]
    },
    {
      "cell_type": "code",
      "source": [
        "\n",
        "# Classification Report=\n",
        "print(\"Classification Report:\")\n",
        "print(classification_report(y_true2, y_pred2, target_names=label_names))\n",
        "\n",
        "# Confusion Matrix (Normalized)\n",
        "cm2 = confusion_matrix(y_true2, y_pred2, normalize='true')  # Row-wise normalization\n",
        "\n",
        "plt.figure(figsize=(10, 8))\n",
        "sns.heatmap(cm2, annot=True, fmt=\".2f\", cmap='Blues', xticklabels=label_names, yticklabels=label_names)\n",
        "plt.title(\"Normalized Confusion Matrix\")\n",
        "plt.xlabel(\"Predicted Label\")\n",
        "plt.ylabel(\"True Label\")\n",
        "plt.show()"
      ],
      "metadata": {
        "colab": {
          "base_uri": "https://localhost:8080/",
          "height": 978
        },
        "id": "xyB7ApTwCfQI",
        "outputId": "f26c974f-8770-4963-ac6c-5f12e1bd52f3"
      },
      "execution_count": null,
      "outputs": [
        {
          "output_type": "stream",
          "name": "stdout",
          "text": [
            "Classification Report:\n",
            "              precision    recall  f1-score   support\n",
            "\n",
            "       angry       0.81      0.83      0.82       385\n",
            "     disgust       0.67      0.70      0.69       384\n",
            "        fear       0.66      0.69      0.67       385\n",
            "       happy       0.75      0.60      0.67       385\n",
            "     neutral       0.79      0.86      0.82       379\n",
            "         sad       0.63      0.62      0.63       385\n",
            "    surprise       0.81      0.87      0.84       130\n",
            "\n",
            "    accuracy                           0.72      2433\n",
            "   macro avg       0.73      0.74      0.73      2433\n",
            "weighted avg       0.72      0.72      0.72      2433\n",
            "\n"
          ]
        },
        {
          "output_type": "display_data",
          "data": {
            "text/plain": [
              "<Figure size 1000x800 with 2 Axes>"
            ],
            "image/png": "[encoded data removed]"
          },
          "metadata": {}
        }
      ]
    },
    {
      "cell_type": "code",
      "source": [
        "# Final comparison of the approaches\n",
        "print(\"\\nModel Comparison\")\n",
        "print(f\"Model 1 (Mean+Std Pooling): {np.mean(y_pred == y_true)*100:.2f}% accuracy\")\n",
        "print(f\"Model 2 (Full Sequence CNN+BiLSTM): {np.mean(y_pred2 == y_true2)*100:.2f}% accuracy\")"
      ],
      "metadata": {
        "colab": {
          "base_uri": "https://localhost:8080/"
        },
        "id": "xmFqrd7jCfTk",
        "outputId": "4782f9ca-ff4b-4aef-d992-adaf6dc1b29e"
      },
      "execution_count": null,
      "outputs": [
        {
          "output_type": "stream",
          "name": "stdout",
          "text": [
            "\n",
            "Model Comparison\n",
            "Model 1 (Mean+Std Pooling): 74.89% accuracy\n",
            "Model 2 (Full Sequence CNN+BiLSTM): 72.38% accuracy\n"
          ]
        }
      ]
    },
    {
      "cell_type": "markdown",
      "source": [
        "### Result Discussion\n",
        "\n",
        "**Key metrics:**\n",
        "\n",
        "- Val accuracy: 72.59%\n",
        "- Macro avg f1-score: 73%\n",
        "\n",
        "**Observations**\n",
        "\n",
        "Training & Validation curves\n",
        "- Both training and validation loss decreased steadily over 29 epochs.\n",
        "- Validation accuracy stabilized and slightly surpassed training accuracy, indicating good generalization.\n",
        "- No sign of overfitting up to the stopping point.\n",
        "\n",
        "Classification Report Highlights:\n",
        "\n",
        "- Best performance on: angry (F1: 82%), neutral (F1: 84%)\n",
        "\n",
        "- Weaker performance on: fear (F1: 67%) and sad (F1: 63%), suggesting confusion in these emotional classes.\n",
        "\n",
        "- Macro average around 75%, showing fairly balanced performance across classes.\n",
        "\n",
        "Confusion Matrix Insights:\n",
        "\n",
        "- happy is often confused with neutral and angry.\n",
        "\n",
        "- fear and disgust show cross-confusion.\n",
        "\n",
        "- surprise and neutral have the clearest and most confident predictions.\n",
        "\n",
        "**Takeaways:**\n",
        "\n",
        "The model demonstrates strong overall emotion classification performance, especially on high-intensity emotions like surprise and angry.\n",
        "\n",
        "Discrimination between subtle negative emotions (fear, sad) remains a challenge, likely due to overlap in their acoustic features.\n",
        "\n",
        "Increasing training data for underperforming classes may help boost performance.\n"
      ],
      "metadata": {
        "id": "avZYdK1l96Eo"
      }
    },
    {
      "cell_type": "code",
      "source": [],
      "metadata": {
        "id": "OWsl155M0zTR"
      },
      "execution_count": null,
      "outputs": []
    }
  ]
}