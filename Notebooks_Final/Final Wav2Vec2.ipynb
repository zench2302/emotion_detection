{
  "nbformat": 4,
  "nbformat_minor": 0,
  "metadata": {
    "colab": {
      "provenance": [],
      "machine_shape": "hm",
      "gpuType": "A100"
    },
    "kernelspec": {
      "name": "python3",
      "display_name": "Python 3"
    },
    "language_info": {
      "name": "python"
    },
    "accelerator": "GPU",
    "widgets": {
      "application/vnd.jupyter.widget-state+json": {
        "4b59aa23ebcc4c83b4debf971a346573": {
          "model_module": "@jupyter-widgets/controls",
          "model_name": "HBoxModel",
          "model_module_version": "1.5.0",
          "state": {
            "_dom_classes": [],
            "_model_module": "@jupyter-widgets/controls",
            "_model_module_version": "1.5.0",
            "_model_name": "HBoxModel",
            "_view_count": null,
            "_view_module": "@jupyter-widgets/controls",
            "_view_module_version": "1.5.0",
            "_view_name": "HBoxView",
            "box_style": "",
            "children": [
              "IPY_MODEL_0166f2e32e9742d09e421ec6e0dc2753",
              "IPY_MODEL_cc4ca32541e840dd88198b8f53223723",
              "IPY_MODEL_5379c41ba16941589ba2c33132ce3099"
            ],
            "layout": "IPY_MODEL_aad8215b85114baab470f43fd5fe0909"
          }
        },
        "0166f2e32e9742d09e421ec6e0dc2753": {
          "model_module": "@jupyter-widgets/controls",
          "model_name": "HTMLModel",
          "model_module_version": "1.5.0",
          "state": {
            "_dom_classes": [],
            "_model_module": "@jupyter-widgets/controls",
            "_model_module_version": "1.5.0",
            "_model_name": "HTMLModel",
            "_view_count": null,
            "_view_module": "@jupyter-widgets/controls",
            "_view_module_version": "1.5.0",
            "_view_name": "HTMLView",
            "description": "",
            "description_tooltip": null,
            "layout": "IPY_MODEL_b14a1c536eb94172b2bd83e1a4e5a6d7",
            "placeholder": "​",
            "style": "IPY_MODEL_693f897bc31d42af8f913fcf313a7413",
            "value": "preprocessor_config.json: 100%"
          }
        },
        "cc4ca32541e840dd88198b8f53223723": {
          "model_module": "@jupyter-widgets/controls",
          "model_name": "FloatProgressModel",
          "model_module_version": "1.5.0",
          "state": {
            "_dom_classes": [],
            "_model_module": "@jupyter-widgets/controls",
            "_model_module_version": "1.5.0",
            "_model_name": "FloatProgressModel",
            "_view_count": null,
            "_view_module": "@jupyter-widgets/controls",
            "_view_module_version": "1.5.0",
            "_view_name": "ProgressView",
            "bar_style": "success",
            "description": "",
            "description_tooltip": null,
            "layout": "IPY_MODEL_9b40c824fbc1463491794dad8a6105a9",
            "max": 159,
            "min": 0,
            "orientation": "horizontal",
            "style": "IPY_MODEL_34c8fa88464a41b5a92625e48258cd99",
            "value": 159
          }
        },
        "5379c41ba16941589ba2c33132ce3099": {
          "model_module": "@jupyter-widgets/controls",
          "model_name": "HTMLModel",
          "model_module_version": "1.5.0",
          "state": {
            "_dom_classes": [],
            "_model_module": "@jupyter-widgets/controls",
            "_model_module_version": "1.5.0",
            "_model_name": "HTMLModel",
            "_view_count": null,
            "_view_module": "@jupyter-widgets/controls",
            "_view_module_version": "1.5.0",
            "_view_name": "HTMLView",
            "description": "",
            "description_tooltip": null,
            "layout": "IPY_MODEL_244670932eff4f74961f90eb9217b81a",
            "placeholder": "​",
            "style": "IPY_MODEL_3c732f21182e46f58f353e87fa347bda",
            "value": " 159/159 [00:00&lt;00:00, 13.1kB/s]"
          }
        },
        "aad8215b85114baab470f43fd5fe0909": {
          "model_module": "@jupyter-widgets/base",
          "model_name": "LayoutModel",
          "model_module_version": "1.2.0",
          "state": {
            "_model_module": "@jupyter-widgets/base",
            "_model_module_version": "1.2.0",
            "_model_name": "LayoutModel",
            "_view_count": null,
            "_view_module": "@jupyter-widgets/base",
            "_view_module_version": "1.2.0",
            "_view_name": "LayoutView",
            "align_content": null,
            "align_items": null,
            "align_self": null,
            "border": null,
            "bottom": null,
            "display": null,
            "flex": null,
            "flex_flow": null,
            "grid_area": null,
            "grid_auto_columns": null,
            "grid_auto_flow": null,
            "grid_auto_rows": null,
            "grid_column": null,
            "grid_gap": null,
            "grid_row": null,
            "grid_template_areas": null,
            "grid_template_columns": null,
            "grid_template_rows": null,
            "height": null,
            "justify_content": null,
            "justify_items": null,
            "left": null,
            "margin": null,
            "max_height": null,
            "max_width": null,
            "min_height": null,
            "min_width": null,
            "object_fit": null,
            "object_position": null,
            "order": null,
            "overflow": null,
            "overflow_x": null,
            "overflow_y": null,
            "padding": null,
            "right": null,
            "top": null,
            "visibility": null,
            "width": null
          }
        },
        "b14a1c536eb94172b2bd83e1a4e5a6d7": {
          "model_module": "@jupyter-widgets/base",
          "model_name": "LayoutModel",
          "model_module_version": "1.2.0",
          "state": {
            "_model_module": "@jupyter-widgets/base",
            "_model_module_version": "1.2.0",
            "_model_name": "LayoutModel",
            "_view_count": null,
            "_view_module": "@jupyter-widgets/base",
            "_view_module_version": "1.2.0",
            "_view_name": "LayoutView",
            "align_content": null,
            "align_items": null,
            "align_self": null,
            "border": null,
            "bottom": null,
            "display": null,
            "flex": null,
            "flex_flow": null,
            "grid_area": null,
            "grid_auto_columns": null,
            "grid_auto_flow": null,
            "grid_auto_rows": null,
            "grid_column": null,
            "grid_gap": null,
            "grid_row": null,
            "grid_template_areas": null,
            "grid_template_columns": null,
            "grid_template_rows": null,
            "height": null,
            "justify_content": null,
            "justify_items": null,
            "left": null,
            "margin": null,
            "max_height": null,
            "max_width": null,
            "min_height": null,
            "min_width": null,
            "object_fit": null,
            "object_position": null,
            "order": null,
            "overflow": null,
            "overflow_x": null,
            "overflow_y": null,
            "padding": null,
            "right": null,
            "top": null,
            "visibility": null,
            "width": null
          }
        },
        "693f897bc31d42af8f913fcf313a7413": {
          "model_module": "@jupyter-widgets/controls",
          "model_name": "DescriptionStyleModel",
          "model_module_version": "1.5.0",
          "state": {
            "_model_module": "@jupyter-widgets/controls",
            "_model_module_version": "1.5.0",
            "_model_name": "DescriptionStyleModel",
            "_view_count": null,
            "_view_module": "@jupyter-widgets/base",
            "_view_module_version": "1.2.0",
            "_view_name": "StyleView",
            "description_width": ""
          }
        },
        "9b40c824fbc1463491794dad8a6105a9": {
          "model_module": "@jupyter-widgets/base",
          "model_name": "LayoutModel",
          "model_module_version": "1.2.0",
          "state": {
            "_model_module": "@jupyter-widgets/base",
            "_model_module_version": "1.2.0",
            "_model_name": "LayoutModel",
            "_view_count": null,
            "_view_module": "@jupyter-widgets/base",
            "_view_module_version": "1.2.0",
            "_view_name": "LayoutView",
            "align_content": null,
            "align_items": null,
            "align_self": null,
            "border": null,
            "bottom": null,
            "display": null,
            "flex": null,
            "flex_flow": null,
            "grid_area": null,
            "grid_auto_columns": null,
            "grid_auto_flow": null,
            "grid_auto_rows": null,
            "grid_column": null,
            "grid_gap": null,
            "grid_row": null,
            "grid_template_areas": null,
            "grid_template_columns": null,
            "grid_template_rows": null,
            "height": null,
            "justify_content": null,
            "justify_items": null,
            "left": null,
            "margin": null,
            "max_height": null,
            "max_width": null,
            "min_height": null,
            "min_width": null,
            "object_fit": null,
            "object_position": null,
            "order": null,
            "overflow": null,
            "overflow_x": null,
            "overflow_y": null,
            "padding": null,
            "right": null,
            "top": null,
            "visibility": null,
            "width": null
          }
        },
        "34c8fa88464a41b5a92625e48258cd99": {
          "model_module": "@jupyter-widgets/controls",
          "model_name": "ProgressStyleModel",
          "model_module_version": "1.5.0",
          "state": {
            "_model_module": "@jupyter-widgets/controls",
            "_model_module_version": "1.5.0",
            "_model_name": "ProgressStyleModel",
            "_view_count": null,
            "_view_module": "@jupyter-widgets/base",
            "_view_module_version": "1.2.0",
            "_view_name": "StyleView",
            "bar_color": null,
            "description_width": ""
          }
        },
        "244670932eff4f74961f90eb9217b81a": {
          "model_module": "@jupyter-widgets/base",
          "model_name": "LayoutModel",
          "model_module_version": "1.2.0",
          "state": {
            "_model_module": "@jupyter-widgets/base",
            "_model_module_version": "1.2.0",
            "_model_name": "LayoutModel",
            "_view_count": null,
            "_view_module": "@jupyter-widgets/base",
            "_view_module_version": "1.2.0",
            "_view_name": "LayoutView",
            "align_content": null,
            "align_items": null,
            "align_self": null,
            "border": null,
            "bottom": null,
            "display": null,
            "flex": null,
            "flex_flow": null,
            "grid_area": null,
            "grid_auto_columns": null,
            "grid_auto_flow": null,
            "grid_auto_rows": null,
            "grid_column": null,
            "grid_gap": null,
            "grid_row": null,
            "grid_template_areas": null,
            "grid_template_columns": null,
            "grid_template_rows": null,
            "height": null,
            "justify_content": null,
            "justify_items": null,
            "left": null,
            "margin": null,
            "max_height": null,
            "max_width": null,
            "min_height": null,
            "min_width": null,
            "object_fit": null,
            "object_position": null,
            "order": null,
            "overflow": null,
            "overflow_x": null,
            "overflow_y": null,
            "padding": null,
            "right": null,
            "top": null,
            "visibility": null,
            "width": null
          }
        },
        "3c732f21182e46f58f353e87fa347bda": {
          "model_module": "@jupyter-widgets/controls",
          "model_name": "DescriptionStyleModel",
          "model_module_version": "1.5.0",
          "state": {
            "_model_module": "@jupyter-widgets/controls",
            "_model_module_version": "1.5.0",
            "_model_name": "DescriptionStyleModel",
            "_view_count": null,
            "_view_module": "@jupyter-widgets/base",
            "_view_module_version": "1.2.0",
            "_view_name": "StyleView",
            "description_width": ""
          }
        },
        "5586932ddcf547558035c4d07315713b": {
          "model_module": "@jupyter-widgets/controls",
          "model_name": "HBoxModel",
          "model_module_version": "1.5.0",
          "state": {
            "_dom_classes": [],
            "_model_module": "@jupyter-widgets/controls",
            "_model_module_version": "1.5.0",
            "_model_name": "HBoxModel",
            "_view_count": null,
            "_view_module": "@jupyter-widgets/controls",
            "_view_module_version": "1.5.0",
            "_view_name": "HBoxView",
            "box_style": "",
            "children": [
              "IPY_MODEL_2e5d0bd2fc5646d7bb371f6508e52459",
              "IPY_MODEL_5295fb161ed4450db47d58e1b50390bd",
              "IPY_MODEL_c43c7ec0d0644e32a2760f15d1b0adb0"
            ],
            "layout": "IPY_MODEL_c1d035ef0b864fa2ae5fb262cf000ee9"
          }
        },
        "2e5d0bd2fc5646d7bb371f6508e52459": {
          "model_module": "@jupyter-widgets/controls",
          "model_name": "HTMLModel",
          "model_module_version": "1.5.0",
          "state": {
            "_dom_classes": [],
            "_model_module": "@jupyter-widgets/controls",
            "_model_module_version": "1.5.0",
            "_model_name": "HTMLModel",
            "_view_count": null,
            "_view_module": "@jupyter-widgets/controls",
            "_view_module_version": "1.5.0",
            "_view_name": "HTMLView",
            "description": "",
            "description_tooltip": null,
            "layout": "IPY_MODEL_1476ba0e669f4f569660eff7addc34f1",
            "placeholder": "​",
            "style": "IPY_MODEL_5485f64c10b1455eb182067216a72ceb",
            "value": "tokenizer_config.json: 100%"
          }
        },
        "5295fb161ed4450db47d58e1b50390bd": {
          "model_module": "@jupyter-widgets/controls",
          "model_name": "FloatProgressModel",
          "model_module_version": "1.5.0",
          "state": {
            "_dom_classes": [],
            "_model_module": "@jupyter-widgets/controls",
            "_model_module_version": "1.5.0",
            "_model_name": "FloatProgressModel",
            "_view_count": null,
            "_view_module": "@jupyter-widgets/controls",
            "_view_module_version": "1.5.0",
            "_view_name": "ProgressView",
            "bar_style": "success",
            "description": "",
            "description_tooltip": null,
            "layout": "IPY_MODEL_96d0f4273e9b4058951eddfe6956dd0d",
            "max": 163,
            "min": 0,
            "orientation": "horizontal",
            "style": "IPY_MODEL_60ed4275280540abb890a79d74082028",
            "value": 163
          }
        },
        "c43c7ec0d0644e32a2760f15d1b0adb0": {
          "model_module": "@jupyter-widgets/controls",
          "model_name": "HTMLModel",
          "model_module_version": "1.5.0",
          "state": {
            "_dom_classes": [],
            "_model_module": "@jupyter-widgets/controls",
            "_model_module_version": "1.5.0",
            "_model_name": "HTMLModel",
            "_view_count": null,
            "_view_module": "@jupyter-widgets/controls",
            "_view_module_version": "1.5.0",
            "_view_name": "HTMLView",
            "description": "",
            "description_tooltip": null,
            "layout": "IPY_MODEL_ae41a894b5a34488a4ec04397eeb4eaf",
            "placeholder": "​",
            "style": "IPY_MODEL_21faee182e15413e9e6f58429e915270",
            "value": " 163/163 [00:00&lt;00:00, 19.6kB/s]"
          }
        },
        "c1d035ef0b864fa2ae5fb262cf000ee9": {
          "model_module": "@jupyter-widgets/base",
          "model_name": "LayoutModel",
          "model_module_version": "1.2.0",
          "state": {
            "_model_module": "@jupyter-widgets/base",
            "_model_module_version": "1.2.0",
            "_model_name": "LayoutModel",
            "_view_count": null,
            "_view_module": "@jupyter-widgets/base",
            "_view_module_version": "1.2.0",
            "_view_name": "LayoutView",
            "align_content": null,
            "align_items": null,
            "align_self": null,
            "border": null,
            "bottom": null,
            "display": null,
            "flex": null,
            "flex_flow": null,
            "grid_area": null,
            "grid_auto_columns": null,
            "grid_auto_flow": null,
            "grid_auto_rows": null,
            "grid_column": null,
            "grid_gap": null,
            "grid_row": null,
            "grid_template_areas": null,
            "grid_template_columns": null,
            "grid_template_rows": null,
            "height": null,
            "justify_content": null,
            "justify_items": null,
            "left": null,
            "margin": null,
            "max_height": null,
            "max_width": null,
            "min_height": null,
            "min_width": null,
            "object_fit": null,
            "object_position": null,
            "order": null,
            "overflow": null,
            "overflow_x": null,
            "overflow_y": null,
            "padding": null,
            "right": null,
            "top": null,
            "visibility": null,
            "width": null
          }
        },
        "1476ba0e669f4f569660eff7addc34f1": {
          "model_module": "@jupyter-widgets/base",
          "model_name": "LayoutModel",
          "model_module_version": "1.2.0",
          "state": {
            "_model_module": "@jupyter-widgets/base",
            "_model_module_version": "1.2.0",
            "_model_name": "LayoutModel",
            "_view_count": null,
            "_view_module": "@jupyter-widgets/base",
            "_view_module_version": "1.2.0",
            "_view_name": "LayoutView",
            "align_content": null,
            "align_items": null,
            "align_self": null,
            "border": null,
            "bottom": null,
            "display": null,
            "flex": null,
            "flex_flow": null,
            "grid_area": null,
            "grid_auto_columns": null,
            "grid_auto_flow": null,
            "grid_auto_rows": null,
            "grid_column": null,
            "grid_gap": null,
            "grid_row": null,
            "grid_template_areas": null,
            "grid_template_columns": null,
            "grid_template_rows": null,
            "height": null,
            "justify_content": null,
            "justify_items": null,
            "left": null,
            "margin": null,
            "max_height": null,
            "max_width": null,
            "min_height": null,
            "min_width": null,
            "object_fit": null,
            "object_position": null,
            "order": null,
            "overflow": null,
            "overflow_x": null,
            "overflow_y": null,
            "padding": null,
            "right": null,
            "top": null,
            "visibility": null,
            "width": null
          }
        },
        "5485f64c10b1455eb182067216a72ceb": {
          "model_module": "@jupyter-widgets/controls",
          "model_name": "DescriptionStyleModel",
          "model_module_version": "1.5.0",
          "state": {
            "_model_module": "@jupyter-widgets/controls",
            "_model_module_version": "1.5.0",
            "_model_name": "DescriptionStyleModel",
            "_view_count": null,
            "_view_module": "@jupyter-widgets/base",
            "_view_module_version": "1.2.0",
            "_view_name": "StyleView",
            "description_width": ""
          }
        },
        "96d0f4273e9b4058951eddfe6956dd0d": {
          "model_module": "@jupyter-widgets/base",
          "model_name": "LayoutModel",
          "model_module_version": "1.2.0",
          "state": {
            "_model_module": "@jupyter-widgets/base",
            "_model_module_version": "1.2.0",
            "_model_name": "LayoutModel",
            "_view_count": null,
            "_view_module": "@jupyter-widgets/base",
            "_view_module_version": "1.2.0",
            "_view_name": "LayoutView",
            "align_content": null,
            "align_items": null,
            "align_self": null,
            "border": null,
            "bottom": null,
            "display": null,
            "flex": null,
            "flex_flow": null,
            "grid_area": null,
            "grid_auto_columns": null,
            "grid_auto_flow": null,
            "grid_auto_rows": null,
            "grid_column": null,
            "grid_gap": null,
            "grid_row": null,
            "grid_template_areas": null,
            "grid_template_columns": null,
            "grid_template_rows": null,
            "height": null,
            "justify_content": null,
            "justify_items": null,
            "left": null,
            "margin": null,
            "max_height": null,
            "max_width": null,
            "min_height": null,
            "min_width": null,
            "object_fit": null,
            "object_position": null,
            "order": null,
            "overflow": null,
            "overflow_x": null,
            "overflow_y": null,
            "padding": null,
            "right": null,
            "top": null,
            "visibility": null,
            "width": null
          }
        },
        "60ed4275280540abb890a79d74082028": {
          "model_module": "@jupyter-widgets/controls",
          "model_name": "ProgressStyleModel",
          "model_module_version": "1.5.0",
          "state": {
            "_model_module": "@jupyter-widgets/controls",
            "_model_module_version": "1.5.0",
            "_model_name": "ProgressStyleModel",
            "_view_count": null,
            "_view_module": "@jupyter-widgets/base",
            "_view_module_version": "1.2.0",
            "_view_name": "StyleView",
            "bar_color": null,
            "description_width": ""
          }
        },
        "ae41a894b5a34488a4ec04397eeb4eaf": {
          "model_module": "@jupyter-widgets/base",
          "model_name": "LayoutModel",
          "model_module_version": "1.2.0",
          "state": {
            "_model_module": "@jupyter-widgets/base",
            "_model_module_version": "1.2.0",
            "_model_name": "LayoutModel",
            "_view_count": null,
            "_view_module": "@jupyter-widgets/base",
            "_view_module_version": "1.2.0",
            "_view_name": "LayoutView",
            "align_content": null,
            "align_items": null,
            "align_self": null,
            "border": null,
            "bottom": null,
            "display": null,
            "flex": null,
            "flex_flow": null,
            "grid_area": null,
            "grid_auto_columns": null,
            "grid_auto_flow": null,
            "grid_auto_rows": null,
            "grid_column": null,
            "grid_gap": null,
            "grid_row": null,
            "grid_template_areas": null,
            "grid_template_columns": null,
            "grid_template_rows": null,
            "height": null,
            "justify_content": null,
            "justify_items": null,
            "left": null,
            "margin": null,
            "max_height": null,
            "max_width": null,
            "min_height": null,
            "min_width": null,
            "object_fit": null,
            "object_position": null,
            "order": null,
            "overflow": null,
            "overflow_x": null,
            "overflow_y": null,
            "padding": null,
            "right": null,
            "top": null,
            "visibility": null,
            "width": null
          }
        },
        "21faee182e15413e9e6f58429e915270": {
          "model_module": "@jupyter-widgets/controls",
          "model_name": "DescriptionStyleModel",
          "model_module_version": "1.5.0",
          "state": {
            "_model_module": "@jupyter-widgets/controls",
            "_model_module_version": "1.5.0",
            "_model_name": "DescriptionStyleModel",
            "_view_count": null,
            "_view_module": "@jupyter-widgets/base",
            "_view_module_version": "1.2.0",
            "_view_name": "StyleView",
            "description_width": ""
          }
        },
        "26963d067df940caa66f01edfcd8ad56": {
          "model_module": "@jupyter-widgets/controls",
          "model_name": "HBoxModel",
          "model_module_version": "1.5.0",
          "state": {
            "_dom_classes": [],
            "_model_module": "@jupyter-widgets/controls",
            "_model_module_version": "1.5.0",
            "_model_name": "HBoxModel",
            "_view_count": null,
            "_view_module": "@jupyter-widgets/controls",
            "_view_module_version": "1.5.0",
            "_view_name": "HBoxView",
            "box_style": "",
            "children": [
              "IPY_MODEL_61ba9546b6834b18b7d3a3531738a940",
              "IPY_MODEL_bb81537108144f34a3e3f4687c821ca2",
              "IPY_MODEL_c51ba0bd69bf4384a9552dc210a7794e"
            ],
            "layout": "IPY_MODEL_044e04de5504451abb46fc9e82c31ad5"
          }
        },
        "61ba9546b6834b18b7d3a3531738a940": {
          "model_module": "@jupyter-widgets/controls",
          "model_name": "HTMLModel",
          "model_module_version": "1.5.0",
          "state": {
            "_dom_classes": [],
            "_model_module": "@jupyter-widgets/controls",
            "_model_module_version": "1.5.0",
            "_model_name": "HTMLModel",
            "_view_count": null,
            "_view_module": "@jupyter-widgets/controls",
            "_view_module_version": "1.5.0",
            "_view_name": "HTMLView",
            "description": "",
            "description_tooltip": null,
            "layout": "IPY_MODEL_5023f42aaf4e488fb7d10f6103bcf41c",
            "placeholder": "​",
            "style": "IPY_MODEL_479e5ef1e280496199be48a1ade09ed0",
            "value": "config.json: 100%"
          }
        },
        "bb81537108144f34a3e3f4687c821ca2": {
          "model_module": "@jupyter-widgets/controls",
          "model_name": "FloatProgressModel",
          "model_module_version": "1.5.0",
          "state": {
            "_dom_classes": [],
            "_model_module": "@jupyter-widgets/controls",
            "_model_module_version": "1.5.0",
            "_model_name": "FloatProgressModel",
            "_view_count": null,
            "_view_module": "@jupyter-widgets/controls",
            "_view_module_version": "1.5.0",
            "_view_name": "ProgressView",
            "bar_style": "success",
            "description": "",
            "description_tooltip": null,
            "layout": "IPY_MODEL_25c917d4bc994998ad99c350c56de48f",
            "max": 1842,
            "min": 0,
            "orientation": "horizontal",
            "style": "IPY_MODEL_fce04cffff784d54ba672ac70effb956",
            "value": 1842
          }
        },
        "c51ba0bd69bf4384a9552dc210a7794e": {
          "model_module": "@jupyter-widgets/controls",
          "model_name": "HTMLModel",
          "model_module_version": "1.5.0",
          "state": {
            "_dom_classes": [],
            "_model_module": "@jupyter-widgets/controls",
            "_model_module_version": "1.5.0",
            "_model_name": "HTMLModel",
            "_view_count": null,
            "_view_module": "@jupyter-widgets/controls",
            "_view_module_version": "1.5.0",
            "_view_name": "HTMLView",
            "description": "",
            "description_tooltip": null,
            "layout": "IPY_MODEL_1afe46b7927747ec84b0c26d8045e3ae",
            "placeholder": "​",
            "style": "IPY_MODEL_a211234ef26e443a917b4413b8e0d298",
            "value": " 1.84k/1.84k [00:00&lt;00:00, 217kB/s]"
          }
        },
        "044e04de5504451abb46fc9e82c31ad5": {
          "model_module": "@jupyter-widgets/base",
          "model_name": "LayoutModel",
          "model_module_version": "1.2.0",
          "state": {
            "_model_module": "@jupyter-widgets/base",
            "_model_module_version": "1.2.0",
            "_model_name": "LayoutModel",
            "_view_count": null,
            "_view_module": "@jupyter-widgets/base",
            "_view_module_version": "1.2.0",
            "_view_name": "LayoutView",
            "align_content": null,
            "align_items": null,
            "align_self": null,
            "border": null,
            "bottom": null,
            "display": null,
            "flex": null,
            "flex_flow": null,
            "grid_area": null,
            "grid_auto_columns": null,
            "grid_auto_flow": null,
            "grid_auto_rows": null,
            "grid_column": null,
            "grid_gap": null,
            "grid_row": null,
            "grid_template_areas": null,
            "grid_template_columns": null,
            "grid_template_rows": null,
            "height": null,
            "justify_content": null,
            "justify_items": null,
            "left": null,
            "margin": null,
            "max_height": null,
            "max_width": null,
            "min_height": null,
            "min_width": null,
            "object_fit": null,
            "object_position": null,
            "order": null,
            "overflow": null,
            "overflow_x": null,
            "overflow_y": null,
            "padding": null,
            "right": null,
            "top": null,
            "visibility": null,
            "width": null
          }
        },
        "5023f42aaf4e488fb7d10f6103bcf41c": {
          "model_module": "@jupyter-widgets/base",
          "model_name": "LayoutModel",
          "model_module_version": "1.2.0",
          "state": {
            "_model_module": "@jupyter-widgets/base",
            "_model_module_version": "1.2.0",
            "_model_name": "LayoutModel",
            "_view_count": null,
            "_view_module": "@jupyter-widgets/base",
            "_view_module_version": "1.2.0",
            "_view_name": "LayoutView",
            "align_content": null,
            "align_items": null,
            "align_self": null,
            "border": null,
            "bottom": null,
            "display": null,
            "flex": null,
            "flex_flow": null,
            "grid_area": null,
            "grid_auto_columns": null,
            "grid_auto_flow": null,
            "grid_auto_rows": null,
            "grid_column": null,
            "grid_gap": null,
            "grid_row": null,
            "grid_template_areas": null,
            "grid_template_columns": null,
            "grid_template_rows": null,
            "height": null,
            "justify_content": null,
            "justify_items": null,
            "left": null,
            "margin": null,
            "max_height": null,
            "max_width": null,
            "min_height": null,
            "min_width": null,
            "object_fit": null,
            "object_position": null,
            "order": null,
            "overflow": null,
            "overflow_x": null,
            "overflow_y": null,
            "padding": null,
            "right": null,
            "top": null,
            "visibility": null,
            "width": null
          }
        },
        "479e5ef1e280496199be48a1ade09ed0": {
          "model_module": "@jupyter-widgets/controls",
          "model_name": "DescriptionStyleModel",
          "model_module_version": "1.5.0",
          "state": {
            "_model_module": "@jupyter-widgets/controls",
            "_model_module_version": "1.5.0",
            "_model_name": "DescriptionStyleModel",
            "_view_count": null,
            "_view_module": "@jupyter-widgets/base",
            "_view_module_version": "1.2.0",
            "_view_name": "StyleView",
            "description_width": ""
          }
        },
        "25c917d4bc994998ad99c350c56de48f": {
          "model_module": "@jupyter-widgets/base",
          "model_name": "LayoutModel",
          "model_module_version": "1.2.0",
          "state": {
            "_model_module": "@jupyter-widgets/base",
            "_model_module_version": "1.2.0",
            "_model_name": "LayoutModel",
            "_view_count": null,
            "_view_module": "@jupyter-widgets/base",
            "_view_module_version": "1.2.0",
            "_view_name": "LayoutView",
            "align_content": null,
            "align_items": null,
            "align_self": null,
            "border": null,
            "bottom": null,
            "display": null,
            "flex": null,
            "flex_flow": null,
            "grid_area": null,
            "grid_auto_columns": null,
            "grid_auto_flow": null,
            "grid_auto_rows": null,
            "grid_column": null,
            "grid_gap": null,
            "grid_row": null,
            "grid_template_areas": null,
            "grid_template_columns": null,
            "grid_template_rows": null,
            "height": null,
            "justify_content": null,
            "justify_items": null,
            "left": null,
            "margin": null,
            "max_height": null,
            "max_width": null,
            "min_height": null,
            "min_width": null,
            "object_fit": null,
            "object_position": null,
            "order": null,
            "overflow": null,
            "overflow_x": null,
            "overflow_y": null,
            "padding": null,
            "right": null,
            "top": null,
            "visibility": null,
            "width": null
          }
        },
        "fce04cffff784d54ba672ac70effb956": {
          "model_module": "@jupyter-widgets/controls",
          "model_name": "ProgressStyleModel",
          "model_module_version": "1.5.0",
          "state": {
            "_model_module": "@jupyter-widgets/controls",
            "_model_module_version": "1.5.0",
            "_model_name": "ProgressStyleModel",
            "_view_count": null,
            "_view_module": "@jupyter-widgets/base",
            "_view_module_version": "1.2.0",
            "_view_name": "StyleView",
            "bar_color": null,
            "description_width": ""
          }
        },
        "1afe46b7927747ec84b0c26d8045e3ae": {
          "model_module": "@jupyter-widgets/base",
          "model_name": "LayoutModel",
          "model_module_version": "1.2.0",
          "state": {
            "_model_module": "@jupyter-widgets/base",
            "_model_module_version": "1.2.0",
            "_model_name": "LayoutModel",
            "_view_count": null,
            "_view_module": "@jupyter-widgets/base",
            "_view_module_version": "1.2.0",
            "_view_name": "LayoutView",
            "align_content": null,
            "align_items": null,
            "align_self": null,
            "border": null,
            "bottom": null,
            "display": null,
            "flex": null,
            "flex_flow": null,
            "grid_area": null,
            "grid_auto_columns": null,
            "grid_auto_flow": null,
            "grid_auto_rows": null,
            "grid_column": null,
            "grid_gap": null,
            "grid_row": null,
            "grid_template_areas": null,
            "grid_template_columns": null,
            "grid_template_rows": null,
            "height": null,
            "justify_content": null,
            "justify_items": null,
            "left": null,
            "margin": null,
            "max_height": null,
            "max_width": null,
            "min_height": null,
            "min_width": null,
            "object_fit": null,
            "object_position": null,
            "order": null,
            "overflow": null,
            "overflow_x": null,
            "overflow_y": null,
            "padding": null,
            "right": null,
            "top": null,
            "visibility": null,
            "width": null
          }
        },
        "a211234ef26e443a917b4413b8e0d298": {
          "model_module": "@jupyter-widgets/controls",
          "model_name": "DescriptionStyleModel",
          "model_module_version": "1.5.0",
          "state": {
            "_model_module": "@jupyter-widgets/controls",
            "_model_module_version": "1.5.0",
            "_model_name": "DescriptionStyleModel",
            "_view_count": null,
            "_view_module": "@jupyter-widgets/base",
            "_view_module_version": "1.2.0",
            "_view_name": "StyleView",
            "description_width": ""
          }
        },
        "97948c5346aa418a973c7de47719c7f6": {
          "model_module": "@jupyter-widgets/controls",
          "model_name": "HBoxModel",
          "model_module_version": "1.5.0",
          "state": {
            "_dom_classes": [],
            "_model_module": "@jupyter-widgets/controls",
            "_model_module_version": "1.5.0",
            "_model_name": "HBoxModel",
            "_view_count": null,
            "_view_module": "@jupyter-widgets/controls",
            "_view_module_version": "1.5.0",
            "_view_name": "HBoxView",
            "box_style": "",
            "children": [
              "IPY_MODEL_8747173fa8124a418a3f58c9803e0b2c",
              "IPY_MODEL_8fdbcdfabf0244e3ad84696b712e97f3",
              "IPY_MODEL_1b7d928557fb425c8dd4d2f337153e4e"
            ],
            "layout": "IPY_MODEL_2d6c15dc131646c28900a70c918729e0"
          }
        },
        "8747173fa8124a418a3f58c9803e0b2c": {
          "model_module": "@jupyter-widgets/controls",
          "model_name": "HTMLModel",
          "model_module_version": "1.5.0",
          "state": {
            "_dom_classes": [],
            "_model_module": "@jupyter-widgets/controls",
            "_model_module_version": "1.5.0",
            "_model_name": "HTMLModel",
            "_view_count": null,
            "_view_module": "@jupyter-widgets/controls",
            "_view_module_version": "1.5.0",
            "_view_name": "HTMLView",
            "description": "",
            "description_tooltip": null,
            "layout": "IPY_MODEL_42aa67ce27e843b6b063272c0b139423",
            "placeholder": "​",
            "style": "IPY_MODEL_0f8844ecabca420eb9b55c5f86770c18",
            "value": "vocab.json: 100%"
          }
        },
        "8fdbcdfabf0244e3ad84696b712e97f3": {
          "model_module": "@jupyter-widgets/controls",
          "model_name": "FloatProgressModel",
          "model_module_version": "1.5.0",
          "state": {
            "_dom_classes": [],
            "_model_module": "@jupyter-widgets/controls",
            "_model_module_version": "1.5.0",
            "_model_name": "FloatProgressModel",
            "_view_count": null,
            "_view_module": "@jupyter-widgets/controls",
            "_view_module_version": "1.5.0",
            "_view_name": "ProgressView",
            "bar_style": "success",
            "description": "",
            "description_tooltip": null,
            "layout": "IPY_MODEL_df3e7ff685c842cdb04cb4cba48b1d2a",
            "max": 291,
            "min": 0,
            "orientation": "horizontal",
            "style": "IPY_MODEL_93d8a13638a24589be8a3e5bebf1e137",
            "value": 291
          }
        },
        "1b7d928557fb425c8dd4d2f337153e4e": {
          "model_module": "@jupyter-widgets/controls",
          "model_name": "HTMLModel",
          "model_module_version": "1.5.0",
          "state": {
            "_dom_classes": [],
            "_model_module": "@jupyter-widgets/controls",
            "_model_module_version": "1.5.0",
            "_model_name": "HTMLModel",
            "_view_count": null,
            "_view_module": "@jupyter-widgets/controls",
            "_view_module_version": "1.5.0",
            "_view_name": "HTMLView",
            "description": "",
            "description_tooltip": null,
            "layout": "IPY_MODEL_3bdde3deba3f44d599bef3587e6cc39a",
            "placeholder": "​",
            "style": "IPY_MODEL_3bc00571096145dd94bdd3a5fc7cc589",
            "value": " 291/291 [00:00&lt;00:00, 36.3kB/s]"
          }
        },
        "2d6c15dc131646c28900a70c918729e0": {
          "model_module": "@jupyter-widgets/base",
          "model_name": "LayoutModel",
          "model_module_version": "1.2.0",
          "state": {
            "_model_module": "@jupyter-widgets/base",
            "_model_module_version": "1.2.0",
            "_model_name": "LayoutModel",
            "_view_count": null,
            "_view_module": "@jupyter-widgets/base",
            "_view_module_version": "1.2.0",
            "_view_name": "LayoutView",
            "align_content": null,
            "align_items": null,
            "align_self": null,
            "border": null,
            "bottom": null,
            "display": null,
            "flex": null,
            "flex_flow": null,
            "grid_area": null,
            "grid_auto_columns": null,
            "grid_auto_flow": null,
            "grid_auto_rows": null,
            "grid_column": null,
            "grid_gap": null,
            "grid_row": null,
            "grid_template_areas": null,
            "grid_template_columns": null,
            "grid_template_rows": null,
            "height": null,
            "justify_content": null,
            "justify_items": null,
            "left": null,
            "margin": null,
            "max_height": null,
            "max_width": null,
            "min_height": null,
            "min_width": null,
            "object_fit": null,
            "object_position": null,
            "order": null,
            "overflow": null,
            "overflow_x": null,
            "overflow_y": null,
            "padding": null,
            "right": null,
            "top": null,
            "visibility": null,
            "width": null
          }
        },
        "42aa67ce27e843b6b063272c0b139423": {
          "model_module": "@jupyter-widgets/base",
          "model_name": "LayoutModel",
          "model_module_version": "1.2.0",
          "state": {
            "_model_module": "@jupyter-widgets/base",
            "_model_module_version": "1.2.0",
            "_model_name": "LayoutModel",
            "_view_count": null,
            "_view_module": "@jupyter-widgets/base",
            "_view_module_version": "1.2.0",
            "_view_name": "LayoutView",
            "align_content": null,
            "align_items": null,
            "align_self": null,
            "border": null,
            "bottom": null,
            "display": null,
            "flex": null,
            "flex_flow": null,
            "grid_area": null,
            "grid_auto_columns": null,
            "grid_auto_flow": null,
            "grid_auto_rows": null,
            "grid_column": null,
            "grid_gap": null,
            "grid_row": null,
            "grid_template_areas": null,
            "grid_template_columns": null,
            "grid_template_rows": null,
            "height": null,
            "justify_content": null,
            "justify_items": null,
            "left": null,
            "margin": null,
            "max_height": null,
            "max_width": null,
            "min_height": null,
            "min_width": null,
            "object_fit": null,
            "object_position": null,
            "order": null,
            "overflow": null,
            "overflow_x": null,
            "overflow_y": null,
            "padding": null,
            "right": null,
            "top": null,
            "visibility": null,
            "width": null
          }
        },
        "0f8844ecabca420eb9b55c5f86770c18": {
          "model_module": "@jupyter-widgets/controls",
          "model_name": "DescriptionStyleModel",
          "model_module_version": "1.5.0",
          "state": {
            "_model_module": "@jupyter-widgets/controls",
            "_model_module_version": "1.5.0",
            "_model_name": "DescriptionStyleModel",
            "_view_count": null,
            "_view_module": "@jupyter-widgets/base",
            "_view_module_version": "1.2.0",
            "_view_name": "StyleView",
            "description_width": ""
          }
        },
        "df3e7ff685c842cdb04cb4cba48b1d2a": {
          "model_module": "@jupyter-widgets/base",
          "model_name": "LayoutModel",
          "model_module_version": "1.2.0",
          "state": {
            "_model_module": "@jupyter-widgets/base",
            "_model_module_version": "1.2.0",
            "_model_name": "LayoutModel",
            "_view_count": null,
            "_view_module": "@jupyter-widgets/base",
            "_view_module_version": "1.2.0",
            "_view_name": "LayoutView",
            "align_content": null,
            "align_items": null,
            "align_self": null,
            "border": null,
            "bottom": null,
            "display": null,
            "flex": null,
            "flex_flow": null,
            "grid_area": null,
            "grid_auto_columns": null,
            "grid_auto_flow": null,
            "grid_auto_rows": null,
            "grid_column": null,
            "grid_gap": null,
            "grid_row": null,
            "grid_template_areas": null,
            "grid_template_columns": null,
            "grid_template_rows": null,
            "height": null,
            "justify_content": null,
            "justify_items": null,
            "left": null,
            "margin": null,
            "max_height": null,
            "max_width": null,
            "min_height": null,
            "min_width": null,
            "object_fit": null,
            "object_position": null,
            "order": null,
            "overflow": null,
            "overflow_x": null,
            "overflow_y": null,
            "padding": null,
            "right": null,
            "top": null,
            "visibility": null,
            "width": null
          }
        },
        "93d8a13638a24589be8a3e5bebf1e137": {
          "model_module": "@jupyter-widgets/controls",
          "model_name": "ProgressStyleModel",
          "model_module_version": "1.5.0",
          "state": {
            "_model_module": "@jupyter-widgets/controls",
            "_model_module_version": "1.5.0",
            "_model_name": "ProgressStyleModel",
            "_view_count": null,
            "_view_module": "@jupyter-widgets/base",
            "_view_module_version": "1.2.0",
            "_view_name": "StyleView",
            "bar_color": null,
            "description_width": ""
          }
        },
        "3bdde3deba3f44d599bef3587e6cc39a": {
          "model_module": "@jupyter-widgets/base",
          "model_name": "LayoutModel",
          "model_module_version": "1.2.0",
          "state": {
            "_model_module": "@jupyter-widgets/base",
            "_model_module_version": "1.2.0",
            "_model_name": "LayoutModel",
            "_view_count": null,
            "_view_module": "@jupyter-widgets/base",
            "_view_module_version": "1.2.0",
            "_view_name": "LayoutView",
            "align_content": null,
            "align_items": null,
            "align_self": null,
            "border": null,
            "bottom": null,
            "display": null,
            "flex": null,
            "flex_flow": null,
            "grid_area": null,
            "grid_auto_columns": null,
            "grid_auto_flow": null,
            "grid_auto_rows": null,
            "grid_column": null,
            "grid_gap": null,
            "grid_row": null,
            "grid_template_areas": null,
            "grid_template_columns": null,
            "grid_template_rows": null,
            "height": null,
            "justify_content": null,
            "justify_items": null,
            "left": null,
            "margin": null,
            "max_height": null,
            "max_width": null,
            "min_height": null,
            "min_width": null,
            "object_fit": null,
            "object_position": null,
            "order": null,
            "overflow": null,
            "overflow_x": null,
            "overflow_y": null,
            "padding": null,
            "right": null,
            "top": null,
            "visibility": null,
            "width": null
          }
        },
        "3bc00571096145dd94bdd3a5fc7cc589": {
          "model_module": "@jupyter-widgets/controls",
          "model_name": "DescriptionStyleModel",
          "model_module_version": "1.5.0",
          "state": {
            "_model_module": "@jupyter-widgets/controls",
            "_model_module_version": "1.5.0",
            "_model_name": "DescriptionStyleModel",
            "_view_count": null,
            "_view_module": "@jupyter-widgets/base",
            "_view_module_version": "1.2.0",
            "_view_name": "StyleView",
            "description_width": ""
          }
        },
        "711cfc28c3334837a124469c13e83f8f": {
          "model_module": "@jupyter-widgets/controls",
          "model_name": "HBoxModel",
          "model_module_version": "1.5.0",
          "state": {
            "_dom_classes": [],
            "_model_module": "@jupyter-widgets/controls",
            "_model_module_version": "1.5.0",
            "_model_name": "HBoxModel",
            "_view_count": null,
            "_view_module": "@jupyter-widgets/controls",
            "_view_module_version": "1.5.0",
            "_view_name": "HBoxView",
            "box_style": "",
            "children": [
              "IPY_MODEL_1a9d05af4fe5413c8232b62ff0591435",
              "IPY_MODEL_454fb2d05c2441c48aa5700c51a03c53",
              "IPY_MODEL_5a4c5b99dc174227b744d00ada422a7b"
            ],
            "layout": "IPY_MODEL_1e0e2b80a7294d898b77d42ab00ee5aa"
          }
        },
        "1a9d05af4fe5413c8232b62ff0591435": {
          "model_module": "@jupyter-widgets/controls",
          "model_name": "HTMLModel",
          "model_module_version": "1.5.0",
          "state": {
            "_dom_classes": [],
            "_model_module": "@jupyter-widgets/controls",
            "_model_module_version": "1.5.0",
            "_model_name": "HTMLModel",
            "_view_count": null,
            "_view_module": "@jupyter-widgets/controls",
            "_view_module_version": "1.5.0",
            "_view_name": "HTMLView",
            "description": "",
            "description_tooltip": null,
            "layout": "IPY_MODEL_dac6494b2b0646d3983aa2692bf77fd3",
            "placeholder": "​",
            "style": "IPY_MODEL_804ec81f987040279cf43795e5f47f73",
            "value": "special_tokens_map.json: 100%"
          }
        },
        "454fb2d05c2441c48aa5700c51a03c53": {
          "model_module": "@jupyter-widgets/controls",
          "model_name": "FloatProgressModel",
          "model_module_version": "1.5.0",
          "state": {
            "_dom_classes": [],
            "_model_module": "@jupyter-widgets/controls",
            "_model_module_version": "1.5.0",
            "_model_name": "FloatProgressModel",
            "_view_count": null,
            "_view_module": "@jupyter-widgets/controls",
            "_view_module_version": "1.5.0",
            "_view_name": "ProgressView",
            "bar_style": "success",
            "description": "",
            "description_tooltip": null,
            "layout": "IPY_MODEL_531e0f14709c41c19a76f143a5e00dcd",
            "max": 85,
            "min": 0,
            "orientation": "horizontal",
            "style": "IPY_MODEL_743c7021ef2a49bea6acab753a4d6633",
            "value": 85
          }
        },
        "5a4c5b99dc174227b744d00ada422a7b": {
          "model_module": "@jupyter-widgets/controls",
          "model_name": "HTMLModel",
          "model_module_version": "1.5.0",
          "state": {
            "_dom_classes": [],
            "_model_module": "@jupyter-widgets/controls",
            "_model_module_version": "1.5.0",
            "_model_name": "HTMLModel",
            "_view_count": null,
            "_view_module": "@jupyter-widgets/controls",
            "_view_module_version": "1.5.0",
            "_view_name": "HTMLView",
            "description": "",
            "description_tooltip": null,
            "layout": "IPY_MODEL_57f0058933ef41548b2d662966a3b245",
            "placeholder": "​",
            "style": "IPY_MODEL_939ea9c857cc4e9e88347b5a13024b2a",
            "value": " 85.0/85.0 [00:00&lt;00:00, 10.5kB/s]"
          }
        },
        "1e0e2b80a7294d898b77d42ab00ee5aa": {
          "model_module": "@jupyter-widgets/base",
          "model_name": "LayoutModel",
          "model_module_version": "1.2.0",
          "state": {
            "_model_module": "@jupyter-widgets/base",
            "_model_module_version": "1.2.0",
            "_model_name": "LayoutModel",
            "_view_count": null,
            "_view_module": "@jupyter-widgets/base",
            "_view_module_version": "1.2.0",
            "_view_name": "LayoutView",
            "align_content": null,
            "align_items": null,
            "align_self": null,
            "border": null,
            "bottom": null,
            "display": null,
            "flex": null,
            "flex_flow": null,
            "grid_area": null,
            "grid_auto_columns": null,
            "grid_auto_flow": null,
            "grid_auto_rows": null,
            "grid_column": null,
            "grid_gap": null,
            "grid_row": null,
            "grid_template_areas": null,
            "grid_template_columns": null,
            "grid_template_rows": null,
            "height": null,
            "justify_content": null,
            "justify_items": null,
            "left": null,
            "margin": null,
            "max_height": null,
            "max_width": null,
            "min_height": null,
            "min_width": null,
            "object_fit": null,
            "object_position": null,
            "order": null,
            "overflow": null,
            "overflow_x": null,
            "overflow_y": null,
            "padding": null,
            "right": null,
            "top": null,
            "visibility": null,
            "width": null
          }
        },
        "dac6494b2b0646d3983aa2692bf77fd3": {
          "model_module": "@jupyter-widgets/base",
          "model_name": "LayoutModel",
          "model_module_version": "1.2.0",
          "state": {
            "_model_module": "@jupyter-widgets/base",
            "_model_module_version": "1.2.0",
            "_model_name": "LayoutModel",
            "_view_count": null,
            "_view_module": "@jupyter-widgets/base",
            "_view_module_version": "1.2.0",
            "_view_name": "LayoutView",
            "align_content": null,
            "align_items": null,
            "align_self": null,
            "border": null,
            "bottom": null,
            "display": null,
            "flex": null,
            "flex_flow": null,
            "grid_area": null,
            "grid_auto_columns": null,
            "grid_auto_flow": null,
            "grid_auto_rows": null,
            "grid_column": null,
            "grid_gap": null,
            "grid_row": null,
            "grid_template_areas": null,
            "grid_template_columns": null,
            "grid_template_rows": null,
            "height": null,
            "justify_content": null,
            "justify_items": null,
            "left": null,
            "margin": null,
            "max_height": null,
            "max_width": null,
            "min_height": null,
            "min_width": null,
            "object_fit": null,
            "object_position": null,
            "order": null,
            "overflow": null,
            "overflow_x": null,
            "overflow_y": null,
            "padding": null,
            "right": null,
            "top": null,
            "visibility": null,
            "width": null
          }
        },
        "804ec81f987040279cf43795e5f47f73": {
          "model_module": "@jupyter-widgets/controls",
          "model_name": "DescriptionStyleModel",
          "model_module_version": "1.5.0",
          "state": {
            "_model_module": "@jupyter-widgets/controls",
            "_model_module_version": "1.5.0",
            "_model_name": "DescriptionStyleModel",
            "_view_count": null,
            "_view_module": "@jupyter-widgets/base",
            "_view_module_version": "1.2.0",
            "_view_name": "StyleView",
            "description_width": ""
          }
        },
        "531e0f14709c41c19a76f143a5e00dcd": {
          "model_module": "@jupyter-widgets/base",
          "model_name": "LayoutModel",
          "model_module_version": "1.2.0",
          "state": {
            "_model_module": "@jupyter-widgets/base",
            "_model_module_version": "1.2.0",
            "_model_name": "LayoutModel",
            "_view_count": null,
            "_view_module": "@jupyter-widgets/base",
            "_view_module_version": "1.2.0",
            "_view_name": "LayoutView",
            "align_content": null,
            "align_items": null,
            "align_self": null,
            "border": null,
            "bottom": null,
            "display": null,
            "flex": null,
            "flex_flow": null,
            "grid_area": null,
            "grid_auto_columns": null,
            "grid_auto_flow": null,
            "grid_auto_rows": null,
            "grid_column": null,
            "grid_gap": null,
            "grid_row": null,
            "grid_template_areas": null,
            "grid_template_columns": null,
            "grid_template_rows": null,
            "height": null,
            "justify_content": null,
            "justify_items": null,
            "left": null,
            "margin": null,
            "max_height": null,
            "max_width": null,
            "min_height": null,
            "min_width": null,
            "object_fit": null,
            "object_position": null,
            "order": null,
            "overflow": null,
            "overflow_x": null,
            "overflow_y": null,
            "padding": null,
            "right": null,
            "top": null,
            "visibility": null,
            "width": null
          }
        },
        "743c7021ef2a49bea6acab753a4d6633": {
          "model_module": "@jupyter-widgets/controls",
          "model_name": "ProgressStyleModel",
          "model_module_version": "1.5.0",
          "state": {
            "_model_module": "@jupyter-widgets/controls",
            "_model_module_version": "1.5.0",
            "_model_name": "ProgressStyleModel",
            "_view_count": null,
            "_view_module": "@jupyter-widgets/base",
            "_view_module_version": "1.2.0",
            "_view_name": "StyleView",
            "bar_color": null,
            "description_width": ""
          }
        },
        "57f0058933ef41548b2d662966a3b245": {
          "model_module": "@jupyter-widgets/base",
          "model_name": "LayoutModel",
          "model_module_version": "1.2.0",
          "state": {
            "_model_module": "@jupyter-widgets/base",
            "_model_module_version": "1.2.0",
            "_model_name": "LayoutModel",
            "_view_count": null,
            "_view_module": "@jupyter-widgets/base",
            "_view_module_version": "1.2.0",
            "_view_name": "LayoutView",
            "align_content": null,
            "align_items": null,
            "align_self": null,
            "border": null,
            "bottom": null,
            "display": null,
            "flex": null,
            "flex_flow": null,
            "grid_area": null,
            "grid_auto_columns": null,
            "grid_auto_flow": null,
            "grid_auto_rows": null,
            "grid_column": null,
            "grid_gap": null,
            "grid_row": null,
            "grid_template_areas": null,
            "grid_template_columns": null,
            "grid_template_rows": null,
            "height": null,
            "justify_content": null,
            "justify_items": null,
            "left": null,
            "margin": null,
            "max_height": null,
            "max_width": null,
            "min_height": null,
            "min_width": null,
            "object_fit": null,
            "object_position": null,
            "order": null,
            "overflow": null,
            "overflow_x": null,
            "overflow_y": null,
            "padding": null,
            "right": null,
            "top": null,
            "visibility": null,
            "width": null
          }
        },
        "939ea9c857cc4e9e88347b5a13024b2a": {
          "model_module": "@jupyter-widgets/controls",
          "model_name": "DescriptionStyleModel",
          "model_module_version": "1.5.0",
          "state": {
            "_model_module": "@jupyter-widgets/controls",
            "_model_module_version": "1.5.0",
            "_model_name": "DescriptionStyleModel",
            "_view_count": null,
            "_view_module": "@jupyter-widgets/base",
            "_view_module_version": "1.2.0",
            "_view_name": "StyleView",
            "description_width": ""
          }
        },
        "e3a1a807aecc4ad695168a31fad63354": {
          "model_module": "@jupyter-widgets/controls",
          "model_name": "HBoxModel",
          "model_module_version": "1.5.0",
          "state": {
            "_dom_classes": [],
            "_model_module": "@jupyter-widgets/controls",
            "_model_module_version": "1.5.0",
            "_model_name": "HBoxModel",
            "_view_count": null,
            "_view_module": "@jupyter-widgets/controls",
            "_view_module_version": "1.5.0",
            "_view_name": "HBoxView",
            "box_style": "",
            "children": [
              "IPY_MODEL_2509f2d17bb6431c843ebc0fce8b3fc7",
              "IPY_MODEL_bc111da429da4c20997d9dda8a150cdb",
              "IPY_MODEL_b5f0bd130392496382a4842deeba1a71"
            ],
            "layout": "IPY_MODEL_676a747fa2654e48aaf2f1e6fc1bb729"
          }
        },
        "2509f2d17bb6431c843ebc0fce8b3fc7": {
          "model_module": "@jupyter-widgets/controls",
          "model_name": "HTMLModel",
          "model_module_version": "1.5.0",
          "state": {
            "_dom_classes": [],
            "_model_module": "@jupyter-widgets/controls",
            "_model_module_version": "1.5.0",
            "_model_name": "HTMLModel",
            "_view_count": null,
            "_view_module": "@jupyter-widgets/controls",
            "_view_module_version": "1.5.0",
            "_view_name": "HTMLView",
            "description": "",
            "description_tooltip": null,
            "layout": "IPY_MODEL_3b7f96c063884d3b8dff2dc22c58f10d",
            "placeholder": "​",
            "style": "IPY_MODEL_1e427d4835e34e3abec74e273e66515d",
            "value": "pytorch_model.bin: 100%"
          }
        },
        "bc111da429da4c20997d9dda8a150cdb": {
          "model_module": "@jupyter-widgets/controls",
          "model_name": "FloatProgressModel",
          "model_module_version": "1.5.0",
          "state": {
            "_dom_classes": [],
            "_model_module": "@jupyter-widgets/controls",
            "_model_module_version": "1.5.0",
            "_model_name": "FloatProgressModel",
            "_view_count": null,
            "_view_module": "@jupyter-widgets/controls",
            "_view_module_version": "1.5.0",
            "_view_name": "ProgressView",
            "bar_style": "success",
            "description": "",
            "description_tooltip": null,
            "layout": "IPY_MODEL_f1c7984378d647e58560bb2958216d82",
            "max": 380267417,
            "min": 0,
            "orientation": "horizontal",
            "style": "IPY_MODEL_eed24d2438d749af86ff99ca4eb7181e",
            "value": 380267417
          }
        },
        "b5f0bd130392496382a4842deeba1a71": {
          "model_module": "@jupyter-widgets/controls",
          "model_name": "HTMLModel",
          "model_module_version": "1.5.0",
          "state": {
            "_dom_classes": [],
            "_model_module": "@jupyter-widgets/controls",
            "_model_module_version": "1.5.0",
            "_model_name": "HTMLModel",
            "_view_count": null,
            "_view_module": "@jupyter-widgets/controls",
            "_view_module_version": "1.5.0",
            "_view_name": "HTMLView",
            "description": "",
            "description_tooltip": null,
            "layout": "IPY_MODEL_eb5a0abde33944079562dcffd53ee02c",
            "placeholder": "​",
            "style": "IPY_MODEL_c2353daf69524521bdeb50930bed5108",
            "value": " 380M/380M [00:00&lt;00:00, 451MB/s]"
          }
        },
        "676a747fa2654e48aaf2f1e6fc1bb729": {
          "model_module": "@jupyter-widgets/base",
          "model_name": "LayoutModel",
          "model_module_version": "1.2.0",
          "state": {
            "_model_module": "@jupyter-widgets/base",
            "_model_module_version": "1.2.0",
            "_model_name": "LayoutModel",
            "_view_count": null,
            "_view_module": "@jupyter-widgets/base",
            "_view_module_version": "1.2.0",
            "_view_name": "LayoutView",
            "align_content": null,
            "align_items": null,
            "align_self": null,
            "border": null,
            "bottom": null,
            "display": null,
            "flex": null,
            "flex_flow": null,
            "grid_area": null,
            "grid_auto_columns": null,
            "grid_auto_flow": null,
            "grid_auto_rows": null,
            "grid_column": null,
            "grid_gap": null,
            "grid_row": null,
            "grid_template_areas": null,
            "grid_template_columns": null,
            "grid_template_rows": null,
            "height": null,
            "justify_content": null,
            "justify_items": null,
            "left": null,
            "margin": null,
            "max_height": null,
            "max_width": null,
            "min_height": null,
            "min_width": null,
            "object_fit": null,
            "object_position": null,
            "order": null,
            "overflow": null,
            "overflow_x": null,
            "overflow_y": null,
            "padding": null,
            "right": null,
            "top": null,
            "visibility": null,
            "width": null
          }
        },
        "3b7f96c063884d3b8dff2dc22c58f10d": {
          "model_module": "@jupyter-widgets/base",
          "model_name": "LayoutModel",
          "model_module_version": "1.2.0",
          "state": {
            "_model_module": "@jupyter-widgets/base",
            "_model_module_version": "1.2.0",
            "_model_name": "LayoutModel",
            "_view_count": null,
            "_view_module": "@jupyter-widgets/base",
            "_view_module_version": "1.2.0",
            "_view_name": "LayoutView",
            "align_content": null,
            "align_items": null,
            "align_self": null,
            "border": null,
            "bottom": null,
            "display": null,
            "flex": null,
            "flex_flow": null,
            "grid_area": null,
            "grid_auto_columns": null,
            "grid_auto_flow": null,
            "grid_auto_rows": null,
            "grid_column": null,
            "grid_gap": null,
            "grid_row": null,
            "grid_template_areas": null,
            "grid_template_columns": null,
            "grid_template_rows": null,
            "height": null,
            "justify_content": null,
            "justify_items": null,
            "left": null,
            "margin": null,
            "max_height": null,
            "max_width": null,
            "min_height": null,
            "min_width": null,
            "object_fit": null,
            "object_position": null,
            "order": null,
            "overflow": null,
            "overflow_x": null,
            "overflow_y": null,
            "padding": null,
            "right": null,
            "top": null,
            "visibility": null,
            "width": null
          }
        },
        "1e427d4835e34e3abec74e273e66515d": {
          "model_module": "@jupyter-widgets/controls",
          "model_name": "DescriptionStyleModel",
          "model_module_version": "1.5.0",
          "state": {
            "_model_module": "@jupyter-widgets/controls",
            "_model_module_version": "1.5.0",
            "_model_name": "DescriptionStyleModel",
            "_view_count": null,
            "_view_module": "@jupyter-widgets/base",
            "_view_module_version": "1.2.0",
            "_view_name": "StyleView",
            "description_width": ""
          }
        },
        "f1c7984378d647e58560bb2958216d82": {
          "model_module": "@jupyter-widgets/base",
          "model_name": "LayoutModel",
          "model_module_version": "1.2.0",
          "state": {
            "_model_module": "@jupyter-widgets/base",
            "_model_module_version": "1.2.0",
            "_model_name": "LayoutModel",
            "_view_count": null,
            "_view_module": "@jupyter-widgets/base",
            "_view_module_version": "1.2.0",
            "_view_name": "LayoutView",
            "align_content": null,
            "align_items": null,
            "align_self": null,
            "border": null,
            "bottom": null,
            "display": null,
            "flex": null,
            "flex_flow": null,
            "grid_area": null,
            "grid_auto_columns": null,
            "grid_auto_flow": null,
            "grid_auto_rows": null,
            "grid_column": null,
            "grid_gap": null,
            "grid_row": null,
            "grid_template_areas": null,
            "grid_template_columns": null,
            "grid_template_rows": null,
            "height": null,
            "justify_content": null,
            "justify_items": null,
            "left": null,
            "margin": null,
            "max_height": null,
            "max_width": null,
            "min_height": null,
            "min_width": null,
            "object_fit": null,
            "object_position": null,
            "order": null,
            "overflow": null,
            "overflow_x": null,
            "overflow_y": null,
            "padding": null,
            "right": null,
            "top": null,
            "visibility": null,
            "width": null
          }
        },
        "eed24d2438d749af86ff99ca4eb7181e": {
          "model_module": "@jupyter-widgets/controls",
          "model_name": "ProgressStyleModel",
          "model_module_version": "1.5.0",
          "state": {
            "_model_module": "@jupyter-widgets/controls",
            "_model_module_version": "1.5.0",
            "_model_name": "ProgressStyleModel",
            "_view_count": null,
            "_view_module": "@jupyter-widgets/base",
            "_view_module_version": "1.2.0",
            "_view_name": "StyleView",
            "bar_color": null,
            "description_width": ""
          }
        },
        "eb5a0abde33944079562dcffd53ee02c": {
          "model_module": "@jupyter-widgets/base",
          "model_name": "LayoutModel",
          "model_module_version": "1.2.0",
          "state": {
            "_model_module": "@jupyter-widgets/base",
            "_model_module_version": "1.2.0",
            "_model_name": "LayoutModel",
            "_view_count": null,
            "_view_module": "@jupyter-widgets/base",
            "_view_module_version": "1.2.0",
            "_view_name": "LayoutView",
            "align_content": null,
            "align_items": null,
            "align_self": null,
            "border": null,
            "bottom": null,
            "display": null,
            "flex": null,
            "flex_flow": null,
            "grid_area": null,
            "grid_auto_columns": null,
            "grid_auto_flow": null,
            "grid_auto_rows": null,
            "grid_column": null,
            "grid_gap": null,
            "grid_row": null,
            "grid_template_areas": null,
            "grid_template_columns": null,
            "grid_template_rows": null,
            "height": null,
            "justify_content": null,
            "justify_items": null,
            "left": null,
            "margin": null,
            "max_height": null,
            "max_width": null,
            "min_height": null,
            "min_width": null,
            "object_fit": null,
            "object_position": null,
            "order": null,
            "overflow": null,
            "overflow_x": null,
            "overflow_y": null,
            "padding": null,
            "right": null,
            "top": null,
            "visibility": null,
            "width": null
          }
        },
        "c2353daf69524521bdeb50930bed5108": {
          "model_module": "@jupyter-widgets/controls",
          "model_name": "DescriptionStyleModel",
          "model_module_version": "1.5.0",
          "state": {
            "_model_module": "@jupyter-widgets/controls",
            "_model_module_version": "1.5.0",
            "_model_name": "DescriptionStyleModel",
            "_view_count": null,
            "_view_module": "@jupyter-widgets/base",
            "_view_module_version": "1.2.0",
            "_view_name": "StyleView",
            "description_width": ""
          }
        }
      }
    }
  },
  "cells": [
    {
      "cell_type": "markdown",
      "source": [
        "# Imports and Setup"
      ],
      "metadata": {
        "id": "2ohrVcFno_CE"
      }
    },
    {
      "cell_type": "markdown",
      "source": [
        "The `transformers` and `torchaudio` libraries are used to load and manipulate pretrained Wav2Vec2 models. `librosa` is employed for audio signal processing, while `pandas` and `numpy` help manage metadata and numerical operations. `matplotlib` and `seaborn` are used for data visualization, and `sklearn` provides machine learning utilities. We also mount Google Drive to access the dataset and save extracted features and models persistently."
      ],
      "metadata": {
        "id": "-eH22mIWb_d2"
      }
    },
    {
      "cell_type": "code",
      "execution_count": null,
      "metadata": {
        "id": "uyG-FDsMoisD",
        "colab": {
          "base_uri": "https://localhost:8080/"
        },
        "outputId": "51772fec-3f9c-4983-dc98-679d58b1dbd8"
      },
      "outputs": [
        {
          "output_type": "stream",
          "name": "stdout",
          "text": [
            "\u001b[2K   \u001b[90m━━━━━━━━━━━━━━━━━━━━━━━━━━━━━━━━━━━━━━━━\u001b[0m \u001b[32m363.4/363.4 MB\u001b[0m \u001b[31m4.5 MB/s\u001b[0m eta \u001b[36m0:00:00\u001b[0m\n",
            "\u001b[2K   \u001b[90m━━━━━━━━━━━━━━━━━━━━━━━━━━━━━━━━━━━━━━━━\u001b[0m \u001b[32m13.8/13.8 MB\u001b[0m \u001b[31m94.6 MB/s\u001b[0m eta \u001b[36m0:00:00\u001b[0m\n",
            "\u001b[2K   \u001b[90m━━━━━━━━━━━━━━━━━━━━━━━━━━━━━━━━━━━━━━━━\u001b[0m \u001b[32m24.6/24.6 MB\u001b[0m \u001b[31m86.1 MB/s\u001b[0m eta \u001b[36m0:00:00\u001b[0m\n",
            "\u001b[2K   \u001b[90m━━━━━━━━━━━━━━━━━━━━━━━━━━━━━━━━━━━━━━━━\u001b[0m \u001b[32m883.7/883.7 kB\u001b[0m \u001b[31m37.8 MB/s\u001b[0m eta \u001b[36m0:00:00\u001b[0m\n",
            "\u001b[2K   \u001b[90m━━━━━━━━━━━━━━━━━━━━━━━━━━━━━━━━━━━━━━━━\u001b[0m \u001b[32m664.8/664.8 MB\u001b[0m \u001b[31m1.9 MB/s\u001b[0m eta \u001b[36m0:00:00\u001b[0m\n",
            "\u001b[2K   \u001b[90m━━━━━━━━━━━━━━━━━━━━━━━━━━━━━━━━━━━━━━━━\u001b[0m \u001b[32m211.5/211.5 MB\u001b[0m \u001b[31m10.5 MB/s\u001b[0m eta \u001b[36m0:00:00\u001b[0m\n",
            "\u001b[2K   \u001b[90m━━━━━━━━━━━━━━━━━━━━━━━━━━━━━━━━━━━━━━━━\u001b[0m \u001b[32m56.3/56.3 MB\u001b[0m \u001b[31m40.8 MB/s\u001b[0m eta \u001b[36m0:00:00\u001b[0m\n",
            "\u001b[2K   \u001b[90m━━━━━━━━━━━━━━━━━━━━━━━━━━━━━━━━━━━━━━━━\u001b[0m \u001b[32m127.9/127.9 MB\u001b[0m \u001b[31m19.6 MB/s\u001b[0m eta \u001b[36m0:00:00\u001b[0m\n",
            "\u001b[?25h\u001b[33mWARNING: Retrying (Retry(total=4, connect=None, read=None, redirect=None, status=None)) after connection broken by 'ProtocolError('Connection aborted.', RemoteDisconnected('Remote end closed connection without response'))': /packages/db/f7/97a9ea26ed4bbbfc2d470994b8b4f338ef663be97b8f677519ac195e113d/nvidia_cusparse_cu12-12.3.1.170-py3-none-manylinux2014_x86_64.whl\u001b[0m\u001b[33m\n",
            "\u001b[2K   \u001b[90m━━━━━━━━━━━━━━━━━━━━━━━━━━━━━━━━━━━━━━━━\u001b[0m \u001b[32m207.5/207.5 MB\u001b[0m \u001b[31m3.3 MB/s\u001b[0m eta \u001b[36m0:00:00\u001b[0m\n",
            "\u001b[2K   \u001b[90m━━━━━━━━━━━━━━━━━━━━━━━━━━━━━━━━━━━━━━━━\u001b[0m \u001b[32m21.1/21.1 MB\u001b[0m \u001b[31m107.6 MB/s\u001b[0m eta \u001b[36m0:00:00\u001b[0m\n",
            "\u001b[?25h"
          ]
        }
      ],
      "source": [
        "# Install required packages\n",
        "!pip install -q transformers torchaudio librosa scikit-learn tqdm"
      ]
    },
    {
      "cell_type": "code",
      "source": [
        "# Core imports\n",
        "import os\n",
        "import torch\n",
        "import torch.nn as nn\n",
        "import librosa\n",
        "import numpy as np\n",
        "import pandas as pd\n",
        "import matplotlib.pyplot as plt\n",
        "import seaborn as sns\n",
        "import copy\n",
        "from tqdm import tqdm\n",
        "from torch.utils.data import Dataset, DataLoader, TensorDataset\n",
        "from torch.nn.utils.rnn import pad_sequence\n",
        "from transformers import Wav2Vec2Model, Wav2Vec2Processor\n",
        "from sklearn.linear_model import LogisticRegression\n",
        "from sklearn.metrics import (\n",
        "    classification_report,\n",
        "    confusion_matrix,\n",
        "    accuracy_score,\n",
        "    top_k_accuracy_score,\n",
        "    precision_recall_fscore_support\n",
        ")\n",
        "from sklearn.model_selection import train_test_split"
      ],
      "metadata": {
        "id": "fvOye8P8oqfV"
      },
      "execution_count": null,
      "outputs": []
    },
    {
      "cell_type": "code",
      "source": [
        "# Mount Google Drive (for Colab)\n",
        "from google.colab import drive\n",
        "drive.mount('/content/drive')"
      ],
      "metadata": {
        "colab": {
          "base_uri": "https://localhost:8080/"
        },
        "id": "n7OfK-mkoqha",
        "outputId": "53f41ef2-8009-48a7-c8d4-e2f5827b1376"
      },
      "execution_count": null,
      "outputs": [
        {
          "output_type": "stream",
          "name": "stdout",
          "text": [
            "Mounted at /content/drive\n"
          ]
        }
      ]
    },
    {
      "cell_type": "markdown",
      "source": [
        "In this part, we define paths to key directories within Google Drive where data, extracted features, and results will be stored. The paths are centralized under `DRIVE_ROOT`, ensuring all outputs and intermediate files are consistently saved and retrieved from the same project location. This is crucial for reproducibility and organization across different runs of the notebook for the different team members."
      ],
      "metadata": {
        "id": "IYMOX3aFcLmN"
      }
    },
    {
      "cell_type": "code",
      "source": [
        "# Set up file paths\n",
        "DRIVE_ROOT = '/content/drive/MyDrive/emotion_recognition_project'\n",
        "metadata_path = os.path.join(DRIVE_ROOT, 'processed_metadata.csv')"
      ],
      "metadata": {
        "id": "QfsTU5pLoqjS"
      },
      "execution_count": null,
      "outputs": []
    },
    {
      "cell_type": "code",
      "source": [
        "# Create directories for saving features and models\n",
        "FEATURE_DIR = os.path.join(DRIVE_ROOT, 'experiments')\n",
        "os.makedirs(FEATURE_DIR, exist_ok=True)\n",
        "\n",
        "SEQUENCE_DIR = os.path.join(DRIVE_ROOT, 'sequences')\n",
        "os.makedirs(SEQUENCE_DIR, exist_ok=True)"
      ],
      "metadata": {
        "id": "Si7jOswRoqlh"
      },
      "execution_count": null,
      "outputs": []
    },
    {
      "cell_type": "markdown",
      "source": [
        "# Data Loading and preprocessing"
      ],
      "metadata": {
        "id": "5fyv69s8pG72"
      }
    },
    {
      "cell_type": "markdown",
      "source": [
        "We load the processed metadata CSV containing references to audio files paths, labels, and quality assurance flags (e.g., `processed_success`). Only successfully processed samples are retained (In the oreoricessing step all files were successfully processed). We also create a label mapping to encode the categorical emotion labels into integers, which are later used for classification [from emotion label strings ('happy', 'sad'...) to integers (0, 1, ...)]."
      ],
      "metadata": {
        "id": "fSbZj6LJcTNK"
      }
    },
    {
      "cell_type": "code",
      "source": [
        "# Load and filter dataset\n",
        "df = pd.read_csv(metadata_path)\n",
        "df = df[df['processed_success'] == True].reset_index(drop=True)\n",
        "\n",
        "# Create label mapping\n",
        "label_map = {label: idx for idx, label in enumerate(sorted(df['label'].unique()))}\n",
        "inverse_label_map = {idx: label for label, idx in label_map.items()}\n",
        "df['labels'] = df['label'].map(label_map)"
      ],
      "metadata": {
        "id": "gwPTGPf5oqnx"
      },
      "execution_count": null,
      "outputs": []
    },
    {
      "cell_type": "markdown",
      "source": [
        "We also define a PyTorch `Dataset` class to load and preprocess raw audio waveforms. Each waveform is either padded or truncated to a fixed length (4 seconds or 64000 samples at 16kHz). This preprocessing ensures that all audio samples have the same shape, which is a requirement for model input. This class feeds clean and uniform waveform inputs into our experiments.\n",
        "\n",
        "*Note: in the preprocessing stage, the audio files were already resampled and correctly convertetd to the desired input*"
      ],
      "metadata": {
        "id": "GcN7SQWycwl7"
      }
    },
    {
      "cell_type": "code",
      "source": [
        "# Dataset class definition\n",
        "class SERFrozenWav2Vec2Dataset(Dataset):\n",
        "    def __init__(self, df, processor, max_length=64000):\n",
        "        self.df = df.reset_index(drop=True)\n",
        "        self.processor = processor\n",
        "        self.max_length = max_length\n",
        "\n",
        "    def __len__(self):\n",
        "        return len(self.df)\n",
        "\n",
        "    def __getitem__(self, idx):\n",
        "        row = self.df.iloc[idx]\n",
        "        path = row['processed_path']\n",
        "        label = row['labels']\n",
        "\n",
        "        speech, _ = librosa.load(path, sr=16000)\n",
        "        if len(speech) > self.max_length:\n",
        "            speech = speech[:self.max_length]\n",
        "        else:\n",
        "            speech = np.pad(speech, (0, self.max_length - len(speech)))\n",
        "\n",
        "        return speech, label\n"
      ],
      "metadata": {
        "id": "h6isq5-0oqp3"
      },
      "execution_count": null,
      "outputs": []
    },
    {
      "cell_type": "markdown",
      "source": [
        "We load Facebook's `wav2vec2-base` pretrained model and processor from Hugging Face.\n",
        "\n",
        "The processor converts raw waveform into model-compatible tensors, and the model itself outputs hidden representations from multiple layers. We set `output_hidden_states=True` to retrieve the intermediate layer outputs required for the later experiments.\n"
      ],
      "metadata": {
        "id": "UztD0i2SeTBo"
      }
    },
    {
      "cell_type": "code",
      "source": [
        "# Load Wav2Vec2 model and processor\n",
        "processor = Wav2Vec2Processor.from_pretrained('facebook/wav2vec2-base')\n",
        "model = Wav2Vec2Model.from_pretrained('facebook/wav2vec2-base', output_hidden_states=True)\n",
        "model.eval()"
      ],
      "metadata": {
        "colab": {
          "base_uri": "https://localhost:8080/",
          "height": 1000,
          "referenced_widgets": [
            "4b59aa23ebcc4c83b4debf971a346573",
            "0166f2e32e9742d09e421ec6e0dc2753",
            "cc4ca32541e840dd88198b8f53223723",
            "5379c41ba16941589ba2c33132ce3099",
            "aad8215b85114baab470f43fd5fe0909",
            "b14a1c536eb94172b2bd83e1a4e5a6d7",
            "693f897bc31d42af8f913fcf313a7413",
            "9b40c824fbc1463491794dad8a6105a9",
            "34c8fa88464a41b5a92625e48258cd99",
            "244670932eff4f74961f90eb9217b81a",
            "3c732f21182e46f58f353e87fa347bda",
            "5586932ddcf547558035c4d07315713b",
            "2e5d0bd2fc5646d7bb371f6508e52459",
            "5295fb161ed4450db47d58e1b50390bd",
            "c43c7ec0d0644e32a2760f15d1b0adb0",
            "c1d035ef0b864fa2ae5fb262cf000ee9",
            "1476ba0e669f4f569660eff7addc34f1",
            "5485f64c10b1455eb182067216a72ceb",
            "96d0f4273e9b4058951eddfe6956dd0d",
            "60ed4275280540abb890a79d74082028",
            "ae41a894b5a34488a4ec04397eeb4eaf",
            "21faee182e15413e9e6f58429e915270",
            "26963d067df940caa66f01edfcd8ad56",
            "61ba9546b6834b18b7d3a3531738a940",
            "bb81537108144f34a3e3f4687c821ca2",
            "c51ba0bd69bf4384a9552dc210a7794e",
            "044e04de5504451abb46fc9e82c31ad5",
            "5023f42aaf4e488fb7d10f6103bcf41c",
            "479e5ef1e280496199be48a1ade09ed0",
            "25c917d4bc994998ad99c350c56de48f",
            "fce04cffff784d54ba672ac70effb956",
            "1afe46b7927747ec84b0c26d8045e3ae",
            "a211234ef26e443a917b4413b8e0d298",
            "97948c5346aa418a973c7de47719c7f6",
            "8747173fa8124a418a3f58c9803e0b2c",
            "8fdbcdfabf0244e3ad84696b712e97f3",
            "1b7d928557fb425c8dd4d2f337153e4e",
            "2d6c15dc131646c28900a70c918729e0",
            "42aa67ce27e843b6b063272c0b139423",
            "0f8844ecabca420eb9b55c5f86770c18",
            "df3e7ff685c842cdb04cb4cba48b1d2a",
            "93d8a13638a24589be8a3e5bebf1e137",
            "3bdde3deba3f44d599bef3587e6cc39a",
            "3bc00571096145dd94bdd3a5fc7cc589",
            "711cfc28c3334837a124469c13e83f8f",
            "1a9d05af4fe5413c8232b62ff0591435",
            "454fb2d05c2441c48aa5700c51a03c53",
            "5a4c5b99dc174227b744d00ada422a7b",
            "1e0e2b80a7294d898b77d42ab00ee5aa",
            "dac6494b2b0646d3983aa2692bf77fd3",
            "804ec81f987040279cf43795e5f47f73",
            "531e0f14709c41c19a76f143a5e00dcd",
            "743c7021ef2a49bea6acab753a4d6633",
            "57f0058933ef41548b2d662966a3b245",
            "939ea9c857cc4e9e88347b5a13024b2a",
            "e3a1a807aecc4ad695168a31fad63354",
            "2509f2d17bb6431c843ebc0fce8b3fc7",
            "bc111da429da4c20997d9dda8a150cdb",
            "b5f0bd130392496382a4842deeba1a71",
            "676a747fa2654e48aaf2f1e6fc1bb729",
            "3b7f96c063884d3b8dff2dc22c58f10d",
            "1e427d4835e34e3abec74e273e66515d",
            "f1c7984378d647e58560bb2958216d82",
            "eed24d2438d749af86ff99ca4eb7181e",
            "eb5a0abde33944079562dcffd53ee02c",
            "c2353daf69524521bdeb50930bed5108"
          ]
        },
        "id": "wQ0qyZQvoqr-",
        "outputId": "9294107d-2945-482f-f73e-9f2a86216ee6"
      },
      "execution_count": null,
      "outputs": [
        {
          "output_type": "stream",
          "name": "stderr",
          "text": [
            "/usr/local/lib/python3.11/dist-packages/huggingface_hub/utils/_auth.py:94: UserWarning: \n",
            "The secret `HF_TOKEN` does not exist in your Colab secrets.\n",
            "To authenticate with the Hugging Face Hub, create a token in your settings tab (https://huggingface.co/settings/tokens), set it as secret in your Google Colab and restart your session.\n",
            "You will be able to reuse this secret in all of your notebooks.\n",
            "Please note that authentication is recommended but still optional to access public models or datasets.\n",
            "  warnings.warn(\n"
          ]
        },
        {
          "output_type": "display_data",
          "data": {
            "text/plain": [
              "preprocessor_config.json:   0%|          | 0.00/159 [00:00<?, ?B/s]"
            ],
            "application/vnd.jupyter.widget-view+json": {
              "version_major": 2,
              "version_minor": 0,
              "model_id": "4b59aa23ebcc4c83b4debf971a346573"
            }
          },
          "metadata": {}
        },
        {
          "output_type": "display_data",
          "data": {
            "text/plain": [
              "tokenizer_config.json:   0%|          | 0.00/163 [00:00<?, ?B/s]"
            ],
            "application/vnd.jupyter.widget-view+json": {
              "version_major": 2,
              "version_minor": 0,
              "model_id": "5586932ddcf547558035c4d07315713b"
            }
          },
          "metadata": {}
        },
        {
          "output_type": "display_data",
          "data": {
            "text/plain": [
              "config.json:   0%|          | 0.00/1.84k [00:00<?, ?B/s]"
            ],
            "application/vnd.jupyter.widget-view+json": {
              "version_major": 2,
              "version_minor": 0,
              "model_id": "26963d067df940caa66f01edfcd8ad56"
            }
          },
          "metadata": {}
        },
        {
          "output_type": "stream",
          "name": "stderr",
          "text": [
            "/usr/local/lib/python3.11/dist-packages/transformers/configuration_utils.py:311: UserWarning: Passing `gradient_checkpointing` to a config initialization is deprecated and will be removed in v5 Transformers. Using `model.gradient_checkpointing_enable()` instead, or if you are using the `Trainer` API, pass `gradient_checkpointing=True` in your `TrainingArguments`.\n",
            "  warnings.warn(\n"
          ]
        },
        {
          "output_type": "display_data",
          "data": {
            "text/plain": [
              "vocab.json:   0%|          | 0.00/291 [00:00<?, ?B/s]"
            ],
            "application/vnd.jupyter.widget-view+json": {
              "version_major": 2,
              "version_minor": 0,
              "model_id": "97948c5346aa418a973c7de47719c7f6"
            }
          },
          "metadata": {}
        },
        {
          "output_type": "display_data",
          "data": {
            "text/plain": [
              "special_tokens_map.json:   0%|          | 0.00/85.0 [00:00<?, ?B/s]"
            ],
            "application/vnd.jupyter.widget-view+json": {
              "version_major": 2,
              "version_minor": 0,
              "model_id": "711cfc28c3334837a124469c13e83f8f"
            }
          },
          "metadata": {}
        },
        {
          "output_type": "display_data",
          "data": {
            "text/plain": [
              "pytorch_model.bin:   0%|          | 0.00/380M [00:00<?, ?B/s]"
            ],
            "application/vnd.jupyter.widget-view+json": {
              "version_major": 2,
              "version_minor": 0,
              "model_id": "e3a1a807aecc4ad695168a31fad63354"
            }
          },
          "metadata": {}
        },
        {
          "output_type": "execute_result",
          "data": {
            "text/plain": [
              "Wav2Vec2Model(\n",
              "  (feature_extractor): Wav2Vec2FeatureEncoder(\n",
              "    (conv_layers): ModuleList(\n",
              "      (0): Wav2Vec2GroupNormConvLayer(\n",
              "        (conv): Conv1d(1, 512, kernel_size=(10,), stride=(5,), bias=False)\n",
              "        (activation): GELUActivation()\n",
              "        (layer_norm): GroupNorm(512, 512, eps=1e-05, affine=True)\n",
              "      )\n",
              "      (1-4): 4 x Wav2Vec2NoLayerNormConvLayer(\n",
              "        (conv): Conv1d(512, 512, kernel_size=(3,), stride=(2,), bias=False)\n",
              "        (activation): GELUActivation()\n",
              "      )\n",
              "      (5-6): 2 x Wav2Vec2NoLayerNormConvLayer(\n",
              "        (conv): Conv1d(512, 512, kernel_size=(2,), stride=(2,), bias=False)\n",
              "        (activation): GELUActivation()\n",
              "      )\n",
              "    )\n",
              "  )\n",
              "  (feature_projection): Wav2Vec2FeatureProjection(\n",
              "    (layer_norm): LayerNorm((512,), eps=1e-05, elementwise_affine=True)\n",
              "    (projection): Linear(in_features=512, out_features=768, bias=True)\n",
              "    (dropout): Dropout(p=0.1, inplace=False)\n",
              "  )\n",
              "  (encoder): Wav2Vec2Encoder(\n",
              "    (pos_conv_embed): Wav2Vec2PositionalConvEmbedding(\n",
              "      (conv): ParametrizedConv1d(\n",
              "        768, 768, kernel_size=(128,), stride=(1,), padding=(64,), groups=16\n",
              "        (parametrizations): ModuleDict(\n",
              "          (weight): ParametrizationList(\n",
              "            (0): _WeightNorm()\n",
              "          )\n",
              "        )\n",
              "      )\n",
              "      (padding): Wav2Vec2SamePadLayer()\n",
              "      (activation): GELUActivation()\n",
              "    )\n",
              "    (layer_norm): LayerNorm((768,), eps=1e-05, elementwise_affine=True)\n",
              "    (dropout): Dropout(p=0.1, inplace=False)\n",
              "    (layers): ModuleList(\n",
              "      (0-11): 12 x Wav2Vec2EncoderLayer(\n",
              "        (attention): Wav2Vec2SdpaAttention(\n",
              "          (k_proj): Linear(in_features=768, out_features=768, bias=True)\n",
              "          (v_proj): Linear(in_features=768, out_features=768, bias=True)\n",
              "          (q_proj): Linear(in_features=768, out_features=768, bias=True)\n",
              "          (out_proj): Linear(in_features=768, out_features=768, bias=True)\n",
              "        )\n",
              "        (dropout): Dropout(p=0.1, inplace=False)\n",
              "        (layer_norm): LayerNorm((768,), eps=1e-05, elementwise_affine=True)\n",
              "        (feed_forward): Wav2Vec2FeedForward(\n",
              "          (intermediate_dropout): Dropout(p=0.0, inplace=False)\n",
              "          (intermediate_dense): Linear(in_features=768, out_features=3072, bias=True)\n",
              "          (intermediate_act_fn): GELUActivation()\n",
              "          (output_dense): Linear(in_features=3072, out_features=768, bias=True)\n",
              "          (output_dropout): Dropout(p=0.1, inplace=False)\n",
              "        )\n",
              "        (final_layer_norm): LayerNorm((768,), eps=1e-05, elementwise_affine=True)\n",
              "      )\n",
              "    )\n",
              "  )\n",
              ")"
            ]
          },
          "metadata": {},
          "execution_count": 8
        }
      ]
    },
    {
      "cell_type": "markdown",
      "source": [
        "To evaluate model performance fairly, we split the dataset into training and testing subsets using stratified sampling to preserve label distribution. These subsets are converted into our custom `SERFrozenWav2Vec2Dataset` instances for our specific use."
      ],
      "metadata": {
        "id": "5CnBzm8iecFo"
      }
    },
    {
      "cell_type": "code",
      "source": [
        "# Train-test split\n",
        "train_df, test_df = train_test_split(df, test_size=0.2, stratify=df['labels'], random_state=42)\n",
        "train_dataset = SERFrozenWav2Vec2Dataset(train_df, processor)\n",
        "test_dataset = SERFrozenWav2Vec2Dataset(test_df, processor)"
      ],
      "metadata": {
        "id": "wIuUrjWmoquI"
      },
      "execution_count": null,
      "outputs": []
    },
    {
      "cell_type": "markdown",
      "source": [
        "# Utility functions"
      ],
      "metadata": {
        "id": "gzss1Lo8pQ84"
      }
    },
    {
      "cell_type": "markdown",
      "source": [
        "This section provides helper functions to save and load extracted features and sequence data to/from disk. Evaluation metrics and confusion matrices are also defined here, enabling standardized performance reporting across all of the Wav2Vec2 related experiments."
      ],
      "metadata": {
        "id": "8XPAj86rejRL"
      }
    },
    {
      "cell_type": "code",
      "source": [
        "# Feature storage and loading utilities\n",
        "def save_features(X, y, prefix):\n",
        "    exp_dir = os.path.join(FEATURE_DIR, prefix)\n",
        "    os.makedirs(exp_dir, exist_ok=True)\n",
        "    np.save(os.path.join(exp_dir, f\"X.npy\"), X)\n",
        "    np.save(os.path.join(exp_dir, f\"y.npy\"), y)\n",
        "\n",
        "def load_features(prefix):\n",
        "    exp_dir = os.path.join(FEATURE_DIR, prefix)\n",
        "    X = np.load(os.path.join(exp_dir, f\"X.npy\"))\n",
        "    y = np.load(os.path.join(exp_dir, f\"y.npy\"))\n",
        "    return X, y\n",
        "\n",
        "def save_sequences(X, y, name):\n",
        "    torch.save((X, y), os.path.join(SEQUENCE_DIR, f\"{name}.pt\"))\n",
        "\n",
        "def load_sequences(name):\n",
        "    return torch.load(os.path.join(SEQUENCE_DIR, f\"{name}.pt\"))\n",
        "\n",
        "# Evaluation utility for all the experiements\n",
        "def evaluate_classification(y_true, y_pred, y_probs, label_names, title):\n",
        "    acc = accuracy_score(y_true, y_pred)\n",
        "    top3 = top_k_accuracy_score(y_true, y_probs, k=3)\n",
        "    prec, rec, f1, _ = precision_recall_fscore_support(y_true, y_pred, average='weighted')\n",
        "\n",
        "    print(f\"\\n{title} Metrics:\")\n",
        "    print(f\"Accuracy: {acc:.4f}\")\n",
        "    print(f\"Top-3 Accuracy: {top3:.4f}\")\n",
        "    print(f\"Precision: {prec:.4f}\")\n",
        "    print(f\"Recall: {rec:.4f}\")\n",
        "    print(f\"F1-Score: {f1:.4f}\")\n",
        "\n",
        "    cm = confusion_matrix(y_true, y_pred)\n",
        "    plt.figure(figsize=(11,7))\n",
        "    sns.heatmap(cm, annot=True, fmt='d', cmap='Blues', xticklabels=label_names, yticklabels=label_names)\n",
        "    plt.xlabel('Predicted')\n",
        "    plt.ylabel('True')\n",
        "    plt.title(f'Confusion Matrix for {title}')\n",
        "    plt.show()\n",
        "\n",
        "# Generic model training function (for neural network  realted experiments)\n",
        "def train_model(model, train_loader, val_loader, label_names, title, num_epochs=50, lr=1e-3, patience=5):\n",
        "    \"\"\"\n",
        "    A reusable training function is defined to handle model optimization, early stopping, learning rate scheduling, and visualization.\n",
        "    This function works for any model that takes tensor input and outputs logits. Evaluation and training plots are also handled here.\n",
        "    \"\"\"\n",
        "    device = torch.device('cuda' if torch.cuda.is_available() else 'cpu')\n",
        "    model = model.to(device)\n",
        "\n",
        "    optimizer = torch.optim.Adam(model.parameters(), lr=lr)\n",
        "    scheduler = torch.optim.lr_scheduler.ReduceLROnPlateau(optimizer, mode='min', factor=0.5, patience=2)\n",
        "    criterion = nn.CrossEntropyLoss()\n",
        "\n",
        "    best_val_loss = float('inf')\n",
        "    best_model_wts = copy.deepcopy(model.state_dict())\n",
        "    best_epoch = 0\n",
        "\n",
        "    train_losses, val_losses, train_accs, val_accs = [], [], [], []\n",
        "\n",
        "    for epoch in range(num_epochs):\n",
        "        model.train()\n",
        "        train_loss, train_corrects, total_train = 0.0, 0, 0\n",
        "\n",
        "        for inputs, labels in train_loader:\n",
        "            inputs, labels = inputs.to(device), labels.to(device)\n",
        "            optimizer.zero_grad()\n",
        "            outputs = model(inputs)\n",
        "            loss = criterion(outputs, labels)\n",
        "            loss.backward()\n",
        "            optimizer.step()\n",
        "\n",
        "            train_loss += loss.item() * inputs.size(0)\n",
        "            preds = outputs.argmax(dim=1)\n",
        "            train_corrects += (preds == labels).sum().item()\n",
        "            total_train += labels.size(0)\n",
        "\n",
        "        train_loss /= total_train\n",
        "        train_acc = train_corrects / total_train\n",
        "\n",
        "        model.eval()\n",
        "        val_loss, val_corrects, total_val = 0.0, 0, 0\n",
        "        y_true, y_pred, y_probs = [], [], []\n",
        "\n",
        "        with torch.no_grad():\n",
        "            for inputs, labels in val_loader:\n",
        "                inputs, labels = inputs.to(device), labels.to(device)\n",
        "                outputs = model(inputs)\n",
        "                loss = criterion(outputs, labels)\n",
        "                val_loss += loss.item() * inputs.size(0)\n",
        "                preds = outputs.argmax(dim=1)\n",
        "                probs = torch.softmax(outputs, dim=-1)\n",
        "                y_true.append(labels.cpu())\n",
        "                y_pred.append(preds.cpu())\n",
        "                y_probs.append(probs.cpu())\n",
        "                val_corrects += (preds == labels).sum().item()\n",
        "                total_val += labels.size(0)\n",
        "\n",
        "        val_loss /= total_val\n",
        "        val_acc = val_corrects / total_val\n",
        "\n",
        "        train_losses.append(train_loss)\n",
        "        val_losses.append(val_loss)\n",
        "        train_accs.append(train_acc)\n",
        "        val_accs.append(val_acc)\n",
        "\n",
        "        scheduler.step(val_loss)\n",
        "\n",
        "        print(f\"Epoch {epoch+1}: Train Loss={train_loss:.4f}, Val Loss={val_loss:.4f}, Train Acc={train_acc:.4f}, Val Acc={val_acc:.4f}\")\n",
        "\n",
        "        if val_loss < best_val_loss:\n",
        "            best_val_loss = val_loss\n",
        "            best_model_wts = copy.deepcopy(model.state_dict())\n",
        "            best_epoch = epoch\n",
        "\n",
        "        if epoch - best_epoch >= patience:\n",
        "            print(f\"Early stopping at epoch {epoch+1}\")\n",
        "            break\n",
        "\n",
        "    model.load_state_dict(best_model_wts)\n",
        "\n",
        "    y_true = torch.cat(y_true).numpy()\n",
        "    y_pred = torch.cat(y_pred).numpy()\n",
        "    y_probs = torch.cat(y_probs).numpy()\n",
        "\n",
        "    evaluate_classification(y_true, y_pred, y_probs, label_names, title)\n",
        "\n",
        "    plt.plot(train_losses, label='Train Loss')\n",
        "    plt.plot(val_losses, label='Val Loss')\n",
        "    plt.legend()\n",
        "    plt.title(f'{title} - Training/Validation Loss')\n",
        "    plt.xlabel('Epoch')\n",
        "    plt.ylabel('Loss')\n",
        "    plt.show()\n",
        "\n",
        "    plt.plot(train_accs, label='Train Accuracy')\n",
        "    plt.plot(val_accs, label='Val Accuracy')\n",
        "    plt.legend()\n",
        "    plt.title(f'{title} - Training/Validation Accuracy')\n",
        "    plt.xlabel('Epoch')\n",
        "    plt.ylabel('Accuracy')\n",
        "    plt.show()\n",
        "\n",
        "    return model"
      ],
      "metadata": {
        "id": "a-VTCbzHoqwP"
      },
      "execution_count": null,
      "outputs": []
    },
    {
      "cell_type": "markdown",
      "source": [
        "# Preparing sequence features for Neural Network Experiments"
      ],
      "metadata": {
        "id": "QM7HVxM1p5li"
      }
    },
    {
      "cell_type": "markdown",
      "source": [
        "In this step, we extract sequence-based features from the **last hidden layer** of the Wav2Vec2 model. These features are necessary for neural architectures that process time-series data, such as **BiLSTM** and **Attention-based** models.\n",
        "\n",
        "1. **Checks for existing cached features**:\n",
        "   - Looks for pre-saved PyTorch tensors (`train_seq.pt`, `test_seq.pt`) to avoid recomputation.\n",
        "\n",
        "2. **If not cached, extracts features from scratch**:\n",
        "   - For each audio file:\n",
        "     - Loads the waveform.\n",
        "     - Feeds it into the **frozen Wav2Vec2 model** using the processor.\n",
        "     - Extracts the **last hidden state**, which is a sequence of 768-dimensional embeddings (1 per frame).\n",
        "   - These sequences are then **padded** to ensure uniform shape across samples.\n",
        "\n",
        "3. **Saves extracted features**:\n",
        "   - Saves both features and labels to disk for future reuse.\n",
        "\n",
        "Output:\n",
        "- `X_train_seq`, `y_train_seq`: Training sequence features and labels.\n",
        "- `X_test_seq`, `y_test_seq`: Test sequence features and labels.\n",
        "\n",
        "#### Why this step is very important:\n",
        "- Sequence models (BiLSTM, Attention) require temporal data, not fixed-length embeddings.\n",
        "- This step enables the model to leverage **frame-wise** audio patterns for better emotional recognition performance."
      ],
      "metadata": {
        "id": "gV5B6E-sg8p8"
      }
    },
    {
      "cell_type": "code",
      "source": [
        "def prepare_sequence_features():\n",
        "    \"\"\"\n",
        "    Prepare sequence features from Wav2Vec2 last hidden layer for neural network experiments\n",
        "\n",
        "    Returns:\n",
        "        X_train_seq, y_train_seq, X_test_seq, y_test_seq: Sequence features and labels\n",
        "    \"\"\"\n",
        "    print(\"\\nPreparing Sequence Features for BiLSTM and Attention Experiments\")\n",
        "    try:\n",
        "        X_train_seq, y_train_seq = load_sequences(\"train_seq\")\n",
        "        X_test_seq, y_test_seq = load_sequences(\"test_seq\")\n",
        "        print(\"[INFO] Loaded sequence features from disk\")\n",
        "    except:\n",
        "        print(\"[INFO] Creating sequence features from scratch\")\n",
        "        X_train_seq, y_train_seq, X_test_seq, y_test_seq = [], [], [], []\n",
        "\n",
        "        # Process training data\n",
        "        for waveform, label in tqdm(train_dataset, desc=\"Preparing Train Sequences\"):\n",
        "            inputs = processor(waveform, sampling_rate=16000, return_tensors='pt', padding=True, truncation=True, max_length=64000)\n",
        "            with torch.no_grad():\n",
        "                out = model(**inputs).last_hidden_state.squeeze(0)\n",
        "            X_train_seq.append(out)\n",
        "            y_train_seq.append(label)\n",
        "\n",
        "        # Process test data\n",
        "        for waveform, label in tqdm(test_dataset, desc=\"Preparing Test Sequences\"):\n",
        "            inputs = processor(waveform, sampling_rate=16000, return_tensors='pt', padding=True, truncation=True, max_length=64000)\n",
        "            with torch.no_grad():\n",
        "                out = model(**inputs).last_hidden_state.squeeze(0)\n",
        "            X_test_seq.append(out)\n",
        "            y_test_seq.append(label)\n",
        "\n",
        "        # Pad sequences to the same length\n",
        "        X_train_seq = pad_sequence(X_train_seq, batch_first=True)\n",
        "        X_test_seq = pad_sequence(X_test_seq, batch_first=True)\n",
        "        y_train_seq = torch.tensor(y_train_seq)\n",
        "        y_test_seq = torch.tensor(y_test_seq)\n",
        "\n",
        "        # Save to disk for future use\n",
        "        save_sequences(X_train_seq, y_train_seq, \"train_seq\")\n",
        "        save_sequences(X_test_seq, y_test_seq, \"test_seq\")\n",
        "        print(\"[INFO] Sequence features created and saved\")\n",
        "\n",
        "    print(f\"Sequence shapes: X_train {X_train_seq.shape}, X_test {X_test_seq.shape}\")\n",
        "    return X_train_seq, y_train_seq, X_test_seq, y_test_seq"
      ],
      "metadata": {
        "id": "2MiD6XAbp7tq"
      },
      "execution_count": null,
      "outputs": []
    },
    {
      "cell_type": "code",
      "source": [
        "X_train_seq, y_train_seq, X_test_seq, y_test_seq = prepare_sequence_features()"
      ],
      "metadata": {
        "colab": {
          "base_uri": "https://localhost:8080/"
        },
        "id": "rj-woQ9QxZEl",
        "outputId": "137d7748-62c2-43ed-ff39-75c39cd85a7c"
      },
      "execution_count": null,
      "outputs": [
        {
          "output_type": "stream",
          "name": "stdout",
          "text": [
            "\n",
            "Preparing Sequence Features for BiLSTM and Attention Experiments\n",
            "[INFO] Loaded sequence features from disk\n",
            "Sequence shapes: X_train torch.Size([9729, 199, 768]), X_test torch.Size([2433, 199, 768])\n"
          ]
        }
      ]
    },
    {
      "cell_type": "markdown",
      "source": [
        "# **Experiment 3** - BiLSTM on Last Hidden Layer Sequence"
      ],
      "metadata": {
        "id": "4k-dasO8qAl7"
      }
    },
    {
      "cell_type": "markdown",
      "source": [
        "This experiment treats the output of the last hidden layer as a time series and feeds it into a bidirectional LSTM. The BiLSTM captures temporal dependencies and dynamics in the speech signal, and its output is globally averaged before classification. This model learns temporal patterns across frame-level features."
      ],
      "metadata": {
        "id": "ZsU3It85iPk3"
      }
    },
    {
      "cell_type": "code",
      "source": [
        "class BiLSTMClassifier(nn.Module):\n",
        "    \"\"\"BiLSTM model for sequence classification\"\"\"\n",
        "    def __init__(self, input_dim, hidden_dim, output_dim):\n",
        "        super().__init__()\n",
        "        self.lstm = nn.LSTM(input_dim, hidden_dim, batch_first=True, bidirectional=True)\n",
        "        self.fc = nn.Linear(hidden_dim * 2, output_dim)\n",
        "\n",
        "    def forward(self, x):\n",
        "        output, _ = self.lstm(x)\n",
        "        pooled = output.mean(dim=1)  # Global average pooling over sequence\n",
        "        return self.fc(pooled)"
      ],
      "metadata": {
        "id": "Rh6eiQBCqCLI"
      },
      "execution_count": null,
      "outputs": []
    },
    {
      "cell_type": "code",
      "source": [
        "# I updated the code from the last version\n",
        "# Create data loaders\n",
        "train_loader_seq = DataLoader(TensorDataset(X_train_seq, y_train_seq), batch_size=32, shuffle=True)\n",
        "test_loader_seq = DataLoader(TensorDataset(X_test_seq, y_test_seq), batch_size=32)\n",
        "\n",
        "# Initialize the model\n",
        "bilstm_model = BiLSTMClassifier(\n",
        "    input_dim=768,      # Wav2Vec2 hidden dimension\n",
        "    hidden_dim=128,     # LSTM hidden dimension\n",
        "    output_dim=len(label_map)  # Number of emotion classes\n",
        ")\n",
        "\n",
        "# Train and evaluate the model\n",
        "bilstm_model = train_model(\n",
        "    bilstm_model,\n",
        "    train_loader_seq,\n",
        "    test_loader_seq,\n",
        "    list(label_map.keys()),\n",
        "    \"Experiment 3 - BiLSTM\",\n",
        "    num_epochs=50,\n",
        "    lr=1e-3,\n",
        "    patience=5\n",
        ")"
      ],
      "metadata": {
        "colab": {
          "base_uri": "https://localhost:8080/",
          "height": 1000
        },
        "id": "qKB8-8IAqE7u",
        "outputId": "e5e28b52-ca4c-4e76-efd8-dcc32539deec"
      },
      "execution_count": null,
      "outputs": [
        {
          "output_type": "stream",
          "name": "stdout",
          "text": [
            "\n",
            "Preparing Sequence Features for BiLSTM and Attention Experiments\n",
            "[INFO] Loaded sequence features from disk\n",
            "Sequence shapes: X_train torch.Size([9729, 199, 768]), X_test torch.Size([2433, 199, 768])\n",
            "Epoch 1: Train Loss=1.5876, Val Loss=1.4552, Train Acc=0.3586, Val Acc=0.4168\n",
            "Epoch 2: Train Loss=1.3851, Val Loss=1.3628, Train Acc=0.4527, Val Acc=0.4488\n",
            "Epoch 3: Train Loss=1.2558, Val Loss=1.2140, Train Acc=0.5154, Val Acc=0.5240\n",
            "Epoch 4: Train Loss=1.1667, Val Loss=1.2057, Train Acc=0.5521, Val Acc=0.5314\n",
            "Epoch 5: Train Loss=1.0738, Val Loss=1.1214, Train Acc=0.5922, Val Acc=0.5762\n",
            "Epoch 6: Train Loss=1.0059, Val Loss=1.0156, Train Acc=0.6224, Val Acc=0.6079\n",
            "Epoch 7: Train Loss=0.9268, Val Loss=0.9581, Train Acc=0.6482, Val Acc=0.6346\n",
            "Epoch 8: Train Loss=0.8816, Val Loss=0.9433, Train Acc=0.6638, Val Acc=0.6547\n",
            "Epoch 9: Train Loss=0.8356, Val Loss=0.8965, Train Acc=0.6799, Val Acc=0.6642\n",
            "Epoch 10: Train Loss=0.7732, Val Loss=0.9220, Train Acc=0.7115, Val Acc=0.6498\n",
            "Epoch 11: Train Loss=0.7398, Val Loss=0.9166, Train Acc=0.7286, Val Acc=0.6408\n",
            "Epoch 12: Train Loss=0.7207, Val Loss=0.8836, Train Acc=0.7262, Val Acc=0.6683\n",
            "Epoch 13: Train Loss=0.6686, Val Loss=0.8502, Train Acc=0.7520, Val Acc=0.6864\n",
            "Epoch 14: Train Loss=0.6346, Val Loss=0.8762, Train Acc=0.7659, Val Acc=0.6815\n",
            "Epoch 15: Train Loss=0.6102, Val Loss=0.9000, Train Acc=0.7756, Val Acc=0.6720\n",
            "Epoch 16: Train Loss=0.5956, Val Loss=0.8961, Train Acc=0.7779, Val Acc=0.6687\n",
            "Epoch 17: Train Loss=0.4647, Val Loss=0.8575, Train Acc=0.8349, Val Acc=0.7000\n",
            "Epoch 18: Train Loss=0.4161, Val Loss=0.8909, Train Acc=0.8552, Val Acc=0.6860\n",
            "Early stopping at epoch 18\n",
            "\n",
            "Experiment 3 - BiLSTM Metrics:\n",
            "Accuracy: 0.6860\n",
            "Top-3 Accuracy: 0.9285\n",
            "Precision: 0.7064\n",
            "Recall: 0.6860\n",
            "F1-Score: 0.6900\n"
          ]
        },
        {
          "output_type": "display_data",
          "data": {
            "text/plain": [
              "<Figure size 1100x700 with 2 Axes>"
            ],
            "image/png": "[encoded data removed]"
          },
          "metadata": {}
        },
        {
          "output_type": "display_data",
          "data": {
            "text/plain": [
              "<Figure size 640x480 with 1 Axes>"
            ],
            "image/png": "[encoded data removed]"
          },
          "metadata": {}
        },
        {
          "output_type": "display_data",
          "data": {
            "text/plain": [
              "<Figure size 640x480 with 1 Axes>"
            ],
            "image/png": "[encoded data removed]"
          },
          "metadata": {}
        }
      ]
    },
    {
      "cell_type": "markdown",
      "source": [
        "### *Discussion*\n",
        "\n",
        "In this experiment, we shift from static feature extraction to sequence modeling by leveraging the temporal dynamics of the hidden states output by Wav2Vec2.\n",
        "\n",
        "Instead of averaging across time steps, we preserve the entire sequence of the last hidden layer for each audio sample, feeding it into a bidirectional LSTM (BiLSTM). The BiLSTM is capable of capturing both forward and backward temporal dependencies, which is especially useful for audio signals where emotional cues can be context-dependent. The final representation is obtained via global average pooling over the sequence, followed by a dense classification layer.\n",
        "\n",
        "This approach introduces the power of RNN into the pipeline, potentially allowing the model to exploit richer structure in the audio embeddings beyond what was captured in Experiments 1 and 2. The goal here is to assess whether temporal modeling of Wav2Vec2 embeddings improves performance in emotion classification.\n",
        "\n",
        "### Results Summary\n",
        "\n",
        "- **Validation Accuracy**: **68.60%**\n",
        "- **Top-3 Accuracy**: **92.85%**\n",
        "- **Precision**: **70.64%**\n",
        "- **Recall**: **68.60%**\n",
        "- **F1-Score**: **69.00%**\n",
        "- **Early Stopping**: Triggered at epoch 18 due to plateauing validation loss.\n",
        "\n",
        "### Training & Evaluation Analysis\n",
        "\n",
        "- **Learning Dynamics**: The training and validation curves show a steady convergence trend. Training loss consistently decreases, while validation loss stabilizes around epoch 12–13. Validation accuracy peaks at epoch 17, showing good generalization before early stopping.\n",
        "- **Performance Improvement**: Compared to the static logistic regression models in Experiments 1 and 2, this BiLSTM-based model provides more balanced predictions and better recall across classes, particularly for more complex emotions like *fear*, *disgust*, and *sad*.\n",
        "- **Confusion Matrix**:\n",
        "  - Most confusion occurred between *fear*, *happy*, and *sad*—common in emotion recognition tasks.\n",
        "  - The model shows stronger separation of *neutral*, *angry*, and *disgust*, indicating improved robustness for these classes.\n",
        "- **Overfitting**: Minimal signs of overfitting are observed which means good regularization\n",
        "\n",
        "### Takeaway\n",
        "\n",
        "Experiment 3 marks a shift by treating Wav2Vec2 outputs as temporal sequences. This allowed the BiLSTM to learn complex dependencies across time steps, improving classification performance. The results validate the hypothesis that sequence-based modeling offers advantages over static pooling methods (experimented with before), especially for subtle and overlapping emotions. However, further gains may require attention mechanisms or deeper architectures to capture long-range dependencies more effectively."
      ],
      "metadata": {
        "id": "VP4uIGtYoEpV"
      }
    },
    {
      "cell_type": "markdown",
      "source": [
        "# Waveform Data Preparation (for Wav2Vec Fine-tuning experiements)"
      ],
      "metadata": {
        "id": "JRMSxkvorV87"
      }
    },
    {
      "cell_type": "markdown",
      "source": [
        "To enable fine-tuning, we extract and pad raw waveforms from the training and testing sets. The waveforms are stored as PyTorch tensors, allowing us to directly feed them into models where the Wav2Vec2 backbone is trained end-to-end. This step is critical for experiments that adapt the base model (fine-tuning the core model on the dataset that we use).\n"
      ],
      "metadata": {
        "id": "KjVW-O79jkif"
      }
    },
    {
      "cell_type": "code",
      "source": [
        "# Waveform preparation function for fine-tuning experiments\n",
        "def prepare_waveform_data(train_dataset, test_dataset, force_recompute=False):\n",
        "    \"\"\"\n",
        "    Prepare waveform data for fine-tuning or load from cache if available\n",
        "    \"\"\"\n",
        "    # Create directory for cached data if it doesn't exist\n",
        "    os.makedirs(SEQUENCE_DIR, exist_ok=True)\n",
        "\n",
        "    # Check if waveform features were already prepared\n",
        "    waveform_path = os.path.join(SEQUENCE_DIR, \"waveform_features.pt\")\n",
        "\n",
        "    if os.path.exists(waveform_path) and not force_recompute:\n",
        "        print(f\"[INFO] Loading cached waveform features from {waveform_path}\")\n",
        "        waveform_data = torch.load(waveform_path)\n",
        "        X_train = waveform_data['X_train']\n",
        "        y_train = waveform_data['y_train']\n",
        "        X_test = waveform_data['X_test']\n",
        "        y_test = waveform_data['y_test']\n",
        "    else:\n",
        "        print(\"Preparing waveform tensors from scratch...\")\n",
        "        X_train = []\n",
        "        y_train = []\n",
        "        for waveform, label in tqdm(train_dataset, desc=\"Preparing Train Waveforms\"):\n",
        "            X_train.append(torch.tensor(waveform))\n",
        "            y_train.append(label)\n",
        "\n",
        "        X_test = []\n",
        "        y_test = []\n",
        "        for waveform, label in tqdm(test_dataset, desc=\"Preparing Test Waveforms\"):\n",
        "            X_test.append(torch.tensor(waveform))\n",
        "            y_test.append(label)\n",
        "\n",
        "        # Pad or truncate waveforms to fixed 64000 samples (4 seconds at 16kHz)\n",
        "        max_length = 64000\n",
        "\n",
        "        def pad_or_truncate(waveform, target_length=max_length):\n",
        "            if len(waveform) > target_length:\n",
        "                return waveform[:target_length]\n",
        "            else:\n",
        "                return torch.nn.functional.pad(waveform, (0, target_length - len(waveform)))\n",
        "\n",
        "        X_train = torch.stack([pad_or_truncate(wf) for wf in tqdm(X_train, desc=\"Padding Train Waveforms\")])\n",
        "        X_test = torch.stack([pad_or_truncate(wf) for wf in tqdm(X_test, desc=\"Padding Test Waveforms\")])\n",
        "\n",
        "        y_train = torch.tensor(y_train)\n",
        "        y_test = torch.tensor(y_test)\n",
        "\n",
        "        # Cache waveform features\n",
        "        torch.save({\n",
        "            'X_train': X_train,\n",
        "            'y_train': y_train,\n",
        "            'X_test': X_test,\n",
        "            'y_test': y_test\n",
        "        }, waveform_path)\n",
        "\n",
        "        print(f\"Waveform tensors prepared and saved to {waveform_path}\")\n",
        "\n",
        "    return X_train, y_train, X_test, y_test"
      ],
      "metadata": {
        "id": "lnbSof7JrWfS"
      },
      "execution_count": null,
      "outputs": []
    },
    {
      "cell_type": "markdown",
      "source": [
        "We define a PyTorch neural network class for fine-tuning the Wav2Vec2 model on emotion classification tasks. The Wav2Vec2FineTuneClassifier class wraps a pretrained Wav2Vec2 backbone and adds a fully connected and linear layer to map the model’s 768-dimensional output to the number of emotion classes.\n",
        "\n",
        "During training, the Wav2Vec2 model can be either partially or fully unfrozen, allowing us to adapt its audio representations to the specific emotional context of our dataset.\n",
        "\n",
        "The classification is based on the mean-pooled representation of the last hidden layer, capturing the average embedding across the entire audio segment."
      ],
      "metadata": {
        "id": "xPDQCdJ2kOs4"
      }
    },
    {
      "cell_type": "code",
      "source": [
        "# Wav2Vec2 fine-tuning model architecture\n",
        "class Wav2Vec2FineTuneClassifier(nn.Module):\n",
        "    \"\"\"Wav2Vec2 model with a classification head for fine-tuning\"\"\"\n",
        "    def __init__(self, base_model, output_dim):\n",
        "        super().__init__()\n",
        "        self.base = base_model\n",
        "        self.fc = nn.Linear(768, output_dim)\n",
        "\n",
        "    def forward(self, x):\n",
        "        outputs = self.base(x)\n",
        "        hidden = outputs.last_hidden_state\n",
        "        pooled = hidden.mean(dim=1)\n",
        "        return self.fc(pooled)"
      ],
      "metadata": {
        "id": "9dRFnQ3brcGu"
      },
      "execution_count": null,
      "outputs": []
    },
    {
      "cell_type": "markdown",
      "source": [
        "This section defines the train_model_waveform function, which is used in all fine-tuning experiments involving raw audio input. The function includes:\n",
        "- **Training and validation loop** using a standard supervised learning setup.\n",
        "- **AdamW optimizer with weight decay** for improved generalization performance.\n",
        "- **Learning rate scheduler** (ReduceLROnPlateau) that reduces learning rate when the validation loss plateaus.\n",
        "- **Early stopping mechanism** to halt training when no improvement is observed for several epochs.\n",
        "- **Tracking of performance metrics** including training/validation loss and accuracy per epoch.\n",
        "- **Evaluation metrics** such as accuracy, top-3 accuracy, precision, recall, F1-score, and a confusion matrix.\n",
        "- **Visualization** of training curves for both loss and accuracy.\n",
        "\n",
        "This robust training routine ensures that fine-tuning is effective, efficient, and resistant to overfitting."
      ],
      "metadata": {
        "id": "Ed2_MK2Fkkc1"
      }
    },
    {
      "cell_type": "code",
      "source": [
        "# Training function for fine-tuning models\n",
        "def train_model_waveform(model, train_loader, val_loader, label_names, title, num_epochs=30, lr=1e-4, patience=3):\n",
        "    \"\"\"\n",
        "    Training function for fine-tuning models with waveform input\n",
        "\n",
        "    Uses AdamW optimizer with weight decay and progress bars via tqdm.\n",
        "    \"\"\"\n",
        "    device = torch.device('cuda' if torch.cuda.is_available() else 'cpu')\n",
        "    model = model.to(device)\n",
        "\n",
        "    optimizer = torch.optim.AdamW(model.parameters(), lr=lr, weight_decay=0.01)\n",
        "    scheduler = torch.optim.lr_scheduler.ReduceLROnPlateau(optimizer, mode='min', patience=2)\n",
        "    criterion = nn.CrossEntropyLoss()\n",
        "\n",
        "    best_val_loss = float('inf')\n",
        "    best_model_wts = copy.deepcopy(model.state_dict())\n",
        "    best_epoch = 0\n",
        "\n",
        "    train_losses, val_losses, train_accs, val_accs = [], [], [], []\n",
        "\n",
        "    for epoch in range(num_epochs):\n",
        "        model.train()\n",
        "        train_loss, train_corrects, total_train = 0.0, 0, 0\n",
        "\n",
        "        train_iterator = tqdm(train_loader, desc=f\"[Epoch {epoch+1}] Training\", leave=False)\n",
        "        for inputs, labels in train_iterator:\n",
        "            inputs, labels = inputs.to(device), labels.to(device)\n",
        "            optimizer.zero_grad()\n",
        "            outputs = model(inputs)\n",
        "            loss = criterion(outputs, labels)\n",
        "            loss.backward()\n",
        "            optimizer.step()\n",
        "\n",
        "            train_loss += loss.item() * inputs.size(0)\n",
        "            preds = outputs.argmax(dim=1)\n",
        "            train_corrects += (preds == labels).sum().item()\n",
        "            total_train += labels.size(0)\n",
        "            train_iterator.set_postfix(loss=loss.item())\n",
        "\n",
        "        train_loss /= total_train\n",
        "        train_acc = train_corrects / total_train\n",
        "\n",
        "        model.eval()\n",
        "        val_loss, val_corrects, total_val = 0.0, 0, 0\n",
        "        y_true, y_pred, y_probs = [], [], []\n",
        "\n",
        "        val_iterator = tqdm(val_loader, desc=f\"[Epoch {epoch+1}] Validating\", leave=False)\n",
        "        with torch.no_grad():\n",
        "            for inputs, labels in val_iterator:\n",
        "                inputs, labels = inputs.to(device), labels.to(device)\n",
        "                outputs = model(inputs)\n",
        "                loss = criterion(outputs, labels)\n",
        "                val_loss += loss.item() * inputs.size(0)\n",
        "                preds = outputs.argmax(dim=1)\n",
        "                probs = torch.softmax(outputs, dim=-1)\n",
        "                y_true.append(labels.cpu())\n",
        "                y_pred.append(preds.cpu())\n",
        "                y_probs.append(probs.cpu())\n",
        "                val_corrects += (preds == labels).sum().item()\n",
        "                total_val += labels.size(0)\n",
        "                val_iterator.set_postfix(loss=loss.item())\n",
        "\n",
        "        val_loss /= total_val\n",
        "        val_acc = val_corrects / total_val\n",
        "\n",
        "        train_losses.append(train_loss)\n",
        "        val_losses.append(val_loss)\n",
        "        train_accs.append(train_acc)\n",
        "        val_accs.append(val_acc)\n",
        "\n",
        "        scheduler.step(val_loss)\n",
        "\n",
        "        print(f\"Epoch {epoch+1}: Train Loss={train_loss:.4f}, Val Loss={val_loss:.4f}, Train Acc={train_acc:.4f}, Val Acc={val_acc:.4f}\")\n",
        "\n",
        "        if val_loss < best_val_loss:\n",
        "            best_val_loss = val_loss\n",
        "            best_model_wts = copy.deepcopy(model.state_dict())\n",
        "            best_epoch = epoch\n",
        "\n",
        "        if epoch - best_epoch >= patience:\n",
        "            print(f\"Early stopping at epoch {epoch+1}\")\n",
        "            break\n",
        "\n",
        "    model.load_state_dict(best_model_wts)\n",
        "\n",
        "    y_true = torch.cat(y_true).numpy()\n",
        "    y_pred = torch.cat(y_pred).numpy()\n",
        "    y_probs = torch.cat(y_probs).numpy()\n",
        "\n",
        "    evaluate_classification(y_true, y_pred, y_probs, label_names, title)\n",
        "\n",
        "    plt.plot(train_losses, label='Train Loss')\n",
        "    plt.plot(val_losses, label='Val Loss')\n",
        "    plt.legend()\n",
        "    plt.title(f'{title} - Training/Validation Loss')\n",
        "    plt.xlabel('Epoch')\n",
        "    plt.ylabel('Loss')\n",
        "    plt.show()\n",
        "\n",
        "    plt.plot(train_accs, label='Train Accuracy')\n",
        "    plt.plot(val_accs, label='Val Accuracy')\n",
        "    plt.legend()\n",
        "    plt.title(f'{title} - Training/Validation Accuracy')\n",
        "    plt.xlabel('Epoch')\n",
        "    plt.ylabel('Accuracy')\n",
        "    plt.show()\n",
        "\n",
        "    return model"
      ],
      "metadata": {
        "id": "FSvOa6TcrcI8"
      },
      "execution_count": null,
      "outputs": []
    },
    {
      "cell_type": "markdown",
      "source": [
        "# **Experiment 9** - Fine-Tuning Last 5 Layers of Wav2Vec2"
      ],
      "metadata": {
        "id": "-56LMYqIa8xH"
      }
    },
    {
      "cell_type": "markdown",
      "source": [
        "\n",
        "In this experiment, we investigate the impact of partial fine-tuning on the `facebook/wav2vec2-base` model for speech emotion recognition. Specifically, we unfreeze only the **last five Transformer encoder layers** of the Wav2Vec2 backbone, keeping all earlier layers frozen to preserve general acoustic representations while adapting higher-level features to emotional content.\n",
        "\n",
        "We first prepare raw waveform tensors for training and testing, using a standardized duration of 4 seconds (64,000 samples at 16 kHz). If a trained model checkpoint already exists, it is loaded directly to avoid redundant computation unless `force_retrain` is set to `True`.\n",
        "\n",
        "If no checkpoint is found, we initialize the model, freeze the majority of its parameters, and then selectively unfreeze the last 5 encoder layers. The model is wrapped with a lightweight classification head and trained using **AdamW** optimizer and **categorical cross-entropy loss with label smoothing**. Early stopping is used to prevent overfitting.\n",
        "\n",
        "After training, the model is evaluated on the test set and saved to disk for future reuse.\n",
        "\n",
        "This setup strikes a balance between full fine-tuning (which will surely lead to overfitting) and using the model as a frozen feature extractor. It is expected to yield better generalization than shallow adaptation strategies (we tested with unfreezing 3 layers) while keeping training cost manageable."
      ],
      "metadata": {
        "id": "zceKnMtPdlqC"
      }
    },
    {
      "cell_type": "code",
      "source": [
        "# Create directory for saved models if it doesn't exist\n",
        "MODEL_DIR = \"saved_models\"\n",
        "os.makedirs(MODEL_DIR, exist_ok=True)"
      ],
      "metadata": {
        "id": "tcn8VE72amnz"
      },
      "execution_count": null,
      "outputs": []
    },
    {
      "cell_type": "code",
      "source": [
        "# Define model save path\n",
        "model_save_path = os.path.join(MODEL_DIR, \"wav2vec2_finetune_last5layers.pt\")\n"
      ],
      "metadata": {
        "id": "DfFATDoNaoON"
      },
      "execution_count": null,
      "outputs": []
    },
    {
      "cell_type": "code",
      "source": [
        "# Reuse the already prepared waveform data\n",
        "X_train_waveform, y_train_waveform, X_test_waveform, y_test_waveform = prepare_waveform_data(train_dataset, test_dataset)\n",
        "print(f\"Reusing waveform tensors from Experiment 8: {X_train_waveform.shape}, {y_train_waveform.shape}\")"
      ],
      "metadata": {
        "colab": {
          "base_uri": "https://localhost:8080/"
        },
        "id": "XQkDVgrMaoQL",
        "outputId": "527ffe94-ee21-4418-91e7-3ba0a9e5ec2b"
      },
      "execution_count": null,
      "outputs": [
        {
          "output_type": "stream",
          "name": "stdout",
          "text": [
            "[INFO] Loading cached waveform features from /content/drive/MyDrive/emotion_recognition_project/sequences/waveform_features.pt\n",
            "Reusing waveform tensors from Experiment 8: torch.Size([9729, 64000]), torch.Size([9729])\n"
          ]
        }
      ]
    },
    {
      "cell_type": "code",
      "source": [
        "# Check if model exists and force_retrain is False\n",
        "force_retrain = True"
      ],
      "metadata": {
        "id": "BET6MOA5aoSY"
      },
      "execution_count": null,
      "outputs": []
    },
    {
      "cell_type": "code",
      "source": [
        "if os.path.exists(model_save_path) and not force_retrain:\n",
        "    print(f\"Found existing model at {model_save_path}. Loading instead of retraining...\")\n",
        "\n",
        "    # Load Wav2Vec2 model architecture first\n",
        "    device = torch.device('cuda' if torch.cuda.is_available() else 'cpu')\n",
        "    base_model = Wav2Vec2Model.from_pretrained('facebook/wav2vec2-base', output_hidden_states=True).to(device)\n",
        "\n",
        "    # Freeze all parameters initially\n",
        "    for param in base_model.parameters():\n",
        "        param.requires_grad = False\n",
        "\n",
        "    # Unfreeze only the last 5 encoder layers\n",
        "    for layer in base_model.encoder.layers[-5:]:\n",
        "        for param in layer.parameters():\n",
        "            param.requires_grad = True\n",
        "\n",
        "    # Create the fine-tuning model\n",
        "    finetune_classifier = Wav2Vec2FineTuneClassifier(base_model, output_dim=len(label_map)).to(device)\n",
        "\n",
        "    # Load weights\n",
        "    checkpoint = torch.load(model_save_path)\n",
        "    finetune_classifier.load_state_dict(checkpoint)\n",
        "    print(\"Model successfully loaded\")\n",
        "\n",
        "    # Prepare DataLoader for test set\n",
        "    test_loader_waveform = DataLoader(TensorDataset(X_test_waveform, y_test_waveform), batch_size=32)\n",
        "\n",
        "else:\n",
        "    print(\"No saved model found or force_retrain=True. Training from scratch...\")\n",
        "\n",
        "    # Load fresh Wav2Vec2 model\n",
        "    device = torch.device('cuda' if torch.cuda.is_available() else 'cpu')\n",
        "    base_model = Wav2Vec2Model.from_pretrained('facebook/wav2vec2-base', output_hidden_states=True).to(device)\n",
        "\n",
        "    # Freeze all parameters initially\n",
        "    for param in base_model.parameters():\n",
        "        param.requires_grad = False\n",
        "\n",
        "    # Unfreeze only the last 5 encoder layers\n",
        "    for layer in base_model.encoder.layers[-5:]:\n",
        "        for param in layer.parameters():\n",
        "            param.requires_grad = True\n",
        "\n",
        "    # Count trainable parameters\n",
        "    trainable_params = sum(p.numel() for p in base_model.parameters() if p.requires_grad)\n",
        "    total_params = sum(p.numel() for p in base_model.parameters())\n",
        "    print(f\"Trainable parameters: {trainable_params:,} / {total_params:,} ({trainable_params/total_params:.2%})\")\n",
        "\n",
        "    # Create the fine-tuning model\n",
        "    finetune_classifier = Wav2Vec2FineTuneClassifier(base_model, output_dim=len(label_map)).to(device)\n",
        "\n",
        "    # Prepare DataLoaders\n",
        "    train_loader_waveform = DataLoader(TensorDataset(X_train_waveform, y_train_waveform), batch_size=32, shuffle=True)\n",
        "    test_loader_waveform = DataLoader(TensorDataset(X_test_waveform, y_test_waveform), batch_size=32)\n",
        "\n",
        "    # Train and evaluate the model\n",
        "    finetune_classifier = train_model_waveform(\n",
        "        finetune_classifier,\n",
        "        train_loader_waveform,\n",
        "        test_loader_waveform,\n",
        "        list(label_map.keys()),\n",
        "        \"Experiment 9 - Fine-Tune Last 5 Layers\",\n",
        "        num_epochs=30,\n",
        "        lr=1e-4,\n",
        "        patience=5\n",
        "    )\n",
        "\n",
        "    # Save the model\n",
        "    torch.save(finetune_classifier.state_dict(), model_save_path)\n",
        "    print(f\"Model saved to {model_save_path}\")"
      ],
      "metadata": {
        "colab": {
          "base_uri": "https://localhost:8080/",
          "height": 1000
        },
        "id": "yDUi3FZyaoUb",
        "outputId": "0f23de82-5e9e-4b5e-863d-79210b1b0785"
      },
      "execution_count": null,
      "outputs": [
        {
          "output_type": "stream",
          "name": "stdout",
          "text": [
            "No saved model found or force_retrain=True. Training from scratch...\n"
          ]
        },
        {
          "output_type": "stream",
          "name": "stderr",
          "text": [
            "/usr/local/lib/python3.11/dist-packages/transformers/configuration_utils.py:311: UserWarning: Passing `gradient_checkpointing` to a config initialization is deprecated and will be removed in v5 Transformers. Using `model.gradient_checkpointing_enable()` instead, or if you are using the `Trainer` API, pass `gradient_checkpointing=True` in your `TrainingArguments`.\n",
            "  warnings.warn(\n"
          ]
        },
        {
          "output_type": "stream",
          "name": "stdout",
          "text": [
            "Trainable parameters: 35,439,360 / 94,371,712 (37.55%)\n"
          ]
        },
        {
          "output_type": "stream",
          "name": "stderr",
          "text": []
        },
        {
          "output_type": "stream",
          "name": "stdout",
          "text": [
            "Epoch 1: Train Loss=0.9733, Val Loss=0.8780, Train Acc=0.6350, Val Acc=0.6876\n"
          ]
        },
        {
          "output_type": "stream",
          "name": "stderr",
          "text": []
        },
        {
          "output_type": "stream",
          "name": "stdout",
          "text": [
            "Epoch 2: Train Loss=0.6326, Val Loss=0.9153, Train Acc=0.7717, Val Acc=0.6893\n"
          ]
        },
        {
          "output_type": "stream",
          "name": "stderr",
          "text": []
        },
        {
          "output_type": "stream",
          "name": "stdout",
          "text": [
            "Epoch 3: Train Loss=0.5419, Val Loss=0.6810, Train Acc=0.8006, Val Acc=0.7768\n"
          ]
        },
        {
          "output_type": "stream",
          "name": "stderr",
          "text": []
        },
        {
          "output_type": "stream",
          "name": "stdout",
          "text": [
            "Epoch 4: Train Loss=0.4419, Val Loss=0.6756, Train Acc=0.8445, Val Acc=0.7776\n"
          ]
        },
        {
          "output_type": "stream",
          "name": "stderr",
          "text": []
        },
        {
          "output_type": "stream",
          "name": "stdout",
          "text": [
            "Epoch 5: Train Loss=0.3790, Val Loss=0.7327, Train Acc=0.8640, Val Acc=0.7702\n"
          ]
        },
        {
          "output_type": "stream",
          "name": "stderr",
          "text": []
        },
        {
          "output_type": "stream",
          "name": "stdout",
          "text": [
            "Epoch 6: Train Loss=0.3339, Val Loss=0.7107, Train Acc=0.8807, Val Acc=0.7748\n"
          ]
        },
        {
          "output_type": "stream",
          "name": "stderr",
          "text": []
        },
        {
          "output_type": "stream",
          "name": "stdout",
          "text": [
            "Epoch 7: Train Loss=0.2816, Val Loss=0.8357, Train Acc=0.9002, Val Acc=0.7604\n"
          ]
        },
        {
          "output_type": "stream",
          "name": "stderr",
          "text": []
        },
        {
          "output_type": "stream",
          "name": "stdout",
          "text": [
            "Epoch 8: Train Loss=0.1590, Val Loss=0.7017, Train Acc=0.9458, Val Acc=0.7982\n"
          ]
        },
        {
          "output_type": "stream",
          "name": "stderr",
          "text": []
        },
        {
          "output_type": "stream",
          "name": "stdout",
          "text": [
            "Epoch 9: Train Loss=0.1279, Val Loss=0.7071, Train Acc=0.9577, Val Acc=0.8011\n",
            "Early stopping at epoch 9\n",
            "\n",
            "Experiment 9 - Fine-Tune Last 5 Layers Metrics:\n",
            "Accuracy: 0.8011\n",
            "Top-3 Accuracy: 0.9721\n",
            "Precision: 0.8020\n",
            "Recall: 0.8011\n",
            "F1-Score: 0.7991\n"
          ]
        },
        {
          "output_type": "display_data",
          "data": {
            "text/plain": [
              "<Figure size 1100x700 with 2 Axes>"
            ],
            "image/png": "[encoded data removed]"
          },
          "metadata": {}
        },
        {
          "output_type": "display_data",
          "data": {
            "text/plain": [
              "<Figure size 640x480 with 1 Axes>"
            ],
            "image/png": "[encoded data removed]"
          },
          "metadata": {}
        },
        {
          "output_type": "display_data",
          "data": {
            "text/plain": [
              "<Figure size 640x480 with 1 Axes>"
            ],
            "image/png": "[encoded data removed]"
          },
          "metadata": {}
        },
        {
          "output_type": "stream",
          "name": "stdout",
          "text": [
            "Model saved to saved_models/wav2vec2_finetune_last5layers.pt\n"
          ]
        }
      ]
    },
    {
      "cell_type": "markdown",
      "source": [
        "### Discussion\n",
        "\n",
        "#### Metrics Summary\n",
        "\n",
        "- **Accuracy**: 0.8011  \n",
        "- **Top-3 Accuracy**: 0.9630  \n",
        "- **Precision**: 0.8020  \n",
        "- **Recall**: 0.8011  \n",
        "- **F1-Score**: 0.7991  \n",
        "- **Trainable Parameters**: ~35.4M (37.55% of total model parameters)  \n",
        "- **Epochs**: 9 (early stopping triggered)\n",
        "\n",
        "#### Observations\n",
        "\n",
        "This experiment fine-tuned the last five Transformer layers of the Wav2Vec2.0 model using raw waveform input. This deeper partial adaptation allows the model to specialize its higher-level representations toward emotion-specific cues, while preserving general acoustic features.\n",
        "\n",
        "- Training accuracy improved steadily from 63.5% to 95.8%, with validation accuracy peaking at 80.11%.  \n",
        "- Validation loss plateaued around epoch 6nindicating learning saturation without overfitting.  \n",
        "- The training and validation curves were aligned, indicating stable optimization behavior.  \n",
        "- The confusion matrix showed strong classification for overlapping emotional classes such as **angry**, **happy**, and **neutral**.  \n",
        "- Misclassifications were minimal and significantly reduced compared to earlier experiments.  \n",
        "\n",
        "Compared to **Experiment 8** (fine-tuning 3 layers which we removed), this configuration led to:\n",
        "\n",
        "- **+3.5%** increase in overall accuracy  \n",
        "- **+1.0%** improvement in top-3 accuracy  \n",
        "- F1-score improvement from **0.7553** to **0.7991**\n",
        "\n",
        "These findings confirm that deeper fine-tuning enables the model to capture richer and more discriminative emotional representations.\n",
        "\n",
        "### Conclusion\n",
        "\n",
        "Fine-tuning the last five Transformer layers strikes an effective balance between leveraging pretrained knowledge and adapting to emotion-specific representations.\n",
        "\n",
        "This setup demonstrates the best generalization performance among all tested configurations, significantly outperforming both frozen feature extraction and shallower fine-tuning strategies. It stands as the most effective and robust Wav2Vec2-based model."
      ],
      "metadata": {
        "id": "mQ5YexiS8CW2"
      }
    },
    {
      "cell_type": "markdown",
      "source": [
        "# **Sanity Checks for the best model**\n",
        "To support explainability and conduct a basic sanity check on the learned representations, we analyze how specific Wav2Vec2.0 features behave across different emotion classes.\n",
        "\n",
        "This diagnostic involves:\n",
        "- Visualizing individual feature distributions\n",
        "- Inspecting attention-like activation patterns\n",
        "- Identifying the most discriminative features using variance analysis.\n",
        "\n",
        "The goal here is to gain insight into whether the fine-tuned model has learned meaningful and class-separable representations, and to verify that certain dimensions in the final hidden layer are sensitive to emotional variations in speech."
      ],
      "metadata": {
        "id": "fFr0k7bRdoYp"
      }
    },
    {
      "cell_type": "markdown",
      "source": [
        "### 1. Feature Extraction\n",
        "In this step, we collect the final hidden state representations from the fine-tuned Wav2Vec2 model for all test set samples. These frame-level features are grouped by emotion class and stored for further analysis. This will allow us to visualize how certain features behave across emotions, check feature separability, and perform simple sanity checks via boxplots and heatmaps."
      ],
      "metadata": {
        "id": "1X9DkKcT6JP3"
      }
    },
    {
      "cell_type": "code",
      "source": [
        "device = torch.device('cuda' if torch.cuda.is_available() else 'cpu')\n",
        "finetune_classifier = finetune_classifier.to(device)\n",
        "finetune_classifier.eval()\n",
        "\n",
        "label_names = list(label_map.keys())\n",
        "features_by_class = {i: [] for i in range(len(label_names))}\n",
        "\n",
        "print(\"Collecting features for analysis...\")\n",
        "with torch.no_grad():\n",
        "    for inputs, labels in tqdm(test_loader_waveform):\n",
        "        inputs = inputs.to(device)\n",
        "\n",
        "        base_model = finetune_classifier.base\n",
        "        outputs = base_model(inputs)\n",
        "\n",
        "        final_layer_features = outputs.hidden_states[-1]\n",
        "\n",
        "        for i in range(len(labels)):\n",
        "            label = labels[i].item()\n",
        "            features_by_class[label].append(final_layer_features[i].cpu().numpy())"
      ],
      "metadata": {
        "colab": {
          "base_uri": "https://localhost:8080/"
        },
        "id": "v_c7N_kW58g1",
        "outputId": "858a272f-6122-4c56-d061-7ddfd011a74e"
      },
      "execution_count": null,
      "outputs": [
        {
          "output_type": "stream",
          "name": "stdout",
          "text": [
            "Collecting features for analysis...\n"
          ]
        },
        {
          "output_type": "stream",
          "name": "stderr",
          "text": [
            "100%|██████████| 77/77 [00:07<00:00, 10.22it/s]\n"
          ]
        }
      ]
    },
    {
      "cell_type": "markdown",
      "source": [
        "### 2. Boxplot of Feature Distribution Across Emotions\n",
        "This plot shows the distribution of a selected hidden feature (index F496) across different emotion classes. We compute the mean over time for each sample and visualize how the feature values vary per class. This helps us identify whether certain features carry discriminative information relevant to emotion recognition.\n"
      ],
      "metadata": {
        "id": "-qB-LIHN6XD8"
      }
    },
    {
      "cell_type": "code",
      "source": [
        "feature_index = 496  # Change this index to visualize a different feature\n",
        "\n",
        "boxplot_data = []\n",
        "for class_idx in sorted(features_by_class.keys()):\n",
        "    if features_by_class[class_idx]:\n",
        "        class_features = np.array(features_by_class[class_idx])\n",
        "        class_features_avg = np.mean(class_features, axis=1)\n",
        "        feature_values = class_features_avg[:, feature_index]\n",
        "        boxplot_data.append(feature_values)\n",
        "\n",
        "plt.figure(figsize=(12, 8))\n",
        "plt.boxplot(boxplot_data, tick_labels=[label_names[i] for i in sorted(features_by_class.keys())])  # Matplotlib 3.9+\n",
        "plt.title(f'Boxplot of Feature F{feature_index} Across Emotion Classes')\n",
        "plt.ylabel('Feature Value')\n",
        "plt.grid(True, linestyle='--', alpha=0.7)\n",
        "plt.xticks(rotation=45)\n",
        "plt.tight_layout()\n",
        "plt.show()"
      ],
      "metadata": {
        "colab": {
          "base_uri": "https://localhost:8080/",
          "height": 807
        },
        "id": "vTUnMauhbuec",
        "outputId": "b0baa480-66ae-4ad3-aca2-36ff8b1f1ba6"
      },
      "execution_count": null,
      "outputs": [
        {
          "output_type": "display_data",
          "data": {
            "text/plain": [
              "<Figure size 1200x800 with 1 Axes>"
            ],
            "image/png": "[encoded data removed]"
          },
          "metadata": {}
        }
      ]
    },
    {
      "cell_type": "markdown",
      "source": [
        "The boxplot of a selected latent feature (F496) revealed clear separation between several emotion classes which indicates that the model learns discriminative, emotion-relevant embeddings."
      ],
      "metadata": {
        "id": "LFLjPgVqNlxn"
      }
    },
    {
      "cell_type": "markdown",
      "source": [
        "### 3. Attention-Like Heatmap\n",
        "We select a random sample from one emotion class and compute the mean absolute activation per feature across time. This “attention-like” heatmap offers a quick sanity check, showing which features are strongly activated."
      ],
      "metadata": {
        "id": "0mUdu2j66mIS"
      }
    },
    {
      "cell_type": "code",
      "source": [
        "import random\n",
        "# Heatmap\n",
        "random_class = random.choice(list(features_by_class.keys()))\n",
        "random_sample_features = features_by_class[random_class][0]\n",
        "attention_scores = np.mean(np.abs(random_sample_features), axis=0)\n",
        "\n",
        "plt.figure(figsize=(15, 4))\n",
        "plt.imshow(attention_scores.reshape(1, -1), aspect='auto', cmap='viridis')\n",
        "plt.colorbar()\n",
        "plt.title('Attention Output Heatmap (sanity check)')\n",
        "plt.xlabel(f'Feature Index (0 to {attention_scores.shape[0]-1})')\n",
        "plt.yticks([])\n",
        "plt.tight_layout()\n",
        "plt.show()"
      ],
      "metadata": {
        "colab": {
          "base_uri": "https://localhost:8080/",
          "height": 427
        },
        "id": "-hvzsdac5_YR",
        "outputId": "17f4dd4e-a484-49ad-9195-6aef658af78c"
      },
      "execution_count": null,
      "outputs": [
        {
          "output_type": "display_data",
          "data": {
            "text/plain": [
              "<Figure size 1500x400 with 2 Axes>"
            ],
            "image/png": "[encoded data removed]"
          },
          "metadata": {}
        }
      ]
    },
    {
      "cell_type": "markdown",
      "source": [
        "This shows dispersed activation patterns across the entire feature range, suggesting that the model integrates broad contextual information rather than relying on a narrow feature subset which is a good sign to trust the model learning and predictions.\n"
      ],
      "metadata": {
        "id": "sPuyxQ3wNtnR"
      }
    },
    {
      "cell_type": "markdown",
      "source": [
        "### 4. Discriminative Feature Identification\n",
        "We compute the mean feature vector per class and assess the inter-class variance for each feature. Features with the highest variance are likely to carry the most discriminative information across emotion classes. A bar chart visualizes the top 10 most discriminative features, offering insight into which parts of the representation space are most relevant for classification."
      ],
      "metadata": {
        "id": "XmnQh8GR7GLc"
      }
    },
    {
      "cell_type": "code",
      "source": [
        "# Discriminative feature analysis\n",
        "feature_means = []\n",
        "for class_idx in sorted(features_by_class.keys()):\n",
        "    if features_by_class[class_idx]:\n",
        "        class_features = np.array(features_by_class[class_idx])\n",
        "        class_features_avg = np.mean(class_features, axis=1)\n",
        "        feature_means.append(np.mean(class_features_avg, axis=0))\n",
        "\n",
        "feature_means = np.array(feature_means)\n",
        "feature_variance = np.var(feature_means, axis=0)\n",
        "top_features = np.argsort(feature_variance)[-10:][::-1]\n",
        "\n",
        "print(\"Top 10 discriminative features:\", top_features)\n",
        "\n",
        "plt.figure(figsize=(12, 8))\n",
        "plt.bar(range(len(top_features)), feature_variance[top_features])\n",
        "plt.xticks(range(len(top_features)), [f'F{i}' for i in top_features])\n",
        "plt.title('Top 10 Most Discriminative Features')\n",
        "plt.xlabel('Feature')\n",
        "plt.ylabel('Variance Across Emotion Classes')\n",
        "plt.tight_layout()\n",
        "plt.show()"
      ],
      "metadata": {
        "colab": {
          "base_uri": "https://localhost:8080/",
          "height": 824
        },
        "id": "0MCnz7s66CaA",
        "outputId": "762f8bff-99d6-437d-b952-5e9163c1b923"
      },
      "execution_count": null,
      "outputs": [
        {
          "output_type": "stream",
          "name": "stdout",
          "text": [
            "Top 10 discriminative features: [685 696 682 313 581 702 374 394 590 543]\n"
          ]
        },
        {
          "output_type": "display_data",
          "data": {
            "text/plain": [
              "<Figure size 1200x800 with 1 Axes>"
            ],
            "image/png": "[encoded data removed]"
          },
          "metadata": {}
        }
      ]
    },
    {
      "cell_type": "markdown",
      "source": [],
      "metadata": {
        "id": "s6oUauujN7t8"
      }
    }
  ]
}